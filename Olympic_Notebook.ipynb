{
 "cells": [
  {
   "cell_type": "code",
   "execution_count": 240,
   "metadata": {},
   "outputs": [],
   "source": [
    "import pandas as pd"
   ]
  },
  {
   "cell_type": "code",
   "execution_count": 241,
   "metadata": {},
   "outputs": [],
   "source": [
    "event = pd.read_csv(\"athlete_events.csv\")\n",
    "region = pd.read_csv(\"noc_regions.csv\")"
   ]
  },
  {
   "cell_type": "code",
   "execution_count": 242,
   "metadata": {},
   "outputs": [
    {
     "data": {
      "text/html": [
       "<div>\n",
       "<style scoped>\n",
       "    .dataframe tbody tr th:only-of-type {\n",
       "        vertical-align: middle;\n",
       "    }\n",
       "\n",
       "    .dataframe tbody tr th {\n",
       "        vertical-align: top;\n",
       "    }\n",
       "\n",
       "    .dataframe thead th {\n",
       "        text-align: right;\n",
       "    }\n",
       "</style>\n",
       "<table border=\"1\" class=\"dataframe\">\n",
       "  <thead>\n",
       "    <tr style=\"text-align: right;\">\n",
       "      <th></th>\n",
       "      <th>ID</th>\n",
       "      <th>Name</th>\n",
       "      <th>Sex</th>\n",
       "      <th>Age</th>\n",
       "      <th>Height</th>\n",
       "      <th>Weight</th>\n",
       "      <th>Team</th>\n",
       "      <th>NOC</th>\n",
       "      <th>Games</th>\n",
       "      <th>Year</th>\n",
       "      <th>Season</th>\n",
       "      <th>City</th>\n",
       "      <th>Sport</th>\n",
       "      <th>Event</th>\n",
       "      <th>Medal</th>\n",
       "    </tr>\n",
       "  </thead>\n",
       "  <tbody>\n",
       "    <tr>\n",
       "      <th>271111</th>\n",
       "      <td>135569</td>\n",
       "      <td>Andrzej ya</td>\n",
       "      <td>M</td>\n",
       "      <td>29.0</td>\n",
       "      <td>179.0</td>\n",
       "      <td>89.0</td>\n",
       "      <td>Poland-1</td>\n",
       "      <td>POL</td>\n",
       "      <td>1976 Winter</td>\n",
       "      <td>1976</td>\n",
       "      <td>Winter</td>\n",
       "      <td>Innsbruck</td>\n",
       "      <td>Luge</td>\n",
       "      <td>Luge Mixed (Men)'s Doubles</td>\n",
       "      <td>NaN</td>\n",
       "    </tr>\n",
       "    <tr>\n",
       "      <th>271112</th>\n",
       "      <td>135570</td>\n",
       "      <td>Piotr ya</td>\n",
       "      <td>M</td>\n",
       "      <td>27.0</td>\n",
       "      <td>176.0</td>\n",
       "      <td>59.0</td>\n",
       "      <td>Poland</td>\n",
       "      <td>POL</td>\n",
       "      <td>2014 Winter</td>\n",
       "      <td>2014</td>\n",
       "      <td>Winter</td>\n",
       "      <td>Sochi</td>\n",
       "      <td>Ski Jumping</td>\n",
       "      <td>Ski Jumping Men's Large Hill, Individual</td>\n",
       "      <td>NaN</td>\n",
       "    </tr>\n",
       "    <tr>\n",
       "      <th>271113</th>\n",
       "      <td>135570</td>\n",
       "      <td>Piotr ya</td>\n",
       "      <td>M</td>\n",
       "      <td>27.0</td>\n",
       "      <td>176.0</td>\n",
       "      <td>59.0</td>\n",
       "      <td>Poland</td>\n",
       "      <td>POL</td>\n",
       "      <td>2014 Winter</td>\n",
       "      <td>2014</td>\n",
       "      <td>Winter</td>\n",
       "      <td>Sochi</td>\n",
       "      <td>Ski Jumping</td>\n",
       "      <td>Ski Jumping Men's Large Hill, Team</td>\n",
       "      <td>NaN</td>\n",
       "    </tr>\n",
       "    <tr>\n",
       "      <th>271114</th>\n",
       "      <td>135571</td>\n",
       "      <td>Tomasz Ireneusz ya</td>\n",
       "      <td>M</td>\n",
       "      <td>30.0</td>\n",
       "      <td>185.0</td>\n",
       "      <td>96.0</td>\n",
       "      <td>Poland</td>\n",
       "      <td>POL</td>\n",
       "      <td>1998 Winter</td>\n",
       "      <td>1998</td>\n",
       "      <td>Winter</td>\n",
       "      <td>Nagano</td>\n",
       "      <td>Bobsleigh</td>\n",
       "      <td>Bobsleigh Men's Four</td>\n",
       "      <td>NaN</td>\n",
       "    </tr>\n",
       "    <tr>\n",
       "      <th>271115</th>\n",
       "      <td>135571</td>\n",
       "      <td>Tomasz Ireneusz ya</td>\n",
       "      <td>M</td>\n",
       "      <td>34.0</td>\n",
       "      <td>185.0</td>\n",
       "      <td>96.0</td>\n",
       "      <td>Poland</td>\n",
       "      <td>POL</td>\n",
       "      <td>2002 Winter</td>\n",
       "      <td>2002</td>\n",
       "      <td>Winter</td>\n",
       "      <td>Salt Lake City</td>\n",
       "      <td>Bobsleigh</td>\n",
       "      <td>Bobsleigh Men's Four</td>\n",
       "      <td>NaN</td>\n",
       "    </tr>\n",
       "  </tbody>\n",
       "</table>\n",
       "</div>"
      ],
      "text/plain": [
       "            ID                Name Sex   Age  Height  Weight      Team  NOC  \\\n",
       "271111  135569          Andrzej ya   M  29.0   179.0    89.0  Poland-1  POL   \n",
       "271112  135570            Piotr ya   M  27.0   176.0    59.0    Poland  POL   \n",
       "271113  135570            Piotr ya   M  27.0   176.0    59.0    Poland  POL   \n",
       "271114  135571  Tomasz Ireneusz ya   M  30.0   185.0    96.0    Poland  POL   \n",
       "271115  135571  Tomasz Ireneusz ya   M  34.0   185.0    96.0    Poland  POL   \n",
       "\n",
       "              Games  Year  Season            City        Sport  \\\n",
       "271111  1976 Winter  1976  Winter       Innsbruck         Luge   \n",
       "271112  2014 Winter  2014  Winter           Sochi  Ski Jumping   \n",
       "271113  2014 Winter  2014  Winter           Sochi  Ski Jumping   \n",
       "271114  1998 Winter  1998  Winter          Nagano    Bobsleigh   \n",
       "271115  2002 Winter  2002  Winter  Salt Lake City    Bobsleigh   \n",
       "\n",
       "                                           Event Medal  \n",
       "271111                Luge Mixed (Men)'s Doubles   NaN  \n",
       "271112  Ski Jumping Men's Large Hill, Individual   NaN  \n",
       "271113        Ski Jumping Men's Large Hill, Team   NaN  \n",
       "271114                      Bobsleigh Men's Four   NaN  \n",
       "271115                      Bobsleigh Men's Four   NaN  "
      ]
     },
     "execution_count": 242,
     "metadata": {},
     "output_type": "execute_result"
    }
   ],
   "source": [
    "event.tail()"
   ]
  },
  {
   "cell_type": "code",
   "execution_count": 243,
   "metadata": {},
   "outputs": [
    {
     "data": {
      "text/plain": [
       "(271116, 15)"
      ]
     },
     "execution_count": 243,
     "metadata": {},
     "output_type": "execute_result"
    }
   ],
   "source": [
    "event.shape"
   ]
  },
  {
   "cell_type": "code",
   "execution_count": 244,
   "metadata": {},
   "outputs": [
    {
     "data": {
      "text/html": [
       "<div>\n",
       "<style scoped>\n",
       "    .dataframe tbody tr th:only-of-type {\n",
       "        vertical-align: middle;\n",
       "    }\n",
       "\n",
       "    .dataframe tbody tr th {\n",
       "        vertical-align: top;\n",
       "    }\n",
       "\n",
       "    .dataframe thead th {\n",
       "        text-align: right;\n",
       "    }\n",
       "</style>\n",
       "<table border=\"1\" class=\"dataframe\">\n",
       "  <thead>\n",
       "    <tr style=\"text-align: right;\">\n",
       "      <th></th>\n",
       "      <th>ID</th>\n",
       "      <th>Name</th>\n",
       "      <th>Sex</th>\n",
       "      <th>Age</th>\n",
       "      <th>Height</th>\n",
       "      <th>Weight</th>\n",
       "      <th>Team</th>\n",
       "      <th>NOC</th>\n",
       "      <th>Games</th>\n",
       "      <th>Year</th>\n",
       "      <th>Season</th>\n",
       "      <th>City</th>\n",
       "      <th>Sport</th>\n",
       "      <th>Event</th>\n",
       "      <th>Medal</th>\n",
       "    </tr>\n",
       "  </thead>\n",
       "  <tbody>\n",
       "    <tr>\n",
       "      <th>271106</th>\n",
       "      <td>135565</td>\n",
       "      <td>Fernando scar Zylberberg</td>\n",
       "      <td>M</td>\n",
       "      <td>27.0</td>\n",
       "      <td>168.0</td>\n",
       "      <td>76.0</td>\n",
       "      <td>Argentina</td>\n",
       "      <td>ARG</td>\n",
       "      <td>2004 Summer</td>\n",
       "      <td>2004</td>\n",
       "      <td>Summer</td>\n",
       "      <td>Athina</td>\n",
       "      <td>Hockey</td>\n",
       "      <td>Hockey Men's Hockey</td>\n",
       "      <td>NaN</td>\n",
       "    </tr>\n",
       "    <tr>\n",
       "      <th>271107</th>\n",
       "      <td>135566</td>\n",
       "      <td>James Francis \"Jim\" Zylker</td>\n",
       "      <td>M</td>\n",
       "      <td>21.0</td>\n",
       "      <td>175.0</td>\n",
       "      <td>75.0</td>\n",
       "      <td>United States</td>\n",
       "      <td>USA</td>\n",
       "      <td>1972 Summer</td>\n",
       "      <td>1972</td>\n",
       "      <td>Summer</td>\n",
       "      <td>Munich</td>\n",
       "      <td>Football</td>\n",
       "      <td>Football Men's Football</td>\n",
       "      <td>NaN</td>\n",
       "    </tr>\n",
       "    <tr>\n",
       "      <th>271108</th>\n",
       "      <td>135567</td>\n",
       "      <td>Aleksandr Viktorovich Zyuzin</td>\n",
       "      <td>M</td>\n",
       "      <td>24.0</td>\n",
       "      <td>183.0</td>\n",
       "      <td>72.0</td>\n",
       "      <td>Russia</td>\n",
       "      <td>RUS</td>\n",
       "      <td>2000 Summer</td>\n",
       "      <td>2000</td>\n",
       "      <td>Summer</td>\n",
       "      <td>Sydney</td>\n",
       "      <td>Rowing</td>\n",
       "      <td>Rowing Men's Lightweight Coxless Fours</td>\n",
       "      <td>NaN</td>\n",
       "    </tr>\n",
       "    <tr>\n",
       "      <th>271109</th>\n",
       "      <td>135567</td>\n",
       "      <td>Aleksandr Viktorovich Zyuzin</td>\n",
       "      <td>M</td>\n",
       "      <td>28.0</td>\n",
       "      <td>183.0</td>\n",
       "      <td>72.0</td>\n",
       "      <td>Russia</td>\n",
       "      <td>RUS</td>\n",
       "      <td>2004 Summer</td>\n",
       "      <td>2004</td>\n",
       "      <td>Summer</td>\n",
       "      <td>Athina</td>\n",
       "      <td>Rowing</td>\n",
       "      <td>Rowing Men's Lightweight Coxless Fours</td>\n",
       "      <td>NaN</td>\n",
       "    </tr>\n",
       "    <tr>\n",
       "      <th>271110</th>\n",
       "      <td>135568</td>\n",
       "      <td>Olga Igorevna Zyuzkova</td>\n",
       "      <td>F</td>\n",
       "      <td>33.0</td>\n",
       "      <td>171.0</td>\n",
       "      <td>69.0</td>\n",
       "      <td>Belarus</td>\n",
       "      <td>BLR</td>\n",
       "      <td>2016 Summer</td>\n",
       "      <td>2016</td>\n",
       "      <td>Summer</td>\n",
       "      <td>Rio de Janeiro</td>\n",
       "      <td>Basketball</td>\n",
       "      <td>Basketball Women's Basketball</td>\n",
       "      <td>NaN</td>\n",
       "    </tr>\n",
       "  </tbody>\n",
       "</table>\n",
       "</div>"
      ],
      "text/plain": [
       "            ID                          Name Sex   Age  Height  Weight  \\\n",
       "271106  135565      Fernando scar Zylberberg   M  27.0   168.0    76.0   \n",
       "271107  135566    James Francis \"Jim\" Zylker   M  21.0   175.0    75.0   \n",
       "271108  135567  Aleksandr Viktorovich Zyuzin   M  24.0   183.0    72.0   \n",
       "271109  135567  Aleksandr Viktorovich Zyuzin   M  28.0   183.0    72.0   \n",
       "271110  135568        Olga Igorevna Zyuzkova   F  33.0   171.0    69.0   \n",
       "\n",
       "                 Team  NOC        Games  Year  Season            City  \\\n",
       "271106      Argentina  ARG  2004 Summer  2004  Summer          Athina   \n",
       "271107  United States  USA  1972 Summer  1972  Summer          Munich   \n",
       "271108         Russia  RUS  2000 Summer  2000  Summer          Sydney   \n",
       "271109         Russia  RUS  2004 Summer  2004  Summer          Athina   \n",
       "271110        Belarus  BLR  2016 Summer  2016  Summer  Rio de Janeiro   \n",
       "\n",
       "             Sport                                   Event Medal  \n",
       "271106      Hockey                     Hockey Men's Hockey   NaN  \n",
       "271107    Football                 Football Men's Football   NaN  \n",
       "271108      Rowing  Rowing Men's Lightweight Coxless Fours   NaN  \n",
       "271109      Rowing  Rowing Men's Lightweight Coxless Fours   NaN  \n",
       "271110  Basketball           Basketball Women's Basketball   NaN  "
      ]
     },
     "execution_count": 244,
     "metadata": {},
     "output_type": "execute_result"
    }
   ],
   "source": [
    "summer_event = event[event['Season']=='Summer']\n",
    "winter_event = event[event['Season']=='Winter']\n",
    "summer_event.tail()"
   ]
  },
  {
   "cell_type": "code",
   "execution_count": 245,
   "metadata": {},
   "outputs": [
    {
     "data": {
      "text/plain": [
       "(48564, 15)"
      ]
     },
     "execution_count": 245,
     "metadata": {},
     "output_type": "execute_result"
    }
   ],
   "source": [
    "winter_event.shape"
   ]
  },
  {
   "cell_type": "code",
   "execution_count": 246,
   "metadata": {},
   "outputs": [
    {
     "data": {
      "text/plain": [
       "(222552, 15)"
      ]
     },
     "execution_count": 246,
     "metadata": {},
     "output_type": "execute_result"
    }
   ],
   "source": [
    "summer_event.shape"
   ]
  },
  {
   "cell_type": "markdown",
   "metadata": {},
   "source": [
    "## Summer Dataset"
   ]
  },
  {
   "cell_type": "code",
   "execution_count": 247,
   "metadata": {},
   "outputs": [
    {
     "data": {
      "text/html": [
       "<div>\n",
       "<style scoped>\n",
       "    .dataframe tbody tr th:only-of-type {\n",
       "        vertical-align: middle;\n",
       "    }\n",
       "\n",
       "    .dataframe tbody tr th {\n",
       "        vertical-align: top;\n",
       "    }\n",
       "\n",
       "    .dataframe thead th {\n",
       "        text-align: right;\n",
       "    }\n",
       "</style>\n",
       "<table border=\"1\" class=\"dataframe\">\n",
       "  <thead>\n",
       "    <tr style=\"text-align: right;\">\n",
       "      <th></th>\n",
       "      <th>ID</th>\n",
       "      <th>Name</th>\n",
       "      <th>Sex</th>\n",
       "      <th>Age</th>\n",
       "      <th>Height</th>\n",
       "      <th>Weight</th>\n",
       "      <th>Team</th>\n",
       "      <th>NOC</th>\n",
       "      <th>Games</th>\n",
       "      <th>Year</th>\n",
       "      <th>Season</th>\n",
       "      <th>City</th>\n",
       "      <th>Sport</th>\n",
       "      <th>Event</th>\n",
       "      <th>Medal</th>\n",
       "    </tr>\n",
       "  </thead>\n",
       "  <tbody>\n",
       "    <tr>\n",
       "      <th>271106</th>\n",
       "      <td>135565</td>\n",
       "      <td>Fernando scar Zylberberg</td>\n",
       "      <td>M</td>\n",
       "      <td>27.0</td>\n",
       "      <td>168.0</td>\n",
       "      <td>76.0</td>\n",
       "      <td>Argentina</td>\n",
       "      <td>ARG</td>\n",
       "      <td>2004 Summer</td>\n",
       "      <td>2004</td>\n",
       "      <td>Summer</td>\n",
       "      <td>Athina</td>\n",
       "      <td>Hockey</td>\n",
       "      <td>Hockey Men's Hockey</td>\n",
       "      <td>NaN</td>\n",
       "    </tr>\n",
       "    <tr>\n",
       "      <th>271107</th>\n",
       "      <td>135566</td>\n",
       "      <td>James Francis \"Jim\" Zylker</td>\n",
       "      <td>M</td>\n",
       "      <td>21.0</td>\n",
       "      <td>175.0</td>\n",
       "      <td>75.0</td>\n",
       "      <td>United States</td>\n",
       "      <td>USA</td>\n",
       "      <td>1972 Summer</td>\n",
       "      <td>1972</td>\n",
       "      <td>Summer</td>\n",
       "      <td>Munich</td>\n",
       "      <td>Football</td>\n",
       "      <td>Football Men's Football</td>\n",
       "      <td>NaN</td>\n",
       "    </tr>\n",
       "    <tr>\n",
       "      <th>271108</th>\n",
       "      <td>135567</td>\n",
       "      <td>Aleksandr Viktorovich Zyuzin</td>\n",
       "      <td>M</td>\n",
       "      <td>24.0</td>\n",
       "      <td>183.0</td>\n",
       "      <td>72.0</td>\n",
       "      <td>Russia</td>\n",
       "      <td>RUS</td>\n",
       "      <td>2000 Summer</td>\n",
       "      <td>2000</td>\n",
       "      <td>Summer</td>\n",
       "      <td>Sydney</td>\n",
       "      <td>Rowing</td>\n",
       "      <td>Rowing Men's Lightweight Coxless Fours</td>\n",
       "      <td>NaN</td>\n",
       "    </tr>\n",
       "    <tr>\n",
       "      <th>271109</th>\n",
       "      <td>135567</td>\n",
       "      <td>Aleksandr Viktorovich Zyuzin</td>\n",
       "      <td>M</td>\n",
       "      <td>28.0</td>\n",
       "      <td>183.0</td>\n",
       "      <td>72.0</td>\n",
       "      <td>Russia</td>\n",
       "      <td>RUS</td>\n",
       "      <td>2004 Summer</td>\n",
       "      <td>2004</td>\n",
       "      <td>Summer</td>\n",
       "      <td>Athina</td>\n",
       "      <td>Rowing</td>\n",
       "      <td>Rowing Men's Lightweight Coxless Fours</td>\n",
       "      <td>NaN</td>\n",
       "    </tr>\n",
       "    <tr>\n",
       "      <th>271110</th>\n",
       "      <td>135568</td>\n",
       "      <td>Olga Igorevna Zyuzkova</td>\n",
       "      <td>F</td>\n",
       "      <td>33.0</td>\n",
       "      <td>171.0</td>\n",
       "      <td>69.0</td>\n",
       "      <td>Belarus</td>\n",
       "      <td>BLR</td>\n",
       "      <td>2016 Summer</td>\n",
       "      <td>2016</td>\n",
       "      <td>Summer</td>\n",
       "      <td>Rio de Janeiro</td>\n",
       "      <td>Basketball</td>\n",
       "      <td>Basketball Women's Basketball</td>\n",
       "      <td>NaN</td>\n",
       "    </tr>\n",
       "  </tbody>\n",
       "</table>\n",
       "</div>"
      ],
      "text/plain": [
       "            ID                          Name Sex   Age  Height  Weight  \\\n",
       "271106  135565      Fernando scar Zylberberg   M  27.0   168.0    76.0   \n",
       "271107  135566    James Francis \"Jim\" Zylker   M  21.0   175.0    75.0   \n",
       "271108  135567  Aleksandr Viktorovich Zyuzin   M  24.0   183.0    72.0   \n",
       "271109  135567  Aleksandr Viktorovich Zyuzin   M  28.0   183.0    72.0   \n",
       "271110  135568        Olga Igorevna Zyuzkova   F  33.0   171.0    69.0   \n",
       "\n",
       "                 Team  NOC        Games  Year  Season            City  \\\n",
       "271106      Argentina  ARG  2004 Summer  2004  Summer          Athina   \n",
       "271107  United States  USA  1972 Summer  1972  Summer          Munich   \n",
       "271108         Russia  RUS  2000 Summer  2000  Summer          Sydney   \n",
       "271109         Russia  RUS  2004 Summer  2004  Summer          Athina   \n",
       "271110        Belarus  BLR  2016 Summer  2016  Summer  Rio de Janeiro   \n",
       "\n",
       "             Sport                                   Event Medal  \n",
       "271106      Hockey                     Hockey Men's Hockey   NaN  \n",
       "271107    Football                 Football Men's Football   NaN  \n",
       "271108      Rowing  Rowing Men's Lightweight Coxless Fours   NaN  \n",
       "271109      Rowing  Rowing Men's Lightweight Coxless Fours   NaN  \n",
       "271110  Basketball           Basketball Women's Basketball   NaN  "
      ]
     },
     "execution_count": 247,
     "metadata": {},
     "output_type": "execute_result"
    }
   ],
   "source": [
    "summer_event.tail()"
   ]
  },
  {
   "cell_type": "code",
   "execution_count": 248,
   "metadata": {},
   "outputs": [
    {
     "data": {
      "text/html": [
       "<div>\n",
       "<style scoped>\n",
       "    .dataframe tbody tr th:only-of-type {\n",
       "        vertical-align: middle;\n",
       "    }\n",
       "\n",
       "    .dataframe tbody tr th {\n",
       "        vertical-align: top;\n",
       "    }\n",
       "\n",
       "    .dataframe thead th {\n",
       "        text-align: right;\n",
       "    }\n",
       "</style>\n",
       "<table border=\"1\" class=\"dataframe\">\n",
       "  <thead>\n",
       "    <tr style=\"text-align: right;\">\n",
       "      <th></th>\n",
       "      <th>NOC</th>\n",
       "      <th>region</th>\n",
       "      <th>notes</th>\n",
       "    </tr>\n",
       "  </thead>\n",
       "  <tbody>\n",
       "    <tr>\n",
       "      <th>0</th>\n",
       "      <td>AFG</td>\n",
       "      <td>Afghanistan</td>\n",
       "      <td>NaN</td>\n",
       "    </tr>\n",
       "    <tr>\n",
       "      <th>1</th>\n",
       "      <td>AHO</td>\n",
       "      <td>Curacao</td>\n",
       "      <td>Netherlands Antilles</td>\n",
       "    </tr>\n",
       "    <tr>\n",
       "      <th>2</th>\n",
       "      <td>ALB</td>\n",
       "      <td>Albania</td>\n",
       "      <td>NaN</td>\n",
       "    </tr>\n",
       "    <tr>\n",
       "      <th>3</th>\n",
       "      <td>ALG</td>\n",
       "      <td>Algeria</td>\n",
       "      <td>NaN</td>\n",
       "    </tr>\n",
       "    <tr>\n",
       "      <th>4</th>\n",
       "      <td>AND</td>\n",
       "      <td>Andorra</td>\n",
       "      <td>NaN</td>\n",
       "    </tr>\n",
       "    <tr>\n",
       "      <th>...</th>\n",
       "      <td>...</td>\n",
       "      <td>...</td>\n",
       "      <td>...</td>\n",
       "    </tr>\n",
       "    <tr>\n",
       "      <th>225</th>\n",
       "      <td>YEM</td>\n",
       "      <td>Yemen</td>\n",
       "      <td>NaN</td>\n",
       "    </tr>\n",
       "    <tr>\n",
       "      <th>226</th>\n",
       "      <td>YMD</td>\n",
       "      <td>Yemen</td>\n",
       "      <td>South Yemen</td>\n",
       "    </tr>\n",
       "    <tr>\n",
       "      <th>227</th>\n",
       "      <td>YUG</td>\n",
       "      <td>Serbia</td>\n",
       "      <td>Yugoslavia</td>\n",
       "    </tr>\n",
       "    <tr>\n",
       "      <th>228</th>\n",
       "      <td>ZAM</td>\n",
       "      <td>Zambia</td>\n",
       "      <td>NaN</td>\n",
       "    </tr>\n",
       "    <tr>\n",
       "      <th>229</th>\n",
       "      <td>ZIM</td>\n",
       "      <td>Zimbabwe</td>\n",
       "      <td>NaN</td>\n",
       "    </tr>\n",
       "  </tbody>\n",
       "</table>\n",
       "<p>230 rows × 3 columns</p>\n",
       "</div>"
      ],
      "text/plain": [
       "     NOC       region                 notes\n",
       "0    AFG  Afghanistan                   NaN\n",
       "1    AHO      Curacao  Netherlands Antilles\n",
       "2    ALB      Albania                   NaN\n",
       "3    ALG      Algeria                   NaN\n",
       "4    AND      Andorra                   NaN\n",
       "..   ...          ...                   ...\n",
       "225  YEM        Yemen                   NaN\n",
       "226  YMD        Yemen           South Yemen\n",
       "227  YUG       Serbia            Yugoslavia\n",
       "228  ZAM       Zambia                   NaN\n",
       "229  ZIM     Zimbabwe                   NaN\n",
       "\n",
       "[230 rows x 3 columns]"
      ]
     },
     "execution_count": 248,
     "metadata": {},
     "output_type": "execute_result"
    }
   ],
   "source": [
    "region"
   ]
  },
  {
   "cell_type": "code",
   "execution_count": 249,
   "metadata": {},
   "outputs": [
    {
     "data": {
      "text/html": [
       "<div>\n",
       "<style scoped>\n",
       "    .dataframe tbody tr th:only-of-type {\n",
       "        vertical-align: middle;\n",
       "    }\n",
       "\n",
       "    .dataframe tbody tr th {\n",
       "        vertical-align: top;\n",
       "    }\n",
       "\n",
       "    .dataframe thead th {\n",
       "        text-align: right;\n",
       "    }\n",
       "</style>\n",
       "<table border=\"1\" class=\"dataframe\">\n",
       "  <thead>\n",
       "    <tr style=\"text-align: right;\">\n",
       "      <th></th>\n",
       "      <th>ID</th>\n",
       "      <th>Name</th>\n",
       "      <th>Sex</th>\n",
       "      <th>Age</th>\n",
       "      <th>Height</th>\n",
       "      <th>Weight</th>\n",
       "      <th>Team</th>\n",
       "      <th>NOC</th>\n",
       "      <th>Games</th>\n",
       "      <th>Year</th>\n",
       "      <th>Season</th>\n",
       "      <th>City</th>\n",
       "      <th>Sport</th>\n",
       "      <th>Event</th>\n",
       "      <th>Medal</th>\n",
       "      <th>region</th>\n",
       "      <th>notes</th>\n",
       "    </tr>\n",
       "  </thead>\n",
       "  <tbody>\n",
       "    <tr>\n",
       "      <th>0</th>\n",
       "      <td>1</td>\n",
       "      <td>A Dijiang</td>\n",
       "      <td>M</td>\n",
       "      <td>24.0</td>\n",
       "      <td>180.0</td>\n",
       "      <td>80.0</td>\n",
       "      <td>China</td>\n",
       "      <td>CHN</td>\n",
       "      <td>1992 Summer</td>\n",
       "      <td>1992</td>\n",
       "      <td>Summer</td>\n",
       "      <td>Barcelona</td>\n",
       "      <td>Basketball</td>\n",
       "      <td>Basketball Men's Basketball</td>\n",
       "      <td>NaN</td>\n",
       "      <td>China</td>\n",
       "      <td>NaN</td>\n",
       "    </tr>\n",
       "    <tr>\n",
       "      <th>1</th>\n",
       "      <td>2</td>\n",
       "      <td>A Lamusi</td>\n",
       "      <td>M</td>\n",
       "      <td>23.0</td>\n",
       "      <td>170.0</td>\n",
       "      <td>60.0</td>\n",
       "      <td>China</td>\n",
       "      <td>CHN</td>\n",
       "      <td>2012 Summer</td>\n",
       "      <td>2012</td>\n",
       "      <td>Summer</td>\n",
       "      <td>London</td>\n",
       "      <td>Judo</td>\n",
       "      <td>Judo Men's Extra-Lightweight</td>\n",
       "      <td>NaN</td>\n",
       "      <td>China</td>\n",
       "      <td>NaN</td>\n",
       "    </tr>\n",
       "    <tr>\n",
       "      <th>2</th>\n",
       "      <td>3</td>\n",
       "      <td>Gunnar Nielsen Aaby</td>\n",
       "      <td>M</td>\n",
       "      <td>24.0</td>\n",
       "      <td>NaN</td>\n",
       "      <td>NaN</td>\n",
       "      <td>Denmark</td>\n",
       "      <td>DEN</td>\n",
       "      <td>1920 Summer</td>\n",
       "      <td>1920</td>\n",
       "      <td>Summer</td>\n",
       "      <td>Antwerpen</td>\n",
       "      <td>Football</td>\n",
       "      <td>Football Men's Football</td>\n",
       "      <td>NaN</td>\n",
       "      <td>Denmark</td>\n",
       "      <td>NaN</td>\n",
       "    </tr>\n",
       "    <tr>\n",
       "      <th>3</th>\n",
       "      <td>4</td>\n",
       "      <td>Edgar Lindenau Aabye</td>\n",
       "      <td>M</td>\n",
       "      <td>34.0</td>\n",
       "      <td>NaN</td>\n",
       "      <td>NaN</td>\n",
       "      <td>Denmark/Sweden</td>\n",
       "      <td>DEN</td>\n",
       "      <td>1900 Summer</td>\n",
       "      <td>1900</td>\n",
       "      <td>Summer</td>\n",
       "      <td>Paris</td>\n",
       "      <td>Tug-Of-War</td>\n",
       "      <td>Tug-Of-War Men's Tug-Of-War</td>\n",
       "      <td>Gold</td>\n",
       "      <td>Denmark</td>\n",
       "      <td>NaN</td>\n",
       "    </tr>\n",
       "    <tr>\n",
       "      <th>4</th>\n",
       "      <td>8</td>\n",
       "      <td>Cornelia \"Cor\" Aalten (-Strannood)</td>\n",
       "      <td>F</td>\n",
       "      <td>18.0</td>\n",
       "      <td>168.0</td>\n",
       "      <td>NaN</td>\n",
       "      <td>Netherlands</td>\n",
       "      <td>NED</td>\n",
       "      <td>1932 Summer</td>\n",
       "      <td>1932</td>\n",
       "      <td>Summer</td>\n",
       "      <td>Los Angeles</td>\n",
       "      <td>Athletics</td>\n",
       "      <td>Athletics Women's 100 metres</td>\n",
       "      <td>NaN</td>\n",
       "      <td>Netherlands</td>\n",
       "      <td>NaN</td>\n",
       "    </tr>\n",
       "    <tr>\n",
       "      <th>...</th>\n",
       "      <td>...</td>\n",
       "      <td>...</td>\n",
       "      <td>...</td>\n",
       "      <td>...</td>\n",
       "      <td>...</td>\n",
       "      <td>...</td>\n",
       "      <td>...</td>\n",
       "      <td>...</td>\n",
       "      <td>...</td>\n",
       "      <td>...</td>\n",
       "      <td>...</td>\n",
       "      <td>...</td>\n",
       "      <td>...</td>\n",
       "      <td>...</td>\n",
       "      <td>...</td>\n",
       "      <td>...</td>\n",
       "      <td>...</td>\n",
       "    </tr>\n",
       "    <tr>\n",
       "      <th>222547</th>\n",
       "      <td>135565</td>\n",
       "      <td>Fernando scar Zylberberg</td>\n",
       "      <td>M</td>\n",
       "      <td>27.0</td>\n",
       "      <td>168.0</td>\n",
       "      <td>76.0</td>\n",
       "      <td>Argentina</td>\n",
       "      <td>ARG</td>\n",
       "      <td>2004 Summer</td>\n",
       "      <td>2004</td>\n",
       "      <td>Summer</td>\n",
       "      <td>Athina</td>\n",
       "      <td>Hockey</td>\n",
       "      <td>Hockey Men's Hockey</td>\n",
       "      <td>NaN</td>\n",
       "      <td>Argentina</td>\n",
       "      <td>NaN</td>\n",
       "    </tr>\n",
       "    <tr>\n",
       "      <th>222548</th>\n",
       "      <td>135566</td>\n",
       "      <td>James Francis \"Jim\" Zylker</td>\n",
       "      <td>M</td>\n",
       "      <td>21.0</td>\n",
       "      <td>175.0</td>\n",
       "      <td>75.0</td>\n",
       "      <td>United States</td>\n",
       "      <td>USA</td>\n",
       "      <td>1972 Summer</td>\n",
       "      <td>1972</td>\n",
       "      <td>Summer</td>\n",
       "      <td>Munich</td>\n",
       "      <td>Football</td>\n",
       "      <td>Football Men's Football</td>\n",
       "      <td>NaN</td>\n",
       "      <td>USA</td>\n",
       "      <td>NaN</td>\n",
       "    </tr>\n",
       "    <tr>\n",
       "      <th>222549</th>\n",
       "      <td>135567</td>\n",
       "      <td>Aleksandr Viktorovich Zyuzin</td>\n",
       "      <td>M</td>\n",
       "      <td>24.0</td>\n",
       "      <td>183.0</td>\n",
       "      <td>72.0</td>\n",
       "      <td>Russia</td>\n",
       "      <td>RUS</td>\n",
       "      <td>2000 Summer</td>\n",
       "      <td>2000</td>\n",
       "      <td>Summer</td>\n",
       "      <td>Sydney</td>\n",
       "      <td>Rowing</td>\n",
       "      <td>Rowing Men's Lightweight Coxless Fours</td>\n",
       "      <td>NaN</td>\n",
       "      <td>Russia</td>\n",
       "      <td>NaN</td>\n",
       "    </tr>\n",
       "    <tr>\n",
       "      <th>222550</th>\n",
       "      <td>135567</td>\n",
       "      <td>Aleksandr Viktorovich Zyuzin</td>\n",
       "      <td>M</td>\n",
       "      <td>28.0</td>\n",
       "      <td>183.0</td>\n",
       "      <td>72.0</td>\n",
       "      <td>Russia</td>\n",
       "      <td>RUS</td>\n",
       "      <td>2004 Summer</td>\n",
       "      <td>2004</td>\n",
       "      <td>Summer</td>\n",
       "      <td>Athina</td>\n",
       "      <td>Rowing</td>\n",
       "      <td>Rowing Men's Lightweight Coxless Fours</td>\n",
       "      <td>NaN</td>\n",
       "      <td>Russia</td>\n",
       "      <td>NaN</td>\n",
       "    </tr>\n",
       "    <tr>\n",
       "      <th>222551</th>\n",
       "      <td>135568</td>\n",
       "      <td>Olga Igorevna Zyuzkova</td>\n",
       "      <td>F</td>\n",
       "      <td>33.0</td>\n",
       "      <td>171.0</td>\n",
       "      <td>69.0</td>\n",
       "      <td>Belarus</td>\n",
       "      <td>BLR</td>\n",
       "      <td>2016 Summer</td>\n",
       "      <td>2016</td>\n",
       "      <td>Summer</td>\n",
       "      <td>Rio de Janeiro</td>\n",
       "      <td>Basketball</td>\n",
       "      <td>Basketball Women's Basketball</td>\n",
       "      <td>NaN</td>\n",
       "      <td>Belarus</td>\n",
       "      <td>NaN</td>\n",
       "    </tr>\n",
       "  </tbody>\n",
       "</table>\n",
       "<p>222552 rows × 17 columns</p>\n",
       "</div>"
      ],
      "text/plain": [
       "            ID                                Name Sex   Age  Height  Weight  \\\n",
       "0            1                           A Dijiang   M  24.0   180.0    80.0   \n",
       "1            2                            A Lamusi   M  23.0   170.0    60.0   \n",
       "2            3                 Gunnar Nielsen Aaby   M  24.0     NaN     NaN   \n",
       "3            4                Edgar Lindenau Aabye   M  34.0     NaN     NaN   \n",
       "4            8  Cornelia \"Cor\" Aalten (-Strannood)   F  18.0   168.0     NaN   \n",
       "...        ...                                 ...  ..   ...     ...     ...   \n",
       "222547  135565            Fernando scar Zylberberg   M  27.0   168.0    76.0   \n",
       "222548  135566          James Francis \"Jim\" Zylker   M  21.0   175.0    75.0   \n",
       "222549  135567        Aleksandr Viktorovich Zyuzin   M  24.0   183.0    72.0   \n",
       "222550  135567        Aleksandr Viktorovich Zyuzin   M  28.0   183.0    72.0   \n",
       "222551  135568              Olga Igorevna Zyuzkova   F  33.0   171.0    69.0   \n",
       "\n",
       "                  Team  NOC        Games  Year  Season            City  \\\n",
       "0                China  CHN  1992 Summer  1992  Summer       Barcelona   \n",
       "1                China  CHN  2012 Summer  2012  Summer          London   \n",
       "2              Denmark  DEN  1920 Summer  1920  Summer       Antwerpen   \n",
       "3       Denmark/Sweden  DEN  1900 Summer  1900  Summer           Paris   \n",
       "4          Netherlands  NED  1932 Summer  1932  Summer     Los Angeles   \n",
       "...                ...  ...          ...   ...     ...             ...   \n",
       "222547       Argentina  ARG  2004 Summer  2004  Summer          Athina   \n",
       "222548   United States  USA  1972 Summer  1972  Summer          Munich   \n",
       "222549          Russia  RUS  2000 Summer  2000  Summer          Sydney   \n",
       "222550          Russia  RUS  2004 Summer  2004  Summer          Athina   \n",
       "222551         Belarus  BLR  2016 Summer  2016  Summer  Rio de Janeiro   \n",
       "\n",
       "             Sport                                   Event Medal       region  \\\n",
       "0       Basketball             Basketball Men's Basketball   NaN        China   \n",
       "1             Judo            Judo Men's Extra-Lightweight   NaN        China   \n",
       "2         Football                 Football Men's Football   NaN      Denmark   \n",
       "3       Tug-Of-War             Tug-Of-War Men's Tug-Of-War  Gold      Denmark   \n",
       "4        Athletics            Athletics Women's 100 metres   NaN  Netherlands   \n",
       "...            ...                                     ...   ...          ...   \n",
       "222547      Hockey                     Hockey Men's Hockey   NaN    Argentina   \n",
       "222548    Football                 Football Men's Football   NaN          USA   \n",
       "222549      Rowing  Rowing Men's Lightweight Coxless Fours   NaN       Russia   \n",
       "222550      Rowing  Rowing Men's Lightweight Coxless Fours   NaN       Russia   \n",
       "222551  Basketball           Basketball Women's Basketball   NaN      Belarus   \n",
       "\n",
       "       notes  \n",
       "0        NaN  \n",
       "1        NaN  \n",
       "2        NaN  \n",
       "3        NaN  \n",
       "4        NaN  \n",
       "...      ...  \n",
       "222547   NaN  \n",
       "222548   NaN  \n",
       "222549   NaN  \n",
       "222550   NaN  \n",
       "222551   NaN  \n",
       "\n",
       "[222552 rows x 17 columns]"
      ]
     },
     "execution_count": 249,
     "metadata": {},
     "output_type": "execute_result"
    }
   ],
   "source": [
    "summer_event = summer_event.merge(region,on='NOC',how= 'left')\n",
    "summer_event"
   ]
  },
  {
   "cell_type": "code",
   "execution_count": 250,
   "metadata": {},
   "outputs": [
    {
     "data": {
      "text/html": [
       "<div>\n",
       "<style scoped>\n",
       "    .dataframe tbody tr th:only-of-type {\n",
       "        vertical-align: middle;\n",
       "    }\n",
       "\n",
       "    .dataframe tbody tr th {\n",
       "        vertical-align: top;\n",
       "    }\n",
       "\n",
       "    .dataframe thead th {\n",
       "        text-align: right;\n",
       "    }\n",
       "</style>\n",
       "<table border=\"1\" class=\"dataframe\">\n",
       "  <thead>\n",
       "    <tr style=\"text-align: right;\">\n",
       "      <th></th>\n",
       "      <th>ID</th>\n",
       "      <th>Name</th>\n",
       "      <th>Sex</th>\n",
       "      <th>Age</th>\n",
       "      <th>Height</th>\n",
       "      <th>Weight</th>\n",
       "      <th>Team</th>\n",
       "      <th>NOC</th>\n",
       "      <th>Games</th>\n",
       "      <th>Year</th>\n",
       "      <th>Season</th>\n",
       "      <th>City</th>\n",
       "      <th>Sport</th>\n",
       "      <th>Event</th>\n",
       "      <th>Medal</th>\n",
       "      <th>region</th>\n",
       "      <th>notes</th>\n",
       "    </tr>\n",
       "  </thead>\n",
       "  <tbody>\n",
       "    <tr>\n",
       "      <th>0</th>\n",
       "      <td>1</td>\n",
       "      <td>A Dijiang</td>\n",
       "      <td>M</td>\n",
       "      <td>24.0</td>\n",
       "      <td>180.0</td>\n",
       "      <td>80.0</td>\n",
       "      <td>China</td>\n",
       "      <td>CHN</td>\n",
       "      <td>1992 Summer</td>\n",
       "      <td>1992</td>\n",
       "      <td>Summer</td>\n",
       "      <td>Barcelona</td>\n",
       "      <td>Basketball</td>\n",
       "      <td>Basketball Men's Basketball</td>\n",
       "      <td>NaN</td>\n",
       "      <td>China</td>\n",
       "      <td>NaN</td>\n",
       "    </tr>\n",
       "    <tr>\n",
       "      <th>1</th>\n",
       "      <td>2</td>\n",
       "      <td>A Lamusi</td>\n",
       "      <td>M</td>\n",
       "      <td>23.0</td>\n",
       "      <td>170.0</td>\n",
       "      <td>60.0</td>\n",
       "      <td>China</td>\n",
       "      <td>CHN</td>\n",
       "      <td>2012 Summer</td>\n",
       "      <td>2012</td>\n",
       "      <td>Summer</td>\n",
       "      <td>London</td>\n",
       "      <td>Judo</td>\n",
       "      <td>Judo Men's Extra-Lightweight</td>\n",
       "      <td>NaN</td>\n",
       "      <td>China</td>\n",
       "      <td>NaN</td>\n",
       "    </tr>\n",
       "    <tr>\n",
       "      <th>2</th>\n",
       "      <td>3</td>\n",
       "      <td>Gunnar Nielsen Aaby</td>\n",
       "      <td>M</td>\n",
       "      <td>24.0</td>\n",
       "      <td>NaN</td>\n",
       "      <td>NaN</td>\n",
       "      <td>Denmark</td>\n",
       "      <td>DEN</td>\n",
       "      <td>1920 Summer</td>\n",
       "      <td>1920</td>\n",
       "      <td>Summer</td>\n",
       "      <td>Antwerpen</td>\n",
       "      <td>Football</td>\n",
       "      <td>Football Men's Football</td>\n",
       "      <td>NaN</td>\n",
       "      <td>Denmark</td>\n",
       "      <td>NaN</td>\n",
       "    </tr>\n",
       "    <tr>\n",
       "      <th>3</th>\n",
       "      <td>4</td>\n",
       "      <td>Edgar Lindenau Aabye</td>\n",
       "      <td>M</td>\n",
       "      <td>34.0</td>\n",
       "      <td>NaN</td>\n",
       "      <td>NaN</td>\n",
       "      <td>Denmark/Sweden</td>\n",
       "      <td>DEN</td>\n",
       "      <td>1900 Summer</td>\n",
       "      <td>1900</td>\n",
       "      <td>Summer</td>\n",
       "      <td>Paris</td>\n",
       "      <td>Tug-Of-War</td>\n",
       "      <td>Tug-Of-War Men's Tug-Of-War</td>\n",
       "      <td>Gold</td>\n",
       "      <td>Denmark</td>\n",
       "      <td>NaN</td>\n",
       "    </tr>\n",
       "    <tr>\n",
       "      <th>4</th>\n",
       "      <td>8</td>\n",
       "      <td>Cornelia \"Cor\" Aalten (-Strannood)</td>\n",
       "      <td>F</td>\n",
       "      <td>18.0</td>\n",
       "      <td>168.0</td>\n",
       "      <td>NaN</td>\n",
       "      <td>Netherlands</td>\n",
       "      <td>NED</td>\n",
       "      <td>1932 Summer</td>\n",
       "      <td>1932</td>\n",
       "      <td>Summer</td>\n",
       "      <td>Los Angeles</td>\n",
       "      <td>Athletics</td>\n",
       "      <td>Athletics Women's 100 metres</td>\n",
       "      <td>NaN</td>\n",
       "      <td>Netherlands</td>\n",
       "      <td>NaN</td>\n",
       "    </tr>\n",
       "  </tbody>\n",
       "</table>\n",
       "</div>"
      ],
      "text/plain": [
       "   ID                                Name Sex   Age  Height  Weight  \\\n",
       "0   1                           A Dijiang   M  24.0   180.0    80.0   \n",
       "1   2                            A Lamusi   M  23.0   170.0    60.0   \n",
       "2   3                 Gunnar Nielsen Aaby   M  24.0     NaN     NaN   \n",
       "3   4                Edgar Lindenau Aabye   M  34.0     NaN     NaN   \n",
       "4   8  Cornelia \"Cor\" Aalten (-Strannood)   F  18.0   168.0     NaN   \n",
       "\n",
       "             Team  NOC        Games  Year  Season         City       Sport  \\\n",
       "0           China  CHN  1992 Summer  1992  Summer    Barcelona  Basketball   \n",
       "1           China  CHN  2012 Summer  2012  Summer       London        Judo   \n",
       "2         Denmark  DEN  1920 Summer  1920  Summer    Antwerpen    Football   \n",
       "3  Denmark/Sweden  DEN  1900 Summer  1900  Summer        Paris  Tug-Of-War   \n",
       "4     Netherlands  NED  1932 Summer  1932  Summer  Los Angeles   Athletics   \n",
       "\n",
       "                          Event Medal       region notes  \n",
       "0   Basketball Men's Basketball   NaN        China   NaN  \n",
       "1  Judo Men's Extra-Lightweight   NaN        China   NaN  \n",
       "2       Football Men's Football   NaN      Denmark   NaN  \n",
       "3   Tug-Of-War Men's Tug-Of-War  Gold      Denmark   NaN  \n",
       "4  Athletics Women's 100 metres   NaN  Netherlands   NaN  "
      ]
     },
     "execution_count": 250,
     "metadata": {},
     "output_type": "execute_result"
    }
   ],
   "source": [
    "summer_event.head(5)"
   ]
  },
  {
   "cell_type": "code",
   "execution_count": 251,
   "metadata": {},
   "outputs": [
    {
     "data": {
      "text/plain": [
       "(206,)"
      ]
     },
     "execution_count": 251,
     "metadata": {},
     "output_type": "execute_result"
    }
   ],
   "source": [
    "# number of countries paricipated.\n",
    "summer_event['region'].unique().shape"
   ]
  },
  {
   "cell_type": "code",
   "execution_count": 252,
   "metadata": {},
   "outputs": [
    {
     "data": {
      "text/plain": [
       "ID             0\n",
       "Name           0\n",
       "Sex            0\n",
       "Age         9189\n",
       "Height     51857\n",
       "Weight     53854\n",
       "Team           0\n",
       "NOC            0\n",
       "Games          0\n",
       "Year           0\n",
       "Season         0\n",
       "City           0\n",
       "Sport          0\n",
       "Event          0\n",
       "Medal     188464\n",
       "region       370\n",
       "notes     218151\n",
       "dtype: int64"
      ]
     },
     "execution_count": 252,
     "metadata": {},
     "output_type": "execute_result"
    }
   ],
   "source": [
    "summer_event.isnull().sum()"
   ]
  },
  {
   "cell_type": "markdown",
   "metadata": {},
   "source": [
    "In the above the cell you can see that National Olympic Committee(NOC) has zero missing values but in region there are some, this because region is not listed maybe."
   ]
  },
  {
   "cell_type": "code",
   "execution_count": 253,
   "metadata": {},
   "outputs": [
    {
     "data": {
      "text/plain": [
       "1385"
      ]
     },
     "execution_count": 253,
     "metadata": {},
     "output_type": "execute_result"
    }
   ],
   "source": [
    "# check duplicate values.\n",
    "summer_event.duplicated().sum()"
   ]
  },
  {
   "cell_type": "code",
   "execution_count": 254,
   "metadata": {},
   "outputs": [],
   "source": [
    "summer_event.drop_duplicates(inplace=True)"
   ]
  },
  {
   "cell_type": "code",
   "execution_count": 255,
   "metadata": {},
   "outputs": [
    {
     "data": {
      "text/plain": [
       "0"
      ]
     },
     "execution_count": 255,
     "metadata": {},
     "output_type": "execute_result"
    }
   ],
   "source": [
    "summer_event.duplicated().sum()"
   ]
  },
  {
   "cell_type": "code",
   "execution_count": 256,
   "metadata": {},
   "outputs": [
    {
     "data": {
      "text/plain": [
       "(221167, 17)"
      ]
     },
     "execution_count": 256,
     "metadata": {},
     "output_type": "execute_result"
    }
   ],
   "source": [
    "summer_event.shape"
   ]
  },
  {
   "cell_type": "code",
   "execution_count": 257,
   "metadata": {},
   "outputs": [
    {
     "data": {
      "text/plain": [
       "Gold      11456\n",
       "Bronze    11409\n",
       "Silver    11212\n",
       "Name: Medal, dtype: int64"
      ]
     },
     "execution_count": 257,
     "metadata": {},
     "output_type": "execute_result"
    }
   ],
   "source": [
    "summer_event['Medal'].value_counts()"
   ]
  },
  {
   "cell_type": "code",
   "execution_count": 258,
   "metadata": {},
   "outputs": [
    {
     "data": {
      "text/html": [
       "<div>\n",
       "<style scoped>\n",
       "    .dataframe tbody tr th:only-of-type {\n",
       "        vertical-align: middle;\n",
       "    }\n",
       "\n",
       "    .dataframe tbody tr th {\n",
       "        vertical-align: top;\n",
       "    }\n",
       "\n",
       "    .dataframe thead th {\n",
       "        text-align: right;\n",
       "    }\n",
       "</style>\n",
       "<table border=\"1\" class=\"dataframe\">\n",
       "  <thead>\n",
       "    <tr style=\"text-align: right;\">\n",
       "      <th></th>\n",
       "      <th>ID</th>\n",
       "      <th>Name</th>\n",
       "      <th>Sex</th>\n",
       "      <th>Age</th>\n",
       "      <th>Height</th>\n",
       "      <th>Weight</th>\n",
       "      <th>Team</th>\n",
       "      <th>NOC</th>\n",
       "      <th>Games</th>\n",
       "      <th>Year</th>\n",
       "      <th>Season</th>\n",
       "      <th>City</th>\n",
       "      <th>Sport</th>\n",
       "      <th>Event</th>\n",
       "      <th>Medal</th>\n",
       "      <th>region</th>\n",
       "      <th>notes</th>\n",
       "      <th>Bronze</th>\n",
       "      <th>Gold</th>\n",
       "      <th>Silver</th>\n",
       "    </tr>\n",
       "  </thead>\n",
       "  <tbody>\n",
       "    <tr>\n",
       "      <th>0</th>\n",
       "      <td>1</td>\n",
       "      <td>A Dijiang</td>\n",
       "      <td>M</td>\n",
       "      <td>24.0</td>\n",
       "      <td>180.0</td>\n",
       "      <td>80.0</td>\n",
       "      <td>China</td>\n",
       "      <td>CHN</td>\n",
       "      <td>1992 Summer</td>\n",
       "      <td>1992</td>\n",
       "      <td>Summer</td>\n",
       "      <td>Barcelona</td>\n",
       "      <td>Basketball</td>\n",
       "      <td>Basketball Men's Basketball</td>\n",
       "      <td>NaN</td>\n",
       "      <td>China</td>\n",
       "      <td>NaN</td>\n",
       "      <td>0</td>\n",
       "      <td>0</td>\n",
       "      <td>0</td>\n",
       "    </tr>\n",
       "    <tr>\n",
       "      <th>1</th>\n",
       "      <td>2</td>\n",
       "      <td>A Lamusi</td>\n",
       "      <td>M</td>\n",
       "      <td>23.0</td>\n",
       "      <td>170.0</td>\n",
       "      <td>60.0</td>\n",
       "      <td>China</td>\n",
       "      <td>CHN</td>\n",
       "      <td>2012 Summer</td>\n",
       "      <td>2012</td>\n",
       "      <td>Summer</td>\n",
       "      <td>London</td>\n",
       "      <td>Judo</td>\n",
       "      <td>Judo Men's Extra-Lightweight</td>\n",
       "      <td>NaN</td>\n",
       "      <td>China</td>\n",
       "      <td>NaN</td>\n",
       "      <td>0</td>\n",
       "      <td>0</td>\n",
       "      <td>0</td>\n",
       "    </tr>\n",
       "    <tr>\n",
       "      <th>2</th>\n",
       "      <td>3</td>\n",
       "      <td>Gunnar Nielsen Aaby</td>\n",
       "      <td>M</td>\n",
       "      <td>24.0</td>\n",
       "      <td>NaN</td>\n",
       "      <td>NaN</td>\n",
       "      <td>Denmark</td>\n",
       "      <td>DEN</td>\n",
       "      <td>1920 Summer</td>\n",
       "      <td>1920</td>\n",
       "      <td>Summer</td>\n",
       "      <td>Antwerpen</td>\n",
       "      <td>Football</td>\n",
       "      <td>Football Men's Football</td>\n",
       "      <td>NaN</td>\n",
       "      <td>Denmark</td>\n",
       "      <td>NaN</td>\n",
       "      <td>0</td>\n",
       "      <td>0</td>\n",
       "      <td>0</td>\n",
       "    </tr>\n",
       "    <tr>\n",
       "      <th>3</th>\n",
       "      <td>4</td>\n",
       "      <td>Edgar Lindenau Aabye</td>\n",
       "      <td>M</td>\n",
       "      <td>34.0</td>\n",
       "      <td>NaN</td>\n",
       "      <td>NaN</td>\n",
       "      <td>Denmark/Sweden</td>\n",
       "      <td>DEN</td>\n",
       "      <td>1900 Summer</td>\n",
       "      <td>1900</td>\n",
       "      <td>Summer</td>\n",
       "      <td>Paris</td>\n",
       "      <td>Tug-Of-War</td>\n",
       "      <td>Tug-Of-War Men's Tug-Of-War</td>\n",
       "      <td>Gold</td>\n",
       "      <td>Denmark</td>\n",
       "      <td>NaN</td>\n",
       "      <td>0</td>\n",
       "      <td>1</td>\n",
       "      <td>0</td>\n",
       "    </tr>\n",
       "    <tr>\n",
       "      <th>4</th>\n",
       "      <td>8</td>\n",
       "      <td>Cornelia \"Cor\" Aalten (-Strannood)</td>\n",
       "      <td>F</td>\n",
       "      <td>18.0</td>\n",
       "      <td>168.0</td>\n",
       "      <td>NaN</td>\n",
       "      <td>Netherlands</td>\n",
       "      <td>NED</td>\n",
       "      <td>1932 Summer</td>\n",
       "      <td>1932</td>\n",
       "      <td>Summer</td>\n",
       "      <td>Los Angeles</td>\n",
       "      <td>Athletics</td>\n",
       "      <td>Athletics Women's 100 metres</td>\n",
       "      <td>NaN</td>\n",
       "      <td>Netherlands</td>\n",
       "      <td>NaN</td>\n",
       "      <td>0</td>\n",
       "      <td>0</td>\n",
       "      <td>0</td>\n",
       "    </tr>\n",
       "    <tr>\n",
       "      <th>...</th>\n",
       "      <td>...</td>\n",
       "      <td>...</td>\n",
       "      <td>...</td>\n",
       "      <td>...</td>\n",
       "      <td>...</td>\n",
       "      <td>...</td>\n",
       "      <td>...</td>\n",
       "      <td>...</td>\n",
       "      <td>...</td>\n",
       "      <td>...</td>\n",
       "      <td>...</td>\n",
       "      <td>...</td>\n",
       "      <td>...</td>\n",
       "      <td>...</td>\n",
       "      <td>...</td>\n",
       "      <td>...</td>\n",
       "      <td>...</td>\n",
       "      <td>...</td>\n",
       "      <td>...</td>\n",
       "      <td>...</td>\n",
       "    </tr>\n",
       "    <tr>\n",
       "      <th>222547</th>\n",
       "      <td>135565</td>\n",
       "      <td>Fernando scar Zylberberg</td>\n",
       "      <td>M</td>\n",
       "      <td>27.0</td>\n",
       "      <td>168.0</td>\n",
       "      <td>76.0</td>\n",
       "      <td>Argentina</td>\n",
       "      <td>ARG</td>\n",
       "      <td>2004 Summer</td>\n",
       "      <td>2004</td>\n",
       "      <td>Summer</td>\n",
       "      <td>Athina</td>\n",
       "      <td>Hockey</td>\n",
       "      <td>Hockey Men's Hockey</td>\n",
       "      <td>NaN</td>\n",
       "      <td>Argentina</td>\n",
       "      <td>NaN</td>\n",
       "      <td>0</td>\n",
       "      <td>0</td>\n",
       "      <td>0</td>\n",
       "    </tr>\n",
       "    <tr>\n",
       "      <th>222548</th>\n",
       "      <td>135566</td>\n",
       "      <td>James Francis \"Jim\" Zylker</td>\n",
       "      <td>M</td>\n",
       "      <td>21.0</td>\n",
       "      <td>175.0</td>\n",
       "      <td>75.0</td>\n",
       "      <td>United States</td>\n",
       "      <td>USA</td>\n",
       "      <td>1972 Summer</td>\n",
       "      <td>1972</td>\n",
       "      <td>Summer</td>\n",
       "      <td>Munich</td>\n",
       "      <td>Football</td>\n",
       "      <td>Football Men's Football</td>\n",
       "      <td>NaN</td>\n",
       "      <td>USA</td>\n",
       "      <td>NaN</td>\n",
       "      <td>0</td>\n",
       "      <td>0</td>\n",
       "      <td>0</td>\n",
       "    </tr>\n",
       "    <tr>\n",
       "      <th>222549</th>\n",
       "      <td>135567</td>\n",
       "      <td>Aleksandr Viktorovich Zyuzin</td>\n",
       "      <td>M</td>\n",
       "      <td>24.0</td>\n",
       "      <td>183.0</td>\n",
       "      <td>72.0</td>\n",
       "      <td>Russia</td>\n",
       "      <td>RUS</td>\n",
       "      <td>2000 Summer</td>\n",
       "      <td>2000</td>\n",
       "      <td>Summer</td>\n",
       "      <td>Sydney</td>\n",
       "      <td>Rowing</td>\n",
       "      <td>Rowing Men's Lightweight Coxless Fours</td>\n",
       "      <td>NaN</td>\n",
       "      <td>Russia</td>\n",
       "      <td>NaN</td>\n",
       "      <td>0</td>\n",
       "      <td>0</td>\n",
       "      <td>0</td>\n",
       "    </tr>\n",
       "    <tr>\n",
       "      <th>222550</th>\n",
       "      <td>135567</td>\n",
       "      <td>Aleksandr Viktorovich Zyuzin</td>\n",
       "      <td>M</td>\n",
       "      <td>28.0</td>\n",
       "      <td>183.0</td>\n",
       "      <td>72.0</td>\n",
       "      <td>Russia</td>\n",
       "      <td>RUS</td>\n",
       "      <td>2004 Summer</td>\n",
       "      <td>2004</td>\n",
       "      <td>Summer</td>\n",
       "      <td>Athina</td>\n",
       "      <td>Rowing</td>\n",
       "      <td>Rowing Men's Lightweight Coxless Fours</td>\n",
       "      <td>NaN</td>\n",
       "      <td>Russia</td>\n",
       "      <td>NaN</td>\n",
       "      <td>0</td>\n",
       "      <td>0</td>\n",
       "      <td>0</td>\n",
       "    </tr>\n",
       "    <tr>\n",
       "      <th>222551</th>\n",
       "      <td>135568</td>\n",
       "      <td>Olga Igorevna Zyuzkova</td>\n",
       "      <td>F</td>\n",
       "      <td>33.0</td>\n",
       "      <td>171.0</td>\n",
       "      <td>69.0</td>\n",
       "      <td>Belarus</td>\n",
       "      <td>BLR</td>\n",
       "      <td>2016 Summer</td>\n",
       "      <td>2016</td>\n",
       "      <td>Summer</td>\n",
       "      <td>Rio de Janeiro</td>\n",
       "      <td>Basketball</td>\n",
       "      <td>Basketball Women's Basketball</td>\n",
       "      <td>NaN</td>\n",
       "      <td>Belarus</td>\n",
       "      <td>NaN</td>\n",
       "      <td>0</td>\n",
       "      <td>0</td>\n",
       "      <td>0</td>\n",
       "    </tr>\n",
       "  </tbody>\n",
       "</table>\n",
       "<p>221167 rows × 20 columns</p>\n",
       "</div>"
      ],
      "text/plain": [
       "            ID                                Name Sex   Age  Height  Weight  \\\n",
       "0            1                           A Dijiang   M  24.0   180.0    80.0   \n",
       "1            2                            A Lamusi   M  23.0   170.0    60.0   \n",
       "2            3                 Gunnar Nielsen Aaby   M  24.0     NaN     NaN   \n",
       "3            4                Edgar Lindenau Aabye   M  34.0     NaN     NaN   \n",
       "4            8  Cornelia \"Cor\" Aalten (-Strannood)   F  18.0   168.0     NaN   \n",
       "...        ...                                 ...  ..   ...     ...     ...   \n",
       "222547  135565            Fernando scar Zylberberg   M  27.0   168.0    76.0   \n",
       "222548  135566          James Francis \"Jim\" Zylker   M  21.0   175.0    75.0   \n",
       "222549  135567        Aleksandr Viktorovich Zyuzin   M  24.0   183.0    72.0   \n",
       "222550  135567        Aleksandr Viktorovich Zyuzin   M  28.0   183.0    72.0   \n",
       "222551  135568              Olga Igorevna Zyuzkova   F  33.0   171.0    69.0   \n",
       "\n",
       "                  Team  NOC        Games  Year  Season            City  \\\n",
       "0                China  CHN  1992 Summer  1992  Summer       Barcelona   \n",
       "1                China  CHN  2012 Summer  2012  Summer          London   \n",
       "2              Denmark  DEN  1920 Summer  1920  Summer       Antwerpen   \n",
       "3       Denmark/Sweden  DEN  1900 Summer  1900  Summer           Paris   \n",
       "4          Netherlands  NED  1932 Summer  1932  Summer     Los Angeles   \n",
       "...                ...  ...          ...   ...     ...             ...   \n",
       "222547       Argentina  ARG  2004 Summer  2004  Summer          Athina   \n",
       "222548   United States  USA  1972 Summer  1972  Summer          Munich   \n",
       "222549          Russia  RUS  2000 Summer  2000  Summer          Sydney   \n",
       "222550          Russia  RUS  2004 Summer  2004  Summer          Athina   \n",
       "222551         Belarus  BLR  2016 Summer  2016  Summer  Rio de Janeiro   \n",
       "\n",
       "             Sport                                   Event Medal       region  \\\n",
       "0       Basketball             Basketball Men's Basketball   NaN        China   \n",
       "1             Judo            Judo Men's Extra-Lightweight   NaN        China   \n",
       "2         Football                 Football Men's Football   NaN      Denmark   \n",
       "3       Tug-Of-War             Tug-Of-War Men's Tug-Of-War  Gold      Denmark   \n",
       "4        Athletics            Athletics Women's 100 metres   NaN  Netherlands   \n",
       "...            ...                                     ...   ...          ...   \n",
       "222547      Hockey                     Hockey Men's Hockey   NaN    Argentina   \n",
       "222548    Football                 Football Men's Football   NaN          USA   \n",
       "222549      Rowing  Rowing Men's Lightweight Coxless Fours   NaN       Russia   \n",
       "222550      Rowing  Rowing Men's Lightweight Coxless Fours   NaN       Russia   \n",
       "222551  Basketball           Basketball Women's Basketball   NaN      Belarus   \n",
       "\n",
       "       notes  Bronze  Gold  Silver  \n",
       "0        NaN       0     0       0  \n",
       "1        NaN       0     0       0  \n",
       "2        NaN       0     0       0  \n",
       "3        NaN       0     1       0  \n",
       "4        NaN       0     0       0  \n",
       "...      ...     ...   ...     ...  \n",
       "222547   NaN       0     0       0  \n",
       "222548   NaN       0     0       0  \n",
       "222549   NaN       0     0       0  \n",
       "222550   NaN       0     0       0  \n",
       "222551   NaN       0     0       0  \n",
       "\n",
       "[221167 rows x 20 columns]"
      ]
     },
     "execution_count": 258,
     "metadata": {},
     "output_type": "execute_result"
    }
   ],
   "source": [
    "# one-hot incoding and concading it in to summer dataset\n",
    "summer_event = pd.concat([summer_event,pd.get_dummies(summer_event['Medal'])],axis=1)\n",
    "summer_event"
   ]
  },
  {
   "cell_type": "code",
   "execution_count": 259,
   "metadata": {},
   "outputs": [
    {
     "data": {
      "text/html": [
       "<div>\n",
       "<style scoped>\n",
       "    .dataframe tbody tr th:only-of-type {\n",
       "        vertical-align: middle;\n",
       "    }\n",
       "\n",
       "    .dataframe tbody tr th {\n",
       "        vertical-align: top;\n",
       "    }\n",
       "\n",
       "    .dataframe thead th {\n",
       "        text-align: right;\n",
       "    }\n",
       "</style>\n",
       "<table border=\"1\" class=\"dataframe\">\n",
       "  <thead>\n",
       "    <tr style=\"text-align: right;\">\n",
       "      <th></th>\n",
       "      <th>NOC</th>\n",
       "      <th>Bronze</th>\n",
       "      <th>Gold</th>\n",
       "      <th>Silver</th>\n",
       "    </tr>\n",
       "  </thead>\n",
       "  <tbody>\n",
       "    <tr>\n",
       "      <th>0</th>\n",
       "      <td>USA</td>\n",
       "      <td>1197.0</td>\n",
       "      <td>2472.0</td>\n",
       "      <td>1333.0</td>\n",
       "    </tr>\n",
       "    <tr>\n",
       "      <th>1</th>\n",
       "      <td>URS</td>\n",
       "      <td>596.0</td>\n",
       "      <td>832.0</td>\n",
       "      <td>635.0</td>\n",
       "    </tr>\n",
       "    <tr>\n",
       "      <th>2</th>\n",
       "      <td>GBR</td>\n",
       "      <td>620.0</td>\n",
       "      <td>635.0</td>\n",
       "      <td>729.0</td>\n",
       "    </tr>\n",
       "    <tr>\n",
       "      <th>3</th>\n",
       "      <td>GER</td>\n",
       "      <td>649.0</td>\n",
       "      <td>592.0</td>\n",
       "      <td>538.0</td>\n",
       "    </tr>\n",
       "    <tr>\n",
       "      <th>4</th>\n",
       "      <td>ITA</td>\n",
       "      <td>454.0</td>\n",
       "      <td>518.0</td>\n",
       "      <td>474.0</td>\n",
       "    </tr>\n",
       "    <tr>\n",
       "      <th>...</th>\n",
       "      <td>...</td>\n",
       "      <td>...</td>\n",
       "      <td>...</td>\n",
       "      <td>...</td>\n",
       "    </tr>\n",
       "    <tr>\n",
       "      <th>225</th>\n",
       "      <td>AHO</td>\n",
       "      <td>0.0</td>\n",
       "      <td>0.0</td>\n",
       "      <td>1.0</td>\n",
       "    </tr>\n",
       "    <tr>\n",
       "      <th>226</th>\n",
       "      <td>LBR</td>\n",
       "      <td>0.0</td>\n",
       "      <td>0.0</td>\n",
       "      <td>0.0</td>\n",
       "    </tr>\n",
       "    <tr>\n",
       "      <th>227</th>\n",
       "      <td>LCA</td>\n",
       "      <td>0.0</td>\n",
       "      <td>0.0</td>\n",
       "      <td>0.0</td>\n",
       "    </tr>\n",
       "    <tr>\n",
       "      <th>228</th>\n",
       "      <td>LES</td>\n",
       "      <td>0.0</td>\n",
       "      <td>0.0</td>\n",
       "      <td>0.0</td>\n",
       "    </tr>\n",
       "    <tr>\n",
       "      <th>229</th>\n",
       "      <td>LBA</td>\n",
       "      <td>0.0</td>\n",
       "      <td>0.0</td>\n",
       "      <td>0.0</td>\n",
       "    </tr>\n",
       "  </tbody>\n",
       "</table>\n",
       "<p>230 rows × 4 columns</p>\n",
       "</div>"
      ],
      "text/plain": [
       "     NOC  Bronze    Gold  Silver\n",
       "0    USA  1197.0  2472.0  1333.0\n",
       "1    URS   596.0   832.0   635.0\n",
       "2    GBR   620.0   635.0   729.0\n",
       "3    GER   649.0   592.0   538.0\n",
       "4    ITA   454.0   518.0   474.0\n",
       "..   ...     ...     ...     ...\n",
       "225  AHO     0.0     0.0     1.0\n",
       "226  LBR     0.0     0.0     0.0\n",
       "227  LCA     0.0     0.0     0.0\n",
       "228  LES     0.0     0.0     0.0\n",
       "229  LBA     0.0     0.0     0.0\n",
       "\n",
       "[230 rows x 4 columns]"
      ]
     },
     "execution_count": 259,
     "metadata": {},
     "output_type": "execute_result"
    }
   ],
   "source": [
    "summer_event.groupby(['NOC']).sum()[['Bronze','Gold','Silver']].sort_values('Gold',ascending=False).reset_index()"
   ]
  },
  {
   "cell_type": "markdown",
   "metadata": {},
   "source": [
    "The above values are wrong because it is calculation for every player. eg in hockey if india won Gold medel, as there are 12 players in a team it calculating 12 gold medel in hockey for India which is wrong there should be only 1 Gold medel listed for India."
   ]
  },
  {
   "cell_type": "code",
   "execution_count": 260,
   "metadata": {},
   "outputs": [],
   "source": [
    "medal_tally = summer_event.drop_duplicates(['Team','NOC','Games','Year','City','Sport','Event','Medal'])"
   ]
  },
  {
   "cell_type": "code",
   "execution_count": 261,
   "metadata": {},
   "outputs": [],
   "source": [
    "medal_tally = medal_tally.groupby(['region']).sum()[['Gold','Silver','Bronze']].sort_values('Gold',ascending=False).reset_index()"
   ]
  },
  {
   "cell_type": "code",
   "execution_count": 262,
   "metadata": {},
   "outputs": [],
   "source": [
    "medal_tally['Total'] = medal_tally['Gold'] + medal_tally['Silver'] + medal_tally['Bronze']"
   ]
  },
  {
   "cell_type": "code",
   "execution_count": 263,
   "metadata": {},
   "outputs": [
    {
     "data": {
      "text/html": [
       "<div>\n",
       "<style scoped>\n",
       "    .dataframe tbody tr th:only-of-type {\n",
       "        vertical-align: middle;\n",
       "    }\n",
       "\n",
       "    .dataframe tbody tr th {\n",
       "        vertical-align: top;\n",
       "    }\n",
       "\n",
       "    .dataframe thead th {\n",
       "        text-align: right;\n",
       "    }\n",
       "</style>\n",
       "<table border=\"1\" class=\"dataframe\">\n",
       "  <thead>\n",
       "    <tr style=\"text-align: right;\">\n",
       "      <th></th>\n",
       "      <th>region</th>\n",
       "      <th>Gold</th>\n",
       "      <th>Silver</th>\n",
       "      <th>Bronze</th>\n",
       "      <th>Total</th>\n",
       "    </tr>\n",
       "  </thead>\n",
       "  <tbody>\n",
       "    <tr>\n",
       "      <th>46</th>\n",
       "      <td>India</td>\n",
       "      <td>9.0</td>\n",
       "      <td>7.0</td>\n",
       "      <td>12.0</td>\n",
       "      <td>28.0</td>\n",
       "    </tr>\n",
       "  </tbody>\n",
       "</table>\n",
       "</div>"
      ],
      "text/plain": [
       "   region  Gold  Silver  Bronze  Total\n",
       "46  India   9.0     7.0    12.0   28.0"
      ]
     },
     "execution_count": 263,
     "metadata": {},
     "output_type": "execute_result"
    }
   ],
   "source": [
    "medal_tally[medal_tally[\"region\"]=='India']"
   ]
  },
  {
   "cell_type": "markdown",
   "metadata": {},
   "source": [
    "## Medal Tally"
   ]
  },
  {
   "cell_type": "code",
   "execution_count": 264,
   "metadata": {},
   "outputs": [
    {
     "data": {
      "text/html": [
       "<div>\n",
       "<style scoped>\n",
       "    .dataframe tbody tr th:only-of-type {\n",
       "        vertical-align: middle;\n",
       "    }\n",
       "\n",
       "    .dataframe tbody tr th {\n",
       "        vertical-align: top;\n",
       "    }\n",
       "\n",
       "    .dataframe thead th {\n",
       "        text-align: right;\n",
       "    }\n",
       "</style>\n",
       "<table border=\"1\" class=\"dataframe\">\n",
       "  <thead>\n",
       "    <tr style=\"text-align: right;\">\n",
       "      <th></th>\n",
       "      <th>region</th>\n",
       "      <th>Gold</th>\n",
       "      <th>Silver</th>\n",
       "      <th>Bronze</th>\n",
       "      <th>Total</th>\n",
       "    </tr>\n",
       "  </thead>\n",
       "  <tbody>\n",
       "    <tr>\n",
       "      <th>0</th>\n",
       "      <td>USA</td>\n",
       "      <td>1035.0</td>\n",
       "      <td>802.0</td>\n",
       "      <td>708.0</td>\n",
       "      <td>2545.0</td>\n",
       "    </tr>\n",
       "    <tr>\n",
       "      <th>1</th>\n",
       "      <td>Russia</td>\n",
       "      <td>592.0</td>\n",
       "      <td>498.0</td>\n",
       "      <td>487.0</td>\n",
       "      <td>1577.0</td>\n",
       "    </tr>\n",
       "    <tr>\n",
       "      <th>2</th>\n",
       "      <td>Germany</td>\n",
       "      <td>444.0</td>\n",
       "      <td>457.0</td>\n",
       "      <td>491.0</td>\n",
       "      <td>1392.0</td>\n",
       "    </tr>\n",
       "    <tr>\n",
       "      <th>3</th>\n",
       "      <td>UK</td>\n",
       "      <td>278.0</td>\n",
       "      <td>317.0</td>\n",
       "      <td>300.0</td>\n",
       "      <td>895.0</td>\n",
       "    </tr>\n",
       "    <tr>\n",
       "      <th>4</th>\n",
       "      <td>France</td>\n",
       "      <td>234.0</td>\n",
       "      <td>256.0</td>\n",
       "      <td>287.0</td>\n",
       "      <td>777.0</td>\n",
       "    </tr>\n",
       "    <tr>\n",
       "      <th>...</th>\n",
       "      <td>...</td>\n",
       "      <td>...</td>\n",
       "      <td>...</td>\n",
       "      <td>...</td>\n",
       "      <td>...</td>\n",
       "    </tr>\n",
       "    <tr>\n",
       "      <th>200</th>\n",
       "      <td>Lesotho</td>\n",
       "      <td>0.0</td>\n",
       "      <td>0.0</td>\n",
       "      <td>0.0</td>\n",
       "      <td>0.0</td>\n",
       "    </tr>\n",
       "    <tr>\n",
       "      <th>201</th>\n",
       "      <td>Albania</td>\n",
       "      <td>0.0</td>\n",
       "      <td>0.0</td>\n",
       "      <td>0.0</td>\n",
       "      <td>0.0</td>\n",
       "    </tr>\n",
       "    <tr>\n",
       "      <th>202</th>\n",
       "      <td>Libya</td>\n",
       "      <td>0.0</td>\n",
       "      <td>0.0</td>\n",
       "      <td>0.0</td>\n",
       "      <td>0.0</td>\n",
       "    </tr>\n",
       "    <tr>\n",
       "      <th>203</th>\n",
       "      <td>Liechtenstein</td>\n",
       "      <td>0.0</td>\n",
       "      <td>0.0</td>\n",
       "      <td>0.0</td>\n",
       "      <td>0.0</td>\n",
       "    </tr>\n",
       "    <tr>\n",
       "      <th>204</th>\n",
       "      <td>Liberia</td>\n",
       "      <td>0.0</td>\n",
       "      <td>0.0</td>\n",
       "      <td>0.0</td>\n",
       "      <td>0.0</td>\n",
       "    </tr>\n",
       "  </tbody>\n",
       "</table>\n",
       "<p>205 rows × 5 columns</p>\n",
       "</div>"
      ],
      "text/plain": [
       "            region    Gold  Silver  Bronze   Total\n",
       "0              USA  1035.0   802.0   708.0  2545.0\n",
       "1           Russia   592.0   498.0   487.0  1577.0\n",
       "2          Germany   444.0   457.0   491.0  1392.0\n",
       "3               UK   278.0   317.0   300.0   895.0\n",
       "4           France   234.0   256.0   287.0   777.0\n",
       "..             ...     ...     ...     ...     ...\n",
       "200        Lesotho     0.0     0.0     0.0     0.0\n",
       "201        Albania     0.0     0.0     0.0     0.0\n",
       "202          Libya     0.0     0.0     0.0     0.0\n",
       "203  Liechtenstein     0.0     0.0     0.0     0.0\n",
       "204        Liberia     0.0     0.0     0.0     0.0\n",
       "\n",
       "[205 rows x 5 columns]"
      ]
     },
     "execution_count": 264,
     "metadata": {},
     "output_type": "execute_result"
    }
   ],
   "source": [
    "medal_tally"
   ]
  },
  {
   "cell_type": "markdown",
   "metadata": {},
   "source": [
    "## Years"
   ]
  },
  {
   "cell_type": "code",
   "execution_count": 265,
   "metadata": {},
   "outputs": [],
   "source": [
    "Years = event['Year'].unique().tolist()"
   ]
  },
  {
   "cell_type": "code",
   "execution_count": 266,
   "metadata": {},
   "outputs": [],
   "source": [
    "Years.sort()"
   ]
  },
  {
   "cell_type": "code",
   "execution_count": 267,
   "metadata": {},
   "outputs": [],
   "source": [
    "Years.insert(0,'Overall')"
   ]
  },
  {
   "cell_type": "code",
   "execution_count": 268,
   "metadata": {},
   "outputs": [
    {
     "data": {
      "text/plain": [
       "['Overall',\n",
       " 1896,\n",
       " 1900,\n",
       " 1904,\n",
       " 1906,\n",
       " 1908,\n",
       " 1912,\n",
       " 1920,\n",
       " 1924,\n",
       " 1928,\n",
       " 1932,\n",
       " 1936,\n",
       " 1948,\n",
       " 1952,\n",
       " 1956,\n",
       " 1960,\n",
       " 1964,\n",
       " 1968,\n",
       " 1972,\n",
       " 1976,\n",
       " 1980,\n",
       " 1984,\n",
       " 1988,\n",
       " 1992,\n",
       " 1994,\n",
       " 1996,\n",
       " 1998,\n",
       " 2000,\n",
       " 2002,\n",
       " 2004,\n",
       " 2006,\n",
       " 2008,\n",
       " 2010,\n",
       " 2012,\n",
       " 2014,\n",
       " 2016]"
      ]
     },
     "execution_count": 268,
     "metadata": {},
     "output_type": "execute_result"
    }
   ],
   "source": [
    "Years"
   ]
  },
  {
   "cell_type": "markdown",
   "metadata": {},
   "source": [
    "## Country"
   ]
  },
  {
   "cell_type": "code",
   "execution_count": 269,
   "metadata": {},
   "outputs": [],
   "source": [
    "import numpy as np\n",
    "Country = np.unique(region['region'].dropna().values).tolist()"
   ]
  },
  {
   "cell_type": "code",
   "execution_count": 270,
   "metadata": {},
   "outputs": [],
   "source": [
    "Country.sort()"
   ]
  },
  {
   "cell_type": "code",
   "execution_count": 271,
   "metadata": {},
   "outputs": [],
   "source": [
    "Country.insert(0,'Overall')"
   ]
  },
  {
   "cell_type": "code",
   "execution_count": 272,
   "metadata": {
    "scrolled": true
   },
   "outputs": [
    {
     "data": {
      "text/plain": [
       "['Overall',\n",
       " 'Afghanistan',\n",
       " 'Albania',\n",
       " 'Algeria',\n",
       " 'American Samoa',\n",
       " 'Andorra',\n",
       " 'Angola',\n",
       " 'Antigua',\n",
       " 'Argentina',\n",
       " 'Armenia',\n",
       " 'Aruba',\n",
       " 'Australia',\n",
       " 'Austria',\n",
       " 'Azerbaijan',\n",
       " 'Bahamas',\n",
       " 'Bahrain',\n",
       " 'Bangladesh',\n",
       " 'Barbados',\n",
       " 'Belarus',\n",
       " 'Belgium',\n",
       " 'Belize',\n",
       " 'Benin',\n",
       " 'Bermuda',\n",
       " 'Bhutan',\n",
       " 'Boliva',\n",
       " 'Bosnia and Herzegovina',\n",
       " 'Botswana',\n",
       " 'Brazil',\n",
       " 'Brunei',\n",
       " 'Bulgaria',\n",
       " 'Burkina Faso',\n",
       " 'Burundi',\n",
       " 'Cambodia',\n",
       " 'Cameroon',\n",
       " 'Canada',\n",
       " 'Cape Verde',\n",
       " 'Cayman Islands',\n",
       " 'Central African Republic',\n",
       " 'Chad',\n",
       " 'Chile',\n",
       " 'China',\n",
       " 'Colombia',\n",
       " 'Comoros',\n",
       " 'Cook Islands',\n",
       " 'Costa Rica',\n",
       " 'Croatia',\n",
       " 'Cuba',\n",
       " 'Curacao',\n",
       " 'Cyprus',\n",
       " 'Czech Republic',\n",
       " 'Democratic Republic of the Congo',\n",
       " 'Denmark',\n",
       " 'Djibouti',\n",
       " 'Dominica',\n",
       " 'Dominican Republic',\n",
       " 'Ecuador',\n",
       " 'Egypt',\n",
       " 'El Salvador',\n",
       " 'Equatorial Guinea',\n",
       " 'Eritrea',\n",
       " 'Estonia',\n",
       " 'Ethiopia',\n",
       " 'Fiji',\n",
       " 'Finland',\n",
       " 'France',\n",
       " 'Gabon',\n",
       " 'Gambia',\n",
       " 'Georgia',\n",
       " 'Germany',\n",
       " 'Ghana',\n",
       " 'Greece',\n",
       " 'Grenada',\n",
       " 'Guam',\n",
       " 'Guatemala',\n",
       " 'Guinea',\n",
       " 'Guinea-Bissau',\n",
       " 'Guyana',\n",
       " 'Haiti',\n",
       " 'Honduras',\n",
       " 'Hungary',\n",
       " 'Iceland',\n",
       " 'India',\n",
       " 'Individual Olympic Athletes',\n",
       " 'Indonesia',\n",
       " 'Iran',\n",
       " 'Iraq',\n",
       " 'Ireland',\n",
       " 'Israel',\n",
       " 'Italy',\n",
       " 'Ivory Coast',\n",
       " 'Jamaica',\n",
       " 'Japan',\n",
       " 'Jordan',\n",
       " 'Kazakhstan',\n",
       " 'Kenya',\n",
       " 'Kiribati',\n",
       " 'Kosovo',\n",
       " 'Kuwait',\n",
       " 'Kyrgyzstan',\n",
       " 'Laos',\n",
       " 'Latvia',\n",
       " 'Lebanon',\n",
       " 'Lesotho',\n",
       " 'Liberia',\n",
       " 'Libya',\n",
       " 'Liechtenstein',\n",
       " 'Lithuania',\n",
       " 'Luxembourg',\n",
       " 'Macedonia',\n",
       " 'Madagascar',\n",
       " 'Malawi',\n",
       " 'Malaysia',\n",
       " 'Maldives',\n",
       " 'Mali',\n",
       " 'Malta',\n",
       " 'Marshall Islands',\n",
       " 'Mauritania',\n",
       " 'Mauritius',\n",
       " 'Mexico',\n",
       " 'Micronesia',\n",
       " 'Moldova',\n",
       " 'Monaco',\n",
       " 'Mongolia',\n",
       " 'Montenegro',\n",
       " 'Morocco',\n",
       " 'Mozambique',\n",
       " 'Myanmar',\n",
       " 'Namibia',\n",
       " 'Nauru',\n",
       " 'Nepal',\n",
       " 'Netherlands',\n",
       " 'New Zealand',\n",
       " 'Nicaragua',\n",
       " 'Niger',\n",
       " 'Nigeria',\n",
       " 'North Korea',\n",
       " 'Norway',\n",
       " 'Oman',\n",
       " 'Pakistan',\n",
       " 'Palau',\n",
       " 'Palestine',\n",
       " 'Panama',\n",
       " 'Papua New Guinea',\n",
       " 'Paraguay',\n",
       " 'Peru',\n",
       " 'Philippines',\n",
       " 'Poland',\n",
       " 'Portugal',\n",
       " 'Puerto Rico',\n",
       " 'Qatar',\n",
       " 'Republic of Congo',\n",
       " 'Romania',\n",
       " 'Russia',\n",
       " 'Rwanda',\n",
       " 'Saint Kitts',\n",
       " 'Saint Lucia',\n",
       " 'Saint Vincent',\n",
       " 'Samoa',\n",
       " 'San Marino',\n",
       " 'Sao Tome and Principe',\n",
       " 'Saudi Arabia',\n",
       " 'Senegal',\n",
       " 'Serbia',\n",
       " 'Seychelles',\n",
       " 'Sierra Leone',\n",
       " 'Singapore',\n",
       " 'Slovakia',\n",
       " 'Slovenia',\n",
       " 'Solomon Islands',\n",
       " 'Somalia',\n",
       " 'South Africa',\n",
       " 'South Korea',\n",
       " 'South Sudan',\n",
       " 'Spain',\n",
       " 'Sri Lanka',\n",
       " 'Sudan',\n",
       " 'Suriname',\n",
       " 'Swaziland',\n",
       " 'Sweden',\n",
       " 'Switzerland',\n",
       " 'Syria',\n",
       " 'Taiwan',\n",
       " 'Tajikistan',\n",
       " 'Tanzania',\n",
       " 'Thailand',\n",
       " 'Timor-Leste',\n",
       " 'Togo',\n",
       " 'Tonga',\n",
       " 'Trinidad',\n",
       " 'Tunisia',\n",
       " 'Turkey',\n",
       " 'Turkmenistan',\n",
       " 'UK',\n",
       " 'USA',\n",
       " 'Uganda',\n",
       " 'Ukraine',\n",
       " 'United Arab Emirates',\n",
       " 'Uruguay',\n",
       " 'Uzbekistan',\n",
       " 'Vanuatu',\n",
       " 'Venezuela',\n",
       " 'Vietnam',\n",
       " 'Virgin Islands, British',\n",
       " 'Virgin Islands, US',\n",
       " 'Yemen',\n",
       " 'Zambia',\n",
       " 'Zimbabwe']"
      ]
     },
     "execution_count": 272,
     "metadata": {},
     "output_type": "execute_result"
    }
   ],
   "source": [
    "Country"
   ]
  },
  {
   "cell_type": "markdown",
   "metadata": {},
   "source": [
    "   "
   ]
  },
  {
   "cell_type": "code",
   "execution_count": 273,
   "metadata": {},
   "outputs": [],
   "source": [
    "medal_df = summer_event.drop_duplicates(['Team','NOC','Games','Year','City','Sport','Event','Medal'])"
   ]
  },
  {
   "cell_type": "code",
   "execution_count": 274,
   "metadata": {
    "scrolled": true
   },
   "outputs": [
    {
     "data": {
      "text/html": [
       "<div>\n",
       "<style scoped>\n",
       "    .dataframe tbody tr th:only-of-type {\n",
       "        vertical-align: middle;\n",
       "    }\n",
       "\n",
       "    .dataframe tbody tr th {\n",
       "        vertical-align: top;\n",
       "    }\n",
       "\n",
       "    .dataframe thead th {\n",
       "        text-align: right;\n",
       "    }\n",
       "</style>\n",
       "<table border=\"1\" class=\"dataframe\">\n",
       "  <thead>\n",
       "    <tr style=\"text-align: right;\">\n",
       "      <th></th>\n",
       "      <th>ID</th>\n",
       "      <th>Name</th>\n",
       "      <th>Sex</th>\n",
       "      <th>Age</th>\n",
       "      <th>Height</th>\n",
       "      <th>Weight</th>\n",
       "      <th>Team</th>\n",
       "      <th>NOC</th>\n",
       "      <th>Games</th>\n",
       "      <th>Year</th>\n",
       "      <th>Season</th>\n",
       "      <th>City</th>\n",
       "      <th>Sport</th>\n",
       "      <th>Event</th>\n",
       "      <th>Medal</th>\n",
       "      <th>region</th>\n",
       "      <th>notes</th>\n",
       "      <th>Bronze</th>\n",
       "      <th>Gold</th>\n",
       "      <th>Silver</th>\n",
       "    </tr>\n",
       "  </thead>\n",
       "  <tbody>\n",
       "    <tr>\n",
       "      <th>0</th>\n",
       "      <td>1</td>\n",
       "      <td>A Dijiang</td>\n",
       "      <td>M</td>\n",
       "      <td>24.0</td>\n",
       "      <td>180.0</td>\n",
       "      <td>80.0</td>\n",
       "      <td>China</td>\n",
       "      <td>CHN</td>\n",
       "      <td>1992 Summer</td>\n",
       "      <td>1992</td>\n",
       "      <td>Summer</td>\n",
       "      <td>Barcelona</td>\n",
       "      <td>Basketball</td>\n",
       "      <td>Basketball Men's Basketball</td>\n",
       "      <td>NaN</td>\n",
       "      <td>China</td>\n",
       "      <td>NaN</td>\n",
       "      <td>0</td>\n",
       "      <td>0</td>\n",
       "      <td>0</td>\n",
       "    </tr>\n",
       "    <tr>\n",
       "      <th>1</th>\n",
       "      <td>2</td>\n",
       "      <td>A Lamusi</td>\n",
       "      <td>M</td>\n",
       "      <td>23.0</td>\n",
       "      <td>170.0</td>\n",
       "      <td>60.0</td>\n",
       "      <td>China</td>\n",
       "      <td>CHN</td>\n",
       "      <td>2012 Summer</td>\n",
       "      <td>2012</td>\n",
       "      <td>Summer</td>\n",
       "      <td>London</td>\n",
       "      <td>Judo</td>\n",
       "      <td>Judo Men's Extra-Lightweight</td>\n",
       "      <td>NaN</td>\n",
       "      <td>China</td>\n",
       "      <td>NaN</td>\n",
       "      <td>0</td>\n",
       "      <td>0</td>\n",
       "      <td>0</td>\n",
       "    </tr>\n",
       "    <tr>\n",
       "      <th>2</th>\n",
       "      <td>3</td>\n",
       "      <td>Gunnar Nielsen Aaby</td>\n",
       "      <td>M</td>\n",
       "      <td>24.0</td>\n",
       "      <td>NaN</td>\n",
       "      <td>NaN</td>\n",
       "      <td>Denmark</td>\n",
       "      <td>DEN</td>\n",
       "      <td>1920 Summer</td>\n",
       "      <td>1920</td>\n",
       "      <td>Summer</td>\n",
       "      <td>Antwerpen</td>\n",
       "      <td>Football</td>\n",
       "      <td>Football Men's Football</td>\n",
       "      <td>NaN</td>\n",
       "      <td>Denmark</td>\n",
       "      <td>NaN</td>\n",
       "      <td>0</td>\n",
       "      <td>0</td>\n",
       "      <td>0</td>\n",
       "    </tr>\n",
       "    <tr>\n",
       "      <th>3</th>\n",
       "      <td>4</td>\n",
       "      <td>Edgar Lindenau Aabye</td>\n",
       "      <td>M</td>\n",
       "      <td>34.0</td>\n",
       "      <td>NaN</td>\n",
       "      <td>NaN</td>\n",
       "      <td>Denmark/Sweden</td>\n",
       "      <td>DEN</td>\n",
       "      <td>1900 Summer</td>\n",
       "      <td>1900</td>\n",
       "      <td>Summer</td>\n",
       "      <td>Paris</td>\n",
       "      <td>Tug-Of-War</td>\n",
       "      <td>Tug-Of-War Men's Tug-Of-War</td>\n",
       "      <td>Gold</td>\n",
       "      <td>Denmark</td>\n",
       "      <td>NaN</td>\n",
       "      <td>0</td>\n",
       "      <td>1</td>\n",
       "      <td>0</td>\n",
       "    </tr>\n",
       "    <tr>\n",
       "      <th>4</th>\n",
       "      <td>8</td>\n",
       "      <td>Cornelia \"Cor\" Aalten (-Strannood)</td>\n",
       "      <td>F</td>\n",
       "      <td>18.0</td>\n",
       "      <td>168.0</td>\n",
       "      <td>NaN</td>\n",
       "      <td>Netherlands</td>\n",
       "      <td>NED</td>\n",
       "      <td>1932 Summer</td>\n",
       "      <td>1932</td>\n",
       "      <td>Summer</td>\n",
       "      <td>Los Angeles</td>\n",
       "      <td>Athletics</td>\n",
       "      <td>Athletics Women's 100 metres</td>\n",
       "      <td>NaN</td>\n",
       "      <td>Netherlands</td>\n",
       "      <td>NaN</td>\n",
       "      <td>0</td>\n",
       "      <td>0</td>\n",
       "      <td>0</td>\n",
       "    </tr>\n",
       "    <tr>\n",
       "      <th>...</th>\n",
       "      <td>...</td>\n",
       "      <td>...</td>\n",
       "      <td>...</td>\n",
       "      <td>...</td>\n",
       "      <td>...</td>\n",
       "      <td>...</td>\n",
       "      <td>...</td>\n",
       "      <td>...</td>\n",
       "      <td>...</td>\n",
       "      <td>...</td>\n",
       "      <td>...</td>\n",
       "      <td>...</td>\n",
       "      <td>...</td>\n",
       "      <td>...</td>\n",
       "      <td>...</td>\n",
       "      <td>...</td>\n",
       "      <td>...</td>\n",
       "      <td>...</td>\n",
       "      <td>...</td>\n",
       "      <td>...</td>\n",
       "    </tr>\n",
       "    <tr>\n",
       "      <th>222528</th>\n",
       "      <td>135553</td>\n",
       "      <td>Galina Ivanovna Zybina (-Fyodorova)</td>\n",
       "      <td>F</td>\n",
       "      <td>25.0</td>\n",
       "      <td>168.0</td>\n",
       "      <td>80.0</td>\n",
       "      <td>Soviet Union</td>\n",
       "      <td>URS</td>\n",
       "      <td>1956 Summer</td>\n",
       "      <td>1956</td>\n",
       "      <td>Summer</td>\n",
       "      <td>Melbourne</td>\n",
       "      <td>Athletics</td>\n",
       "      <td>Athletics Women's Shot Put</td>\n",
       "      <td>Silver</td>\n",
       "      <td>Russia</td>\n",
       "      <td>NaN</td>\n",
       "      <td>0</td>\n",
       "      <td>0</td>\n",
       "      <td>1</td>\n",
       "    </tr>\n",
       "    <tr>\n",
       "      <th>222530</th>\n",
       "      <td>135553</td>\n",
       "      <td>Galina Ivanovna Zybina (-Fyodorova)</td>\n",
       "      <td>F</td>\n",
       "      <td>33.0</td>\n",
       "      <td>168.0</td>\n",
       "      <td>80.0</td>\n",
       "      <td>Soviet Union</td>\n",
       "      <td>URS</td>\n",
       "      <td>1964 Summer</td>\n",
       "      <td>1964</td>\n",
       "      <td>Summer</td>\n",
       "      <td>Tokyo</td>\n",
       "      <td>Athletics</td>\n",
       "      <td>Athletics Women's Shot Put</td>\n",
       "      <td>Bronze</td>\n",
       "      <td>Russia</td>\n",
       "      <td>NaN</td>\n",
       "      <td>1</td>\n",
       "      <td>0</td>\n",
       "      <td>0</td>\n",
       "    </tr>\n",
       "    <tr>\n",
       "      <th>222536</th>\n",
       "      <td>135556</td>\n",
       "      <td>Bogusaw Stanisaw Zychowicz</td>\n",
       "      <td>M</td>\n",
       "      <td>19.0</td>\n",
       "      <td>189.0</td>\n",
       "      <td>80.0</td>\n",
       "      <td>Poland</td>\n",
       "      <td>POL</td>\n",
       "      <td>1980 Summer</td>\n",
       "      <td>1980</td>\n",
       "      <td>Summer</td>\n",
       "      <td>Moskva</td>\n",
       "      <td>Swimming</td>\n",
       "      <td>Swimming Men's 100 metres Butterfly</td>\n",
       "      <td>NaN</td>\n",
       "      <td>Poland</td>\n",
       "      <td>NaN</td>\n",
       "      <td>0</td>\n",
       "      <td>0</td>\n",
       "      <td>0</td>\n",
       "    </tr>\n",
       "    <tr>\n",
       "      <th>222537</th>\n",
       "      <td>135556</td>\n",
       "      <td>Bogusaw Stanisaw Zychowicz</td>\n",
       "      <td>M</td>\n",
       "      <td>19.0</td>\n",
       "      <td>189.0</td>\n",
       "      <td>80.0</td>\n",
       "      <td>Poland</td>\n",
       "      <td>POL</td>\n",
       "      <td>1980 Summer</td>\n",
       "      <td>1980</td>\n",
       "      <td>Summer</td>\n",
       "      <td>Moskva</td>\n",
       "      <td>Swimming</td>\n",
       "      <td>Swimming Men's 200 metres Butterfly</td>\n",
       "      <td>NaN</td>\n",
       "      <td>Poland</td>\n",
       "      <td>NaN</td>\n",
       "      <td>0</td>\n",
       "      <td>0</td>\n",
       "      <td>0</td>\n",
       "    </tr>\n",
       "    <tr>\n",
       "      <th>222541</th>\n",
       "      <td>135560</td>\n",
       "      <td>Stavroula Zygouri</td>\n",
       "      <td>F</td>\n",
       "      <td>36.0</td>\n",
       "      <td>171.0</td>\n",
       "      <td>63.0</td>\n",
       "      <td>Greece</td>\n",
       "      <td>GRE</td>\n",
       "      <td>2004 Summer</td>\n",
       "      <td>2004</td>\n",
       "      <td>Summer</td>\n",
       "      <td>Athina</td>\n",
       "      <td>Wrestling</td>\n",
       "      <td>Wrestling Women's Middleweight, Freestyle</td>\n",
       "      <td>NaN</td>\n",
       "      <td>Greece</td>\n",
       "      <td>NaN</td>\n",
       "      <td>0</td>\n",
       "      <td>0</td>\n",
       "      <td>0</td>\n",
       "    </tr>\n",
       "  </tbody>\n",
       "</table>\n",
       "<p>105636 rows × 20 columns</p>\n",
       "</div>"
      ],
      "text/plain": [
       "            ID                                 Name Sex   Age  Height  Weight  \\\n",
       "0            1                            A Dijiang   M  24.0   180.0    80.0   \n",
       "1            2                             A Lamusi   M  23.0   170.0    60.0   \n",
       "2            3                  Gunnar Nielsen Aaby   M  24.0     NaN     NaN   \n",
       "3            4                 Edgar Lindenau Aabye   M  34.0     NaN     NaN   \n",
       "4            8   Cornelia \"Cor\" Aalten (-Strannood)   F  18.0   168.0     NaN   \n",
       "...        ...                                  ...  ..   ...     ...     ...   \n",
       "222528  135553  Galina Ivanovna Zybina (-Fyodorova)   F  25.0   168.0    80.0   \n",
       "222530  135553  Galina Ivanovna Zybina (-Fyodorova)   F  33.0   168.0    80.0   \n",
       "222536  135556           Bogusaw Stanisaw Zychowicz   M  19.0   189.0    80.0   \n",
       "222537  135556           Bogusaw Stanisaw Zychowicz   M  19.0   189.0    80.0   \n",
       "222541  135560                    Stavroula Zygouri   F  36.0   171.0    63.0   \n",
       "\n",
       "                  Team  NOC        Games  Year  Season         City  \\\n",
       "0                China  CHN  1992 Summer  1992  Summer    Barcelona   \n",
       "1                China  CHN  2012 Summer  2012  Summer       London   \n",
       "2              Denmark  DEN  1920 Summer  1920  Summer    Antwerpen   \n",
       "3       Denmark/Sweden  DEN  1900 Summer  1900  Summer        Paris   \n",
       "4          Netherlands  NED  1932 Summer  1932  Summer  Los Angeles   \n",
       "...                ...  ...          ...   ...     ...          ...   \n",
       "222528    Soviet Union  URS  1956 Summer  1956  Summer    Melbourne   \n",
       "222530    Soviet Union  URS  1964 Summer  1964  Summer        Tokyo   \n",
       "222536          Poland  POL  1980 Summer  1980  Summer       Moskva   \n",
       "222537          Poland  POL  1980 Summer  1980  Summer       Moskva   \n",
       "222541          Greece  GRE  2004 Summer  2004  Summer       Athina   \n",
       "\n",
       "             Sport                                      Event   Medal  \\\n",
       "0       Basketball                Basketball Men's Basketball     NaN   \n",
       "1             Judo               Judo Men's Extra-Lightweight     NaN   \n",
       "2         Football                    Football Men's Football     NaN   \n",
       "3       Tug-Of-War                Tug-Of-War Men's Tug-Of-War    Gold   \n",
       "4        Athletics               Athletics Women's 100 metres     NaN   \n",
       "...            ...                                        ...     ...   \n",
       "222528   Athletics                 Athletics Women's Shot Put  Silver   \n",
       "222530   Athletics                 Athletics Women's Shot Put  Bronze   \n",
       "222536    Swimming        Swimming Men's 100 metres Butterfly     NaN   \n",
       "222537    Swimming        Swimming Men's 200 metres Butterfly     NaN   \n",
       "222541   Wrestling  Wrestling Women's Middleweight, Freestyle     NaN   \n",
       "\n",
       "             region notes  Bronze  Gold  Silver  \n",
       "0             China   NaN       0     0       0  \n",
       "1             China   NaN       0     0       0  \n",
       "2           Denmark   NaN       0     0       0  \n",
       "3           Denmark   NaN       0     1       0  \n",
       "4       Netherlands   NaN       0     0       0  \n",
       "...             ...   ...     ...   ...     ...  \n",
       "222528       Russia   NaN       0     0       1  \n",
       "222530       Russia   NaN       1     0       0  \n",
       "222536       Poland   NaN       0     0       0  \n",
       "222537       Poland   NaN       0     0       0  \n",
       "222541       Greece   NaN       0     0       0  \n",
       "\n",
       "[105636 rows x 20 columns]"
      ]
     },
     "execution_count": 274,
     "metadata": {},
     "output_type": "execute_result"
    }
   ],
   "source": [
    "medal_df"
   ]
  },
  {
   "cell_type": "code",
   "execution_count": 275,
   "metadata": {
    "scrolled": true
   },
   "outputs": [
    {
     "data": {
      "text/html": [
       "<div>\n",
       "<style scoped>\n",
       "    .dataframe tbody tr th:only-of-type {\n",
       "        vertical-align: middle;\n",
       "    }\n",
       "\n",
       "    .dataframe tbody tr th {\n",
       "        vertical-align: top;\n",
       "    }\n",
       "\n",
       "    .dataframe thead th {\n",
       "        text-align: right;\n",
       "    }\n",
       "</style>\n",
       "<table border=\"1\" class=\"dataframe\">\n",
       "  <thead>\n",
       "    <tr style=\"text-align: right;\">\n",
       "      <th></th>\n",
       "      <th>ID</th>\n",
       "      <th>Name</th>\n",
       "      <th>Sex</th>\n",
       "      <th>Age</th>\n",
       "      <th>Height</th>\n",
       "      <th>Weight</th>\n",
       "      <th>Team</th>\n",
       "      <th>NOC</th>\n",
       "      <th>Games</th>\n",
       "      <th>Year</th>\n",
       "      <th>Season</th>\n",
       "      <th>City</th>\n",
       "      <th>Sport</th>\n",
       "      <th>Event</th>\n",
       "      <th>Medal</th>\n",
       "      <th>region</th>\n",
       "      <th>notes</th>\n",
       "      <th>Bronze</th>\n",
       "      <th>Gold</th>\n",
       "      <th>Silver</th>\n",
       "    </tr>\n",
       "  </thead>\n",
       "  <tbody>\n",
       "    <tr>\n",
       "      <th>1015</th>\n",
       "      <td>663</td>\n",
       "      <td>Sharath Kamal Achanta</td>\n",
       "      <td>M</td>\n",
       "      <td>34.0</td>\n",
       "      <td>186.0</td>\n",
       "      <td>85.0</td>\n",
       "      <td>India</td>\n",
       "      <td>IND</td>\n",
       "      <td>2016 Summer</td>\n",
       "      <td>2016</td>\n",
       "      <td>Summer</td>\n",
       "      <td>Rio de Janeiro</td>\n",
       "      <td>Table Tennis</td>\n",
       "      <td>Table Tennis Men's Singles</td>\n",
       "      <td>NaN</td>\n",
       "      <td>India</td>\n",
       "      <td>NaN</td>\n",
       "      <td>0</td>\n",
       "      <td>0</td>\n",
       "      <td>0</td>\n",
       "    </tr>\n",
       "    <tr>\n",
       "      <th>7065</th>\n",
       "      <td>4523</td>\n",
       "      <td>Seema Antil</td>\n",
       "      <td>F</td>\n",
       "      <td>33.0</td>\n",
       "      <td>182.0</td>\n",
       "      <td>92.0</td>\n",
       "      <td>India</td>\n",
       "      <td>IND</td>\n",
       "      <td>2016 Summer</td>\n",
       "      <td>2016</td>\n",
       "      <td>Summer</td>\n",
       "      <td>Rio de Janeiro</td>\n",
       "      <td>Athletics</td>\n",
       "      <td>Athletics Women's Discus Throw</td>\n",
       "      <td>NaN</td>\n",
       "      <td>India</td>\n",
       "      <td>NaN</td>\n",
       "      <td>0</td>\n",
       "      <td>0</td>\n",
       "      <td>0</td>\n",
       "    </tr>\n",
       "    <tr>\n",
       "      <th>8713</th>\n",
       "      <td>5562</td>\n",
       "      <td>Aditi Ashok</td>\n",
       "      <td>F</td>\n",
       "      <td>18.0</td>\n",
       "      <td>173.0</td>\n",
       "      <td>57.0</td>\n",
       "      <td>India</td>\n",
       "      <td>IND</td>\n",
       "      <td>2016 Summer</td>\n",
       "      <td>2016</td>\n",
       "      <td>Summer</td>\n",
       "      <td>Rio de Janeiro</td>\n",
       "      <td>Golf</td>\n",
       "      <td>Golf Women's Individual</td>\n",
       "      <td>NaN</td>\n",
       "      <td>India</td>\n",
       "      <td>NaN</td>\n",
       "      <td>0</td>\n",
       "      <td>0</td>\n",
       "      <td>0</td>\n",
       "    </tr>\n",
       "    <tr>\n",
       "      <th>9202</th>\n",
       "      <td>5868</td>\n",
       "      <td>Manu Attri</td>\n",
       "      <td>M</td>\n",
       "      <td>23.0</td>\n",
       "      <td>172.0</td>\n",
       "      <td>73.0</td>\n",
       "      <td>India</td>\n",
       "      <td>IND</td>\n",
       "      <td>2016 Summer</td>\n",
       "      <td>2016</td>\n",
       "      <td>Summer</td>\n",
       "      <td>Rio de Janeiro</td>\n",
       "      <td>Badminton</td>\n",
       "      <td>Badminton Men's Doubles</td>\n",
       "      <td>NaN</td>\n",
       "      <td>India</td>\n",
       "      <td>NaN</td>\n",
       "      <td>0</td>\n",
       "      <td>0</td>\n",
       "      <td>0</td>\n",
       "    </tr>\n",
       "    <tr>\n",
       "      <th>10070</th>\n",
       "      <td>6427</td>\n",
       "      <td>Lalita Shivaji Babar</td>\n",
       "      <td>F</td>\n",
       "      <td>27.0</td>\n",
       "      <td>166.0</td>\n",
       "      <td>50.0</td>\n",
       "      <td>India</td>\n",
       "      <td>IND</td>\n",
       "      <td>2016 Summer</td>\n",
       "      <td>2016</td>\n",
       "      <td>Summer</td>\n",
       "      <td>Rio de Janeiro</td>\n",
       "      <td>Athletics</td>\n",
       "      <td>Athletics Women's 3,000 metres Steeplechase</td>\n",
       "      <td>NaN</td>\n",
       "      <td>India</td>\n",
       "      <td>NaN</td>\n",
       "      <td>0</td>\n",
       "      <td>0</td>\n",
       "      <td>0</td>\n",
       "    </tr>\n",
       "    <tr>\n",
       "      <th>...</th>\n",
       "      <td>...</td>\n",
       "      <td>...</td>\n",
       "      <td>...</td>\n",
       "      <td>...</td>\n",
       "      <td>...</td>\n",
       "      <td>...</td>\n",
       "      <td>...</td>\n",
       "      <td>...</td>\n",
       "      <td>...</td>\n",
       "      <td>...</td>\n",
       "      <td>...</td>\n",
       "      <td>...</td>\n",
       "      <td>...</td>\n",
       "      <td>...</td>\n",
       "      <td>...</td>\n",
       "      <td>...</td>\n",
       "      <td>...</td>\n",
       "      <td>...</td>\n",
       "      <td>...</td>\n",
       "      <td>...</td>\n",
       "    </tr>\n",
       "    <tr>\n",
       "      <th>182260</th>\n",
       "      <td>111467</td>\n",
       "      <td>Sathish Kumar Sivalingam</td>\n",
       "      <td>M</td>\n",
       "      <td>24.0</td>\n",
       "      <td>175.0</td>\n",
       "      <td>77.0</td>\n",
       "      <td>India</td>\n",
       "      <td>IND</td>\n",
       "      <td>2016 Summer</td>\n",
       "      <td>2016</td>\n",
       "      <td>Summer</td>\n",
       "      <td>Rio de Janeiro</td>\n",
       "      <td>Weightlifting</td>\n",
       "      <td>Weightlifting Men's Middleweight</td>\n",
       "      <td>NaN</td>\n",
       "      <td>India</td>\n",
       "      <td>NaN</td>\n",
       "      <td>0</td>\n",
       "      <td>0</td>\n",
       "      <td>0</td>\n",
       "    </tr>\n",
       "    <tr>\n",
       "      <th>195568</th>\n",
       "      <td>119515</td>\n",
       "      <td>Shiva Thapa</td>\n",
       "      <td>M</td>\n",
       "      <td>22.0</td>\n",
       "      <td>169.0</td>\n",
       "      <td>56.0</td>\n",
       "      <td>India</td>\n",
       "      <td>IND</td>\n",
       "      <td>2016 Summer</td>\n",
       "      <td>2016</td>\n",
       "      <td>Summer</td>\n",
       "      <td>Rio de Janeiro</td>\n",
       "      <td>Boxing</td>\n",
       "      <td>Boxing Men's Bantamweight</td>\n",
       "      <td>NaN</td>\n",
       "      <td>India</td>\n",
       "      <td>NaN</td>\n",
       "      <td>0</td>\n",
       "      <td>0</td>\n",
       "      <td>0</td>\n",
       "    </tr>\n",
       "    <tr>\n",
       "      <th>198042</th>\n",
       "      <td>120871</td>\n",
       "      <td>Sandeep Tomar</td>\n",
       "      <td>M</td>\n",
       "      <td>25.0</td>\n",
       "      <td>168.0</td>\n",
       "      <td>61.0</td>\n",
       "      <td>India</td>\n",
       "      <td>IND</td>\n",
       "      <td>2016 Summer</td>\n",
       "      <td>2016</td>\n",
       "      <td>Summer</td>\n",
       "      <td>Rio de Janeiro</td>\n",
       "      <td>Wrestling</td>\n",
       "      <td>Wrestling Men's Featherweight, Freestyle</td>\n",
       "      <td>NaN</td>\n",
       "      <td>India</td>\n",
       "      <td>NaN</td>\n",
       "      <td>0</td>\n",
       "      <td>0</td>\n",
       "      <td>0</td>\n",
       "    </tr>\n",
       "    <tr>\n",
       "      <th>216942</th>\n",
       "      <td>132143</td>\n",
       "      <td>Vikas Krishan Yadav</td>\n",
       "      <td>M</td>\n",
       "      <td>24.0</td>\n",
       "      <td>177.0</td>\n",
       "      <td>69.0</td>\n",
       "      <td>India</td>\n",
       "      <td>IND</td>\n",
       "      <td>2016 Summer</td>\n",
       "      <td>2016</td>\n",
       "      <td>Summer</td>\n",
       "      <td>Rio de Janeiro</td>\n",
       "      <td>Boxing</td>\n",
       "      <td>Boxing Men's Middleweight</td>\n",
       "      <td>NaN</td>\n",
       "      <td>India</td>\n",
       "      <td>NaN</td>\n",
       "      <td>0</td>\n",
       "      <td>0</td>\n",
       "      <td>0</td>\n",
       "    </tr>\n",
       "    <tr>\n",
       "      <th>216985</th>\n",
       "      <td>132177</td>\n",
       "      <td>Mohammad Anas Yahiya</td>\n",
       "      <td>M</td>\n",
       "      <td>21.0</td>\n",
       "      <td>177.0</td>\n",
       "      <td>69.0</td>\n",
       "      <td>India</td>\n",
       "      <td>IND</td>\n",
       "      <td>2016 Summer</td>\n",
       "      <td>2016</td>\n",
       "      <td>Summer</td>\n",
       "      <td>Rio de Janeiro</td>\n",
       "      <td>Athletics</td>\n",
       "      <td>Athletics Men's 400 metres</td>\n",
       "      <td>NaN</td>\n",
       "      <td>India</td>\n",
       "      <td>NaN</td>\n",
       "      <td>0</td>\n",
       "      <td>0</td>\n",
       "      <td>0</td>\n",
       "    </tr>\n",
       "  </tbody>\n",
       "</table>\n",
       "<p>68 rows × 20 columns</p>\n",
       "</div>"
      ],
      "text/plain": [
       "            ID                      Name Sex   Age  Height  Weight   Team  \\\n",
       "1015       663     Sharath Kamal Achanta   M  34.0   186.0    85.0  India   \n",
       "7065      4523               Seema Antil   F  33.0   182.0    92.0  India   \n",
       "8713      5562               Aditi Ashok   F  18.0   173.0    57.0  India   \n",
       "9202      5868                Manu Attri   M  23.0   172.0    73.0  India   \n",
       "10070     6427      Lalita Shivaji Babar   F  27.0   166.0    50.0  India   \n",
       "...        ...                       ...  ..   ...     ...     ...    ...   \n",
       "182260  111467  Sathish Kumar Sivalingam   M  24.0   175.0    77.0  India   \n",
       "195568  119515               Shiva Thapa   M  22.0   169.0    56.0  India   \n",
       "198042  120871             Sandeep Tomar   M  25.0   168.0    61.0  India   \n",
       "216942  132143       Vikas Krishan Yadav   M  24.0   177.0    69.0  India   \n",
       "216985  132177      Mohammad Anas Yahiya   M  21.0   177.0    69.0  India   \n",
       "\n",
       "        NOC        Games  Year  Season            City          Sport  \\\n",
       "1015    IND  2016 Summer  2016  Summer  Rio de Janeiro   Table Tennis   \n",
       "7065    IND  2016 Summer  2016  Summer  Rio de Janeiro      Athletics   \n",
       "8713    IND  2016 Summer  2016  Summer  Rio de Janeiro           Golf   \n",
       "9202    IND  2016 Summer  2016  Summer  Rio de Janeiro      Badminton   \n",
       "10070   IND  2016 Summer  2016  Summer  Rio de Janeiro      Athletics   \n",
       "...     ...          ...   ...     ...             ...            ...   \n",
       "182260  IND  2016 Summer  2016  Summer  Rio de Janeiro  Weightlifting   \n",
       "195568  IND  2016 Summer  2016  Summer  Rio de Janeiro         Boxing   \n",
       "198042  IND  2016 Summer  2016  Summer  Rio de Janeiro      Wrestling   \n",
       "216942  IND  2016 Summer  2016  Summer  Rio de Janeiro         Boxing   \n",
       "216985  IND  2016 Summer  2016  Summer  Rio de Janeiro      Athletics   \n",
       "\n",
       "                                              Event Medal region notes  \\\n",
       "1015                     Table Tennis Men's Singles   NaN  India   NaN   \n",
       "7065                 Athletics Women's Discus Throw   NaN  India   NaN   \n",
       "8713                        Golf Women's Individual   NaN  India   NaN   \n",
       "9202                        Badminton Men's Doubles   NaN  India   NaN   \n",
       "10070   Athletics Women's 3,000 metres Steeplechase   NaN  India   NaN   \n",
       "...                                             ...   ...    ...   ...   \n",
       "182260             Weightlifting Men's Middleweight   NaN  India   NaN   \n",
       "195568                    Boxing Men's Bantamweight   NaN  India   NaN   \n",
       "198042     Wrestling Men's Featherweight, Freestyle   NaN  India   NaN   \n",
       "216942                    Boxing Men's Middleweight   NaN  India   NaN   \n",
       "216985                   Athletics Men's 400 metres   NaN  India   NaN   \n",
       "\n",
       "        Bronze  Gold  Silver  \n",
       "1015         0     0       0  \n",
       "7065         0     0       0  \n",
       "8713         0     0       0  \n",
       "9202         0     0       0  \n",
       "10070        0     0       0  \n",
       "...        ...   ...     ...  \n",
       "182260       0     0       0  \n",
       "195568       0     0       0  \n",
       "198042       0     0       0  \n",
       "216942       0     0       0  \n",
       "216985       0     0       0  \n",
       "\n",
       "[68 rows x 20 columns]"
      ]
     },
     "execution_count": 275,
     "metadata": {},
     "output_type": "execute_result"
    }
   ],
   "source": [
    "medal_df[(medal_df['region'] == 'India') & (medal_df['Year'] == 2016)]"
   ]
  },
  {
   "cell_type": "code",
   "execution_count": 276,
   "metadata": {},
   "outputs": [],
   "source": [
    "def fetch_medal_tally(year,country):\n",
    "    flag = 0\n",
    "    if year == 'Overall' and country == 'Overall':\n",
    "        temp_data = medal_df\n",
    "    if year == 'Overall' and country != 'Overall':\n",
    "        flag = 1\n",
    "        temp_data = medal_df[medal_df['region'] == country]\n",
    "    if year != 'Overall' and country == 'Overall':\n",
    "        temp_data = medal_df[medal_df['Year'] == int(year)]\n",
    "    if year != 'Overall' and country != 'Overall':\n",
    "        temp_data = medal_df[(medal_df['region'] == country) & (medal_df['Year'] == int(year))]\n",
    "    \n",
    "    if flag == 1:\n",
    "        x = temp_data.groupby(['Year']).sum()[['Gold','Silver','Bronze']].sort_values('Year',ascending=True).reset_index()\n",
    "    else:\n",
    "        x = temp_data.groupby(['region']).sum()[['Gold','Silver','Bronze']].sort_values('Gold',ascending=False).reset_index()\n",
    "    \n",
    "    x['Total'] = x['Gold'] + x['Silver'] + x['Bronze']\n",
    "    \n",
    "    print(x)"
   ]
  },
  {
   "cell_type": "code",
   "execution_count": 277,
   "metadata": {},
   "outputs": [
    {
     "name": "stdout",
     "output_type": "stream",
     "text": [
      "    Year  Gold  Silver  Bronze  Total\n",
      "0   1900     0       2       0      2\n",
      "1   1920     0       0       0      0\n",
      "2   1924     0       0       0      0\n",
      "3   1928     1       0       0      1\n",
      "4   1932     1       0       0      1\n",
      "5   1936     1       0       0      1\n",
      "6   1948     1       0       0      1\n",
      "7   1952     1       0       1      2\n",
      "8   1956     1       0       0      1\n",
      "9   1960     0       1       0      1\n",
      "10  1964     1       0       0      1\n",
      "11  1968     0       0       1      1\n",
      "12  1972     0       0       1      1\n",
      "13  1976     0       0       0      0\n",
      "14  1980     1       0       0      1\n",
      "15  1984     0       0       0      0\n",
      "16  1988     0       0       0      0\n",
      "17  1992     0       0       0      0\n",
      "18  1996     0       0       1      1\n",
      "19  2000     0       0       1      1\n",
      "20  2004     0       1       0      1\n",
      "21  2008     1       0       2      3\n",
      "22  2012     0       2       4      6\n",
      "23  2016     0       1       1      2\n"
     ]
    }
   ],
   "source": [
    "fetch_medal_tally(year='Overall',country='India')"
   ]
  },
  {
   "cell_type": "markdown",
   "metadata": {},
   "source": [
    "# Overall Analysis"
   ]
  },
  {
   "cell_type": "markdown",
   "metadata": {},
   "source": [
    "- no. of editions\n",
    "- no. of cities\n",
    "- no. of events/sports\n",
    "- no. of athletes\n",
    "- no. of nations participated"
   ]
  },
  {
   "cell_type": "code",
   "execution_count": 278,
   "metadata": {},
   "outputs": [],
   "source": [
    "Year = summer_event['Year'].unique()"
   ]
  },
  {
   "cell_type": "code",
   "execution_count": 279,
   "metadata": {},
   "outputs": [],
   "source": [
    "Year.sort()"
   ]
  },
  {
   "cell_type": "raw",
   "metadata": {},
   "source": [
    "Olympics was placed on the continuing sequence of four-year Olympiads, and the Games of 1906 did not fit into this. Hence, the IOC currently does not recognize Athens 1906 as Olympic Games"
   ]
  },
  {
   "cell_type": "code",
   "execution_count": 280,
   "metadata": {},
   "outputs": [
    {
     "data": {
      "text/plain": [
       "28"
      ]
     },
     "execution_count": 280,
     "metadata": {},
     "output_type": "execute_result"
    }
   ],
   "source": [
    "Year.shape[0] -1"
   ]
  },
  {
   "cell_type": "code",
   "execution_count": 281,
   "metadata": {},
   "outputs": [],
   "source": [
    "cities = summer_event['City'].unique()"
   ]
  },
  {
   "cell_type": "code",
   "execution_count": 282,
   "metadata": {},
   "outputs": [],
   "source": [
    "cities.sort()"
   ]
  },
  {
   "cell_type": "code",
   "execution_count": 283,
   "metadata": {},
   "outputs": [
    {
     "data": {
      "text/plain": [
       "23"
      ]
     },
     "execution_count": 283,
     "metadata": {},
     "output_type": "execute_result"
    }
   ],
   "source": [
    "cities.shape[0]"
   ]
  },
  {
   "cell_type": "markdown",
   "metadata": {},
   "source": [
    "### Number of Nations Participated\n",
    "##### Nations particepated in Olympics over the time."
   ]
  },
  {
   "cell_type": "code",
   "execution_count": 284,
   "metadata": {},
   "outputs": [
    {
     "data": {
      "text/plain": [
       "(221167, 20)"
      ]
     },
     "execution_count": 284,
     "metadata": {},
     "output_type": "execute_result"
    }
   ],
   "source": [
    "summer_event.shape"
   ]
  },
  {
   "cell_type": "code",
   "execution_count": 285,
   "metadata": {
    "scrolled": true
   },
   "outputs": [],
   "source": [
    "nations_over_time = summer_event.drop_duplicates(['Year','region'])['Year'].value_counts().reset_index().sort_values('index')"
   ]
  },
  {
   "cell_type": "code",
   "execution_count": 286,
   "metadata": {
    "scrolled": true
   },
   "outputs": [],
   "source": [
    "nations_over_time.rename(columns = {'index':'Edition','Year':'No of Countries'},inplace = True)"
   ]
  },
  {
   "cell_type": "code",
   "execution_count": 287,
   "metadata": {
    "scrolled": true
   },
   "outputs": [
    {
     "data": {
      "text/html": [
       "<div>\n",
       "<style scoped>\n",
       "    .dataframe tbody tr th:only-of-type {\n",
       "        vertical-align: middle;\n",
       "    }\n",
       "\n",
       "    .dataframe tbody tr th {\n",
       "        vertical-align: top;\n",
       "    }\n",
       "\n",
       "    .dataframe thead th {\n",
       "        text-align: right;\n",
       "    }\n",
       "</style>\n",
       "<table border=\"1\" class=\"dataframe\">\n",
       "  <thead>\n",
       "    <tr style=\"text-align: right;\">\n",
       "      <th></th>\n",
       "      <th>Edition</th>\n",
       "      <th>No of Countries</th>\n",
       "    </tr>\n",
       "  </thead>\n",
       "  <tbody>\n",
       "    <tr>\n",
       "      <th>28</th>\n",
       "      <td>1896</td>\n",
       "      <td>12</td>\n",
       "    </tr>\n",
       "    <tr>\n",
       "      <th>22</th>\n",
       "      <td>1900</td>\n",
       "      <td>31</td>\n",
       "    </tr>\n",
       "    <tr>\n",
       "      <th>27</th>\n",
       "      <td>1904</td>\n",
       "      <td>14</td>\n",
       "    </tr>\n",
       "    <tr>\n",
       "      <th>26</th>\n",
       "      <td>1906</td>\n",
       "      <td>20</td>\n",
       "    </tr>\n",
       "    <tr>\n",
       "      <th>25</th>\n",
       "      <td>1908</td>\n",
       "      <td>22</td>\n",
       "    </tr>\n",
       "    <tr>\n",
       "      <th>24</th>\n",
       "      <td>1912</td>\n",
       "      <td>29</td>\n",
       "    </tr>\n",
       "    <tr>\n",
       "      <th>23</th>\n",
       "      <td>1920</td>\n",
       "      <td>29</td>\n",
       "    </tr>\n",
       "    <tr>\n",
       "      <th>21</th>\n",
       "      <td>1924</td>\n",
       "      <td>45</td>\n",
       "    </tr>\n",
       "    <tr>\n",
       "      <th>20</th>\n",
       "      <td>1928</td>\n",
       "      <td>46</td>\n",
       "    </tr>\n",
       "    <tr>\n",
       "      <th>19</th>\n",
       "      <td>1932</td>\n",
       "      <td>47</td>\n",
       "    </tr>\n",
       "    <tr>\n",
       "      <th>18</th>\n",
       "      <td>1936</td>\n",
       "      <td>49</td>\n",
       "    </tr>\n",
       "    <tr>\n",
       "      <th>17</th>\n",
       "      <td>1948</td>\n",
       "      <td>59</td>\n",
       "    </tr>\n",
       "    <tr>\n",
       "      <th>16</th>\n",
       "      <td>1952</td>\n",
       "      <td>67</td>\n",
       "    </tr>\n",
       "    <tr>\n",
       "      <th>15</th>\n",
       "      <td>1956</td>\n",
       "      <td>71</td>\n",
       "    </tr>\n",
       "    <tr>\n",
       "      <th>13</th>\n",
       "      <td>1960</td>\n",
       "      <td>83</td>\n",
       "    </tr>\n",
       "    <tr>\n",
       "      <th>11</th>\n",
       "      <td>1964</td>\n",
       "      <td>93</td>\n",
       "    </tr>\n",
       "    <tr>\n",
       "      <th>10</th>\n",
       "      <td>1968</td>\n",
       "      <td>111</td>\n",
       "    </tr>\n",
       "    <tr>\n",
       "      <th>9</th>\n",
       "      <td>1972</td>\n",
       "      <td>120</td>\n",
       "    </tr>\n",
       "    <tr>\n",
       "      <th>12</th>\n",
       "      <td>1976</td>\n",
       "      <td>91</td>\n",
       "    </tr>\n",
       "    <tr>\n",
       "      <th>14</th>\n",
       "      <td>1980</td>\n",
       "      <td>80</td>\n",
       "    </tr>\n",
       "    <tr>\n",
       "      <th>8</th>\n",
       "      <td>1984</td>\n",
       "      <td>139</td>\n",
       "    </tr>\n",
       "    <tr>\n",
       "      <th>7</th>\n",
       "      <td>1988</td>\n",
       "      <td>156</td>\n",
       "    </tr>\n",
       "    <tr>\n",
       "      <th>6</th>\n",
       "      <td>1992</td>\n",
       "      <td>168</td>\n",
       "    </tr>\n",
       "    <tr>\n",
       "      <th>5</th>\n",
       "      <td>1996</td>\n",
       "      <td>196</td>\n",
       "    </tr>\n",
       "    <tr>\n",
       "      <th>4</th>\n",
       "      <td>2000</td>\n",
       "      <td>199</td>\n",
       "    </tr>\n",
       "    <tr>\n",
       "      <th>3</th>\n",
       "      <td>2004</td>\n",
       "      <td>200</td>\n",
       "    </tr>\n",
       "    <tr>\n",
       "      <th>2</th>\n",
       "      <td>2008</td>\n",
       "      <td>202</td>\n",
       "    </tr>\n",
       "    <tr>\n",
       "      <th>1</th>\n",
       "      <td>2012</td>\n",
       "      <td>203</td>\n",
       "    </tr>\n",
       "    <tr>\n",
       "      <th>0</th>\n",
       "      <td>2016</td>\n",
       "      <td>204</td>\n",
       "    </tr>\n",
       "  </tbody>\n",
       "</table>\n",
       "</div>"
      ],
      "text/plain": [
       "    Edition  No of Countries\n",
       "28     1896               12\n",
       "22     1900               31\n",
       "27     1904               14\n",
       "26     1906               20\n",
       "25     1908               22\n",
       "24     1912               29\n",
       "23     1920               29\n",
       "21     1924               45\n",
       "20     1928               46\n",
       "19     1932               47\n",
       "18     1936               49\n",
       "17     1948               59\n",
       "16     1952               67\n",
       "15     1956               71\n",
       "13     1960               83\n",
       "11     1964               93\n",
       "10     1968              111\n",
       "9      1972              120\n",
       "12     1976               91\n",
       "14     1980               80\n",
       "8      1984              139\n",
       "7      1988              156\n",
       "6      1992              168\n",
       "5      1996              196\n",
       "4      2000              199\n",
       "3      2004              200\n",
       "2      2008              202\n",
       "1      2012              203\n",
       "0      2016              204"
      ]
     },
     "execution_count": 287,
     "metadata": {},
     "output_type": "execute_result"
    }
   ],
   "source": [
    "nations_over_time"
   ]
  },
  {
   "cell_type": "code",
   "execution_count": 288,
   "metadata": {},
   "outputs": [
    {
     "data": {
      "text/plain": [
       "Text(0, 0.5, 'No of Countries')"
      ]
     },
     "execution_count": 288,
     "metadata": {},
     "output_type": "execute_result"
    },
    {
     "data": {
      "image/png": "[encoded data removed]",
      "text/plain": [
       "<Figure size 432x288 with 1 Axes>"
      ]
     },
     "metadata": {
      "needs_background": "light"
     },
     "output_type": "display_data"
    }
   ],
   "source": [
    "import matplotlib.pyplot as plt\n",
    "plt.plot(nations_over_time['Edition'],nations_over_time['No of Countries'])\n",
    "plt.xlabel('Edition')\n",
    "plt.ylabel('No of Countries')"
   ]
  },
  {
   "cell_type": "code",
   "execution_count": 289,
   "metadata": {},
   "outputs": [
    {
     "data": {
      "application/vnd.plotly.v1+json": {
       "config": {
        "plotlyServerURL": "https://plot.ly"
       },
       "data": [
        {
         "hovertemplate": "Edition=%{x}<br>No of Countries=%{y}<extra></extra>",
         "legendgroup": "",
         "line": {
          "color": "#636efa",
          "dash": "solid"
         },
         "marker": {
          "symbol": "circle"
         },
         "mode": "lines",
         "name": "",
         "orientation": "v",
         "showlegend": false,
         "type": "scatter",
         "x": [
          1896,
          1900,
          1904,
          1906,
          1908,
          1912,
          1920,
          1924,
          1928,
          1932,
          1936,
          1948,
          1952,
          1956,
          1960,
          1964,
          1968,
          1972,
          1976,
          1980,
          1984,
          1988,
          1992,
          1996,
          2000,
          2004,
          2008,
          2012,
          2016
         ],
         "xaxis": "x",
         "y": [
          12,
          31,
          14,
          20,
          22,
          29,
          29,
          45,
          46,
          47,
          49,
          59,
          67,
          71,
          83,
          93,
          111,
          120,
          91,
          80,
          139,
          156,
          168,
          196,
          199,
          200,
          202,
          203,
          204
         ],
         "yaxis": "y"
        }
       ],
       "layout": {
        "legend": {
         "tracegroupgap": 0
        },
        "margin": {
         "t": 60
        },
        "template": {
         "data": {
          "bar": [
           {
            "error_x": {
             "color": "#2a3f5f"
            },
            "error_y": {
             "color": "#2a3f5f"
            },
            "marker": {
             "line": {
              "color": "#E5ECF6",
              "width": 0.5
             },
             "pattern": {
              "fillmode": "overlay",
              "size": 10,
              "solidity": 0.2
             }
            },
            "type": "bar"
           }
          ],
          "barpolar": [
           {
            "marker": {
             "line": {
              "color": "#E5ECF6",
              "width": 0.5
             },
             "pattern": {
              "fillmode": "overlay",
              "size": 10,
              "solidity": 0.2
             }
            },
            "type": "barpolar"
           }
          ],
          "carpet": [
           {
            "aaxis": {
             "endlinecolor": "#2a3f5f",
             "gridcolor": "white",
             "linecolor": "white",
             "minorgridcolor": "white",
             "startlinecolor": "#2a3f5f"
            },
            "baxis": {
             "endlinecolor": "#2a3f5f",
             "gridcolor": "white",
             "linecolor": "white",
             "minorgridcolor": "white",
             "startlinecolor": "#2a3f5f"
            },
            "type": "carpet"
           }
          ],
          "choropleth": [
           {
            "colorbar": {
             "outlinewidth": 0,
             "ticks": ""
            },
            "type": "choropleth"
           }
          ],
          "contour": [
           {
            "colorbar": {
             "outlinewidth": 0,
             "ticks": ""
            },
            "colorscale": [
             [
              0,
              "#0d0887"
             ],
             [
              0.1111111111111111,
              "#46039f"
             ],
             [
              0.2222222222222222,
              "#7201a8"
             ],
             [
              0.3333333333333333,
              "#9c179e"
             ],
             [
              0.4444444444444444,
              "#bd3786"
             ],
             [
              0.5555555555555556,
              "#d8576b"
             ],
             [
              0.6666666666666666,
              "#ed7953"
             ],
             [
              0.7777777777777778,
              "#fb9f3a"
             ],
             [
              0.8888888888888888,
              "#fdca26"
             ],
             [
              1,
              "#f0f921"
             ]
            ],
            "type": "contour"
           }
          ],
          "contourcarpet": [
           {
            "colorbar": {
             "outlinewidth": 0,
             "ticks": ""
            },
            "type": "contourcarpet"
           }
          ],
          "heatmap": [
           {
            "colorbar": {
             "outlinewidth": 0,
             "ticks": ""
            },
            "colorscale": [
             [
              0,
              "#0d0887"
             ],
             [
              0.1111111111111111,
              "#46039f"
             ],
             [
              0.2222222222222222,
              "#7201a8"
             ],
             [
              0.3333333333333333,
              "#9c179e"
             ],
             [
              0.4444444444444444,
              "#bd3786"
             ],
             [
              0.5555555555555556,
              "#d8576b"
             ],
             [
              0.6666666666666666,
              "#ed7953"
             ],
             [
              0.7777777777777778,
              "#fb9f3a"
             ],
             [
              0.8888888888888888,
              "#fdca26"
             ],
             [
              1,
              "#f0f921"
             ]
            ],
            "type": "heatmap"
           }
          ],
          "heatmapgl": [
           {
            "colorbar": {
             "outlinewidth": 0,
             "ticks": ""
            },
            "colorscale": [
             [
              0,
              "#0d0887"
             ],
             [
              0.1111111111111111,
              "#46039f"
             ],
             [
              0.2222222222222222,
              "#7201a8"
             ],
             [
              0.3333333333333333,
              "#9c179e"
             ],
             [
              0.4444444444444444,
              "#bd3786"
             ],
             [
              0.5555555555555556,
              "#d8576b"
             ],
             [
              0.6666666666666666,
              "#ed7953"
             ],
             [
              0.7777777777777778,
              "#fb9f3a"
             ],
             [
              0.8888888888888888,
              "#fdca26"
             ],
             [
              1,
              "#f0f921"
             ]
            ],
            "type": "heatmapgl"
           }
          ],
          "histogram": [
           {
            "marker": {
             "pattern": {
              "fillmode": "overlay",
              "size": 10,
              "solidity": 0.2
             }
            },
            "type": "histogram"
           }
          ],
          "histogram2d": [
           {
            "colorbar": {
             "outlinewidth": 0,
             "ticks": ""
            },
            "colorscale": [
             [
              0,
              "#0d0887"
             ],
             [
              0.1111111111111111,
              "#46039f"
             ],
             [
              0.2222222222222222,
              "#7201a8"
             ],
             [
              0.3333333333333333,
              "#9c179e"
             ],
             [
              0.4444444444444444,
              "#bd3786"
             ],
             [
              0.5555555555555556,
              "#d8576b"
             ],
             [
              0.6666666666666666,
              "#ed7953"
             ],
             [
              0.7777777777777778,
              "#fb9f3a"
             ],
             [
              0.8888888888888888,
              "#fdca26"
             ],
             [
              1,
              "#f0f921"
             ]
            ],
            "type": "histogram2d"
           }
          ],
          "histogram2dcontour": [
           {
            "colorbar": {
             "outlinewidth": 0,
             "ticks": ""
            },
            "colorscale": [
             [
              0,
              "#0d0887"
             ],
             [
              0.1111111111111111,
              "#46039f"
             ],
             [
              0.2222222222222222,
              "#7201a8"
             ],
             [
              0.3333333333333333,
              "#9c179e"
             ],
             [
              0.4444444444444444,
              "#bd3786"
             ],
             [
              0.5555555555555556,
              "#d8576b"
             ],
             [
              0.6666666666666666,
              "#ed7953"
             ],
             [
              0.7777777777777778,
              "#fb9f3a"
             ],
             [
              0.8888888888888888,
              "#fdca26"
             ],
             [
              1,
              "#f0f921"
             ]
            ],
            "type": "histogram2dcontour"
           }
          ],
          "mesh3d": [
           {
            "colorbar": {
             "outlinewidth": 0,
             "ticks": ""
            },
            "type": "mesh3d"
           }
          ],
          "parcoords": [
           {
            "line": {
             "colorbar": {
              "outlinewidth": 0,
              "ticks": ""
             }
            },
            "type": "parcoords"
           }
          ],
          "pie": [
           {
            "automargin": true,
            "type": "pie"
           }
          ],
          "scatter": [
           {
            "marker": {
             "colorbar": {
              "outlinewidth": 0,
              "ticks": ""
             }
            },
            "type": "scatter"
           }
          ],
          "scatter3d": [
           {
            "line": {
             "colorbar": {
              "outlinewidth": 0,
              "ticks": ""
             }
            },
            "marker": {
             "colorbar": {
              "outlinewidth": 0,
              "ticks": ""
             }
            },
            "type": "scatter3d"
           }
          ],
          "scattercarpet": [
           {
            "marker": {
             "colorbar": {
              "outlinewidth": 0,
              "ticks": ""
             }
            },
            "type": "scattercarpet"
           }
          ],
          "scattergeo": [
           {
            "marker": {
             "colorbar": {
              "outlinewidth": 0,
              "ticks": ""
             }
            },
            "type": "scattergeo"
           }
          ],
          "scattergl": [
           {
            "marker": {
             "colorbar": {
              "outlinewidth": 0,
              "ticks": ""
             }
            },
            "type": "scattergl"
           }
          ],
          "scattermapbox": [
           {
            "marker": {
             "colorbar": {
              "outlinewidth": 0,
              "ticks": ""
             }
            },
            "type": "scattermapbox"
           }
          ],
          "scatterpolar": [
           {
            "marker": {
             "colorbar": {
              "outlinewidth": 0,
              "ticks": ""
             }
            },
            "type": "scatterpolar"
           }
          ],
          "scatterpolargl": [
           {
            "marker": {
             "colorbar": {
              "outlinewidth": 0,
              "ticks": ""
             }
            },
            "type": "scatterpolargl"
           }
          ],
          "scatterternary": [
           {
            "marker": {
             "colorbar": {
              "outlinewidth": 0,
              "ticks": ""
             }
            },
            "type": "scatterternary"
           }
          ],
          "surface": [
           {
            "colorbar": {
             "outlinewidth": 0,
             "ticks": ""
            },
            "colorscale": [
             [
              0,
              "#0d0887"
             ],
             [
              0.1111111111111111,
              "#46039f"
             ],
             [
              0.2222222222222222,
              "#7201a8"
             ],
             [
              0.3333333333333333,
              "#9c179e"
             ],
             [
              0.4444444444444444,
              "#bd3786"
             ],
             [
              0.5555555555555556,
              "#d8576b"
             ],
             [
              0.6666666666666666,
              "#ed7953"
             ],
             [
              0.7777777777777778,
              "#fb9f3a"
             ],
             [
              0.8888888888888888,
              "#fdca26"
             ],
             [
              1,
              "#f0f921"
             ]
            ],
            "type": "surface"
           }
          ],
          "table": [
           {
            "cells": {
             "fill": {
              "color": "#EBF0F8"
             },
             "line": {
              "color": "white"
             }
            },
            "header": {
             "fill": {
              "color": "#C8D4E3"
             },
             "line": {
              "color": "white"
             }
            },
            "type": "table"
           }
          ]
         },
         "layout": {
          "annotationdefaults": {
           "arrowcolor": "#2a3f5f",
           "arrowhead": 0,
           "arrowwidth": 1
          },
          "autotypenumbers": "strict",
          "coloraxis": {
           "colorbar": {
            "outlinewidth": 0,
            "ticks": ""
           }
          },
          "colorscale": {
           "diverging": [
            [
             0,
             "#8e0152"
            ],
            [
             0.1,
             "#c51b7d"
            ],
            [
             0.2,
             "#de77ae"
            ],
            [
             0.3,
             "#f1b6da"
            ],
            [
             0.4,
             "#fde0ef"
            ],
            [
             0.5,
             "#f7f7f7"
            ],
            [
             0.6,
             "#e6f5d0"
            ],
            [
             0.7,
             "#b8e186"
            ],
            [
             0.8,
             "#7fbc41"
            ],
            [
             0.9,
             "#4d9221"
            ],
            [
             1,
             "#276419"
            ]
           ],
           "sequential": [
            [
             0,
             "#0d0887"
            ],
            [
             0.1111111111111111,
             "#46039f"
            ],
            [
             0.2222222222222222,
             "#7201a8"
            ],
            [
             0.3333333333333333,
             "#9c179e"
            ],
            [
             0.4444444444444444,
             "#bd3786"
            ],
            [
             0.5555555555555556,
             "#d8576b"
            ],
            [
             0.6666666666666666,
             "#ed7953"
            ],
            [
             0.7777777777777778,
             "#fb9f3a"
            ],
            [
             0.8888888888888888,
             "#fdca26"
            ],
            [
             1,
             "#f0f921"
            ]
           ],
           "sequentialminus": [
            [
             0,
             "#0d0887"
            ],
            [
             0.1111111111111111,
             "#46039f"
            ],
            [
             0.2222222222222222,
             "#7201a8"
            ],
            [
             0.3333333333333333,
             "#9c179e"
            ],
            [
             0.4444444444444444,
             "#bd3786"
            ],
            [
             0.5555555555555556,
             "#d8576b"
            ],
            [
             0.6666666666666666,
             "#ed7953"
            ],
            [
             0.7777777777777778,
             "#fb9f3a"
            ],
            [
             0.8888888888888888,
             "#fdca26"
            ],
            [
             1,
             "#f0f921"
            ]
           ]
          },
          "colorway": [
           "#636efa",
           "#EF553B",
           "#00cc96",
           "#ab63fa",
           "#FFA15A",
           "#19d3f3",
           "#FF6692",
           "#B6E880",
           "#FF97FF",
           "#FECB52"
          ],
          "font": {
           "color": "#2a3f5f"
          },
          "geo": {
           "bgcolor": "white",
           "lakecolor": "white",
           "landcolor": "#E5ECF6",
           "showlakes": true,
           "showland": true,
           "subunitcolor": "white"
          },
          "hoverlabel": {
           "align": "left"
          },
          "hovermode": "closest",
          "mapbox": {
           "style": "light"
          },
          "paper_bgcolor": "white",
          "plot_bgcolor": "#E5ECF6",
          "polar": {
           "angularaxis": {
            "gridcolor": "white",
            "linecolor": "white",
            "ticks": ""
           },
           "bgcolor": "#E5ECF6",
           "radialaxis": {
            "gridcolor": "white",
            "linecolor": "white",
            "ticks": ""
           }
          },
          "scene": {
           "xaxis": {
            "backgroundcolor": "#E5ECF6",
            "gridcolor": "white",
            "gridwidth": 2,
            "linecolor": "white",
            "showbackground": true,
            "ticks": "",
            "zerolinecolor": "white"
           },
           "yaxis": {
            "backgroundcolor": "#E5ECF6",
            "gridcolor": "white",
            "gridwidth": 2,
            "linecolor": "white",
            "showbackground": true,
            "ticks": "",
            "zerolinecolor": "white"
           },
           "zaxis": {
            "backgroundcolor": "#E5ECF6",
            "gridcolor": "white",
            "gridwidth": 2,
            "linecolor": "white",
            "showbackground": true,
            "ticks": "",
            "zerolinecolor": "white"
           }
          },
          "shapedefaults": {
           "line": {
            "color": "#2a3f5f"
           }
          },
          "ternary": {
           "aaxis": {
            "gridcolor": "white",
            "linecolor": "white",
            "ticks": ""
           },
           "baxis": {
            "gridcolor": "white",
            "linecolor": "white",
            "ticks": ""
           },
           "bgcolor": "#E5ECF6",
           "caxis": {
            "gridcolor": "white",
            "linecolor": "white",
            "ticks": ""
           }
          },
          "title": {
           "x": 0.05
          },
          "xaxis": {
           "automargin": true,
           "gridcolor": "white",
           "linecolor": "white",
           "ticks": "",
           "title": {
            "standoff": 15
           },
           "zerolinecolor": "white",
           "zerolinewidth": 2
          },
          "yaxis": {
           "automargin": true,
           "gridcolor": "white",
           "linecolor": "white",
           "ticks": "",
           "title": {
            "standoff": 15
           },
           "zerolinecolor": "white",
           "zerolinewidth": 2
          }
         }
        },
        "xaxis": {
         "anchor": "y",
         "domain": [
          0,
          1
         ],
         "title": {
          "text": "Edition"
         }
        },
        "yaxis": {
         "anchor": "x",
         "domain": [
          0,
          1
         ],
         "title": {
          "text": "No of Countries"
         }
        }
       }
      },
      "text/html": [
       "<div>                            <div id=\"1e721eb7-6433-4b67-81a1-e08f1785793a\" class=\"plotly-graph-div\" style=\"height:525px; width:100%;\"></div>            <script type=\"text/javascript\">                require([\"plotly\"], function(Plotly) {                    window.PLOTLYENV=window.PLOTLYENV || {};                                    if (document.getElementById(\"1e721eb7-6433-4b67-81a1-e08f1785793a\")) {                    Plotly.newPlot(                        \"1e721eb7-6433-4b67-81a1-e08f1785793a\",                        [{\"hovertemplate\":\"Edition=%{x}<br>No of Countries=%{y}<extra></extra>\",\"legendgroup\":\"\",\"line\":{\"color\":\"#636efa\",\"dash\":\"solid\"},\"marker\":{\"symbol\":\"circle\"},\"mode\":\"lines\",\"name\":\"\",\"orientation\":\"v\",\"showlegend\":false,\"x\":[1896,1900,1904,1906,1908,1912,1920,1924,1928,1932,1936,1948,1952,1956,1960,1964,1968,1972,1976,1980,1984,1988,1992,1996,2000,2004,2008,2012,2016],\"xaxis\":\"x\",\"y\":[12,31,14,20,22,29,29,45,46,47,49,59,67,71,83,93,111,120,91,80,139,156,168,196,199,200,202,203,204],\"yaxis\":\"y\",\"type\":\"scatter\"}],                        {\"template\":{\"data\":{\"bar\":[{\"error_x\":{\"color\":\"#2a3f5f\"},\"error_y\":{\"color\":\"#2a3f5f\"},\"marker\":{\"line\":{\"color\":\"#E5ECF6\",\"width\":0.5},\"pattern\":{\"fillmode\":\"overlay\",\"size\":10,\"solidity\":0.2}},\"type\":\"bar\"}],\"barpolar\":[{\"marker\":{\"line\":{\"color\":\"#E5ECF6\",\"width\":0.5},\"pattern\":{\"fillmode\":\"overlay\",\"size\":10,\"solidity\":0.2}},\"type\":\"barpolar\"}],\"carpet\":[{\"aaxis\":{\"endlinecolor\":\"#2a3f5f\",\"gridcolor\":\"white\",\"linecolor\":\"white\",\"minorgridcolor\":\"white\",\"startlinecolor\":\"#2a3f5f\"},\"baxis\":{\"endlinecolor\":\"#2a3f5f\",\"gridcolor\":\"white\",\"linecolor\":\"white\",\"minorgridcolor\":\"white\",\"startlinecolor\":\"#2a3f5f\"},\"type\":\"carpet\"}],\"choropleth\":[{\"colorbar\":{\"outlinewidth\":0,\"ticks\":\"\"},\"type\":\"choropleth\"}],\"contour\":[{\"colorbar\":{\"outlinewidth\":0,\"ticks\":\"\"},\"colorscale\":[[0.0,\"#0d0887\"],[0.1111111111111111,\"#46039f\"],[0.2222222222222222,\"#7201a8\"],[0.3333333333333333,\"#9c179e\"],[0.4444444444444444,\"#bd3786\"],[0.5555555555555556,\"#d8576b\"],[0.6666666666666666,\"#ed7953\"],[0.7777777777777778,\"#fb9f3a\"],[0.8888888888888888,\"#fdca26\"],[1.0,\"#f0f921\"]],\"type\":\"contour\"}],\"contourcarpet\":[{\"colorbar\":{\"outlinewidth\":0,\"ticks\":\"\"},\"type\":\"contourcarpet\"}],\"heatmap\":[{\"colorbar\":{\"outlinewidth\":0,\"ticks\":\"\"},\"colorscale\":[[0.0,\"#0d0887\"],[0.1111111111111111,\"#46039f\"],[0.2222222222222222,\"#7201a8\"],[0.3333333333333333,\"#9c179e\"],[0.4444444444444444,\"#bd3786\"],[0.5555555555555556,\"#d8576b\"],[0.6666666666666666,\"#ed7953\"],[0.7777777777777778,\"#fb9f3a\"],[0.8888888888888888,\"#fdca26\"],[1.0,\"#f0f921\"]],\"type\":\"heatmap\"}],\"heatmapgl\":[{\"colorbar\":{\"outlinewidth\":0,\"ticks\":\"\"},\"colorscale\":[[0.0,\"#0d0887\"],[0.1111111111111111,\"#46039f\"],[0.2222222222222222,\"#7201a8\"],[0.3333333333333333,\"#9c179e\"],[0.4444444444444444,\"#bd3786\"],[0.5555555555555556,\"#d8576b\"],[0.6666666666666666,\"#ed7953\"],[0.7777777777777778,\"#fb9f3a\"],[0.8888888888888888,\"#fdca26\"],[1.0,\"#f0f921\"]],\"type\":\"heatmapgl\"}],\"histogram\":[{\"marker\":{\"pattern\":{\"fillmode\":\"overlay\",\"size\":10,\"solidity\":0.2}},\"type\":\"histogram\"}],\"histogram2d\":[{\"colorbar\":{\"outlinewidth\":0,\"ticks\":\"\"},\"colorscale\":[[0.0,\"#0d0887\"],[0.1111111111111111,\"#46039f\"],[0.2222222222222222,\"#7201a8\"],[0.3333333333333333,\"#9c179e\"],[0.4444444444444444,\"#bd3786\"],[0.5555555555555556,\"#d8576b\"],[0.6666666666666666,\"#ed7953\"],[0.7777777777777778,\"#fb9f3a\"],[0.8888888888888888,\"#fdca26\"],[1.0,\"#f0f921\"]],\"type\":\"histogram2d\"}],\"histogram2dcontour\":[{\"colorbar\":{\"outlinewidth\":0,\"ticks\":\"\"},\"colorscale\":[[0.0,\"#0d0887\"],[0.1111111111111111,\"#46039f\"],[0.2222222222222222,\"#7201a8\"],[0.3333333333333333,\"#9c179e\"],[0.4444444444444444,\"#bd3786\"],[0.5555555555555556,\"#d8576b\"],[0.6666666666666666,\"#ed7953\"],[0.7777777777777778,\"#fb9f3a\"],[0.8888888888888888,\"#fdca26\"],[1.0,\"#f0f921\"]],\"type\":\"histogram2dcontour\"}],\"mesh3d\":[{\"colorbar\":{\"outlinewidth\":0,\"ticks\":\"\"},\"type\":\"mesh3d\"}],\"parcoords\":[{\"line\":{\"colorbar\":{\"outlinewidth\":0,\"ticks\":\"\"}},\"type\":\"parcoords\"}],\"pie\":[{\"automargin\":true,\"type\":\"pie\"}],\"scatter\":[{\"marker\":{\"colorbar\":{\"outlinewidth\":0,\"ticks\":\"\"}},\"type\":\"scatter\"}],\"scatter3d\":[{\"line\":{\"colorbar\":{\"outlinewidth\":0,\"ticks\":\"\"}},\"marker\":{\"colorbar\":{\"outlinewidth\":0,\"ticks\":\"\"}},\"type\":\"scatter3d\"}],\"scattercarpet\":[{\"marker\":{\"colorbar\":{\"outlinewidth\":0,\"ticks\":\"\"}},\"type\":\"scattercarpet\"}],\"scattergeo\":[{\"marker\":{\"colorbar\":{\"outlinewidth\":0,\"ticks\":\"\"}},\"type\":\"scattergeo\"}],\"scattergl\":[{\"marker\":{\"colorbar\":{\"outlinewidth\":0,\"ticks\":\"\"}},\"type\":\"scattergl\"}],\"scattermapbox\":[{\"marker\":{\"colorbar\":{\"outlinewidth\":0,\"ticks\":\"\"}},\"type\":\"scattermapbox\"}],\"scatterpolar\":[{\"marker\":{\"colorbar\":{\"outlinewidth\":0,\"ticks\":\"\"}},\"type\":\"scatterpolar\"}],\"scatterpolargl\":[{\"marker\":{\"colorbar\":{\"outlinewidth\":0,\"ticks\":\"\"}},\"type\":\"scatterpolargl\"}],\"scatterternary\":[{\"marker\":{\"colorbar\":{\"outlinewidth\":0,\"ticks\":\"\"}},\"type\":\"scatterternary\"}],\"surface\":[{\"colorbar\":{\"outlinewidth\":0,\"ticks\":\"\"},\"colorscale\":[[0.0,\"#0d0887\"],[0.1111111111111111,\"#46039f\"],[0.2222222222222222,\"#7201a8\"],[0.3333333333333333,\"#9c179e\"],[0.4444444444444444,\"#bd3786\"],[0.5555555555555556,\"#d8576b\"],[0.6666666666666666,\"#ed7953\"],[0.7777777777777778,\"#fb9f3a\"],[0.8888888888888888,\"#fdca26\"],[1.0,\"#f0f921\"]],\"type\":\"surface\"}],\"table\":[{\"cells\":{\"fill\":{\"color\":\"#EBF0F8\"},\"line\":{\"color\":\"white\"}},\"header\":{\"fill\":{\"color\":\"#C8D4E3\"},\"line\":{\"color\":\"white\"}},\"type\":\"table\"}]},\"layout\":{\"annotationdefaults\":{\"arrowcolor\":\"#2a3f5f\",\"arrowhead\":0,\"arrowwidth\":1},\"autotypenumbers\":\"strict\",\"coloraxis\":{\"colorbar\":{\"outlinewidth\":0,\"ticks\":\"\"}},\"colorscale\":{\"diverging\":[[0,\"#8e0152\"],[0.1,\"#c51b7d\"],[0.2,\"#de77ae\"],[0.3,\"#f1b6da\"],[0.4,\"#fde0ef\"],[0.5,\"#f7f7f7\"],[0.6,\"#e6f5d0\"],[0.7,\"#b8e186\"],[0.8,\"#7fbc41\"],[0.9,\"#4d9221\"],[1,\"#276419\"]],\"sequential\":[[0.0,\"#0d0887\"],[0.1111111111111111,\"#46039f\"],[0.2222222222222222,\"#7201a8\"],[0.3333333333333333,\"#9c179e\"],[0.4444444444444444,\"#bd3786\"],[0.5555555555555556,\"#d8576b\"],[0.6666666666666666,\"#ed7953\"],[0.7777777777777778,\"#fb9f3a\"],[0.8888888888888888,\"#fdca26\"],[1.0,\"#f0f921\"]],\"sequentialminus\":[[0.0,\"#0d0887\"],[0.1111111111111111,\"#46039f\"],[0.2222222222222222,\"#7201a8\"],[0.3333333333333333,\"#9c179e\"],[0.4444444444444444,\"#bd3786\"],[0.5555555555555556,\"#d8576b\"],[0.6666666666666666,\"#ed7953\"],[0.7777777777777778,\"#fb9f3a\"],[0.8888888888888888,\"#fdca26\"],[1.0,\"#f0f921\"]]},\"colorway\":[\"#636efa\",\"#EF553B\",\"#00cc96\",\"#ab63fa\",\"#FFA15A\",\"#19d3f3\",\"#FF6692\",\"#B6E880\",\"#FF97FF\",\"#FECB52\"],\"font\":{\"color\":\"#2a3f5f\"},\"geo\":{\"bgcolor\":\"white\",\"lakecolor\":\"white\",\"landcolor\":\"#E5ECF6\",\"showlakes\":true,\"showland\":true,\"subunitcolor\":\"white\"},\"hoverlabel\":{\"align\":\"left\"},\"hovermode\":\"closest\",\"mapbox\":{\"style\":\"light\"},\"paper_bgcolor\":\"white\",\"plot_bgcolor\":\"#E5ECF6\",\"polar\":{\"angularaxis\":{\"gridcolor\":\"white\",\"linecolor\":\"white\",\"ticks\":\"\"},\"bgcolor\":\"#E5ECF6\",\"radialaxis\":{\"gridcolor\":\"white\",\"linecolor\":\"white\",\"ticks\":\"\"}},\"scene\":{\"xaxis\":{\"backgroundcolor\":\"#E5ECF6\",\"gridcolor\":\"white\",\"gridwidth\":2,\"linecolor\":\"white\",\"showbackground\":true,\"ticks\":\"\",\"zerolinecolor\":\"white\"},\"yaxis\":{\"backgroundcolor\":\"#E5ECF6\",\"gridcolor\":\"white\",\"gridwidth\":2,\"linecolor\":\"white\",\"showbackground\":true,\"ticks\":\"\",\"zerolinecolor\":\"white\"},\"zaxis\":{\"backgroundcolor\":\"#E5ECF6\",\"gridcolor\":\"white\",\"gridwidth\":2,\"linecolor\":\"white\",\"showbackground\":true,\"ticks\":\"\",\"zerolinecolor\":\"white\"}},\"shapedefaults\":{\"line\":{\"color\":\"#2a3f5f\"}},\"ternary\":{\"aaxis\":{\"gridcolor\":\"white\",\"linecolor\":\"white\",\"ticks\":\"\"},\"baxis\":{\"gridcolor\":\"white\",\"linecolor\":\"white\",\"ticks\":\"\"},\"bgcolor\":\"#E5ECF6\",\"caxis\":{\"gridcolor\":\"white\",\"linecolor\":\"white\",\"ticks\":\"\"}},\"title\":{\"x\":0.05},\"xaxis\":{\"automargin\":true,\"gridcolor\":\"white\",\"linecolor\":\"white\",\"ticks\":\"\",\"title\":{\"standoff\":15},\"zerolinecolor\":\"white\",\"zerolinewidth\":2},\"yaxis\":{\"automargin\":true,\"gridcolor\":\"white\",\"linecolor\":\"white\",\"ticks\":\"\",\"title\":{\"standoff\":15},\"zerolinecolor\":\"white\",\"zerolinewidth\":2}}},\"xaxis\":{\"anchor\":\"y\",\"domain\":[0.0,1.0],\"title\":{\"text\":\"Edition\"}},\"yaxis\":{\"anchor\":\"x\",\"domain\":[0.0,1.0],\"title\":{\"text\":\"No of Countries\"}},\"legend\":{\"tracegroupgap\":0},\"margin\":{\"t\":60}},                        {\"responsive\": true}                    ).then(function(){\n",
       "                            \n",
       "var gd = document.getElementById('1e721eb7-6433-4b67-81a1-e08f1785793a');\n",
       "var x = new MutationObserver(function (mutations, observer) {{\n",
       "        var display = window.getComputedStyle(gd).display;\n",
       "        if (!display || display === 'none') {{\n",
       "            console.log([gd, 'removed!']);\n",
       "            Plotly.purge(gd);\n",
       "            observer.disconnect();\n",
       "        }}\n",
       "}});\n",
       "\n",
       "// Listen for the removal of the full notebook cells\n",
       "var notebookContainer = gd.closest('#notebook-container');\n",
       "if (notebookContainer) {{\n",
       "    x.observe(notebookContainer, {childList: true});\n",
       "}}\n",
       "\n",
       "// Listen for the clearing of the current output cell\n",
       "var outputEl = gd.closest('.output');\n",
       "if (outputEl) {{\n",
       "    x.observe(outputEl, {childList: true});\n",
       "}}\n",
       "\n",
       "                        })                };                });            </script>        </div>"
      ]
     },
     "metadata": {},
     "output_type": "display_data"
    }
   ],
   "source": [
    "import plotly.express as px\n",
    "fig = px.line(nations_over_time, x ='Edition',y='No of Countries' )\n",
    "fig.show()"
   ]
  },
  {
   "cell_type": "code",
   "execution_count": 290,
   "metadata": {},
   "outputs": [],
   "source": [
    "events_over_time = summer_event.drop_duplicates(['Year','Event'])['Year'].value_counts().reset_index().sort_values('index')"
   ]
  },
  {
   "cell_type": "code",
   "execution_count": 291,
   "metadata": {},
   "outputs": [
    {
     "data": {
      "text/html": [
       "<div>\n",
       "<style scoped>\n",
       "    .dataframe tbody tr th:only-of-type {\n",
       "        vertical-align: middle;\n",
       "    }\n",
       "\n",
       "    .dataframe tbody tr th {\n",
       "        vertical-align: top;\n",
       "    }\n",
       "\n",
       "    .dataframe thead th {\n",
       "        text-align: right;\n",
       "    }\n",
       "</style>\n",
       "<table border=\"1\" class=\"dataframe\">\n",
       "  <thead>\n",
       "    <tr style=\"text-align: right;\">\n",
       "      <th></th>\n",
       "      <th>index</th>\n",
       "      <th>Year</th>\n",
       "    </tr>\n",
       "  </thead>\n",
       "  <tbody>\n",
       "    <tr>\n",
       "      <th>28</th>\n",
       "      <td>1896</td>\n",
       "      <td>43</td>\n",
       "    </tr>\n",
       "    <tr>\n",
       "      <th>26</th>\n",
       "      <td>1900</td>\n",
       "      <td>90</td>\n",
       "    </tr>\n",
       "    <tr>\n",
       "      <th>25</th>\n",
       "      <td>1904</td>\n",
       "      <td>95</td>\n",
       "    </tr>\n",
       "    <tr>\n",
       "      <th>27</th>\n",
       "      <td>1906</td>\n",
       "      <td>74</td>\n",
       "    </tr>\n",
       "    <tr>\n",
       "      <th>23</th>\n",
       "      <td>1908</td>\n",
       "      <td>109</td>\n",
       "    </tr>\n",
       "    <tr>\n",
       "      <th>24</th>\n",
       "      <td>1912</td>\n",
       "      <td>107</td>\n",
       "    </tr>\n",
       "    <tr>\n",
       "      <th>14</th>\n",
       "      <td>1920</td>\n",
       "      <td>158</td>\n",
       "    </tr>\n",
       "    <tr>\n",
       "      <th>21</th>\n",
       "      <td>1924</td>\n",
       "      <td>131</td>\n",
       "    </tr>\n",
       "    <tr>\n",
       "      <th>22</th>\n",
       "      <td>1928</td>\n",
       "      <td>122</td>\n",
       "    </tr>\n",
       "    <tr>\n",
       "      <th>20</th>\n",
       "      <td>1932</td>\n",
       "      <td>131</td>\n",
       "    </tr>\n",
       "    <tr>\n",
       "      <th>18</th>\n",
       "      <td>1936</td>\n",
       "      <td>150</td>\n",
       "    </tr>\n",
       "    <tr>\n",
       "      <th>15</th>\n",
       "      <td>1948</td>\n",
       "      <td>153</td>\n",
       "    </tr>\n",
       "    <tr>\n",
       "      <th>19</th>\n",
       "      <td>1952</td>\n",
       "      <td>149</td>\n",
       "    </tr>\n",
       "    <tr>\n",
       "      <th>16</th>\n",
       "      <td>1956</td>\n",
       "      <td>151</td>\n",
       "    </tr>\n",
       "    <tr>\n",
       "      <th>17</th>\n",
       "      <td>1960</td>\n",
       "      <td>150</td>\n",
       "    </tr>\n",
       "    <tr>\n",
       "      <th>13</th>\n",
       "      <td>1964</td>\n",
       "      <td>163</td>\n",
       "    </tr>\n",
       "    <tr>\n",
       "      <th>12</th>\n",
       "      <td>1968</td>\n",
       "      <td>172</td>\n",
       "    </tr>\n",
       "    <tr>\n",
       "      <th>11</th>\n",
       "      <td>1972</td>\n",
       "      <td>193</td>\n",
       "    </tr>\n",
       "    <tr>\n",
       "      <th>10</th>\n",
       "      <td>1976</td>\n",
       "      <td>198</td>\n",
       "    </tr>\n",
       "    <tr>\n",
       "      <th>9</th>\n",
       "      <td>1980</td>\n",
       "      <td>203</td>\n",
       "    </tr>\n",
       "    <tr>\n",
       "      <th>8</th>\n",
       "      <td>1984</td>\n",
       "      <td>221</td>\n",
       "    </tr>\n",
       "    <tr>\n",
       "      <th>7</th>\n",
       "      <td>1988</td>\n",
       "      <td>237</td>\n",
       "    </tr>\n",
       "    <tr>\n",
       "      <th>6</th>\n",
       "      <td>1992</td>\n",
       "      <td>257</td>\n",
       "    </tr>\n",
       "    <tr>\n",
       "      <th>5</th>\n",
       "      <td>1996</td>\n",
       "      <td>271</td>\n",
       "    </tr>\n",
       "    <tr>\n",
       "      <th>4</th>\n",
       "      <td>2000</td>\n",
       "      <td>300</td>\n",
       "    </tr>\n",
       "    <tr>\n",
       "      <th>3</th>\n",
       "      <td>2004</td>\n",
       "      <td>301</td>\n",
       "    </tr>\n",
       "    <tr>\n",
       "      <th>2</th>\n",
       "      <td>2008</td>\n",
       "      <td>302</td>\n",
       "    </tr>\n",
       "    <tr>\n",
       "      <th>1</th>\n",
       "      <td>2012</td>\n",
       "      <td>302</td>\n",
       "    </tr>\n",
       "    <tr>\n",
       "      <th>0</th>\n",
       "      <td>2016</td>\n",
       "      <td>306</td>\n",
       "    </tr>\n",
       "  </tbody>\n",
       "</table>\n",
       "</div>"
      ],
      "text/plain": [
       "    index  Year\n",
       "28   1896    43\n",
       "26   1900    90\n",
       "25   1904    95\n",
       "27   1906    74\n",
       "23   1908   109\n",
       "24   1912   107\n",
       "14   1920   158\n",
       "21   1924   131\n",
       "22   1928   122\n",
       "20   1932   131\n",
       "18   1936   150\n",
       "15   1948   153\n",
       "19   1952   149\n",
       "16   1956   151\n",
       "17   1960   150\n",
       "13   1964   163\n",
       "12   1968   172\n",
       "11   1972   193\n",
       "10   1976   198\n",
       "9    1980   203\n",
       "8    1984   221\n",
       "7    1988   237\n",
       "6    1992   257\n",
       "5    1996   271\n",
       "4    2000   300\n",
       "3    2004   301\n",
       "2    2008   302\n",
       "1    2012   302\n",
       "0    2016   306"
      ]
     },
     "execution_count": 291,
     "metadata": {},
     "output_type": "execute_result"
    }
   ],
   "source": [
    "events_over_time"
   ]
  },
  {
   "cell_type": "markdown",
   "metadata": {},
   "source": [
    "### Number of Events/Sports\n",
    "###### Heat map of Events by Year"
   ]
  },
  {
   "cell_type": "code",
   "execution_count": 292,
   "metadata": {},
   "outputs": [],
   "source": [
    "x= summer_event.drop_duplicates(['Year','Sport','Event'])"
   ]
  },
  {
   "cell_type": "code",
   "execution_count": 293,
   "metadata": {},
   "outputs": [
    {
     "data": {
      "text/plain": [
       "<AxesSubplot:xlabel='Year', ylabel='Sport'>"
      ]
     },
     "execution_count": 293,
     "metadata": {},
     "output_type": "execute_result"
    },
    {
     "data": {
      "image/png": "[encoded data removed]",
      "text/plain": [
       "<Figure size 1440x1440 with 2 Axes>"
      ]
     },
     "metadata": {
      "needs_background": "light"
     },
     "output_type": "display_data"
    }
   ],
   "source": [
    "import seaborn as sns\n",
    "plt.figure(figsize=(20,20))\n",
    "sns.heatmap(x.pivot_table(index ='Sport',columns = 'Year',values = 'Event',aggfunc ='count').fillna(0).astype(int),annot = True)"
   ]
  },
  {
   "cell_type": "markdown",
   "metadata": {},
   "source": [
    "### Athlete Medal analysis"
   ]
  },
  {
   "cell_type": "markdown",
   "metadata": {},
   "source": [
    "# Add new filter meal and femeal."
   ]
  },
  {
   "cell_type": "code",
   "execution_count": 294,
   "metadata": {},
   "outputs": [
    {
     "data": {
      "text/html": [
       "<div>\n",
       "<style scoped>\n",
       "    .dataframe tbody tr th:only-of-type {\n",
       "        vertical-align: middle;\n",
       "    }\n",
       "\n",
       "    .dataframe tbody tr th {\n",
       "        vertical-align: top;\n",
       "    }\n",
       "\n",
       "    .dataframe thead th {\n",
       "        text-align: right;\n",
       "    }\n",
       "</style>\n",
       "<table border=\"1\" class=\"dataframe\">\n",
       "  <thead>\n",
       "    <tr style=\"text-align: right;\">\n",
       "      <th></th>\n",
       "      <th>ID</th>\n",
       "      <th>Name</th>\n",
       "      <th>Sex</th>\n",
       "      <th>Age</th>\n",
       "      <th>Height</th>\n",
       "      <th>Weight</th>\n",
       "      <th>Team</th>\n",
       "      <th>NOC</th>\n",
       "      <th>Games</th>\n",
       "      <th>Year</th>\n",
       "      <th>Season</th>\n",
       "      <th>City</th>\n",
       "      <th>Sport</th>\n",
       "      <th>Event</th>\n",
       "      <th>Medal</th>\n",
       "      <th>region</th>\n",
       "      <th>notes</th>\n",
       "      <th>Bronze</th>\n",
       "      <th>Gold</th>\n",
       "      <th>Silver</th>\n",
       "    </tr>\n",
       "  </thead>\n",
       "  <tbody>\n",
       "    <tr>\n",
       "      <th>0</th>\n",
       "      <td>1</td>\n",
       "      <td>A Dijiang</td>\n",
       "      <td>M</td>\n",
       "      <td>24.0</td>\n",
       "      <td>180.0</td>\n",
       "      <td>80.0</td>\n",
       "      <td>China</td>\n",
       "      <td>CHN</td>\n",
       "      <td>1992 Summer</td>\n",
       "      <td>1992</td>\n",
       "      <td>Summer</td>\n",
       "      <td>Barcelona</td>\n",
       "      <td>Basketball</td>\n",
       "      <td>Basketball Men's Basketball</td>\n",
       "      <td>NaN</td>\n",
       "      <td>China</td>\n",
       "      <td>NaN</td>\n",
       "      <td>0</td>\n",
       "      <td>0</td>\n",
       "      <td>0</td>\n",
       "    </tr>\n",
       "    <tr>\n",
       "      <th>1</th>\n",
       "      <td>2</td>\n",
       "      <td>A Lamusi</td>\n",
       "      <td>M</td>\n",
       "      <td>23.0</td>\n",
       "      <td>170.0</td>\n",
       "      <td>60.0</td>\n",
       "      <td>China</td>\n",
       "      <td>CHN</td>\n",
       "      <td>2012 Summer</td>\n",
       "      <td>2012</td>\n",
       "      <td>Summer</td>\n",
       "      <td>London</td>\n",
       "      <td>Judo</td>\n",
       "      <td>Judo Men's Extra-Lightweight</td>\n",
       "      <td>NaN</td>\n",
       "      <td>China</td>\n",
       "      <td>NaN</td>\n",
       "      <td>0</td>\n",
       "      <td>0</td>\n",
       "      <td>0</td>\n",
       "    </tr>\n",
       "    <tr>\n",
       "      <th>2</th>\n",
       "      <td>3</td>\n",
       "      <td>Gunnar Nielsen Aaby</td>\n",
       "      <td>M</td>\n",
       "      <td>24.0</td>\n",
       "      <td>NaN</td>\n",
       "      <td>NaN</td>\n",
       "      <td>Denmark</td>\n",
       "      <td>DEN</td>\n",
       "      <td>1920 Summer</td>\n",
       "      <td>1920</td>\n",
       "      <td>Summer</td>\n",
       "      <td>Antwerpen</td>\n",
       "      <td>Football</td>\n",
       "      <td>Football Men's Football</td>\n",
       "      <td>NaN</td>\n",
       "      <td>Denmark</td>\n",
       "      <td>NaN</td>\n",
       "      <td>0</td>\n",
       "      <td>0</td>\n",
       "      <td>0</td>\n",
       "    </tr>\n",
       "    <tr>\n",
       "      <th>3</th>\n",
       "      <td>4</td>\n",
       "      <td>Edgar Lindenau Aabye</td>\n",
       "      <td>M</td>\n",
       "      <td>34.0</td>\n",
       "      <td>NaN</td>\n",
       "      <td>NaN</td>\n",
       "      <td>Denmark/Sweden</td>\n",
       "      <td>DEN</td>\n",
       "      <td>1900 Summer</td>\n",
       "      <td>1900</td>\n",
       "      <td>Summer</td>\n",
       "      <td>Paris</td>\n",
       "      <td>Tug-Of-War</td>\n",
       "      <td>Tug-Of-War Men's Tug-Of-War</td>\n",
       "      <td>Gold</td>\n",
       "      <td>Denmark</td>\n",
       "      <td>NaN</td>\n",
       "      <td>0</td>\n",
       "      <td>1</td>\n",
       "      <td>0</td>\n",
       "    </tr>\n",
       "    <tr>\n",
       "      <th>4</th>\n",
       "      <td>8</td>\n",
       "      <td>Cornelia \"Cor\" Aalten (-Strannood)</td>\n",
       "      <td>F</td>\n",
       "      <td>18.0</td>\n",
       "      <td>168.0</td>\n",
       "      <td>NaN</td>\n",
       "      <td>Netherlands</td>\n",
       "      <td>NED</td>\n",
       "      <td>1932 Summer</td>\n",
       "      <td>1932</td>\n",
       "      <td>Summer</td>\n",
       "      <td>Los Angeles</td>\n",
       "      <td>Athletics</td>\n",
       "      <td>Athletics Women's 100 metres</td>\n",
       "      <td>NaN</td>\n",
       "      <td>Netherlands</td>\n",
       "      <td>NaN</td>\n",
       "      <td>0</td>\n",
       "      <td>0</td>\n",
       "      <td>0</td>\n",
       "    </tr>\n",
       "  </tbody>\n",
       "</table>\n",
       "</div>"
      ],
      "text/plain": [
       "   ID                                Name Sex   Age  Height  Weight  \\\n",
       "0   1                           A Dijiang   M  24.0   180.0    80.0   \n",
       "1   2                            A Lamusi   M  23.0   170.0    60.0   \n",
       "2   3                 Gunnar Nielsen Aaby   M  24.0     NaN     NaN   \n",
       "3   4                Edgar Lindenau Aabye   M  34.0     NaN     NaN   \n",
       "4   8  Cornelia \"Cor\" Aalten (-Strannood)   F  18.0   168.0     NaN   \n",
       "\n",
       "             Team  NOC        Games  Year  Season         City       Sport  \\\n",
       "0           China  CHN  1992 Summer  1992  Summer    Barcelona  Basketball   \n",
       "1           China  CHN  2012 Summer  2012  Summer       London        Judo   \n",
       "2         Denmark  DEN  1920 Summer  1920  Summer    Antwerpen    Football   \n",
       "3  Denmark/Sweden  DEN  1900 Summer  1900  Summer        Paris  Tug-Of-War   \n",
       "4     Netherlands  NED  1932 Summer  1932  Summer  Los Angeles   Athletics   \n",
       "\n",
       "                          Event Medal       region notes  Bronze  Gold  Silver  \n",
       "0   Basketball Men's Basketball   NaN        China   NaN       0     0       0  \n",
       "1  Judo Men's Extra-Lightweight   NaN        China   NaN       0     0       0  \n",
       "2       Football Men's Football   NaN      Denmark   NaN       0     0       0  \n",
       "3   Tug-Of-War Men's Tug-Of-War  Gold      Denmark   NaN       0     1       0  \n",
       "4  Athletics Women's 100 metres   NaN  Netherlands   NaN       0     0       0  "
      ]
     },
     "execution_count": 294,
     "metadata": {},
     "output_type": "execute_result"
    }
   ],
   "source": [
    "summer_event.head(5)"
   ]
  },
  {
   "cell_type": "code",
   "execution_count": 295,
   "metadata": {},
   "outputs": [],
   "source": [
    "def most_wom(data,sport):\n",
    "    temp_df = data.dropna(subset = [\"Medal\"])\n",
    "    if sport != \"Overall\":\n",
    "        temp_df = temp_df[temp_df['Sport']==sport]\n",
    "    x = temp_df['Name'].value_counts().reset_index().head(15).merge(data,left_on = 'index',right_on = 'Name',how = 'left')[['index','Name_x','Sport','region','Sex']].drop_duplicates('index')\n",
    "    x.rename(columns = {'index':'Name','Name_x':'Medels'},inplace = True)\n",
    "    return x\n",
    "    "
   ]
  },
  {
   "cell_type": "code",
   "execution_count": 296,
   "metadata": {
    "scrolled": true
   },
   "outputs": [
    {
     "data": {
      "text/html": [
       "<div>\n",
       "<style scoped>\n",
       "    .dataframe tbody tr th:only-of-type {\n",
       "        vertical-align: middle;\n",
       "    }\n",
       "\n",
       "    .dataframe tbody tr th {\n",
       "        vertical-align: top;\n",
       "    }\n",
       "\n",
       "    .dataframe thead th {\n",
       "        text-align: right;\n",
       "    }\n",
       "</style>\n",
       "<table border=\"1\" class=\"dataframe\">\n",
       "  <thead>\n",
       "    <tr style=\"text-align: right;\">\n",
       "      <th></th>\n",
       "      <th>Name</th>\n",
       "      <th>Medels</th>\n",
       "      <th>Sport</th>\n",
       "      <th>region</th>\n",
       "      <th>Sex</th>\n",
       "    </tr>\n",
       "  </thead>\n",
       "  <tbody>\n",
       "    <tr>\n",
       "      <th>0</th>\n",
       "      <td>Ryoko Tamura-Tani</td>\n",
       "      <td>5</td>\n",
       "      <td>Judo</td>\n",
       "      <td>Japan</td>\n",
       "      <td>F</td>\n",
       "    </tr>\n",
       "    <tr>\n",
       "      <th>5</th>\n",
       "      <td>Angelo Parisi</td>\n",
       "      <td>4</td>\n",
       "      <td>Judo</td>\n",
       "      <td>UK</td>\n",
       "      <td>M</td>\n",
       "    </tr>\n",
       "    <tr>\n",
       "      <th>9</th>\n",
       "      <td>Driulys Gonzlez Morales</td>\n",
       "      <td>4</td>\n",
       "      <td>Judo</td>\n",
       "      <td>Cuba</td>\n",
       "      <td>F</td>\n",
       "    </tr>\n",
       "    <tr>\n",
       "      <th>14</th>\n",
       "      <td>Teddy Pierre-Marie Riner</td>\n",
       "      <td>3</td>\n",
       "      <td>Judo</td>\n",
       "      <td>France</td>\n",
       "      <td>M</td>\n",
       "    </tr>\n",
       "    <tr>\n",
       "      <th>17</th>\n",
       "      <td>Edith Bosch</td>\n",
       "      <td>3</td>\n",
       "      <td>Judo</td>\n",
       "      <td>Netherlands</td>\n",
       "      <td>F</td>\n",
       "    </tr>\n",
       "    <tr>\n",
       "      <th>21</th>\n",
       "      <td>Idalys Ortz Bocourt</td>\n",
       "      <td>3</td>\n",
       "      <td>Judo</td>\n",
       "      <td>Cuba</td>\n",
       "      <td>F</td>\n",
       "    </tr>\n",
       "    <tr>\n",
       "      <th>24</th>\n",
       "      <td>Amarilys Savn Carmenate</td>\n",
       "      <td>3</td>\n",
       "      <td>Judo</td>\n",
       "      <td>Cuba</td>\n",
       "      <td>F</td>\n",
       "    </tr>\n",
       "    <tr>\n",
       "      <th>28</th>\n",
       "      <td>David Douillet</td>\n",
       "      <td>3</td>\n",
       "      <td>Judo</td>\n",
       "      <td>France</td>\n",
       "      <td>M</td>\n",
       "    </tr>\n",
       "    <tr>\n",
       "      <th>31</th>\n",
       "      <td>Tadahiro Nomura</td>\n",
       "      <td>3</td>\n",
       "      <td>Judo</td>\n",
       "      <td>Japan</td>\n",
       "      <td>M</td>\n",
       "    </tr>\n",
       "    <tr>\n",
       "      <th>34</th>\n",
       "      <td>Rishod Rashidovich Sobirov</td>\n",
       "      <td>3</td>\n",
       "      <td>Judo</td>\n",
       "      <td>Uzbekistan</td>\n",
       "      <td>M</td>\n",
       "    </tr>\n",
       "    <tr>\n",
       "      <th>37</th>\n",
       "      <td>Kye Sun-Hui</td>\n",
       "      <td>3</td>\n",
       "      <td>Judo</td>\n",
       "      <td>North Korea</td>\n",
       "      <td>F</td>\n",
       "    </tr>\n",
       "    <tr>\n",
       "      <th>41</th>\n",
       "      <td>Mark Huizinga</td>\n",
       "      <td>3</td>\n",
       "      <td>Judo</td>\n",
       "      <td>Netherlands</td>\n",
       "      <td>M</td>\n",
       "    </tr>\n",
       "    <tr>\n",
       "      <th>45</th>\n",
       "      <td>Gnther Neureuther</td>\n",
       "      <td>2</td>\n",
       "      <td>Judo</td>\n",
       "      <td>Germany</td>\n",
       "      <td>M</td>\n",
       "    </tr>\n",
       "    <tr>\n",
       "      <th>48</th>\n",
       "      <td>Nicolas Gill</td>\n",
       "      <td>2</td>\n",
       "      <td>Judo</td>\n",
       "      <td>Canada</td>\n",
       "      <td>M</td>\n",
       "    </tr>\n",
       "    <tr>\n",
       "      <th>52</th>\n",
       "      <td>Ezio Gamba</td>\n",
       "      <td>2</td>\n",
       "      <td>Judo</td>\n",
       "      <td>Italy</td>\n",
       "      <td>M</td>\n",
       "    </tr>\n",
       "  </tbody>\n",
       "</table>\n",
       "</div>"
      ],
      "text/plain": [
       "                          Name  Medels Sport       region Sex\n",
       "0            Ryoko Tamura-Tani       5  Judo        Japan   F\n",
       "5                Angelo Parisi       4  Judo           UK   M\n",
       "9      Driulys Gonzlez Morales       4  Judo         Cuba   F\n",
       "14    Teddy Pierre-Marie Riner       3  Judo       France   M\n",
       "17                 Edith Bosch       3  Judo  Netherlands   F\n",
       "21         Idalys Ortz Bocourt       3  Judo         Cuba   F\n",
       "24     Amarilys Savn Carmenate       3  Judo         Cuba   F\n",
       "28              David Douillet       3  Judo       France   M\n",
       "31             Tadahiro Nomura       3  Judo        Japan   M\n",
       "34  Rishod Rashidovich Sobirov       3  Judo   Uzbekistan   M\n",
       "37                 Kye Sun-Hui       3  Judo  North Korea   F\n",
       "41               Mark Huizinga       3  Judo  Netherlands   M\n",
       "45           Gnther Neureuther       2  Judo      Germany   M\n",
       "48                Nicolas Gill       2  Judo       Canada   M\n",
       "52                  Ezio Gamba       2  Judo        Italy   M"
      ]
     },
     "execution_count": 296,
     "metadata": {},
     "output_type": "execute_result"
    }
   ],
   "source": [
    "most_wom(summer_event,'Judo')"
   ]
  },
  {
   "cell_type": "markdown",
   "metadata": {},
   "source": [
    "## Country Wise Analysis"
   ]
  },
  {
   "cell_type": "markdown",
   "metadata": {},
   "source": [
    "- Countrywise medal tally per Year.\n",
    "- In which Sport Country is good at. In Heatmap.\n",
    "- Top 10 players of perticular country."
   ]
  },
  {
   "cell_type": "markdown",
   "metadata": {},
   "source": [
    "# Add Male and Female filter."
   ]
  },
  {
   "cell_type": "markdown",
   "metadata": {},
   "source": [
    "### Countrywise medal tally per Year."
   ]
  },
  {
   "cell_type": "code",
   "execution_count": 297,
   "metadata": {},
   "outputs": [
    {
     "data": {
      "text/html": [
       "<div>\n",
       "<style scoped>\n",
       "    .dataframe tbody tr th:only-of-type {\n",
       "        vertical-align: middle;\n",
       "    }\n",
       "\n",
       "    .dataframe tbody tr th {\n",
       "        vertical-align: top;\n",
       "    }\n",
       "\n",
       "    .dataframe thead th {\n",
       "        text-align: right;\n",
       "    }\n",
       "</style>\n",
       "<table border=\"1\" class=\"dataframe\">\n",
       "  <thead>\n",
       "    <tr style=\"text-align: right;\">\n",
       "      <th></th>\n",
       "      <th>ID</th>\n",
       "      <th>Name</th>\n",
       "      <th>Sex</th>\n",
       "      <th>Age</th>\n",
       "      <th>Height</th>\n",
       "      <th>Weight</th>\n",
       "      <th>Team</th>\n",
       "      <th>NOC</th>\n",
       "      <th>Games</th>\n",
       "      <th>Year</th>\n",
       "      <th>Season</th>\n",
       "      <th>City</th>\n",
       "      <th>Sport</th>\n",
       "      <th>Event</th>\n",
       "      <th>Medal</th>\n",
       "      <th>region</th>\n",
       "      <th>notes</th>\n",
       "      <th>Bronze</th>\n",
       "      <th>Gold</th>\n",
       "      <th>Silver</th>\n",
       "    </tr>\n",
       "  </thead>\n",
       "  <tbody>\n",
       "    <tr>\n",
       "      <th>3</th>\n",
       "      <td>4</td>\n",
       "      <td>Edgar Lindenau Aabye</td>\n",
       "      <td>M</td>\n",
       "      <td>34.0</td>\n",
       "      <td>NaN</td>\n",
       "      <td>NaN</td>\n",
       "      <td>Denmark/Sweden</td>\n",
       "      <td>DEN</td>\n",
       "      <td>1900 Summer</td>\n",
       "      <td>1900</td>\n",
       "      <td>Summer</td>\n",
       "      <td>Paris</td>\n",
       "      <td>Tug-Of-War</td>\n",
       "      <td>Tug-Of-War Men's Tug-Of-War</td>\n",
       "      <td>Gold</td>\n",
       "      <td>Denmark</td>\n",
       "      <td>NaN</td>\n",
       "      <td>0</td>\n",
       "      <td>1</td>\n",
       "      <td>0</td>\n",
       "    </tr>\n",
       "    <tr>\n",
       "      <th>12</th>\n",
       "      <td>15</td>\n",
       "      <td>Arvo Ossian Aaltonen</td>\n",
       "      <td>M</td>\n",
       "      <td>30.0</td>\n",
       "      <td>NaN</td>\n",
       "      <td>NaN</td>\n",
       "      <td>Finland</td>\n",
       "      <td>FIN</td>\n",
       "      <td>1920 Summer</td>\n",
       "      <td>1920</td>\n",
       "      <td>Summer</td>\n",
       "      <td>Antwerpen</td>\n",
       "      <td>Swimming</td>\n",
       "      <td>Swimming Men's 200 metres Breaststroke</td>\n",
       "      <td>Bronze</td>\n",
       "      <td>Finland</td>\n",
       "      <td>NaN</td>\n",
       "      <td>1</td>\n",
       "      <td>0</td>\n",
       "      <td>0</td>\n",
       "    </tr>\n",
       "    <tr>\n",
       "      <th>13</th>\n",
       "      <td>15</td>\n",
       "      <td>Arvo Ossian Aaltonen</td>\n",
       "      <td>M</td>\n",
       "      <td>30.0</td>\n",
       "      <td>NaN</td>\n",
       "      <td>NaN</td>\n",
       "      <td>Finland</td>\n",
       "      <td>FIN</td>\n",
       "      <td>1920 Summer</td>\n",
       "      <td>1920</td>\n",
       "      <td>Summer</td>\n",
       "      <td>Antwerpen</td>\n",
       "      <td>Swimming</td>\n",
       "      <td>Swimming Men's 400 metres Breaststroke</td>\n",
       "      <td>Bronze</td>\n",
       "      <td>Finland</td>\n",
       "      <td>NaN</td>\n",
       "      <td>1</td>\n",
       "      <td>0</td>\n",
       "      <td>0</td>\n",
       "    </tr>\n",
       "    <tr>\n",
       "      <th>15</th>\n",
       "      <td>17</td>\n",
       "      <td>Paavo Johannes Aaltonen</td>\n",
       "      <td>M</td>\n",
       "      <td>28.0</td>\n",
       "      <td>175.0</td>\n",
       "      <td>64.0</td>\n",
       "      <td>Finland</td>\n",
       "      <td>FIN</td>\n",
       "      <td>1948 Summer</td>\n",
       "      <td>1948</td>\n",
       "      <td>Summer</td>\n",
       "      <td>London</td>\n",
       "      <td>Gymnastics</td>\n",
       "      <td>Gymnastics Men's Individual All-Around</td>\n",
       "      <td>Bronze</td>\n",
       "      <td>Finland</td>\n",
       "      <td>NaN</td>\n",
       "      <td>1</td>\n",
       "      <td>0</td>\n",
       "      <td>0</td>\n",
       "    </tr>\n",
       "    <tr>\n",
       "      <th>16</th>\n",
       "      <td>17</td>\n",
       "      <td>Paavo Johannes Aaltonen</td>\n",
       "      <td>M</td>\n",
       "      <td>28.0</td>\n",
       "      <td>175.0</td>\n",
       "      <td>64.0</td>\n",
       "      <td>Finland</td>\n",
       "      <td>FIN</td>\n",
       "      <td>1948 Summer</td>\n",
       "      <td>1948</td>\n",
       "      <td>Summer</td>\n",
       "      <td>London</td>\n",
       "      <td>Gymnastics</td>\n",
       "      <td>Gymnastics Men's Team All-Around</td>\n",
       "      <td>Gold</td>\n",
       "      <td>Finland</td>\n",
       "      <td>NaN</td>\n",
       "      <td>0</td>\n",
       "      <td>1</td>\n",
       "      <td>0</td>\n",
       "    </tr>\n",
       "    <tr>\n",
       "      <th>...</th>\n",
       "      <td>...</td>\n",
       "      <td>...</td>\n",
       "      <td>...</td>\n",
       "      <td>...</td>\n",
       "      <td>...</td>\n",
       "      <td>...</td>\n",
       "      <td>...</td>\n",
       "      <td>...</td>\n",
       "      <td>...</td>\n",
       "      <td>...</td>\n",
       "      <td>...</td>\n",
       "      <td>...</td>\n",
       "      <td>...</td>\n",
       "      <td>...</td>\n",
       "      <td>...</td>\n",
       "      <td>...</td>\n",
       "      <td>...</td>\n",
       "      <td>...</td>\n",
       "      <td>...</td>\n",
       "      <td>...</td>\n",
       "    </tr>\n",
       "    <tr>\n",
       "      <th>222528</th>\n",
       "      <td>135553</td>\n",
       "      <td>Galina Ivanovna Zybina (-Fyodorova)</td>\n",
       "      <td>F</td>\n",
       "      <td>25.0</td>\n",
       "      <td>168.0</td>\n",
       "      <td>80.0</td>\n",
       "      <td>Soviet Union</td>\n",
       "      <td>URS</td>\n",
       "      <td>1956 Summer</td>\n",
       "      <td>1956</td>\n",
       "      <td>Summer</td>\n",
       "      <td>Melbourne</td>\n",
       "      <td>Athletics</td>\n",
       "      <td>Athletics Women's Shot Put</td>\n",
       "      <td>Silver</td>\n",
       "      <td>Russia</td>\n",
       "      <td>NaN</td>\n",
       "      <td>0</td>\n",
       "      <td>0</td>\n",
       "      <td>1</td>\n",
       "    </tr>\n",
       "    <tr>\n",
       "      <th>222530</th>\n",
       "      <td>135553</td>\n",
       "      <td>Galina Ivanovna Zybina (-Fyodorova)</td>\n",
       "      <td>F</td>\n",
       "      <td>33.0</td>\n",
       "      <td>168.0</td>\n",
       "      <td>80.0</td>\n",
       "      <td>Soviet Union</td>\n",
       "      <td>URS</td>\n",
       "      <td>1964 Summer</td>\n",
       "      <td>1964</td>\n",
       "      <td>Summer</td>\n",
       "      <td>Tokyo</td>\n",
       "      <td>Athletics</td>\n",
       "      <td>Athletics Women's Shot Put</td>\n",
       "      <td>Bronze</td>\n",
       "      <td>Russia</td>\n",
       "      <td>NaN</td>\n",
       "      <td>1</td>\n",
       "      <td>0</td>\n",
       "      <td>0</td>\n",
       "    </tr>\n",
       "    <tr>\n",
       "      <th>222532</th>\n",
       "      <td>135554</td>\n",
       "      <td>Bogusaw Zych</td>\n",
       "      <td>M</td>\n",
       "      <td>28.0</td>\n",
       "      <td>182.0</td>\n",
       "      <td>82.0</td>\n",
       "      <td>Poland</td>\n",
       "      <td>POL</td>\n",
       "      <td>1980 Summer</td>\n",
       "      <td>1980</td>\n",
       "      <td>Summer</td>\n",
       "      <td>Moskva</td>\n",
       "      <td>Fencing</td>\n",
       "      <td>Fencing Men's Foil, Team</td>\n",
       "      <td>Bronze</td>\n",
       "      <td>Poland</td>\n",
       "      <td>NaN</td>\n",
       "      <td>1</td>\n",
       "      <td>0</td>\n",
       "      <td>0</td>\n",
       "    </tr>\n",
       "    <tr>\n",
       "      <th>222544</th>\n",
       "      <td>135563</td>\n",
       "      <td>Olesya Nikolayevna Zykina</td>\n",
       "      <td>F</td>\n",
       "      <td>19.0</td>\n",
       "      <td>171.0</td>\n",
       "      <td>64.0</td>\n",
       "      <td>Russia</td>\n",
       "      <td>RUS</td>\n",
       "      <td>2000 Summer</td>\n",
       "      <td>2000</td>\n",
       "      <td>Summer</td>\n",
       "      <td>Sydney</td>\n",
       "      <td>Athletics</td>\n",
       "      <td>Athletics Women's 4 x 400 metres Relay</td>\n",
       "      <td>Bronze</td>\n",
       "      <td>Russia</td>\n",
       "      <td>NaN</td>\n",
       "      <td>1</td>\n",
       "      <td>0</td>\n",
       "      <td>0</td>\n",
       "    </tr>\n",
       "    <tr>\n",
       "      <th>222545</th>\n",
       "      <td>135563</td>\n",
       "      <td>Olesya Nikolayevna Zykina</td>\n",
       "      <td>F</td>\n",
       "      <td>23.0</td>\n",
       "      <td>171.0</td>\n",
       "      <td>64.0</td>\n",
       "      <td>Russia</td>\n",
       "      <td>RUS</td>\n",
       "      <td>2004 Summer</td>\n",
       "      <td>2004</td>\n",
       "      <td>Summer</td>\n",
       "      <td>Athina</td>\n",
       "      <td>Athletics</td>\n",
       "      <td>Athletics Women's 4 x 400 metres Relay</td>\n",
       "      <td>Silver</td>\n",
       "      <td>Russia</td>\n",
       "      <td>NaN</td>\n",
       "      <td>0</td>\n",
       "      <td>0</td>\n",
       "      <td>1</td>\n",
       "    </tr>\n",
       "  </tbody>\n",
       "</table>\n",
       "<p>34077 rows × 20 columns</p>\n",
       "</div>"
      ],
      "text/plain": [
       "            ID                                 Name Sex   Age  Height  Weight  \\\n",
       "3            4                 Edgar Lindenau Aabye   M  34.0     NaN     NaN   \n",
       "12          15                 Arvo Ossian Aaltonen   M  30.0     NaN     NaN   \n",
       "13          15                 Arvo Ossian Aaltonen   M  30.0     NaN     NaN   \n",
       "15          17              Paavo Johannes Aaltonen   M  28.0   175.0    64.0   \n",
       "16          17              Paavo Johannes Aaltonen   M  28.0   175.0    64.0   \n",
       "...        ...                                  ...  ..   ...     ...     ...   \n",
       "222528  135553  Galina Ivanovna Zybina (-Fyodorova)   F  25.0   168.0    80.0   \n",
       "222530  135553  Galina Ivanovna Zybina (-Fyodorova)   F  33.0   168.0    80.0   \n",
       "222532  135554                         Bogusaw Zych   M  28.0   182.0    82.0   \n",
       "222544  135563            Olesya Nikolayevna Zykina   F  19.0   171.0    64.0   \n",
       "222545  135563            Olesya Nikolayevna Zykina   F  23.0   171.0    64.0   \n",
       "\n",
       "                  Team  NOC        Games  Year  Season       City       Sport  \\\n",
       "3       Denmark/Sweden  DEN  1900 Summer  1900  Summer      Paris  Tug-Of-War   \n",
       "12             Finland  FIN  1920 Summer  1920  Summer  Antwerpen    Swimming   \n",
       "13             Finland  FIN  1920 Summer  1920  Summer  Antwerpen    Swimming   \n",
       "15             Finland  FIN  1948 Summer  1948  Summer     London  Gymnastics   \n",
       "16             Finland  FIN  1948 Summer  1948  Summer     London  Gymnastics   \n",
       "...                ...  ...          ...   ...     ...        ...         ...   \n",
       "222528    Soviet Union  URS  1956 Summer  1956  Summer  Melbourne   Athletics   \n",
       "222530    Soviet Union  URS  1964 Summer  1964  Summer      Tokyo   Athletics   \n",
       "222532          Poland  POL  1980 Summer  1980  Summer     Moskva     Fencing   \n",
       "222544          Russia  RUS  2000 Summer  2000  Summer     Sydney   Athletics   \n",
       "222545          Russia  RUS  2004 Summer  2004  Summer     Athina   Athletics   \n",
       "\n",
       "                                         Event   Medal   region notes  Bronze  \\\n",
       "3                  Tug-Of-War Men's Tug-Of-War    Gold  Denmark   NaN       0   \n",
       "12      Swimming Men's 200 metres Breaststroke  Bronze  Finland   NaN       1   \n",
       "13      Swimming Men's 400 metres Breaststroke  Bronze  Finland   NaN       1   \n",
       "15      Gymnastics Men's Individual All-Around  Bronze  Finland   NaN       1   \n",
       "16            Gymnastics Men's Team All-Around    Gold  Finland   NaN       0   \n",
       "...                                        ...     ...      ...   ...     ...   \n",
       "222528              Athletics Women's Shot Put  Silver   Russia   NaN       0   \n",
       "222530              Athletics Women's Shot Put  Bronze   Russia   NaN       1   \n",
       "222532                Fencing Men's Foil, Team  Bronze   Poland   NaN       1   \n",
       "222544  Athletics Women's 4 x 400 metres Relay  Bronze   Russia   NaN       1   \n",
       "222545  Athletics Women's 4 x 400 metres Relay  Silver   Russia   NaN       0   \n",
       "\n",
       "        Gold  Silver  \n",
       "3          1       0  \n",
       "12         0       0  \n",
       "13         0       0  \n",
       "15         0       0  \n",
       "16         1       0  \n",
       "...      ...     ...  \n",
       "222528     0       1  \n",
       "222530     0       0  \n",
       "222532     0       0  \n",
       "222544     0       0  \n",
       "222545     0       1  \n",
       "\n",
       "[34077 rows x 20 columns]"
      ]
     },
     "execution_count": 297,
     "metadata": {},
     "output_type": "execute_result"
    }
   ],
   "source": [
    "summer_event.dropna(subset=['Medal'])"
   ]
  },
  {
   "cell_type": "code",
   "execution_count": 298,
   "metadata": {},
   "outputs": [],
   "source": [
    "summer_event.drop_duplicates(subset=['Team','NOC','Games','Year','City','Sport','Event','Medal'],inplace=True)"
   ]
  },
  {
   "cell_type": "code",
   "execution_count": 299,
   "metadata": {},
   "outputs": [],
   "source": [
    "new_data = summer_event[summer_event['region'] == 'India']"
   ]
  },
  {
   "cell_type": "code",
   "execution_count": 300,
   "metadata": {},
   "outputs": [],
   "source": [
    "final_data = new_data.groupby('Year').count()['Medal'].reset_index()"
   ]
  },
  {
   "cell_type": "code",
   "execution_count": 301,
   "metadata": {
    "scrolled": true
   },
   "outputs": [
    {
     "data": {
      "text/html": [
       "<div>\n",
       "<style scoped>\n",
       "    .dataframe tbody tr th:only-of-type {\n",
       "        vertical-align: middle;\n",
       "    }\n",
       "\n",
       "    .dataframe tbody tr th {\n",
       "        vertical-align: top;\n",
       "    }\n",
       "\n",
       "    .dataframe thead th {\n",
       "        text-align: right;\n",
       "    }\n",
       "</style>\n",
       "<table border=\"1\" class=\"dataframe\">\n",
       "  <thead>\n",
       "    <tr style=\"text-align: right;\">\n",
       "      <th></th>\n",
       "      <th>Year</th>\n",
       "      <th>Medal</th>\n",
       "    </tr>\n",
       "  </thead>\n",
       "  <tbody>\n",
       "    <tr>\n",
       "      <th>0</th>\n",
       "      <td>1900</td>\n",
       "      <td>2</td>\n",
       "    </tr>\n",
       "    <tr>\n",
       "      <th>1</th>\n",
       "      <td>1920</td>\n",
       "      <td>0</td>\n",
       "    </tr>\n",
       "    <tr>\n",
       "      <th>2</th>\n",
       "      <td>1924</td>\n",
       "      <td>0</td>\n",
       "    </tr>\n",
       "    <tr>\n",
       "      <th>3</th>\n",
       "      <td>1928</td>\n",
       "      <td>1</td>\n",
       "    </tr>\n",
       "    <tr>\n",
       "      <th>4</th>\n",
       "      <td>1932</td>\n",
       "      <td>1</td>\n",
       "    </tr>\n",
       "    <tr>\n",
       "      <th>5</th>\n",
       "      <td>1936</td>\n",
       "      <td>1</td>\n",
       "    </tr>\n",
       "    <tr>\n",
       "      <th>6</th>\n",
       "      <td>1948</td>\n",
       "      <td>1</td>\n",
       "    </tr>\n",
       "    <tr>\n",
       "      <th>7</th>\n",
       "      <td>1952</td>\n",
       "      <td>2</td>\n",
       "    </tr>\n",
       "    <tr>\n",
       "      <th>8</th>\n",
       "      <td>1956</td>\n",
       "      <td>1</td>\n",
       "    </tr>\n",
       "    <tr>\n",
       "      <th>9</th>\n",
       "      <td>1960</td>\n",
       "      <td>1</td>\n",
       "    </tr>\n",
       "    <tr>\n",
       "      <th>10</th>\n",
       "      <td>1964</td>\n",
       "      <td>1</td>\n",
       "    </tr>\n",
       "    <tr>\n",
       "      <th>11</th>\n",
       "      <td>1968</td>\n",
       "      <td>1</td>\n",
       "    </tr>\n",
       "    <tr>\n",
       "      <th>12</th>\n",
       "      <td>1972</td>\n",
       "      <td>1</td>\n",
       "    </tr>\n",
       "    <tr>\n",
       "      <th>13</th>\n",
       "      <td>1976</td>\n",
       "      <td>0</td>\n",
       "    </tr>\n",
       "    <tr>\n",
       "      <th>14</th>\n",
       "      <td>1980</td>\n",
       "      <td>1</td>\n",
       "    </tr>\n",
       "    <tr>\n",
       "      <th>15</th>\n",
       "      <td>1984</td>\n",
       "      <td>0</td>\n",
       "    </tr>\n",
       "    <tr>\n",
       "      <th>16</th>\n",
       "      <td>1988</td>\n",
       "      <td>0</td>\n",
       "    </tr>\n",
       "    <tr>\n",
       "      <th>17</th>\n",
       "      <td>1992</td>\n",
       "      <td>0</td>\n",
       "    </tr>\n",
       "    <tr>\n",
       "      <th>18</th>\n",
       "      <td>1996</td>\n",
       "      <td>1</td>\n",
       "    </tr>\n",
       "    <tr>\n",
       "      <th>19</th>\n",
       "      <td>2000</td>\n",
       "      <td>1</td>\n",
       "    </tr>\n",
       "    <tr>\n",
       "      <th>20</th>\n",
       "      <td>2004</td>\n",
       "      <td>1</td>\n",
       "    </tr>\n",
       "    <tr>\n",
       "      <th>21</th>\n",
       "      <td>2008</td>\n",
       "      <td>3</td>\n",
       "    </tr>\n",
       "    <tr>\n",
       "      <th>22</th>\n",
       "      <td>2012</td>\n",
       "      <td>6</td>\n",
       "    </tr>\n",
       "    <tr>\n",
       "      <th>23</th>\n",
       "      <td>2016</td>\n",
       "      <td>2</td>\n",
       "    </tr>\n",
       "  </tbody>\n",
       "</table>\n",
       "</div>"
      ],
      "text/plain": [
       "    Year  Medal\n",
       "0   1900      2\n",
       "1   1920      0\n",
       "2   1924      0\n",
       "3   1928      1\n",
       "4   1932      1\n",
       "5   1936      1\n",
       "6   1948      1\n",
       "7   1952      2\n",
       "8   1956      1\n",
       "9   1960      1\n",
       "10  1964      1\n",
       "11  1968      1\n",
       "12  1972      1\n",
       "13  1976      0\n",
       "14  1980      1\n",
       "15  1984      0\n",
       "16  1988      0\n",
       "17  1992      0\n",
       "18  1996      1\n",
       "19  2000      1\n",
       "20  2004      1\n",
       "21  2008      3\n",
       "22  2012      6\n",
       "23  2016      2"
      ]
     },
     "execution_count": 301,
     "metadata": {},
     "output_type": "execute_result"
    }
   ],
   "source": [
    "final_data"
   ]
  },
  {
   "cell_type": "code",
   "execution_count": 302,
   "metadata": {},
   "outputs": [
    {
     "data": {
      "application/vnd.plotly.v1+json": {
       "config": {
        "plotlyServerURL": "https://plot.ly"
       },
       "data": [
        {
         "hovertemplate": "Year=%{x}<br>Medal=%{y}<extra></extra>",
         "legendgroup": "",
         "line": {
          "color": "#636efa",
          "dash": "solid"
         },
         "marker": {
          "symbol": "circle"
         },
         "mode": "lines",
         "name": "",
         "orientation": "v",
         "showlegend": false,
         "type": "scatter",
         "x": [
          1900,
          1920,
          1924,
          1928,
          1932,
          1936,
          1948,
          1952,
          1956,
          1960,
          1964,
          1968,
          1972,
          1976,
          1980,
          1984,
          1988,
          1992,
          1996,
          2000,
          2004,
          2008,
          2012,
          2016
         ],
         "xaxis": "x",
         "y": [
          2,
          0,
          0,
          1,
          1,
          1,
          1,
          2,
          1,
          1,
          1,
          1,
          1,
          0,
          1,
          0,
          0,
          0,
          1,
          1,
          1,
          3,
          6,
          2
         ],
         "yaxis": "y"
        }
       ],
       "layout": {
        "legend": {
         "tracegroupgap": 0
        },
        "margin": {
         "t": 60
        },
        "template": {
         "data": {
          "bar": [
           {
            "error_x": {
             "color": "#2a3f5f"
            },
            "error_y": {
             "color": "#2a3f5f"
            },
            "marker": {
             "line": {
              "color": "#E5ECF6",
              "width": 0.5
             },
             "pattern": {
              "fillmode": "overlay",
              "size": 10,
              "solidity": 0.2
             }
            },
            "type": "bar"
           }
          ],
          "barpolar": [
           {
            "marker": {
             "line": {
              "color": "#E5ECF6",
              "width": 0.5
             },
             "pattern": {
              "fillmode": "overlay",
              "size": 10,
              "solidity": 0.2
             }
            },
            "type": "barpolar"
           }
          ],
          "carpet": [
           {
            "aaxis": {
             "endlinecolor": "#2a3f5f",
             "gridcolor": "white",
             "linecolor": "white",
             "minorgridcolor": "white",
             "startlinecolor": "#2a3f5f"
            },
            "baxis": {
             "endlinecolor": "#2a3f5f",
             "gridcolor": "white",
             "linecolor": "white",
             "minorgridcolor": "white",
             "startlinecolor": "#2a3f5f"
            },
            "type": "carpet"
           }
          ],
          "choropleth": [
           {
            "colorbar": {
             "outlinewidth": 0,
             "ticks": ""
            },
            "type": "choropleth"
           }
          ],
          "contour": [
           {
            "colorbar": {
             "outlinewidth": 0,
             "ticks": ""
            },
            "colorscale": [
             [
              0,
              "#0d0887"
             ],
             [
              0.1111111111111111,
              "#46039f"
             ],
             [
              0.2222222222222222,
              "#7201a8"
             ],
             [
              0.3333333333333333,
              "#9c179e"
             ],
             [
              0.4444444444444444,
              "#bd3786"
             ],
             [
              0.5555555555555556,
              "#d8576b"
             ],
             [
              0.6666666666666666,
              "#ed7953"
             ],
             [
              0.7777777777777778,
              "#fb9f3a"
             ],
             [
              0.8888888888888888,
              "#fdca26"
             ],
             [
              1,
              "#f0f921"
             ]
            ],
            "type": "contour"
           }
          ],
          "contourcarpet": [
           {
            "colorbar": {
             "outlinewidth": 0,
             "ticks": ""
            },
            "type": "contourcarpet"
           }
          ],
          "heatmap": [
           {
            "colorbar": {
             "outlinewidth": 0,
             "ticks": ""
            },
            "colorscale": [
             [
              0,
              "#0d0887"
             ],
             [
              0.1111111111111111,
              "#46039f"
             ],
             [
              0.2222222222222222,
              "#7201a8"
             ],
             [
              0.3333333333333333,
              "#9c179e"
             ],
             [
              0.4444444444444444,
              "#bd3786"
             ],
             [
              0.5555555555555556,
              "#d8576b"
             ],
             [
              0.6666666666666666,
              "#ed7953"
             ],
             [
              0.7777777777777778,
              "#fb9f3a"
             ],
             [
              0.8888888888888888,
              "#fdca26"
             ],
             [
              1,
              "#f0f921"
             ]
            ],
            "type": "heatmap"
           }
          ],
          "heatmapgl": [
           {
            "colorbar": {
             "outlinewidth": 0,
             "ticks": ""
            },
            "colorscale": [
             [
              0,
              "#0d0887"
             ],
             [
              0.1111111111111111,
              "#46039f"
             ],
             [
              0.2222222222222222,
              "#7201a8"
             ],
             [
              0.3333333333333333,
              "#9c179e"
             ],
             [
              0.4444444444444444,
              "#bd3786"
             ],
             [
              0.5555555555555556,
              "#d8576b"
             ],
             [
              0.6666666666666666,
              "#ed7953"
             ],
             [
              0.7777777777777778,
              "#fb9f3a"
             ],
             [
              0.8888888888888888,
              "#fdca26"
             ],
             [
              1,
              "#f0f921"
             ]
            ],
            "type": "heatmapgl"
           }
          ],
          "histogram": [
           {
            "marker": {
             "pattern": {
              "fillmode": "overlay",
              "size": 10,
              "solidity": 0.2
             }
            },
            "type": "histogram"
           }
          ],
          "histogram2d": [
           {
            "colorbar": {
             "outlinewidth": 0,
             "ticks": ""
            },
            "colorscale": [
             [
              0,
              "#0d0887"
             ],
             [
              0.1111111111111111,
              "#46039f"
             ],
             [
              0.2222222222222222,
              "#7201a8"
             ],
             [
              0.3333333333333333,
              "#9c179e"
             ],
             [
              0.4444444444444444,
              "#bd3786"
             ],
             [
              0.5555555555555556,
              "#d8576b"
             ],
             [
              0.6666666666666666,
              "#ed7953"
             ],
             [
              0.7777777777777778,
              "#fb9f3a"
             ],
             [
              0.8888888888888888,
              "#fdca26"
             ],
             [
              1,
              "#f0f921"
             ]
            ],
            "type": "histogram2d"
           }
          ],
          "histogram2dcontour": [
           {
            "colorbar": {
             "outlinewidth": 0,
             "ticks": ""
            },
            "colorscale": [
             [
              0,
              "#0d0887"
             ],
             [
              0.1111111111111111,
              "#46039f"
             ],
             [
              0.2222222222222222,
              "#7201a8"
             ],
             [
              0.3333333333333333,
              "#9c179e"
             ],
             [
              0.4444444444444444,
              "#bd3786"
             ],
             [
              0.5555555555555556,
              "#d8576b"
             ],
             [
              0.6666666666666666,
              "#ed7953"
             ],
             [
              0.7777777777777778,
              "#fb9f3a"
             ],
             [
              0.8888888888888888,
              "#fdca26"
             ],
             [
              1,
              "#f0f921"
             ]
            ],
            "type": "histogram2dcontour"
           }
          ],
          "mesh3d": [
           {
            "colorbar": {
             "outlinewidth": 0,
             "ticks": ""
            },
            "type": "mesh3d"
           }
          ],
          "parcoords": [
           {
            "line": {
             "colorbar": {
              "outlinewidth": 0,
              "ticks": ""
             }
            },
            "type": "parcoords"
           }
          ],
          "pie": [
           {
            "automargin": true,
            "type": "pie"
           }
          ],
          "scatter": [
           {
            "marker": {
             "colorbar": {
              "outlinewidth": 0,
              "ticks": ""
             }
            },
            "type": "scatter"
           }
          ],
          "scatter3d": [
           {
            "line": {
             "colorbar": {
              "outlinewidth": 0,
              "ticks": ""
             }
            },
            "marker": {
             "colorbar": {
              "outlinewidth": 0,
              "ticks": ""
             }
            },
            "type": "scatter3d"
           }
          ],
          "scattercarpet": [
           {
            "marker": {
             "colorbar": {
              "outlinewidth": 0,
              "ticks": ""
             }
            },
            "type": "scattercarpet"
           }
          ],
          "scattergeo": [
           {
            "marker": {
             "colorbar": {
              "outlinewidth": 0,
              "ticks": ""
             }
            },
            "type": "scattergeo"
           }
          ],
          "scattergl": [
           {
            "marker": {
             "colorbar": {
              "outlinewidth": 0,
              "ticks": ""
             }
            },
            "type": "scattergl"
           }
          ],
          "scattermapbox": [
           {
            "marker": {
             "colorbar": {
              "outlinewidth": 0,
              "ticks": ""
             }
            },
            "type": "scattermapbox"
           }
          ],
          "scatterpolar": [
           {
            "marker": {
             "colorbar": {
              "outlinewidth": 0,
              "ticks": ""
             }
            },
            "type": "scatterpolar"
           }
          ],
          "scatterpolargl": [
           {
            "marker": {
             "colorbar": {
              "outlinewidth": 0,
              "ticks": ""
             }
            },
            "type": "scatterpolargl"
           }
          ],
          "scatterternary": [
           {
            "marker": {
             "colorbar": {
              "outlinewidth": 0,
              "ticks": ""
             }
            },
            "type": "scatterternary"
           }
          ],
          "surface": [
           {
            "colorbar": {
             "outlinewidth": 0,
             "ticks": ""
            },
            "colorscale": [
             [
              0,
              "#0d0887"
             ],
             [
              0.1111111111111111,
              "#46039f"
             ],
             [
              0.2222222222222222,
              "#7201a8"
             ],
             [
              0.3333333333333333,
              "#9c179e"
             ],
             [
              0.4444444444444444,
              "#bd3786"
             ],
             [
              0.5555555555555556,
              "#d8576b"
             ],
             [
              0.6666666666666666,
              "#ed7953"
             ],
             [
              0.7777777777777778,
              "#fb9f3a"
             ],
             [
              0.8888888888888888,
              "#fdca26"
             ],
             [
              1,
              "#f0f921"
             ]
            ],
            "type": "surface"
           }
          ],
          "table": [
           {
            "cells": {
             "fill": {
              "color": "#EBF0F8"
             },
             "line": {
              "color": "white"
             }
            },
            "header": {
             "fill": {
              "color": "#C8D4E3"
             },
             "line": {
              "color": "white"
             }
            },
            "type": "table"
           }
          ]
         },
         "layout": {
          "annotationdefaults": {
           "arrowcolor": "#2a3f5f",
           "arrowhead": 0,
           "arrowwidth": 1
          },
          "autotypenumbers": "strict",
          "coloraxis": {
           "colorbar": {
            "outlinewidth": 0,
            "ticks": ""
           }
          },
          "colorscale": {
           "diverging": [
            [
             0,
             "#8e0152"
            ],
            [
             0.1,
             "#c51b7d"
            ],
            [
             0.2,
             "#de77ae"
            ],
            [
             0.3,
             "#f1b6da"
            ],
            [
             0.4,
             "#fde0ef"
            ],
            [
             0.5,
             "#f7f7f7"
            ],
            [
             0.6,
             "#e6f5d0"
            ],
            [
             0.7,
             "#b8e186"
            ],
            [
             0.8,
             "#7fbc41"
            ],
            [
             0.9,
             "#4d9221"
            ],
            [
             1,
             "#276419"
            ]
           ],
           "sequential": [
            [
             0,
             "#0d0887"
            ],
            [
             0.1111111111111111,
             "#46039f"
            ],
            [
             0.2222222222222222,
             "#7201a8"
            ],
            [
             0.3333333333333333,
             "#9c179e"
            ],
            [
             0.4444444444444444,
             "#bd3786"
            ],
            [
             0.5555555555555556,
             "#d8576b"
            ],
            [
             0.6666666666666666,
             "#ed7953"
            ],
            [
             0.7777777777777778,
             "#fb9f3a"
            ],
            [
             0.8888888888888888,
             "#fdca26"
            ],
            [
             1,
             "#f0f921"
            ]
           ],
           "sequentialminus": [
            [
             0,
             "#0d0887"
            ],
            [
             0.1111111111111111,
             "#46039f"
            ],
            [
             0.2222222222222222,
             "#7201a8"
            ],
            [
             0.3333333333333333,
             "#9c179e"
            ],
            [
             0.4444444444444444,
             "#bd3786"
            ],
            [
             0.5555555555555556,
             "#d8576b"
            ],
            [
             0.6666666666666666,
             "#ed7953"
            ],
            [
             0.7777777777777778,
             "#fb9f3a"
            ],
            [
             0.8888888888888888,
             "#fdca26"
            ],
            [
             1,
             "#f0f921"
            ]
           ]
          },
          "colorway": [
           "#636efa",
           "#EF553B",
           "#00cc96",
           "#ab63fa",
           "#FFA15A",
           "#19d3f3",
           "#FF6692",
           "#B6E880",
           "#FF97FF",
           "#FECB52"
          ],
          "font": {
           "color": "#2a3f5f"
          },
          "geo": {
           "bgcolor": "white",
           "lakecolor": "white",
           "landcolor": "#E5ECF6",
           "showlakes": true,
           "showland": true,
           "subunitcolor": "white"
          },
          "hoverlabel": {
           "align": "left"
          },
          "hovermode": "closest",
          "mapbox": {
           "style": "light"
          },
          "paper_bgcolor": "white",
          "plot_bgcolor": "#E5ECF6",
          "polar": {
           "angularaxis": {
            "gridcolor": "white",
            "linecolor": "white",
            "ticks": ""
           },
           "bgcolor": "#E5ECF6",
           "radialaxis": {
            "gridcolor": "white",
            "linecolor": "white",
            "ticks": ""
           }
          },
          "scene": {
           "xaxis": {
            "backgroundcolor": "#E5ECF6",
            "gridcolor": "white",
            "gridwidth": 2,
            "linecolor": "white",
            "showbackground": true,
            "ticks": "",
            "zerolinecolor": "white"
           },
           "yaxis": {
            "backgroundcolor": "#E5ECF6",
            "gridcolor": "white",
            "gridwidth": 2,
            "linecolor": "white",
            "showbackground": true,
            "ticks": "",
            "zerolinecolor": "white"
           },
           "zaxis": {
            "backgroundcolor": "#E5ECF6",
            "gridcolor": "white",
            "gridwidth": 2,
            "linecolor": "white",
            "showbackground": true,
            "ticks": "",
            "zerolinecolor": "white"
           }
          },
          "shapedefaults": {
           "line": {
            "color": "#2a3f5f"
           }
          },
          "ternary": {
           "aaxis": {
            "gridcolor": "white",
            "linecolor": "white",
            "ticks": ""
           },
           "baxis": {
            "gridcolor": "white",
            "linecolor": "white",
            "ticks": ""
           },
           "bgcolor": "#E5ECF6",
           "caxis": {
            "gridcolor": "white",
            "linecolor": "white",
            "ticks": ""
           }
          },
          "title": {
           "x": 0.05
          },
          "xaxis": {
           "automargin": true,
           "gridcolor": "white",
           "linecolor": "white",
           "ticks": "",
           "title": {
            "standoff": 15
           },
           "zerolinecolor": "white",
           "zerolinewidth": 2
          },
          "yaxis": {
           "automargin": true,
           "gridcolor": "white",
           "linecolor": "white",
           "ticks": "",
           "title": {
            "standoff": 15
           },
           "zerolinecolor": "white",
           "zerolinewidth": 2
          }
         }
        },
        "xaxis": {
         "anchor": "y",
         "domain": [
          0,
          1
         ],
         "title": {
          "text": "Year"
         }
        },
        "yaxis": {
         "anchor": "x",
         "domain": [
          0,
          1
         ],
         "title": {
          "text": "Medal"
         }
        }
       }
      },
      "text/html": [
       "<div>                            <div id=\"92d8c524-f1e4-4d4e-9f3f-a807859609ff\" class=\"plotly-graph-div\" style=\"height:525px; width:100%;\"></div>            <script type=\"text/javascript\">                require([\"plotly\"], function(Plotly) {                    window.PLOTLYENV=window.PLOTLYENV || {};                                    if (document.getElementById(\"92d8c524-f1e4-4d4e-9f3f-a807859609ff\")) {                    Plotly.newPlot(                        \"92d8c524-f1e4-4d4e-9f3f-a807859609ff\",                        [{\"hovertemplate\":\"Year=%{x}<br>Medal=%{y}<extra></extra>\",\"legendgroup\":\"\",\"line\":{\"color\":\"#636efa\",\"dash\":\"solid\"},\"marker\":{\"symbol\":\"circle\"},\"mode\":\"lines\",\"name\":\"\",\"orientation\":\"v\",\"showlegend\":false,\"x\":[1900,1920,1924,1928,1932,1936,1948,1952,1956,1960,1964,1968,1972,1976,1980,1984,1988,1992,1996,2000,2004,2008,2012,2016],\"xaxis\":\"x\",\"y\":[2,0,0,1,1,1,1,2,1,1,1,1,1,0,1,0,0,0,1,1,1,3,6,2],\"yaxis\":\"y\",\"type\":\"scatter\"}],                        {\"template\":{\"data\":{\"bar\":[{\"error_x\":{\"color\":\"#2a3f5f\"},\"error_y\":{\"color\":\"#2a3f5f\"},\"marker\":{\"line\":{\"color\":\"#E5ECF6\",\"width\":0.5},\"pattern\":{\"fillmode\":\"overlay\",\"size\":10,\"solidity\":0.2}},\"type\":\"bar\"}],\"barpolar\":[{\"marker\":{\"line\":{\"color\":\"#E5ECF6\",\"width\":0.5},\"pattern\":{\"fillmode\":\"overlay\",\"size\":10,\"solidity\":0.2}},\"type\":\"barpolar\"}],\"carpet\":[{\"aaxis\":{\"endlinecolor\":\"#2a3f5f\",\"gridcolor\":\"white\",\"linecolor\":\"white\",\"minorgridcolor\":\"white\",\"startlinecolor\":\"#2a3f5f\"},\"baxis\":{\"endlinecolor\":\"#2a3f5f\",\"gridcolor\":\"white\",\"linecolor\":\"white\",\"minorgridcolor\":\"white\",\"startlinecolor\":\"#2a3f5f\"},\"type\":\"carpet\"}],\"choropleth\":[{\"colorbar\":{\"outlinewidth\":0,\"ticks\":\"\"},\"type\":\"choropleth\"}],\"contour\":[{\"colorbar\":{\"outlinewidth\":0,\"ticks\":\"\"},\"colorscale\":[[0.0,\"#0d0887\"],[0.1111111111111111,\"#46039f\"],[0.2222222222222222,\"#7201a8\"],[0.3333333333333333,\"#9c179e\"],[0.4444444444444444,\"#bd3786\"],[0.5555555555555556,\"#d8576b\"],[0.6666666666666666,\"#ed7953\"],[0.7777777777777778,\"#fb9f3a\"],[0.8888888888888888,\"#fdca26\"],[1.0,\"#f0f921\"]],\"type\":\"contour\"}],\"contourcarpet\":[{\"colorbar\":{\"outlinewidth\":0,\"ticks\":\"\"},\"type\":\"contourcarpet\"}],\"heatmap\":[{\"colorbar\":{\"outlinewidth\":0,\"ticks\":\"\"},\"colorscale\":[[0.0,\"#0d0887\"],[0.1111111111111111,\"#46039f\"],[0.2222222222222222,\"#7201a8\"],[0.3333333333333333,\"#9c179e\"],[0.4444444444444444,\"#bd3786\"],[0.5555555555555556,\"#d8576b\"],[0.6666666666666666,\"#ed7953\"],[0.7777777777777778,\"#fb9f3a\"],[0.8888888888888888,\"#fdca26\"],[1.0,\"#f0f921\"]],\"type\":\"heatmap\"}],\"heatmapgl\":[{\"colorbar\":{\"outlinewidth\":0,\"ticks\":\"\"},\"colorscale\":[[0.0,\"#0d0887\"],[0.1111111111111111,\"#46039f\"],[0.2222222222222222,\"#7201a8\"],[0.3333333333333333,\"#9c179e\"],[0.4444444444444444,\"#bd3786\"],[0.5555555555555556,\"#d8576b\"],[0.6666666666666666,\"#ed7953\"],[0.7777777777777778,\"#fb9f3a\"],[0.8888888888888888,\"#fdca26\"],[1.0,\"#f0f921\"]],\"type\":\"heatmapgl\"}],\"histogram\":[{\"marker\":{\"pattern\":{\"fillmode\":\"overlay\",\"size\":10,\"solidity\":0.2}},\"type\":\"histogram\"}],\"histogram2d\":[{\"colorbar\":{\"outlinewidth\":0,\"ticks\":\"\"},\"colorscale\":[[0.0,\"#0d0887\"],[0.1111111111111111,\"#46039f\"],[0.2222222222222222,\"#7201a8\"],[0.3333333333333333,\"#9c179e\"],[0.4444444444444444,\"#bd3786\"],[0.5555555555555556,\"#d8576b\"],[0.6666666666666666,\"#ed7953\"],[0.7777777777777778,\"#fb9f3a\"],[0.8888888888888888,\"#fdca26\"],[1.0,\"#f0f921\"]],\"type\":\"histogram2d\"}],\"histogram2dcontour\":[{\"colorbar\":{\"outlinewidth\":0,\"ticks\":\"\"},\"colorscale\":[[0.0,\"#0d0887\"],[0.1111111111111111,\"#46039f\"],[0.2222222222222222,\"#7201a8\"],[0.3333333333333333,\"#9c179e\"],[0.4444444444444444,\"#bd3786\"],[0.5555555555555556,\"#d8576b\"],[0.6666666666666666,\"#ed7953\"],[0.7777777777777778,\"#fb9f3a\"],[0.8888888888888888,\"#fdca26\"],[1.0,\"#f0f921\"]],\"type\":\"histogram2dcontour\"}],\"mesh3d\":[{\"colorbar\":{\"outlinewidth\":0,\"ticks\":\"\"},\"type\":\"mesh3d\"}],\"parcoords\":[{\"line\":{\"colorbar\":{\"outlinewidth\":0,\"ticks\":\"\"}},\"type\":\"parcoords\"}],\"pie\":[{\"automargin\":true,\"type\":\"pie\"}],\"scatter\":[{\"marker\":{\"colorbar\":{\"outlinewidth\":0,\"ticks\":\"\"}},\"type\":\"scatter\"}],\"scatter3d\":[{\"line\":{\"colorbar\":{\"outlinewidth\":0,\"ticks\":\"\"}},\"marker\":{\"colorbar\":{\"outlinewidth\":0,\"ticks\":\"\"}},\"type\":\"scatter3d\"}],\"scattercarpet\":[{\"marker\":{\"colorbar\":{\"outlinewidth\":0,\"ticks\":\"\"}},\"type\":\"scattercarpet\"}],\"scattergeo\":[{\"marker\":{\"colorbar\":{\"outlinewidth\":0,\"ticks\":\"\"}},\"type\":\"scattergeo\"}],\"scattergl\":[{\"marker\":{\"colorbar\":{\"outlinewidth\":0,\"ticks\":\"\"}},\"type\":\"scattergl\"}],\"scattermapbox\":[{\"marker\":{\"colorbar\":{\"outlinewidth\":0,\"ticks\":\"\"}},\"type\":\"scattermapbox\"}],\"scatterpolar\":[{\"marker\":{\"colorbar\":{\"outlinewidth\":0,\"ticks\":\"\"}},\"type\":\"scatterpolar\"}],\"scatterpolargl\":[{\"marker\":{\"colorbar\":{\"outlinewidth\":0,\"ticks\":\"\"}},\"type\":\"scatterpolargl\"}],\"scatterternary\":[{\"marker\":{\"colorbar\":{\"outlinewidth\":0,\"ticks\":\"\"}},\"type\":\"scatterternary\"}],\"surface\":[{\"colorbar\":{\"outlinewidth\":0,\"ticks\":\"\"},\"colorscale\":[[0.0,\"#0d0887\"],[0.1111111111111111,\"#46039f\"],[0.2222222222222222,\"#7201a8\"],[0.3333333333333333,\"#9c179e\"],[0.4444444444444444,\"#bd3786\"],[0.5555555555555556,\"#d8576b\"],[0.6666666666666666,\"#ed7953\"],[0.7777777777777778,\"#fb9f3a\"],[0.8888888888888888,\"#fdca26\"],[1.0,\"#f0f921\"]],\"type\":\"surface\"}],\"table\":[{\"cells\":{\"fill\":{\"color\":\"#EBF0F8\"},\"line\":{\"color\":\"white\"}},\"header\":{\"fill\":{\"color\":\"#C8D4E3\"},\"line\":{\"color\":\"white\"}},\"type\":\"table\"}]},\"layout\":{\"annotationdefaults\":{\"arrowcolor\":\"#2a3f5f\",\"arrowhead\":0,\"arrowwidth\":1},\"autotypenumbers\":\"strict\",\"coloraxis\":{\"colorbar\":{\"outlinewidth\":0,\"ticks\":\"\"}},\"colorscale\":{\"diverging\":[[0,\"#8e0152\"],[0.1,\"#c51b7d\"],[0.2,\"#de77ae\"],[0.3,\"#f1b6da\"],[0.4,\"#fde0ef\"],[0.5,\"#f7f7f7\"],[0.6,\"#e6f5d0\"],[0.7,\"#b8e186\"],[0.8,\"#7fbc41\"],[0.9,\"#4d9221\"],[1,\"#276419\"]],\"sequential\":[[0.0,\"#0d0887\"],[0.1111111111111111,\"#46039f\"],[0.2222222222222222,\"#7201a8\"],[0.3333333333333333,\"#9c179e\"],[0.4444444444444444,\"#bd3786\"],[0.5555555555555556,\"#d8576b\"],[0.6666666666666666,\"#ed7953\"],[0.7777777777777778,\"#fb9f3a\"],[0.8888888888888888,\"#fdca26\"],[1.0,\"#f0f921\"]],\"sequentialminus\":[[0.0,\"#0d0887\"],[0.1111111111111111,\"#46039f\"],[0.2222222222222222,\"#7201a8\"],[0.3333333333333333,\"#9c179e\"],[0.4444444444444444,\"#bd3786\"],[0.5555555555555556,\"#d8576b\"],[0.6666666666666666,\"#ed7953\"],[0.7777777777777778,\"#fb9f3a\"],[0.8888888888888888,\"#fdca26\"],[1.0,\"#f0f921\"]]},\"colorway\":[\"#636efa\",\"#EF553B\",\"#00cc96\",\"#ab63fa\",\"#FFA15A\",\"#19d3f3\",\"#FF6692\",\"#B6E880\",\"#FF97FF\",\"#FECB52\"],\"font\":{\"color\":\"#2a3f5f\"},\"geo\":{\"bgcolor\":\"white\",\"lakecolor\":\"white\",\"landcolor\":\"#E5ECF6\",\"showlakes\":true,\"showland\":true,\"subunitcolor\":\"white\"},\"hoverlabel\":{\"align\":\"left\"},\"hovermode\":\"closest\",\"mapbox\":{\"style\":\"light\"},\"paper_bgcolor\":\"white\",\"plot_bgcolor\":\"#E5ECF6\",\"polar\":{\"angularaxis\":{\"gridcolor\":\"white\",\"linecolor\":\"white\",\"ticks\":\"\"},\"bgcolor\":\"#E5ECF6\",\"radialaxis\":{\"gridcolor\":\"white\",\"linecolor\":\"white\",\"ticks\":\"\"}},\"scene\":{\"xaxis\":{\"backgroundcolor\":\"#E5ECF6\",\"gridcolor\":\"white\",\"gridwidth\":2,\"linecolor\":\"white\",\"showbackground\":true,\"ticks\":\"\",\"zerolinecolor\":\"white\"},\"yaxis\":{\"backgroundcolor\":\"#E5ECF6\",\"gridcolor\":\"white\",\"gridwidth\":2,\"linecolor\":\"white\",\"showbackground\":true,\"ticks\":\"\",\"zerolinecolor\":\"white\"},\"zaxis\":{\"backgroundcolor\":\"#E5ECF6\",\"gridcolor\":\"white\",\"gridwidth\":2,\"linecolor\":\"white\",\"showbackground\":true,\"ticks\":\"\",\"zerolinecolor\":\"white\"}},\"shapedefaults\":{\"line\":{\"color\":\"#2a3f5f\"}},\"ternary\":{\"aaxis\":{\"gridcolor\":\"white\",\"linecolor\":\"white\",\"ticks\":\"\"},\"baxis\":{\"gridcolor\":\"white\",\"linecolor\":\"white\",\"ticks\":\"\"},\"bgcolor\":\"#E5ECF6\",\"caxis\":{\"gridcolor\":\"white\",\"linecolor\":\"white\",\"ticks\":\"\"}},\"title\":{\"x\":0.05},\"xaxis\":{\"automargin\":true,\"gridcolor\":\"white\",\"linecolor\":\"white\",\"ticks\":\"\",\"title\":{\"standoff\":15},\"zerolinecolor\":\"white\",\"zerolinewidth\":2},\"yaxis\":{\"automargin\":true,\"gridcolor\":\"white\",\"linecolor\":\"white\",\"ticks\":\"\",\"title\":{\"standoff\":15},\"zerolinecolor\":\"white\",\"zerolinewidth\":2}}},\"xaxis\":{\"anchor\":\"y\",\"domain\":[0.0,1.0],\"title\":{\"text\":\"Year\"}},\"yaxis\":{\"anchor\":\"x\",\"domain\":[0.0,1.0],\"title\":{\"text\":\"Medal\"}},\"legend\":{\"tracegroupgap\":0},\"margin\":{\"t\":60}},                        {\"responsive\": true}                    ).then(function(){\n",
       "                            \n",
       "var gd = document.getElementById('92d8c524-f1e4-4d4e-9f3f-a807859609ff');\n",
       "var x = new MutationObserver(function (mutations, observer) {{\n",
       "        var display = window.getComputedStyle(gd).display;\n",
       "        if (!display || display === 'none') {{\n",
       "            console.log([gd, 'removed!']);\n",
       "            Plotly.purge(gd);\n",
       "            observer.disconnect();\n",
       "        }}\n",
       "}});\n",
       "\n",
       "// Listen for the removal of the full notebook cells\n",
       "var notebookContainer = gd.closest('#notebook-container');\n",
       "if (notebookContainer) {{\n",
       "    x.observe(notebookContainer, {childList: true});\n",
       "}}\n",
       "\n",
       "// Listen for the clearing of the current output cell\n",
       "var outputEl = gd.closest('.output');\n",
       "if (outputEl) {{\n",
       "    x.observe(outputEl, {childList: true});\n",
       "}}\n",
       "\n",
       "                        })                };                });            </script>        </div>"
      ]
     },
     "metadata": {},
     "output_type": "display_data"
    }
   ],
   "source": [
    "fig = px.line(final_data, x ='Year',y='Medal' )\n",
    "fig.show()"
   ]
  },
  {
   "cell_type": "markdown",
   "metadata": {},
   "source": [
    "### In which Sport Country is good at. In Heatmap."
   ]
  },
  {
   "cell_type": "code",
   "execution_count": 303,
   "metadata": {},
   "outputs": [
    {
     "data": {
      "text/plain": [
       "<AxesSubplot:xlabel='Year', ylabel='Sport'>"
      ]
     },
     "execution_count": 303,
     "metadata": {},
     "output_type": "execute_result"
    },
    {
     "data": {
      "image/png": "[encoded data removed]",
      "text/plain": [
       "<Figure size 1440x1440 with 2 Axes>"
      ]
     },
     "metadata": {
      "needs_background": "light"
     },
     "output_type": "display_data"
    }
   ],
   "source": [
    "new_data = summer_event[summer_event['region'] == 'China']\n",
    "plt.figure(figsize=(20,20))\n",
    "sns.heatmap(new_data.pivot_table(index='Sport',columns='Year',values = 'Medal',aggfunc='count').fillna(0),annot=True)"
   ]
  },
  {
   "cell_type": "markdown",
   "metadata": {},
   "source": [
    "### Top 10 players of perticular country."
   ]
  },
  {
   "cell_type": "code",
   "execution_count": 304,
   "metadata": {},
   "outputs": [],
   "source": [
    "def most_successful(data,country):\n",
    "    temp_df = data.dropna(subset = [\"Medal\"])\n",
    "    temp_df = temp_df[temp_df['region']==country]\n",
    "    x = temp_df['Name'].value_counts().reset_index().head(15).merge(data,left_on = 'index',right_on = 'Name',how = 'left')[['index','Name_x','Sport']].drop_duplicates('index')\n",
    "    x.rename(columns = {'index':'Name','Name_x':'Medels'},inplace = True)\n",
    "    return x"
   ]
  },
  {
   "cell_type": "code",
   "execution_count": 305,
   "metadata": {},
   "outputs": [
    {
     "data": {
      "text/html": [
       "<div>\n",
       "<style scoped>\n",
       "    .dataframe tbody tr th:only-of-type {\n",
       "        vertical-align: middle;\n",
       "    }\n",
       "\n",
       "    .dataframe tbody tr th {\n",
       "        vertical-align: top;\n",
       "    }\n",
       "\n",
       "    .dataframe thead th {\n",
       "        text-align: right;\n",
       "    }\n",
       "</style>\n",
       "<table border=\"1\" class=\"dataframe\">\n",
       "  <thead>\n",
       "    <tr style=\"text-align: right;\">\n",
       "      <th></th>\n",
       "      <th>Name</th>\n",
       "      <th>Medels</th>\n",
       "      <th>Sport</th>\n",
       "    </tr>\n",
       "  </thead>\n",
       "  <tbody>\n",
       "    <tr>\n",
       "      <th>0</th>\n",
       "      <td>Michael Fred Phelps, II</td>\n",
       "      <td>16</td>\n",
       "      <td>Swimming</td>\n",
       "    </tr>\n",
       "    <tr>\n",
       "      <th>18</th>\n",
       "      <td>Raymond Clarence \"Ray\" Ewry</td>\n",
       "      <td>10</td>\n",
       "      <td>Athletics</td>\n",
       "    </tr>\n",
       "    <tr>\n",
       "      <th>28</th>\n",
       "      <td>Matthew Nicholas \"Matt\" Biondi</td>\n",
       "      <td>9</td>\n",
       "      <td>Swimming</td>\n",
       "    </tr>\n",
       "    <tr>\n",
       "      <th>38</th>\n",
       "      <td>Charles Meldrum \"Charlie\" Daniels</td>\n",
       "      <td>8</td>\n",
       "      <td>Swimming</td>\n",
       "    </tr>\n",
       "    <tr>\n",
       "      <th>46</th>\n",
       "      <td>Frederick Carlton \"Carl\" Lewis</td>\n",
       "      <td>8</td>\n",
       "      <td>Athletics</td>\n",
       "    </tr>\n",
       "    <tr>\n",
       "      <th>54</th>\n",
       "      <td>Shirley Frances Babashoff</td>\n",
       "      <td>8</td>\n",
       "      <td>Swimming</td>\n",
       "    </tr>\n",
       "    <tr>\n",
       "      <th>64</th>\n",
       "      <td>Nathan Ghar-Jun Adrian</td>\n",
       "      <td>8</td>\n",
       "      <td>Swimming</td>\n",
       "    </tr>\n",
       "    <tr>\n",
       "      <th>72</th>\n",
       "      <td>Martin Joseph Sheridan</td>\n",
       "      <td>8</td>\n",
       "      <td>Athletics</td>\n",
       "    </tr>\n",
       "    <tr>\n",
       "      <th>81</th>\n",
       "      <td>Ryan Steven Lochte</td>\n",
       "      <td>7</td>\n",
       "      <td>Swimming</td>\n",
       "    </tr>\n",
       "    <tr>\n",
       "      <th>89</th>\n",
       "      <td>Amanda Ray Beard (-Brown)</td>\n",
       "      <td>7</td>\n",
       "      <td>Swimming</td>\n",
       "    </tr>\n",
       "    <tr>\n",
       "      <th>98</th>\n",
       "      <td>Natalie Anne Coughlin (-Hall)</td>\n",
       "      <td>7</td>\n",
       "      <td>Swimming</td>\n",
       "    </tr>\n",
       "    <tr>\n",
       "      <th>105</th>\n",
       "      <td>Allyson Michelle Felix</td>\n",
       "      <td>6</td>\n",
       "      <td>Athletics</td>\n",
       "    </tr>\n",
       "    <tr>\n",
       "      <th>112</th>\n",
       "      <td>Kimberly Susan \"Kim\" Rhode (-Harryman)</td>\n",
       "      <td>6</td>\n",
       "      <td>Shooting</td>\n",
       "    </tr>\n",
       "    <tr>\n",
       "      <th>119</th>\n",
       "      <td>George Louis Eyser</td>\n",
       "      <td>6</td>\n",
       "      <td>Gymnastics</td>\n",
       "    </tr>\n",
       "    <tr>\n",
       "      <th>125</th>\n",
       "      <td>Mark Andrew Spitz</td>\n",
       "      <td>6</td>\n",
       "      <td>Swimming</td>\n",
       "    </tr>\n",
       "  </tbody>\n",
       "</table>\n",
       "</div>"
      ],
      "text/plain": [
       "                                       Name  Medels       Sport\n",
       "0                   Michael Fred Phelps, II      16    Swimming\n",
       "18              Raymond Clarence \"Ray\" Ewry      10   Athletics\n",
       "28           Matthew Nicholas \"Matt\" Biondi       9    Swimming\n",
       "38        Charles Meldrum \"Charlie\" Daniels       8    Swimming\n",
       "46           Frederick Carlton \"Carl\" Lewis       8   Athletics\n",
       "54                Shirley Frances Babashoff       8    Swimming\n",
       "64                   Nathan Ghar-Jun Adrian       8    Swimming\n",
       "72                   Martin Joseph Sheridan       8   Athletics\n",
       "81                       Ryan Steven Lochte       7    Swimming\n",
       "89                Amanda Ray Beard (-Brown)       7    Swimming\n",
       "98            Natalie Anne Coughlin (-Hall)       7    Swimming\n",
       "105                  Allyson Michelle Felix       6   Athletics\n",
       "112  Kimberly Susan \"Kim\" Rhode (-Harryman)       6    Shooting\n",
       "119                      George Louis Eyser       6  Gymnastics\n",
       "125                       Mark Andrew Spitz       6    Swimming"
      ]
     },
     "execution_count": 305,
     "metadata": {},
     "output_type": "execute_result"
    }
   ],
   "source": [
    "most_successful(summer_event,'USA')"
   ]
  },
  {
   "cell_type": "markdown",
   "metadata": {},
   "source": [
    "# Athlete wise Analysis"
   ]
  },
  {
   "cell_type": "markdown",
   "metadata": {},
   "source": [
    "### Distribution Of Age"
   ]
  },
  {
   "cell_type": "code",
   "execution_count": 306,
   "metadata": {},
   "outputs": [],
   "source": [
    "athlete_data = summer_event.drop_duplicates(subset=['Name','region'])"
   ]
  },
  {
   "cell_type": "code",
   "execution_count": 307,
   "metadata": {},
   "outputs": [],
   "source": [
    "x1 = athlete_data['Age'].dropna()\n",
    "x2 = athlete_data[athlete_data['Medal']=='Gold']['Age'].dropna()\n",
    "x3 = athlete_data[athlete_data['Medal']=='Silver']['Age'].dropna()\n",
    "x4 = athlete_data[athlete_data['Medal']=='Bronze']['Age'].dropna()"
   ]
  },
  {
   "cell_type": "code",
   "execution_count": 308,
   "metadata": {
    "scrolled": false
   },
   "outputs": [
    {
     "data": {
      "application/vnd.plotly.v1+json": {
       "config": {
        "plotlyServerURL": "https://plot.ly"
       },
       "data": [
        {
         "legendgroup": "Overall Age",
         "marker": {
          "color": "rgb(31, 119, 180)"
         },
         "mode": "lines",
         "name": "Overall Age",
         "showlegend": true,
         "type": "scatter",
         "x": [
          11,
          11.146,
          11.292,
          11.438,
          11.584,
          11.73,
          11.876,
          12.022,
          12.168,
          12.314,
          12.46,
          12.606,
          12.752,
          12.898,
          13.044,
          13.19,
          13.336,
          13.482,
          13.628,
          13.774000000000001,
          13.92,
          14.065999999999999,
          14.212,
          14.358,
          14.504,
          14.65,
          14.796,
          14.942,
          15.088000000000001,
          15.234,
          15.379999999999999,
          15.526,
          15.672,
          15.818,
          15.964,
          16.11,
          16.256,
          16.402,
          16.548000000000002,
          16.694,
          16.84,
          16.986,
          17.131999999999998,
          17.278,
          17.424,
          17.57,
          17.716,
          17.862000000000002,
          18.008,
          18.154,
          18.3,
          18.445999999999998,
          18.592,
          18.738,
          18.884,
          19.03,
          19.176000000000002,
          19.322,
          19.468,
          19.614,
          19.759999999999998,
          19.906,
          20.052,
          20.198,
          20.344,
          20.490000000000002,
          20.636,
          20.782,
          20.928,
          21.073999999999998,
          21.22,
          21.366,
          21.512,
          21.658,
          21.804000000000002,
          21.95,
          22.096,
          22.242,
          22.387999999999998,
          22.534,
          22.68,
          22.826,
          22.972,
          23.118000000000002,
          23.264,
          23.41,
          23.555999999999997,
          23.701999999999998,
          23.848,
          23.994,
          24.14,
          24.286,
          24.432000000000002,
          24.578,
          24.724,
          24.869999999999997,
          25.016,
          25.162,
          25.308,
          25.454,
          25.6,
          25.746000000000002,
          25.892,
          26.038,
          26.183999999999997,
          26.33,
          26.476,
          26.622,
          26.768,
          26.914,
          27.06,
          27.206,
          27.352,
          27.498,
          27.644,
          27.79,
          27.936,
          28.082,
          28.228,
          28.374,
          28.52,
          28.666,
          28.812,
          28.958,
          29.104,
          29.25,
          29.396,
          29.542,
          29.688,
          29.834,
          29.98,
          30.126,
          30.272,
          30.418,
          30.564,
          30.71,
          30.856,
          31.002,
          31.148,
          31.294,
          31.44,
          31.586,
          31.732,
          31.878,
          32.024,
          32.17,
          32.316,
          32.462,
          32.608000000000004,
          32.754000000000005,
          32.9,
          33.046,
          33.192,
          33.338,
          33.484,
          33.629999999999995,
          33.775999999999996,
          33.922,
          34.068,
          34.214,
          34.36,
          34.506,
          34.652,
          34.798,
          34.944,
          35.09,
          35.236000000000004,
          35.382000000000005,
          35.528,
          35.674,
          35.82,
          35.966,
          36.111999999999995,
          36.257999999999996,
          36.403999999999996,
          36.55,
          36.696,
          36.842,
          36.988,
          37.134,
          37.28,
          37.426,
          37.572,
          37.718,
          37.864000000000004,
          38.010000000000005,
          38.156,
          38.302,
          38.448,
          38.594,
          38.739999999999995,
          38.885999999999996,
          39.032,
          39.178,
          39.324,
          39.47,
          39.616,
          39.762,
          39.908,
          40.054,
          40.2,
          40.346000000000004,
          40.492000000000004,
          40.638000000000005,
          40.784,
          40.93,
          41.076,
          41.222,
          41.367999999999995,
          41.513999999999996,
          41.66,
          41.806,
          41.952,
          42.098,
          42.244,
          42.39,
          42.536,
          42.682,
          42.828,
          42.974000000000004,
          43.12,
          43.266,
          43.412,
          43.558,
          43.704,
          43.85,
          43.996,
          44.142,
          44.288,
          44.434,
          44.58,
          44.726,
          44.872,
          45.018,
          45.164,
          45.31,
          45.456,
          45.602,
          45.748,
          45.894,
          46.04,
          46.186,
          46.332,
          46.478,
          46.624,
          46.77,
          46.916,
          47.062,
          47.208,
          47.354,
          47.5,
          47.646,
          47.792,
          47.938,
          48.084,
          48.23,
          48.376,
          48.522,
          48.668,
          48.814,
          48.96,
          49.106,
          49.252,
          49.398,
          49.544,
          49.69,
          49.836,
          49.982,
          50.128,
          50.274,
          50.42,
          50.566,
          50.712,
          50.858,
          51.004,
          51.15,
          51.296,
          51.442,
          51.588,
          51.734,
          51.88,
          52.026,
          52.172,
          52.318,
          52.464,
          52.61,
          52.756,
          52.902,
          53.048,
          53.194,
          53.34,
          53.486,
          53.632,
          53.778,
          53.924,
          54.07,
          54.216,
          54.362,
          54.508,
          54.654,
          54.8,
          54.946,
          55.092,
          55.238,
          55.384,
          55.53,
          55.676,
          55.822,
          55.968,
          56.114,
          56.26,
          56.406,
          56.552,
          56.698,
          56.844,
          56.99,
          57.136,
          57.282,
          57.428,
          57.574,
          57.72,
          57.866,
          58.012,
          58.158,
          58.304,
          58.45,
          58.596,
          58.742,
          58.888,
          59.034,
          59.18,
          59.326,
          59.472,
          59.618,
          59.764,
          59.91,
          60.056,
          60.202,
          60.348,
          60.494,
          60.64,
          60.786,
          60.932,
          61.078,
          61.224,
          61.37,
          61.516,
          61.662,
          61.808,
          61.954,
          62.1,
          62.246,
          62.392,
          62.538,
          62.684,
          62.83,
          62.976,
          63.122,
          63.268,
          63.414,
          63.56,
          63.706,
          63.852,
          63.998,
          64.144,
          64.28999999999999,
          64.436,
          64.582,
          64.72800000000001,
          64.874,
          65.02000000000001,
          65.166,
          65.312,
          65.458,
          65.604,
          65.75,
          65.896,
          66.042,
          66.188,
          66.334,
          66.47999999999999,
          66.626,
          66.77199999999999,
          66.918,
          67.064,
          67.21000000000001,
          67.356,
          67.50200000000001,
          67.648,
          67.794,
          67.94,
          68.086,
          68.232,
          68.378,
          68.524,
          68.67,
          68.816,
          68.962,
          69.108,
          69.25399999999999,
          69.4,
          69.54599999999999,
          69.69200000000001,
          69.838,
          69.98400000000001,
          70.13,
          70.27600000000001,
          70.422,
          70.568,
          70.714,
          70.86,
          71.006,
          71.152,
          71.298,
          71.444,
          71.59,
          71.73599999999999,
          71.882,
          72.02799999999999,
          72.174,
          72.32,
          72.46600000000001,
          72.612,
          72.75800000000001,
          72.904,
          73.05,
          73.196,
          73.342,
          73.488,
          73.634,
          73.78,
          73.926,
          74.072,
          74.218,
          74.364,
          74.50999999999999,
          74.656,
          74.80199999999999,
          74.94800000000001,
          75.094,
          75.24,
          75.386,
          75.532,
          75.678,
          75.824,
          75.97,
          76.116,
          76.262,
          76.408,
          76.554,
          76.7,
          76.846,
          76.992,
          77.138,
          77.284,
          77.43,
          77.576,
          77.722,
          77.868,
          78.014,
          78.16,
          78.306,
          78.452,
          78.598,
          78.744,
          78.89,
          79.036,
          79.182,
          79.328,
          79.474,
          79.62,
          79.766,
          79.912,
          80.058,
          80.204,
          80.35,
          80.496,
          80.642,
          80.788,
          80.934,
          81.08,
          81.226,
          81.372,
          81.518,
          81.664,
          81.81,
          81.956,
          82.102,
          82.248,
          82.394,
          82.54,
          82.686,
          82.832,
          82.978,
          83.124,
          83.27,
          83.416,
          83.562,
          83.708,
          83.854
         ],
         "xaxis": "x",
         "y": [
          5.256463031532305e-05,
          7.186178779520094e-05,
          9.638029857956772e-05,
          0.00012690091808319418,
          0.00016434688480828334,
          0.00020992469309418594,
          0.0002652175284633514,
          0.0003321618013740293,
          0.0004129064498626663,
          0.0005096532675693312,
          0.0006246299857705461,
          0.0007602864476446959,
          0.0009196298474318686,
          0.0011064340768335897,
          0.001325032756816168,
          0.0015796298223160314,
          0.001873445631423254,
          0.0022082880938580616,
          0.0025850114315815894,
          0.003004751043187649,
          0.0034701258478583466,
          0.003985331928367768,
          0.004554594133270859,
          0.005179615802313499,
          0.005857699892383507,
          0.0065822156014802395,
          0.007345757114383639,
          0.008144400557239057,
          0.00898031047854975,
          0.009860672615326735,
          0.01079335119652683,
          0.011782192514636336,
          0.012825532963329432,
          0.01391939062028034,
          0.015063256724292194,
          0.016264008572187988,
          0.017534370937954367,
          0.018886322742718033,
          0.020324078766385048,
          0.021842315919500643,
          0.023431813861205523,
          0.025088854596221115,
          0.026821057043289347,
          0.028644176765612973,
          0.03057106101435157,
          0.032600604795431455,
          0.034715697475027216,
          0.036893044318478896,
          0.03911839996966898,
          0.04139540162054839,
          0.04373978458646067,
          0.04616157802089472,
          0.04864805991917527,
          0.051161454678245066,
          0.05365548584976788,
          0.056100545056903296,
          0.05849934895421802,
          0.06088047731605821,
          0.06327307340742838,
          0.06568066476914709,
          0.06807387557526696,
          0.07040831206948696,
          0.07265459646796006,
          0.07481720970483045,
          0.07692623950579386,
          0.07900663876346757,
          0.08104785024989475,
          0.08299811025009786,
          0.08479020580794411,
          0.08638153102158257,
          0.08777927430070892,
          0.08903140014230396,
          0.09018913987372765,
          0.09126825409014287,
          0.09223768464841495,
          0.09304378073196025,
          0.09365126778690949,
          0.0940691876754684,
          0.09434138938018455,
          0.09450843562813392,
          0.09457022187144357,
          0.09447884038682196,
          0.09416879466620866,
          0.09360349058122386,
          0.0928043998555123,
          0.09184190481881813,
          0.0907949554994519,
          0.08970900935118856,
          0.08858167120568763,
          0.08738363648419804,
          0.08609601931042825,
          0.08473405707664183,
          0.08333934574879287,
          0.08194806875603215,
          0.0805613379470285,
          0.07914168720010396,
          0.07763916313430796,
          0.07602764415080816,
          0.07432447084746488,
          0.07257947549194635,
          0.07084254592469906,
          0.06913421287870178,
          0.06744018975330182,
          0.06573185376984311,
          0.06399530248417412,
          0.06224639581943886,
          0.06052124502741964,
          0.05885087427808677,
          0.05724029304218751,
          0.05566770720269288,
          0.054103396031769356,
          0.05253285199192395,
          0.050966398193189884,
          0.049428785862932804,
          0.04793790524441138,
          0.04648960405693414,
          0.04506014588977135,
          0.04362390970476233,
          0.04217252322232402,
          0.04072119832967984,
          0.03929828134494832,
          0.037926621332846695,
          0.03661073196882413,
          0.035338352461114664,
          0.03409367176243284,
          0.032871086774824095,
          0.031678990146351144,
          0.030531576769620455,
          0.029436025109191695,
          0.028385498952994772,
          0.027363328035661327,
          0.026354876910485995,
          0.025357948304692186,
          0.02438414650129018,
          0.02345075932428855,
          0.022569658268409818,
          0.021741290011736324,
          0.020957292482300362,
          0.020208526484438678,
          0.019491632371717155,
          0.018809131030591918,
          0.01816367614446689,
          0.017551756381089866,
          0.01696238131281116,
          0.016382158595031338,
          0.015803110406058755,
          0.015227511362029872,
          0.014666363824288965,
          0.014132844078909041,
          0.01363547411137544,
          0.01317545185485411,
          0.012749056173247628,
          0.01235224201347327,
          0.011983347957002219,
          0.011641927438055769,
          0.011325188892149715,
          0.011025555622941708,
          0.010731909724385872,
          0.010434051444116323,
          0.01012726092706295,
          0.00981366146494414,
          0.009499437116242957,
          0.009189981477499916,
          0.008886442317505856,
          0.008585911678148433,
          0.008284727818566642,
          0.007982152649689482,
          0.007681651802790208,
          0.007389006067899196,
          0.007108890045103914,
          0.0068425529823605315,
          0.0065882004246445094,
          0.006343541334336845,
          0.0061084141813255565,
          0.0058855422666347895,
          0.005679039826996405,
          0.005491986501977558,
          0.005324919500378159,
          0.00517616911883874,
          0.005043432458391801,
          0.00492508890890982,
          0.004820160053919774,
          0.0047270949933324626,
          0.004642634400908921,
          0.00456200403839068,
          0.004480633344398434,
          0.004396346769946122,
          0.004310525335072328,
          0.004227424603850221,
          0.004152110442263747,
          0.00408835019651293,
          0.004037636978628262,
          0.00399952099789474,
          0.003972414102455833,
          0.003953826064451918,
          0.003939717116675922,
          0.003923682149930365,
          0.0038971387137853937,
          0.0038511469683180106,
          0.003779312860822704,
          0.0036802979889766193,
          0.003558499967090657,
          0.0034224851139030635,
          0.003282048819186969,
          0.0031454648260634236,
          0.0030181453366979975,
          0.002902892339286026,
          0.00280095746701043,
          0.0027128827114712237,
          0.0026386173105333154,
          0.002577181655820339,
          0.0025265402131314702,
          0.002484090360247429,
          0.0024475534792844193,
          0.002415625783611143,
          0.0023878778114713576,
          0.002363974050285226,
          0.0023428353743026355,
          0.0023224306005546706,
          0.002300397555123596,
          0.0022750382193754922,
          0.002245924338600302,
          0.002213635783412409,
          0.0021788170967923124,
          0.002141268697018859,
          0.002099781473594006,
          0.0020528831184722365,
          0.001999998860424416,
          0.0019422305977952318,
          0.0018822325235111927,
          0.0018232848761243678,
          0.001768173557787338,
          0.001718521074757449,
          0.0016748021588770872,
          0.0016367650369217722,
          0.0016037610409867936,
          0.0015746976909435878,
          0.0015477644888475138,
          0.0015203644079607168,
          0.0014895813801439214,
          0.0014531046815181782,
          0.0014101382267719942,
          0.0013617556412406392,
          0.001310478432417936,
          0.0012593244178414939,
          0.001210861443255565,
          0.0011667202317927198,
          0.001127659921954341,
          0.0010939219811679961,
          0.0010655033164639566,
          0.001042164425080593,
          0.0010232787283959226,
          0.0010077797686507493,
          0.0009943635524370027,
          0.000981855737521989,
          0.0009694773149416359,
          0.0009567930819753332,
          0.0009433708408709621,
          0.0009284227053329247,
          0.000910745516530939,
          0.0008890792453132235,
          0.0008627020476006478,
          0.0008318984199328015,
          0.0007980045055284982,
          0.0007629999379485661,
          0.000728887519772496,
          0.0006971958865874098,
          0.000668810571647377,
          0.0006441009122880289,
          0.0006231424471005247,
          0.0006058423681104087,
          0.0005919221062675621,
          0.0005808599910657713,
          0.0005719274282433859,
          0.0005643518060812113,
          0.0005575053700722477,
          0.0005509725716581828,
          0.0005444338419882889,
          0.0005374550296436955,
          0.000529365973732096,
          0.0005193681139547047,
          0.0005068551932123219,
          0.0004917752001275171,
          0.0004748185996018045,
          0.0004573165981126722,
          0.0004409002027501835,
          0.0004270891292037492,
          0.0004169769754026603,
          0.0004110774976162433,
          0.0004092875690739674,
          0.0004108899897107029,
          0.0004145758459640497,
          0.00041854648436415317,
          0.00042077430434374417,
          0.0004194264313795294,
          0.0004133340277882813,
          0.0004023157021523104,
          0.00038720184756542127,
          0.0003695438022938242,
          0.0003511422791136525,
          0.0003335988514096631,
          0.00031804565569476225,
          0.0003050857733783734,
          0.0002948678189372915,
          0.0002871891535963005,
          0.00028157289290161875,
          0.00027733674784230874,
          0.0002737016426506656,
          0.0002699536867846261,
          0.0002656097840546059,
          0.0002605043456774294,
          0.00025474591245892484,
          0.00024856876942811346,
          0.00024216948100706546,
          0.00023562283378928992,
          0.00022891246319940608,
          0.00022203230136256074,
          0.00021507287928862595,
          0.00020822864172704086,
          0.00020172757878950915,
          0.0001957416076293597,
          0.00019034421087443088,
          0.00018553962704926643,
          0.00018133182970024654,
          0.00017777524420316783,
          0.00017496962347672112,
          0.00017300809413315637,
          0.0001719207511041086,
          0.00017165074457664624,
          0.00017206361211184596,
          0.00017295738588421264,
          0.00017404160475950042,
          0.00017488984802471895,
          0.00017491347486490178,
          0.00017341600442338372,
          0.00016975173973464506,
          0.0001635482305570515,
          0.00015490201646445854,
          0.00014445532436326868,
          0.00013331063353776333,
          0.0001228101174826281,
          0.00011425726589574729,
          0.00010866513268746798,
          0.00010658646957653335,
          0.00010804251325004214,
          0.0001125436293088236,
          0.0001191905880354441,
          0.00012684541773445165,
          0.00013434928789265348,
          0.00014074123138209073,
          0.00014541384153559463,
          0.00014815240476642738,
          0.00014904777609089763,
          0.0001483306806520836,
          0.00014621159588051023,
          0.00014280109094308804,
          0.00013813426908212197,
          0.0001322613462141389,
          0.00012533278938618283,
          0.00011762098485647562,
          0.00010946875400325609,
          0.00010120423769343053,
          9.308028706651654e-05,
          8.527609742899463e-05,
          7.795690213052225e-05,
          7.135266684273936e-05,
          6.580828463069621e-05,
          6.177519124401811e-05,
          5.974179523094814e-05,
          6.012092658370372e-05,
          6.312071387895784e-05,
          6.862639301260552e-05,
          7.612231433847326e-05,
          8.468610424443285e-05,
          9.308179755286869e-05,
          9.99564780621289e-05,
          0.000104106946959812,
          0.00010474528107399293,
          0.00010167754675069379,
          9.533235009072811e-05,
          8.662911267273005e-05,
          7.673517301382185e-05,
          6.679700757910674e-05,
          5.772820643662383e-05,
          5.010126626695973e-05,
          4.414393304587935e-05,
          3.9807215600798865e-05,
          3.6862611009773214e-05,
          3.499611182684314e-05,
          3.3882979266950073e-05,
          3.323882407479999e-05,
          3.284652605935545e-05,
          3.255947819519978e-05,
          3.228492897849663e-05,
          3.195745867762524e-05,
          3.151738525909333e-05,
          3.090697290725502e-05,
          3.0087871519576516e-05,
          2.9071120685293834e-05,
          2.79435225871391e-05,
          2.6875506366004133e-05,
          2.6104163269797604e-05,
          2.589503175791692e-05,
          2.649196808699374e-05,
          2.8064890758227115e-05,
          3.066352725248682e-05,
          3.418534311873638e-05,
          3.836789262982144e-05,
          4.281582231050991e-05,
          4.706580258017252e-05,
          5.067833270996709e-05,
          5.333009494918043e-05,
          5.4874435157556964e-05,
          5.5347260300736814e-05,
          5.491843666201168e-05,
          5.38128194897208e-05,
          5.223649935689871e-05,
          5.033609575347403e-05,
          4.8197312097419393e-05,
          4.586735569631359e-05,
          4.3377267477162464e-05,
          4.074833406979035e-05,
          3.7983988877671804e-05,
          3.506210835468291e-05,
          3.194336375941498e-05,
          2.859980126680391e-05,
          2.5052793038516237e-05,
          2.140114938138786e-05,
          1.7823406644555833e-05,
          1.4550291799531953e-05,
          1.181654116283813e-05,
          9.808719880485328e-06,
          8.625105256695878e-06,
          8.257415549859004e-06,
          8.596466291820833e-06,
          9.457833175711941e-06,
          1.0620026884982084e-05,
          1.1865845924401681e-05,
          1.3017058516293074e-05,
          1.395400207592124e-05,
          1.4615925972907724e-05,
          1.4984489673472703e-05,
          1.5059336347860157e-05,
          1.483772081915952e-05,
          1.430765381655989e-05,
          1.3456779483273287e-05,
          1.2290911046212631e-05,
          1.085123600505092e-05,
          9.220169282676142e-06,
          7.511819686653142e-06,
          5.850520155069559e-06,
          4.345923617128071e-06,
          3.073671229846336e-06,
          2.0671504891402743e-06,
          1.3207838105032564e-06,
          8.01227352068065e-07,
          4.6126033782861283e-07,
          2.519206062276957e-07,
          1.3050020945652297e-07,
          6.4109260941156e-08,
          2.98638015995534e-08,
          1.3190196924069795e-08,
          5.5235268793727725e-09,
          2.1929301006162022e-09,
          8.254014070546974e-10,
          2.9453035916224106e-10,
          9.963549106618353e-11,
          3.1953140091725683e-11,
          9.714634477453517e-12,
          2.8000176589177484e-12,
          7.654140788519164e-13,
          1.999845963665125e-13,
          5.700070785509462e-14,
          4.7550622560816166e-14,
          1.516409264712993e-13,
          5.826481542735822e-13,
          2.1540873363300122e-12,
          7.555733385918208e-12,
          2.5125561378925743e-11,
          7.920690228984924e-11,
          2.3671045441997507e-10,
          6.706237876919711e-10,
          1.8011404147879708e-09,
          4.585886375581342e-09,
          1.1068941969450998e-08,
          2.532771630123082e-08,
          5.4940556876257926e-08,
          1.1297885864966398e-07,
          2.2024619323526436e-07,
          4.070303002063384e-07,
          7.131028489418652e-07,
          1.1843626541777718e-06,
          1.8647659882425767e-06,
          2.7833708592841073e-06,
          3.9384461742819885e-06,
          5.283063790862842e-06,
          6.718214974737996e-06,
          8.098956015784308e-06,
          9.255742971705152e-06,
          1.0027683851481277e-05
         ],
         "yaxis": "y"
        },
        {
         "legendgroup": "Gold Medal",
         "marker": {
          "color": "rgb(255, 127, 14)"
         },
         "mode": "lines",
         "name": "Gold Medal",
         "showlegend": true,
         "type": "scatter",
         "x": [
          13,
          13.102,
          13.204,
          13.306,
          13.408,
          13.51,
          13.612,
          13.714,
          13.816,
          13.918,
          14.02,
          14.122,
          14.224,
          14.326,
          14.428,
          14.53,
          14.632,
          14.734,
          14.836,
          14.938,
          15.04,
          15.142,
          15.244,
          15.346,
          15.448,
          15.55,
          15.652000000000001,
          15.754,
          15.856,
          15.958,
          16.06,
          16.162,
          16.264,
          16.366,
          16.468,
          16.57,
          16.672,
          16.774,
          16.876,
          16.978,
          17.08,
          17.182000000000002,
          17.284,
          17.386,
          17.488,
          17.59,
          17.692,
          17.794,
          17.896,
          17.998,
          18.1,
          18.201999999999998,
          18.304000000000002,
          18.406,
          18.508,
          18.61,
          18.712,
          18.814,
          18.916,
          19.018,
          19.12,
          19.222,
          19.323999999999998,
          19.426000000000002,
          19.528,
          19.63,
          19.732,
          19.834,
          19.936,
          20.038,
          20.14,
          20.242,
          20.344,
          20.445999999999998,
          20.548000000000002,
          20.65,
          20.752,
          20.854,
          20.956,
          21.058,
          21.16,
          21.262,
          21.364,
          21.466,
          21.567999999999998,
          21.67,
          21.772,
          21.874000000000002,
          21.976,
          22.078,
          22.18,
          22.282,
          22.384,
          22.486,
          22.588,
          22.689999999999998,
          22.792,
          22.894,
          22.996000000000002,
          23.098,
          23.2,
          23.302,
          23.404,
          23.506,
          23.608,
          23.71,
          23.811999999999998,
          23.914,
          24.016,
          24.118000000000002,
          24.22,
          24.322,
          24.424,
          24.526,
          24.628,
          24.73,
          24.832,
          24.933999999999997,
          25.036,
          25.137999999999998,
          25.240000000000002,
          25.342,
          25.444000000000003,
          25.546,
          25.648,
          25.75,
          25.852,
          25.954,
          26.055999999999997,
          26.158,
          26.259999999999998,
          26.362000000000002,
          26.464,
          26.566000000000003,
          26.668,
          26.77,
          26.872,
          26.974,
          27.076,
          27.178,
          27.28,
          27.381999999999998,
          27.484,
          27.586,
          27.688000000000002,
          27.79,
          27.892,
          27.994,
          28.096,
          28.198,
          28.3,
          28.402,
          28.503999999999998,
          28.606,
          28.708,
          28.810000000000002,
          28.912,
          29.014,
          29.116,
          29.218,
          29.32,
          29.422,
          29.524,
          29.626,
          29.728,
          29.83,
          29.932,
          30.034,
          30.136,
          30.238,
          30.34,
          30.442,
          30.544,
          30.646,
          30.748,
          30.85,
          30.952,
          31.054,
          31.156,
          31.258,
          31.36,
          31.462,
          31.564,
          31.666,
          31.768,
          31.87,
          31.972,
          32.074,
          32.176,
          32.278,
          32.379999999999995,
          32.482,
          32.584,
          32.686,
          32.788,
          32.89,
          32.992000000000004,
          33.094,
          33.196,
          33.298,
          33.4,
          33.501999999999995,
          33.604,
          33.706,
          33.808,
          33.91,
          34.012,
          34.114000000000004,
          34.216,
          34.318,
          34.42,
          34.522,
          34.623999999999995,
          34.726,
          34.828,
          34.93,
          35.032,
          35.134,
          35.236000000000004,
          35.338,
          35.44,
          35.542,
          35.644,
          35.745999999999995,
          35.848,
          35.95,
          36.052,
          36.153999999999996,
          36.256,
          36.358000000000004,
          36.46,
          36.562,
          36.664,
          36.766,
          36.867999999999995,
          36.97,
          37.072,
          37.174,
          37.275999999999996,
          37.378,
          37.480000000000004,
          37.582,
          37.684,
          37.786,
          37.888000000000005,
          37.989999999999995,
          38.092,
          38.194,
          38.296,
          38.397999999999996,
          38.5,
          38.602000000000004,
          38.704,
          38.806,
          38.908,
          39.010000000000005,
          39.111999999999995,
          39.214,
          39.316,
          39.418,
          39.519999999999996,
          39.622,
          39.724000000000004,
          39.826,
          39.928,
          40.03,
          40.132000000000005,
          40.234,
          40.336,
          40.438,
          40.54,
          40.641999999999996,
          40.744,
          40.846000000000004,
          40.948,
          41.05,
          41.152,
          41.254000000000005,
          41.356,
          41.458,
          41.56,
          41.662,
          41.763999999999996,
          41.866,
          41.968,
          42.07,
          42.172,
          42.274,
          42.376000000000005,
          42.478,
          42.58,
          42.682,
          42.784,
          42.885999999999996,
          42.988,
          43.09,
          43.192,
          43.294,
          43.396,
          43.498000000000005,
          43.6,
          43.702,
          43.804,
          43.906,
          44.007999999999996,
          44.11,
          44.212,
          44.314,
          44.416,
          44.518,
          44.620000000000005,
          44.722,
          44.824,
          44.926,
          45.028,
          45.13,
          45.232,
          45.334,
          45.436,
          45.538,
          45.64,
          45.742,
          45.844,
          45.946,
          46.048,
          46.15,
          46.252,
          46.354,
          46.456,
          46.558,
          46.66,
          46.762,
          46.864,
          46.966,
          47.068,
          47.17,
          47.272,
          47.374,
          47.476,
          47.578,
          47.68,
          47.782,
          47.884,
          47.986,
          48.088,
          48.19,
          48.292,
          48.394,
          48.496,
          48.598,
          48.7,
          48.802,
          48.904,
          49.006,
          49.108,
          49.21,
          49.312,
          49.414,
          49.516,
          49.618,
          49.72,
          49.822,
          49.924,
          50.026,
          50.128,
          50.23,
          50.332,
          50.434,
          50.536,
          50.638,
          50.74,
          50.842,
          50.944,
          51.046,
          51.148,
          51.25,
          51.352,
          51.454,
          51.556,
          51.658,
          51.76,
          51.862,
          51.964,
          52.066,
          52.168,
          52.27,
          52.372,
          52.474,
          52.576,
          52.678,
          52.78,
          52.882,
          52.984,
          53.086,
          53.188,
          53.29,
          53.392,
          53.494,
          53.596,
          53.698,
          53.8,
          53.902,
          54.004,
          54.106,
          54.208,
          54.31,
          54.412,
          54.514,
          54.616,
          54.718,
          54.82,
          54.922,
          55.024,
          55.126,
          55.228,
          55.33,
          55.432,
          55.534,
          55.636,
          55.738,
          55.84,
          55.942,
          56.044,
          56.146,
          56.248,
          56.35,
          56.452,
          56.554,
          56.656,
          56.758,
          56.86,
          56.962,
          57.064,
          57.166,
          57.268,
          57.37,
          57.472,
          57.574,
          57.676,
          57.778,
          57.88,
          57.982,
          58.084,
          58.186,
          58.288,
          58.39,
          58.492,
          58.594,
          58.696,
          58.798,
          58.9,
          59.002,
          59.104,
          59.206,
          59.308,
          59.41,
          59.512,
          59.614,
          59.716,
          59.818,
          59.92,
          60.022,
          60.124,
          60.226,
          60.328,
          60.43,
          60.532,
          60.634,
          60.736,
          60.838,
          60.94,
          61.042,
          61.144,
          61.246,
          61.348,
          61.45,
          61.552,
          61.654,
          61.756,
          61.858,
          61.96,
          62.062,
          62.164,
          62.266,
          62.368,
          62.47,
          62.572,
          62.674,
          62.776,
          62.878,
          62.98,
          63.082,
          63.184,
          63.286,
          63.388,
          63.49,
          63.592,
          63.694,
          63.796,
          63.898
         ],
         "xaxis": "x",
         "y": [
          0.001462693523891934,
          0.0016030945019500486,
          0.0017553577456328982,
          0.0019204613008362646,
          0.002099417471972148,
          0.0022932611282767586,
          0.002503037323374354,
          0.002729788700119829,
          0.002974543125748326,
          0.003238301941228235,
          0.00352202911960643,
          0.003826641520346436,
          0.004153000311861955,
          0.004501903525618368,
          0.004874079615326369,
          0.005270181835550983,
          0.005690783234491052,
          0.006136372080890414,
          0.006607347615478807,
          0.007104016128349371,
          0.0076265875055659006,
          0.008175172546918973,
          0.008749781514629748,
          0.009350324510621238,
          0.009976614378405024,
          0.010628372867266235,
          0.011305240767683267,
          0.012006792619668515,
          0.012732556408516052,
          0.013482038401175374,
          0.014254752954333597,
          0.015050256762077788,
          0.015868186631758138,
          0.01670829950971675,
          0.017570513153213545,
          0.0184549455889862,
          0.019361951336281442,
          0.020292152320614598,
          0.021246461473882438,
          0.022226097207885397,
          0.02323258725387059,
          0.024267760763931064,
          0.025333728047309947,
          0.02643284783686133,
          0.02756768251612441,
          0.028740942253283632,
          0.029955419454407363,
          0.031213915338892593,
          0.032519160735297495,
          0.033873733383478495,
          0.03527997410490337,
          0.03673990417076809,
          0.03825514606771655,
          0.03982684964988178,
          0.041455625393980844,
          0.04314148616374032,
          0.044883798563658935,
          0.0466812446410495,
          0.04853179439743809,
          0.050432689309515485,
          0.05238043684490665,
          0.054370815792955794,
          0.05639889211459239,
          0.058459044942929354,
          0.060545002328883005,
          0.06264988631269341,
          0.06476626690031209,
          0.06688622452053768,
          0.06900142052263249,
          0.07110317523477531,
          0.07318255303339875,
          0.07523045376756661,
          0.0772377097398486,
          0.07919518726805179,
          0.08109389164672387,
          0.08292507410304462,
          0.08468033911119208,
          0.08635175020761553,
          0.08793193225385516,
          0.08941416794142405,
          0.09079248624248709,
          0.09206174049689173,
          0.09321767390410125,
          0.09425697036737982,
          0.09517728892160464,
          0.09597728036361013,
          0.09665658518640172,
          0.09721581248022981,
          0.09765650008185571,
          0.09798105689990205,
          0.09819268898595107,
          0.09829531152252396,
          0.09829344942459338,
          0.09819212966774883,
          0.09799676873565798,
          0.09771305870182671,
          0.09734685541530398,
          0.0969040720473081,
          0.09639058088758018,
          0.09581212577830286,
          0.09517424697179092,
          0.09448221953512739,
          0.09374100574385043,
          0.09295522125179642,
          0.09212911423656477,
          0.09126655623498513,
          0.09037104302675994,
          0.08944570371257532,
          0.08849331606898012,
          0.08751632633793159,
          0.08651687180503537,
          0.08549680480934044,
          0.08445771717527213,
          0.08340096442724887,
          0.08232768950366189,
          0.0812388459968237,
          0.08013522118330801,
          0.07901745925734885,
          0.07788608523079943,
          0.07674152991855641,
          0.07558415629940346,
          0.07441428734759732,
          0.07323223519425662,
          0.07203833122665815,
          0.070832956494937,
          0.0696165715940965,
          0.06838974504467998,
          0.06715317912174015,
          0.06590773208546734,
          0.06465443584722673,
          0.06339450825417042,
          0.06212935938067064,
          0.06086059145813191,
          0.05958999233664348,
          0.058319522632627865,
          0.05705129695799019,
          0.055787559833403805,
          0.054530657050779203,
          0.0532830033621601,
          0.05204704743381049,
          0.05082523501923292,
          0.049619971281096596,
          0.04843358313982684,
          0.04726828245723838,
          0.04612613078806245,
          0.045009006359878374,
          0.04391857387949529,
          0.04285625771465439,
          0.041823218963853485,
          0.04082033690063206,
          0.03984819525546513,
          0.03890707377031933,
          0.037996945418973506,
          0.03711747962193052,
          0.03626805169135024,
          0.035447758614819545,
          0.034655441126332315,
          0.03388971182183446,
          0.03314898886226999,
          0.03243153457989378,
          0.03173549807710091,
          0.03105896069621269,
          0.030399983059017324,
          0.02975665224089733,
          0.029127127568362776,
          0.02850968351967014,
          0.027902748270680323,
          0.027304936562265018,
          0.026715075766720657,
          0.02613222428965951,
          0.025555681747781358,
          0.024984990696003885,
          0.024419930022126547,
          0.023860500465495205,
          0.02330690303066685,
          0.02275951134223726,
          0.02221883920981075,
          0.02168550483284951,
          0.021160193167775777,
          0.020643618001916084,
          0.020136485232026515,
          0.01963945873392304,
          0.019153130041758372,
          0.018677992840685758,
          0.0182144230267294,
          0.017762664815475764,
          0.017322823100065804,
          0.016894861982189098,
          0.016478609140010744,
          0.01607376546568989,
          0.015679919212216564,
          0.015296563742468343,
          0.014923117877987627,
          0.014558947803622537,
          0.014203389496607117,
          0.013855770711761533,
          0.013515431662424006,
          0.013181743681234074,
          0.012854125315794824,
          0.012532055500072964,
          0.012215083631102798,
          0.01190283656032163,
          0.011595022668865416,
          0.011291433327321168,
          0.01099194213603519,
          0.01069650239815209,
          0.010405143293134394,
          0.010117965195587662,
          0.00983513452753231,
          0.009556878448853166,
          0.00928347958924802,
          0.009015270915288438,
          0.008752630718120538,
          0.008495977610264138,
          0.008245765342108701,
          0.0080024771965068,
          0.007766619697638993,
          0.007538715380021429,
          0.007319294404697304,
          0.007108884879560272,
          0.006908001834637773,
          0.006717134914587423,
          0.006536734971978963,
          0.006367199867753561,
          0.0062088599009259655,
          0.006061963389710017,
          0.0059266630030812145,
          0.005803003488724628,
          0.0056909114552153315,
          0.005590187839805419,
          0.005500503627069762,
          0.005421399278861098,
          0.00535228819585802,
          0.005292464361109575,
          0.005241114124241974,
          0.005197331881179979,
          0.005160139199627759,
          0.005128506747353027,
          0.00510137821093152,
          0.005077695258840096,
          0.005056422514975025,
          0.0050365714748476925,
          0.0050172223218424485,
          0.004997542686331761,
          0.004976802533457537,
          0.004954384559273164,
          0.004929789709175941,
          0.004902637693416064,
          0.004872662645894888,
          0.004839704337201491,
          0.004803695593673567,
          0.004764646775348323,
          0.004722628313709597,
          0.004677752395471471,
          0.004630154895971347,
          0.004579978614558804,
          0.004527358748937183,
          0.0044724113744408385,
          0.004415225480109725,
          0.004355858871243671,
          0.004294337994473274,
          0.004230661493093591,
          0.0041648070732863,
          0.004096741069618458,
          0.004026429951583288,
          0.003953852919101714,
          0.0038790146971381155,
          0.003801957657378645,
          0.0037227724642348997,
          0.003641606556242687,
          0.003558669922913553,
          0.0034742378104512506,
          0.003388650175960614,
          0.003302307897411658,
          0.003215665924978012,
          0.0031292237190332084,
          0.003043513453340436,
          0.002959086563053865,
          0.0028764992823970804,
          0.002796297844747902,
          0.0027190040088231745,
          0.0026451015310909876,
          0.0025750241304723018,
          0.0025091453922584683,
          0.002447770940482862,
          0.0023911330790031093,
          0.002339387968904634,
          0.0022926152811266263,
          0.002250820145609643,
          0.002213937118113804,
          0.0021818358083116676,
          0.0021543277614741213,
          0.0021311741629646544,
          0.0021120939399082925,
          0.0020967718660176793,
          0.0020848663301203147,
          0.0020760165014375963,
          0.0020698487090052634,
          0.0020659819420252227,
          0.0020640324654800065,
          0.002063617624474995,
          0.002064358975813228,
          0.0020658849318465062,
          0.0020678331268672496,
          0.0020698527191565963,
          0.0020716068230287807,
          0.0020727752272308234,
          0.0020730575027189946,
          0.0020721765390595854,
          0.0020698824800540437,
          0.002065956961411481,
          0.0020602174918574515,
          0.0020525217687713615,
          0.002042771684074261,
          0.002030916758197279,
          0.0020169567407493966,
          0.002000943135814146,
          0.0019829794462181034,
          0.001963219982127898,
          0.0019418671416035578,
          0.0019191671403566365,
          0.0018954042407458812,
          0.0018708936018018026,
          0.0018459729388576387,
          0.0018209932396765875,
          0.0017963088309068892,
          0.0017722671220823688,
          0.0017491983728076595,
          0.0017274058316146131,
          0.0017071565824263457,
          0.0016886734075397894,
          0.0016721279361355112,
          0.0016576352967296315,
          0.0016452504333543195,
          0.001634966181586912,
          0.0016267131350262986,
          0.0016203612686417198,
          0.0016157232256409399,
          0.0016125591218386732,
          0.0016105826781750469,
          0.0016094684596278791,
          0.001608859978137234,
          0.0016083784083847097,
          0.0016076316676295393,
          0.001606223622869126,
          0.0016037632083434456,
          0.0015998732614095597,
          0.0015941989124489049,
          0.0015864153921545786,
          0.0015762351449790976,
          0.001563414158901928,
          0.0015477574378646051,
          0.0015291235538573574,
          0.001507428221169655,
          0.001482646836938821,
          0.001454815931674355,
          0.0014240334731576057,
          0.001390457969449624,
          0.0013543063240135788,
          0.001315850410111707,
          0.0012754123539678276,
          0.0012333585471429977,
          0.0011900924476310989,
          0.0011460462748140144,
          0.0011016717531588712,
          0.0010574301101616535,
          0.0010137815818005624,
          0.000971174719727019,
          0.0009300358248279371,
          0.0008907588484025364,
          0.0008536961026261094,
          0.000819150104949316,
          0.0007873668466081794,
          0.0007585307248270933,
          0.0007327613141704084,
          0.0007101120784907914,
          0.0006905710454664938,
          0.0006740633856631944,
          0.0006604557622616896,
          0.0006495622505349178,
          0.0006411515715593303,
          0.0006349553451868819,
          0.0006306770444336323,
          0.0006280013273043485,
          0.0006266034315622482,
          0.0006261583408752955,
          0.0006263494641069955,
          0.000626876609757436,
          0.0006274630810545252,
          0.0006278617605277111,
          0.0006278600931937014,
          0.0006272839126645881,
          0.0006260000834162466,
          0.0006239179549802096,
          0.0006209896407189577,
          0.0006172091466412658,
          0.0006126103864452443,
          0.0006072641298784155,
          0.00060127394468947,
          0.0005947712095927542,
          0.000587909297751012,
          0.0005808570573927491,
          0.0005737917474275039,
          0.0005668916194565346,
          0.0005603283707235891,
          0.0005542597220426301,
          0.0005488223970297493,
          0.0005441257905916077,
          0.0005402466125815745,
          0.0005372247746423546,
          0.0005350607534348523,
          0.0005337146119418204,
          0.0005331067939599788,
          0.0005331207282342779,
          0.000533607192099073,
          0.0005343902950206491,
          0.0005352748556460443,
          0.0005360548674998271,
          0.0005365226836143443,
          0.0005364785036249089,
          0.0005357397215610125,
          0.0005341496906651288,
          0.0005315854834720448,
          0.0005279642699221959,
          0.0005232480008495614,
          0.0005174461649368069,
          0.0005106164794053231,
          0.0005028634729865379,
          0.0004943350186117807,
          0.00048521696746861456,
          0.0004757261208376856,
          0.00046610184747278933,
          0.00045659670922028285,
          0.0004474664941664041,
          0.00043896007401525845,
          0.00043130950082878735,
          0.00042472073881205197,
          0.000419365391372574,
          0.00041537373467575515,
          0.00041282930921607747,
          0.00041176525360809283,
          0.000412162493021758,
          0.0004139498215221592,
          0.00041700584591922645,
          0.00042116269120997006,
          0.000426211306583973,
          0.00043190815815216535,
          0.0004379830515176733,
          0.0004441477950663842,
          0.0004501053940048389,
          0.00045555945587620166,
          0.0004602234902988249,
          0.00046382979838384284,
          0.0004661376697618797,
          0.0004669406361771675,
          0.00046607256877099584,
          0.0004634124499054027,
          0.0004588876980114192,
          0.0004524759737891666,
          0.00044420544646253934,
          0.0004341535480853462,
          0.00042244429059788935,
          0.00040924426306955986,
          0.0003947574641279172,
          0.0003792191559556467,
          0.0003628889506393089,
          0.00034604335652210175,
          0.0003289680212467625,
          0.00031194990934007736,
          0.0002952696457230363,
          0.0002791942429279223,
          0.0002639704098067983,
          0.00024981861407810587,
          0.0002369280413016151,
          0.00022545256003529216,
          0.00021550776830547367,
          0.0002071691614040244,
          0.00020047142663656505,
          0.00019540883809022759,
          0.0001919366947107896,
          0.00018997371872964133,
          0.00018940530930532204,
          0.00019008752847929315,
          0.0001918516833322386,
          0.0001945093595335605,
          0.00019785775712817248,
          0.00020168517911756985,
          0.00020577652680839564,
          0.0002099186626207278,
          0.0002139055106536635,
          0.0002175427773857865,
          0.00022065218904871714,
          0.00022307515808246196,
          0.00022467580831339088,
          0.00022534330675674146,
          0.00022499346890855843,
          0.00022356962372289488,
          0.00022104274381622735,
          0.00021741086542121518,
          0.0002126978408115597
         ],
         "yaxis": "y"
        },
        {
         "legendgroup": "Silver Medal",
         "marker": {
          "color": "rgb(44, 160, 44)"
         },
         "mode": "lines",
         "name": "Silver Medal",
         "showlegend": true,
         "type": "scatter",
         "x": [
          12,
          12.122,
          12.244,
          12.366,
          12.488,
          12.61,
          12.732,
          12.854,
          12.975999999999999,
          13.098,
          13.22,
          13.342,
          13.464,
          13.586,
          13.708,
          13.83,
          13.952,
          14.074,
          14.196,
          14.318,
          14.44,
          14.562,
          14.684000000000001,
          14.806000000000001,
          14.928,
          15.05,
          15.172,
          15.294,
          15.416,
          15.538,
          15.66,
          15.782,
          15.904,
          16.026,
          16.148,
          16.27,
          16.392,
          16.514,
          16.636,
          16.758,
          16.88,
          17.002,
          17.124,
          17.246000000000002,
          17.368000000000002,
          17.490000000000002,
          17.612000000000002,
          17.734,
          17.856,
          17.978,
          18.1,
          18.222,
          18.344,
          18.466,
          18.588,
          18.71,
          18.832,
          18.954,
          19.076,
          19.198,
          19.32,
          19.442,
          19.564,
          19.686,
          19.808,
          19.93,
          20.052,
          20.174,
          20.296,
          20.418,
          20.54,
          20.662,
          20.784,
          20.906,
          21.028,
          21.15,
          21.272,
          21.394,
          21.516,
          21.637999999999998,
          21.759999999999998,
          21.881999999999998,
          22.003999999999998,
          22.125999999999998,
          22.247999999999998,
          22.369999999999997,
          22.492,
          22.614,
          22.736,
          22.858,
          22.98,
          23.102,
          23.224,
          23.346,
          23.468,
          23.59,
          23.712,
          23.834,
          23.956,
          24.078,
          24.2,
          24.322,
          24.444000000000003,
          24.566000000000003,
          24.688000000000002,
          24.810000000000002,
          24.932000000000002,
          25.054000000000002,
          25.176000000000002,
          25.298000000000002,
          25.42,
          25.542,
          25.664,
          25.786,
          25.908,
          26.03,
          26.152,
          26.274,
          26.396,
          26.518,
          26.64,
          26.762,
          26.884,
          27.006,
          27.128,
          27.25,
          27.372,
          27.494,
          27.616,
          27.738,
          27.86,
          27.982,
          28.104,
          28.226,
          28.348,
          28.47,
          28.592,
          28.714,
          28.836,
          28.958,
          29.08,
          29.202,
          29.324,
          29.446,
          29.568,
          29.69,
          29.812,
          29.934,
          30.056,
          30.178,
          30.3,
          30.422,
          30.544,
          30.666,
          30.788,
          30.91,
          31.032,
          31.154,
          31.276,
          31.398,
          31.52,
          31.642,
          31.764,
          31.886,
          32.007999999999996,
          32.129999999999995,
          32.251999999999995,
          32.373999999999995,
          32.495999999999995,
          32.617999999999995,
          32.739999999999995,
          32.861999999999995,
          32.984,
          33.106,
          33.228,
          33.35,
          33.472,
          33.594,
          33.716,
          33.838,
          33.96,
          34.082,
          34.204,
          34.326,
          34.448,
          34.57,
          34.692,
          34.814,
          34.936,
          35.058,
          35.18,
          35.302,
          35.424,
          35.546,
          35.668,
          35.79,
          35.912,
          36.034,
          36.156,
          36.278,
          36.4,
          36.522,
          36.644,
          36.766,
          36.888000000000005,
          37.010000000000005,
          37.132000000000005,
          37.254000000000005,
          37.376000000000005,
          37.498000000000005,
          37.620000000000005,
          37.742000000000004,
          37.864000000000004,
          37.986000000000004,
          38.108000000000004,
          38.230000000000004,
          38.352000000000004,
          38.474000000000004,
          38.596000000000004,
          38.718,
          38.84,
          38.962,
          39.084,
          39.206,
          39.328,
          39.45,
          39.572,
          39.694,
          39.816,
          39.938,
          40.06,
          40.182,
          40.304,
          40.426,
          40.548,
          40.67,
          40.792,
          40.914,
          41.036,
          41.158,
          41.28,
          41.402,
          41.524,
          41.646,
          41.768,
          41.89,
          42.012,
          42.134,
          42.256,
          42.378,
          42.5,
          42.622,
          42.744,
          42.866,
          42.988,
          43.11,
          43.232,
          43.354,
          43.476,
          43.598,
          43.72,
          43.842,
          43.964,
          44.086,
          44.208,
          44.33,
          44.452,
          44.574,
          44.696,
          44.818,
          44.94,
          45.062,
          45.184,
          45.306,
          45.428,
          45.55,
          45.672,
          45.794,
          45.916,
          46.038,
          46.16,
          46.282,
          46.404,
          46.526,
          46.648,
          46.77,
          46.892,
          47.014,
          47.136,
          47.258,
          47.38,
          47.502,
          47.624,
          47.746,
          47.868,
          47.99,
          48.112,
          48.234,
          48.356,
          48.478,
          48.6,
          48.722,
          48.844,
          48.966,
          49.088,
          49.21,
          49.332,
          49.454,
          49.576,
          49.698,
          49.82,
          49.942,
          50.064,
          50.186,
          50.308,
          50.43,
          50.552,
          50.674,
          50.796,
          50.918,
          51.04,
          51.162,
          51.284,
          51.406,
          51.528,
          51.65,
          51.772,
          51.894,
          52.016,
          52.138,
          52.26,
          52.382,
          52.504,
          52.626,
          52.748,
          52.87,
          52.992,
          53.114,
          53.236,
          53.358,
          53.48,
          53.602,
          53.724,
          53.846,
          53.968,
          54.09,
          54.212,
          54.334,
          54.456,
          54.578,
          54.7,
          54.822,
          54.944,
          55.066,
          55.188,
          55.31,
          55.432,
          55.554,
          55.676,
          55.798,
          55.92,
          56.042,
          56.164,
          56.286,
          56.408,
          56.53,
          56.652,
          56.774,
          56.896,
          57.018,
          57.14,
          57.262,
          57.384,
          57.506,
          57.628,
          57.75,
          57.872,
          57.994,
          58.116,
          58.238,
          58.36,
          58.482,
          58.604,
          58.726,
          58.848,
          58.97,
          59.092,
          59.214,
          59.336,
          59.458,
          59.58,
          59.702,
          59.824,
          59.946,
          60.068,
          60.19,
          60.312,
          60.434,
          60.556,
          60.678,
          60.8,
          60.922,
          61.044,
          61.166,
          61.288,
          61.41,
          61.532,
          61.654,
          61.776,
          61.898,
          62.02,
          62.142,
          62.264,
          62.386,
          62.508,
          62.63,
          62.752,
          62.874,
          62.996,
          63.118,
          63.24,
          63.362,
          63.484,
          63.606,
          63.728,
          63.85,
          63.972,
          64.094,
          64.21600000000001,
          64.338,
          64.46000000000001,
          64.582,
          64.70400000000001,
          64.826,
          64.94800000000001,
          65.07,
          65.19200000000001,
          65.314,
          65.436,
          65.55799999999999,
          65.68,
          65.80199999999999,
          65.924,
          66.04599999999999,
          66.168,
          66.28999999999999,
          66.412,
          66.53399999999999,
          66.656,
          66.77799999999999,
          66.9,
          67.02199999999999,
          67.144,
          67.26599999999999,
          67.388,
          67.50999999999999,
          67.632,
          67.75399999999999,
          67.876,
          67.99799999999999,
          68.12,
          68.24199999999999,
          68.364,
          68.48599999999999,
          68.608,
          68.72999999999999,
          68.852,
          68.97399999999999,
          69.096,
          69.218,
          69.34,
          69.462,
          69.584,
          69.706,
          69.828,
          69.95,
          70.072,
          70.194,
          70.316,
          70.438,
          70.56,
          70.682,
          70.804,
          70.926,
          71.048,
          71.17,
          71.292,
          71.414,
          71.536,
          71.658,
          71.78,
          71.902,
          72.024,
          72.146,
          72.268,
          72.39,
          72.512,
          72.634,
          72.756,
          72.878
         ],
         "xaxis": "x",
         "y": [
          0.0007121698946030161,
          0.000817785680655734,
          0.0009368012841000037,
          0.0010705105280698413,
          0.0012202362034254525,
          0.001387309678013918,
          0.0015730480372951332,
          0.0017787294106061601,
          0.0020055672873861164,
          0.0022546847570930717,
          0.002527089710828505,
          0.002823652117975525,
          0.0031450845336341493,
          0.0034919269979263863,
          0.003864537450951843,
          0.004263088700724593,
          0.004687572838341876,
          0.005137813787382197,
          0.005613488396877255,
          0.006114156136092788,
          0.0066392970270511935,
          0.007188356966957031,
          0.007760799066394815,
          0.008356159089512611,
          0.008974102568527209,
          0.009614480724188287,
          0.010277382008570198,
          0.010963175948788791,
          0.011672546055531014,
          0.012406508900699553,
          0.013166417075763234,
          0.01395394460242808,
          0.014771054436686297,
          0.015619948913624476,
          0.016503005225630068,
          0.017422699195305466,
          0.018381521574792472,
          0.019381891761424883,
          0.02042607407442494,
          0.021516101534027388,
          0.02265371141547619,
          0.023840295761250335,
          0.025076868623307474,
          0.02636405021523194,
          0.027702066554198147,
          0.029090761747364528,
          0.03052961899735913,
          0.032017785802845186,
          0.03355409879440499,
          0.03513710418700592,
          0.03676507088891271,
          0.038435994755128704,
          0.04014759412826674,
          0.04189729845482152,
          0.04368223317758031,
          0.04549920508562875,
          0.04734469270221141,
          0.04921484602894775,
          0.05110549904776422,
          0.053012196900391134,
          0.05493023778711272,
          0.05685472757696819,
          0.058780643156934806,
          0.06070289892384357,
          0.06261640976469247,
          0.0645161435447653,
          0.06639715661556929,
          0.06825460716305114,
          0.07008374324709342,
          0.07187986496100081,
          0.07363826302637083,
          0.07535413905702483,
          0.07702251538612459,
          0.07863814447897924,
          0.08019542931609497,
          0.08168836655273742,
          0.0831105236435225,
          0.08445505944750263,
          0.0857147951707576,
          0.08688233901194042,
          0.08795026377798472,
          0.08891133231973822,
          0.08975876123196357,
          0.09048650922285693,
          0.09108957323677826,
          0.09156427313265214,
          0.09190850474394659,
          0.09212194165332029,
          0.09220616807582807,
          0.09216472880286664,
          0.09200308702582714,
          0.09172848671732851,
          0.09134972267435253,
          0.09087682782112819,
          0.09032069339716126,
          0.08969264270182932,
          0.08900398268496998,
          0.0882655595322218,
          0.0874873443158944,
          0.0866780727608796,
          0.08584495937954935,
          0.08499350098690443,
          0.08412737836904911,
          0.08324845817378125,
          0.08235689047522775,
          0.08145129145847857,
          0.08052899572012699,
          0.07958635911587679,
          0.07861909109782293,
          0.07762259511719853,
          0.07659229683164072,
          0.07552394234120223,
          0.074413852189247,
          0.07325912105479013,
          0.07205775756487294,
          0.07080876311488922,
          0.06951215268545907,
          0.06816892412790342,
          0.06678098506727802,
          0.06535104832753104,
          0.06388250757721477,
          0.06237930475540037,
          0.060845799856495186,
          0.05928665197070687,
          0.05770671827323602,
          0.056110975133510765,
          0.05450446288919984,
          0.0528922533065675,
          0.05127943651799436,
          0.04967112244633155,
          0.04807245050930623,
          0.04648860081164246,
          0.044924800092209,
          0.0433863163620657,
          0.041878437365172154,
          0.04040642959863708,
          0.03897547650036427,
          0.03759059639267947,
          0.036256542704764444,
          0.034977690739594225,
          0.03375791667859699,
          0.0326004755334611,
          0.031507885295848456,
          0.03048182457300658,
          0.02952305053520505,
          0.02863134307625071,
          0.02780547976613555,
          0.027043244543909904,
          0.026341471266009563,
          0.025696121309003676,
          0.02510239254911954,
          0.024554855323887837,
          0.024047609532932487,
          0.023574455946081246,
          0.023129074123553084,
          0.022705199151211365,
          0.022296789657510606,
          0.02189818027894571,
          0.021504212818639533,
          0.02111034171434747,
          0.020712710996010984,
          0.020308201558104085,
          0.01989444918695046,
          0.019469835264420084,
          0.019033453328526382,
          0.01858505564057058,
          0.01812498454374595,
          0.017654093681015653,
          0.017173664077032014,
          0.016685319709181894,
          0.016190946545507283,
          0.015692618176826028,
          0.015192530192258484,
          0.014692944422625032,
          0.01419614318610705,
          0.013704392791110574,
          0.013219914847591793,
          0.01274486345954179,
          0.012281306147242132,
          0.011831206384807726,
          0.01139640591903143,
          0.01097860551937933,
          0.010579343436427554,
          0.010199971543456664,
          0.00984162982319753,
          0.009505220460700384,
          0.009191383246439836,
          0.008900474231886389,
          0.008632549587842948,
          0.008387356396008308,
          0.008164331685531009,
          0.007962610461014484,
          0.0077810428253036155,
          0.00761821965582145,
          0.007472505721305147,
          0.007342078688616513,
          0.0072249722090076355,
          0.007119121206732925,
          0.007022407610250719,
          0.006932705032709158,
          0.006847921270098448,
          0.0067660378777865135,
          0.006685146443767014,
          0.006603481443733892,
          0.006519449700894954,
          0.006431656468032512,
          0.0063389280128395425,
          0.006240330356844761,
          0.006135183549345428,
          0.006023070617334272,
          0.0059038401871096,
          0.00577760177885026,
          0.005644712967036548,
          0.005505757984697446,
          0.00536151790481483,
          0.005212933205196567,
          0.005061060237577663,
          0.0049070237875119315,
          0.00475196843684149,
          0.004597011744381591,
          0.004443202285241979,
          0.004291485309545426,
          0.004142678209176256,
          0.003997457165963271,
          0.0038563553780189904,
          0.003719772227084044,
          0.003587991772604853,
          0.003461208147052228,
          0.0033395548720133277,
          0.0032231348757949434,
          0.003112048092596924,
          0.0030064139421405347,
          0.0029063866706519202,
          0.002812162393058792,
          0.0027239776075666756,
          0.0026420998482558607,
          0.002566811899201397,
          0.002498391536812433,
          0.002437089048307341,
          0.0023831047815157567,
          0.00233656873757342,
          0.0022975237766240516,
          0.0022659134416737944,
          0.0022415748015826016,
          0.002224236153174454,
          0.002213518973915303,
          0.002208943228168819,
          0.0022099350224908253,
          0.002215835671639621,
          0.0022259114448277715,
          0.0022393635603797147,
          0.002255338325471486,
          0.0022729376146429603,
          0.0022912300936574407,
          0.0023092636876158768,
          0.002326079748555259,
          0.0023407292050573307,
          0.0023522907022205,
          0.0023598904080206263,
          0.0023627228237413384,
          0.002360071644762022,
          0.0023513295195152885,
          0.002336015481249808,
          0.002313788893758175,
          0.0022844589531846545,
          0.0022479890996616406,
          0.002204496076378657,
          0.002154243782340558,
          0.002097632448948304,
          0.002035183984788641,
          0.001967524543492881,
          0.0018953654570015343,
          0.0018194836387625118,
          0.0017407024124936204,
          0.0016598734901235707,
          0.0015778605446206792,
          0.0014955245405388461,
          0.0014137107360244038,
          0.0013332370861201647,
          0.0012548836785266197,
          0.0011793828260931321,
          0.001107409518116757,
          0.0010395720760309033,
          0.0009764030407283711,
          0.0009183505068649249,
          0.0008657702828702834,
          0.0008189193678647552,
          0.0007779512805032903,
          0.0007429137427607868,
          0.0007137491177030957,
          0.0006902978381898141,
          0.0006723048645744491,
          0.0006594289992853232,
          0.0006512546905147227,
          0.0006473057986632046,
          0.0006470606939953693,
          0.0006499680103475695,
          0.00065546239712406,
          0.0006629796815987497,
          0.0006719709608299406,
          0.000681915268800889,
          0.0006923305906208125,
          0.0007027831049934442,
          0.0007128946166808988,
          0.0007223481866998194,
          0.0007308919806939686,
          0.000738341342838722,
          0.0007445790759997084,
          0.0007495538834136524,
          0.0007532769174452895,
          0.0007558163988077002,
          0.0007572903219162199,
          0.0007578573493855499,
          0.0007577061149769934,
          0.000757043287385071,
          0.0007560808804648189,
          0.000755023410029289,
          0.0007540555749417458,
          0.0007533311659297868,
          0.0007529638700223885,
          0.0007530205396363886,
          0.0007535173388343335,
          0.0007544189782434427,
          0.0007556410235817226,
          0.0007570550333242938,
          0.0007584960722416892,
          0.000759771980768672,
          0.0007606736721467106,
          0.0007609856900773423,
          0.0007604962914960323,
          0.0007590064164184175,
          0.0007563370570355416,
          0.0007523347235103337,
          0.0007468749034874742,
          0.0007398636050242633,
          0.0007312372394032056,
          0.0007209612261314552,
          0.0007090277779077877,
          0.0006954533451071596,
          0.0006802761700053167,
          0.0006635543282197173,
          0.0006453645300277871,
          0.000625801830673651,
          0.0006049802700862454,
          0.0005830343409322743,
          0.0005601210795153103,
          0.0005364224934981324,
          0.0005121479872816151,
          0.0004875364206449409,
          0.00046285743712157435,
          0.00043841172224321775,
          0.0004145298943167183,
          0.00039156978806598473,
          0.0003699119612424392,
          0.0003499533340876487,
          0.0003320989600499987,
          0.000316752022562076,
          0.00030430225592950833,
          0.00029511309652621563,
          0.00028950798007182984,
          0.00028775630637426386,
          0.00029005968710848064,
          0.00029653916581475853,
          0.0003072241422265519,
          0.00032204373536085803,
          0.000340821273205933,
          0.0003632724961054599,
          0.0003890079053146062,
          0.0004175394824103128,
          0.00044829175989153015,
          0.00048061695462358874,
          0.000513813604505513,
          0.0005471478983170483,
          0.0005798766829002901,
          0.0006112709920437576,
          0.0006406388840306518,
          0.0006673464088693719,
          0.0006908356520197859,
          0.0007106390099085486,
          0.0007263891259025552,
          0.000737824228857414,
          0.0007447889406411327,
          0.0007472309237336538,
          0.0007451939969522897,
          0.0007388085338210903,
          0.0007282800593248266,
          0.0007138769715115281,
          0.0006959182392546534,
          0.0006747617801226512,
          0.0006507940235345457,
          0.0006244209394536872,
          0.0005960605883646718,
          0.0005661370489713667,
          0.000535075426193403,
          0.0005032975473034712,
          0.0004712179244295554,
          0.0004392395953162115,
          0.0004077495423414639,
          0.00037711351798475485,
          0.00034767025546066565,
          0.0003197251971019795,
          0.00029354401228767936,
          0.00026934628605578096,
          0.00024729982793527116,
          0.00022751607176999704,
          0.00021004701022127876,
          0.00019488403573769976,
          0.00018195895050736023,
          0.00017114727160733747,
          0.00016227380636179388,
          0.0001551203195844795,
          0.00014943497128881995,
          0.00014494308168874252,
          0.00014135868897207797,
          0.00013839631095659182,
          0.0001357823080022021,
          0.00013326527206347966,
          0.0001306249330950571,
          0.00012767917389913916,
          0.0001242888702069122,
          0.00012036041471181852,
          0.00011584593117104247,
          0.00011074132650997303,
          0.00010508245464957558,
          9.893976654485896e-05,
          9.241188991355813e-05,
          8.561861536577288e-05,
          7.8693762206747e-05,
          7.177835923338692e-05,
          6.501450830799643e-05,
          5.854020851304692e-05,
          5.248531488451018e-05,
          4.696869733327762e-05,
          4.2096561422059014e-05,
          3.7961801215065374e-05,
          3.464418191875676e-05,
          3.221110094731584e-05,
          3.0718652654402994e-05,
          3.021272437901608e-05,
          3.07298777800393e-05,
          3.2297816135388735e-05,
          3.493530054196145e-05,
          3.86514501209333e-05,
          4.3444437359989756e-05,
          4.929966357611729e-05,
          5.618756551783783e-05,
          6.406125742571475e-05,
          7.285424951813789e-05,
          8.247850117486438e-05,
          9.282306374332909e-05,
          0.0001037535440442343,
          0.0001151125769072767,
          0.00012672143637858262,
          0.0001383828447073726,
          0.0001498849607955847,
          0.00016100645092746716,
          0.00017152246982422847,
          0.00018121131460759843,
          0.00018986146262317904,
          0.0001972786697710033,
          0.00020329279127806216,
          0.0002077639926213699,
          0.00021058804408416665,
          0.00021170043640884786,
          0.00021107911425676386,
          0.00020874569482335926,
          0.00020476511644210263,
          0.000199243741412164,
          0.00019232601359201685,
          0.00018418983973463667,
          0.00017504091986357488,
          0.0001651062928110744,
          0.00015462738608196748,
          0.00014385286352529075,
          0.00013303155041018556,
          0.00012240568542302993,
          0.00011220470621202535,
          0.00010263972389786649,
          9.389878764540283e-05,
          8.614298833959467e-05,
          7.950340562054974e-05,
          7.40788690173383e-05,
          6.993448420063176e-05,
          6.710087012754015e-05,
          6.557406076728806e-05,
          6.531604298094778e-05,
          6.625592527161354e-05,
          6.829175488474992e-05,
          7.129301730889578e-05,
          7.510385743926139e-05,
          7.954705178685425e-05,
          8.442873447274818e-05,
          8.954383711753957e-05,
          9.46821474120861e-05,
          9.96348286698243e-05,
          0.00010420118018750291,
          0.00010819536374063858,
          0.00011145278275318032,
          0.00011383578410368878,
          0.00011523836250933236
         ],
         "yaxis": "y"
        },
        {
         "legendgroup": "Bronze Medal",
         "marker": {
          "color": "rgb(214, 39, 40)"
         },
         "mode": "lines",
         "name": "Bronze Medal",
         "showlegend": true,
         "type": "scatter",
         "x": [
          12,
          12.12,
          12.24,
          12.36,
          12.48,
          12.6,
          12.72,
          12.84,
          12.96,
          13.08,
          13.2,
          13.32,
          13.44,
          13.56,
          13.68,
          13.8,
          13.92,
          14.04,
          14.16,
          14.28,
          14.4,
          14.52,
          14.64,
          14.76,
          14.879999999999999,
          15,
          15.120000000000001,
          15.24,
          15.36,
          15.48,
          15.6,
          15.72,
          15.84,
          15.96,
          16.08,
          16.2,
          16.32,
          16.44,
          16.56,
          16.68,
          16.8,
          16.92,
          17.04,
          17.16,
          17.28,
          17.4,
          17.52,
          17.64,
          17.759999999999998,
          17.88,
          18,
          18.12,
          18.240000000000002,
          18.36,
          18.48,
          18.6,
          18.72,
          18.84,
          18.96,
          19.08,
          19.2,
          19.32,
          19.44,
          19.56,
          19.68,
          19.8,
          19.92,
          20.04,
          20.16,
          20.28,
          20.4,
          20.52,
          20.64,
          20.759999999999998,
          20.880000000000003,
          21,
          21.119999999999997,
          21.240000000000002,
          21.36,
          21.48,
          21.6,
          21.72,
          21.84,
          21.96,
          22.08,
          22.2,
          22.32,
          22.439999999999998,
          22.560000000000002,
          22.68,
          22.8,
          22.92,
          23.04,
          23.16,
          23.28,
          23.4,
          23.52,
          23.64,
          23.759999999999998,
          23.880000000000003,
          24,
          24.119999999999997,
          24.240000000000002,
          24.36,
          24.48,
          24.6,
          24.72,
          24.84,
          24.96,
          25.08,
          25.2,
          25.32,
          25.439999999999998,
          25.560000000000002,
          25.68,
          25.8,
          25.92,
          26.04,
          26.16,
          26.28,
          26.4,
          26.52,
          26.64,
          26.759999999999998,
          26.880000000000003,
          27,
          27.119999999999997,
          27.240000000000002,
          27.36,
          27.48,
          27.6,
          27.72,
          27.84,
          27.96,
          28.08,
          28.2,
          28.32,
          28.44,
          28.56,
          28.68,
          28.8,
          28.92,
          29.04,
          29.16,
          29.28,
          29.4,
          29.52,
          29.64,
          29.76,
          29.88,
          30,
          30.12,
          30.24,
          30.36,
          30.48,
          30.6,
          30.72,
          30.84,
          30.96,
          31.08,
          31.2,
          31.32,
          31.44,
          31.56,
          31.68,
          31.8,
          31.92,
          32.04,
          32.16,
          32.28,
          32.4,
          32.519999999999996,
          32.64,
          32.760000000000005,
          32.879999999999995,
          33,
          33.120000000000005,
          33.239999999999995,
          33.36,
          33.480000000000004,
          33.6,
          33.72,
          33.84,
          33.96,
          34.08,
          34.2,
          34.32,
          34.44,
          34.56,
          34.68,
          34.8,
          34.92,
          35.04,
          35.16,
          35.28,
          35.4,
          35.519999999999996,
          35.64,
          35.760000000000005,
          35.879999999999995,
          36,
          36.120000000000005,
          36.239999999999995,
          36.36,
          36.480000000000004,
          36.6,
          36.72,
          36.84,
          36.96,
          37.08,
          37.2,
          37.32,
          37.44,
          37.56,
          37.68,
          37.8,
          37.92,
          38.04,
          38.16,
          38.28,
          38.4,
          38.519999999999996,
          38.64,
          38.760000000000005,
          38.879999999999995,
          39,
          39.120000000000005,
          39.239999999999995,
          39.36,
          39.480000000000004,
          39.6,
          39.72,
          39.84,
          39.96,
          40.08,
          40.2,
          40.32,
          40.44,
          40.56,
          40.68,
          40.8,
          40.92,
          41.04,
          41.16,
          41.28,
          41.4,
          41.519999999999996,
          41.64,
          41.760000000000005,
          41.879999999999995,
          42,
          42.120000000000005,
          42.239999999999995,
          42.36,
          42.480000000000004,
          42.6,
          42.72,
          42.84,
          42.96,
          43.08,
          43.2,
          43.32,
          43.44,
          43.56,
          43.68,
          43.8,
          43.92,
          44.04,
          44.16,
          44.28,
          44.4,
          44.52,
          44.64,
          44.76,
          44.88,
          45,
          45.12,
          45.24,
          45.36,
          45.48,
          45.6,
          45.72,
          45.84,
          45.96,
          46.08,
          46.2,
          46.32,
          46.44,
          46.56,
          46.68,
          46.8,
          46.92,
          47.04,
          47.16,
          47.28,
          47.4,
          47.52,
          47.64,
          47.76,
          47.88,
          48,
          48.12,
          48.24,
          48.36,
          48.48,
          48.6,
          48.72,
          48.84,
          48.96,
          49.08,
          49.2,
          49.32,
          49.44,
          49.56,
          49.68,
          49.8,
          49.92,
          50.04,
          50.16,
          50.28,
          50.4,
          50.52,
          50.64,
          50.76,
          50.88,
          51,
          51.12,
          51.24,
          51.36,
          51.48,
          51.6,
          51.72,
          51.84,
          51.96,
          52.08,
          52.2,
          52.32,
          52.44,
          52.56,
          52.68,
          52.8,
          52.92,
          53.04,
          53.16,
          53.28,
          53.4,
          53.52,
          53.64,
          53.76,
          53.88,
          54,
          54.12,
          54.24,
          54.36,
          54.48,
          54.6,
          54.72,
          54.84,
          54.96,
          55.08,
          55.2,
          55.32,
          55.44,
          55.56,
          55.68,
          55.8,
          55.92,
          56.04,
          56.16,
          56.28,
          56.4,
          56.52,
          56.64,
          56.76,
          56.88,
          57,
          57.12,
          57.24,
          57.36,
          57.48,
          57.6,
          57.72,
          57.84,
          57.96,
          58.08,
          58.2,
          58.32,
          58.44,
          58.56,
          58.68,
          58.8,
          58.92,
          59.04,
          59.16,
          59.28,
          59.4,
          59.52,
          59.64,
          59.76,
          59.88,
          60,
          60.12,
          60.24,
          60.36,
          60.48,
          60.6,
          60.72,
          60.84,
          60.96,
          61.08,
          61.2,
          61.32,
          61.44,
          61.56,
          61.68,
          61.8,
          61.92,
          62.04,
          62.16,
          62.28,
          62.4,
          62.52,
          62.64,
          62.76,
          62.88,
          63,
          63.12,
          63.24,
          63.36,
          63.48,
          63.6,
          63.72,
          63.84,
          63.96,
          64.08,
          64.2,
          64.32,
          64.44,
          64.56,
          64.68,
          64.8,
          64.92,
          65.03999999999999,
          65.16,
          65.28,
          65.4,
          65.52000000000001,
          65.64,
          65.75999999999999,
          65.88,
          66,
          66.12,
          66.24000000000001,
          66.36,
          66.47999999999999,
          66.6,
          66.72,
          66.84,
          66.96000000000001,
          67.08,
          67.2,
          67.32,
          67.44,
          67.56,
          67.68,
          67.8,
          67.92,
          68.03999999999999,
          68.16,
          68.28,
          68.4,
          68.52000000000001,
          68.64,
          68.75999999999999,
          68.88,
          69,
          69.12,
          69.24000000000001,
          69.36,
          69.47999999999999,
          69.6,
          69.72,
          69.84,
          69.96000000000001,
          70.08,
          70.2,
          70.32,
          70.44,
          70.56,
          70.68,
          70.8,
          70.92,
          71.03999999999999,
          71.16,
          71.28,
          71.4,
          71.52000000000001,
          71.64,
          71.75999999999999,
          71.88
         ],
         "xaxis": "x",
         "y": [
          0.00031621737602763176,
          0.00036353287035140327,
          0.00041800639097503903,
          0.0004805419922037324,
          0.0005520563067214492,
          0.0006334592513380584,
          0.0007256366400426444,
          0.0008294365525702006,
          0.0009456611272800302,
          0.0010750650865316146,
          0.0012183617860407742,
          0.0013762369505641067,
          0.0015493695743239893,
          0.0017384587910281287,
          0.0019442549205024894,
          0.002167592435075114,
          0.0024094223038452303,
          0.002670841094178334,
          0.002953114344971273,
          0.0032576920641325525,
          0.003586214715429557,
          0.003940508706792919,
          0.004322571124605235,
          0.004734544223923751,
          0.005178680930359105,
          0.005657303285359453,
          0.00617275632710044,
          0.006727360303626477,
          0.007323364329346842,
          0.007962904594409508,
          0.008647970002938358,
          0.009380377647795578,
          0.010161759839957886,
          0.010993563532574389,
          0.011877061966880167,
          0.012813377292947672,
          0.013803511872492727,
          0.014848385052433476,
          0.015948871504555494,
          0.017105836843756765,
          0.018320166225552815,
          0.019592782008459306,
          0.020924647332387192,
          0.02231675355063774,
          0.023770090761427127,
          0.025285602086637184,
          0.026864123697474863,
          0.02850631374868522,
          0.030212574235740294,
          0.031982970250961355,
          0.03381715115124657,
          0.035714277781779095,
          0.03767295919740099,
          0.03969120139783181,
          0.04176636958107467,
          0.043895164462641335,
          0.046073612431992386,
          0.04829706881188,
          0.050560233291589644,
          0.05285717670504878,
          0.05518137864745064,
          0.057525775851692794,
          0.05988282163256774,
          0.06224455690109879,
          0.0646026931231979,
          0.06694870706106106,
          0.06927394617381408,
          0.07156974222624357,
          0.07382752910256538,
          0.07603895925874549,
          0.07819601193322795,
          0.08029108544868216,
          0.082317065927803,
          0.08426736569690771,
          0.08613592663673626,
          0.08791718669818815,
          0.08960601151986088,
          0.09119759721067537,
          0.09268735442959634,
          0.09407078737944892,
          0.09534338371185078,
          0.09650053217164159,
          0.09753748379551651,
          0.09844936952776374,
          0.09923128236890907,
          0.09987842601193986,
          0.10038632493494826,
          0.10075108384455306,
          0.10096967799874836,
          0.10104025104103712,
          0.10096239417435289,
          0.10073738019818115,
          0.1003683282534147,
          0.09986027989638173,
          0.09922017390523259,
          0.09845671533198029,
          0.09758014293401122,
          0.09660190739125159,
          0.09553427984301707,
          0.0943899156179331,
          0.09318140115508708,
          0.09192081284968256,
          0.09061931497651152,
          0.08928682024150951,
          0.08793173133936821,
          0.08656077570149778,
          0.08517893897624024,
          0.08378949622922759,
          0.0823941338427424,
          0.08099314997874768,
          0.0795857174860379,
          0.07817019040451603,
          0.07674443378313857,
          0.0753061563435349,
          0.07385322649463782,
          0.07238395420011731,
          0.07089732405410544,
          0.06939316844042687,
          0.06787227362405412,
          0.06633641582262631,
          0.06478832849444546,
          0.06323160602452035,
          0.06167055247632646,
          0.06010998692032203,
          0.05855501891224272,
          0.057010808890060646,
          0.05548232856079645,
          0.053974135784283825,
          0.05249017710459672,
          0.05103362904145469,
          0.049606786668650815,
          0.048211005024520165,
          0.046846695678998504,
          0.0455133774856445,
          0.044209777340805965,
          0.04293397382337662,
          0.041683574063655505,
          0.04045591224748406,
          0.0392482569426759,
          0.03805801404675047,
          0.036882912657438684,
          0.035721162556103754,
          0.03457157419122776,
          0.03343363490055346,
          0.032307538393993564,
          0.0311941679619559,
          0.03009503717805562,
          0.02901219474191491,
          0.027948102308515972,
          0.02690549549725297,
          0.025887238679504244,
          0.024896183621834458,
          0.023935040723312373,
          0.02300626962112163,
          0.022111993594641017,
          0.021253939743280298,
          0.020433404605996595,
          0.01965124294873418,
          0.018907876025272826,
          0.0182033147965292,
          0.017537193374578746,
          0.016908808271698834,
          0.016317159758559012,
          0.015760992613379203,
          0.015238834609874533,
          0.014749032092890042,
          0.014289782803962007,
          0.013859166664293172,
          0.013455175467261092,
          0.013075742390329367,
          0.01271877195970074,
          0.012382170669970995,
          0.012063877968235397,
          0.011761896849181818,
          0.011474322952503106,
          0.01119937086109249,
          0.01093539629408946,
          0.010680913069724934,
          0.010434604049775871,
          0.01019532572131365,
          0.009962106562116118,
          0.00973413981121687,
          0.009510771669340345,
          0.009291486241913147,
          0.009075888683334666,
          0.00886368799698122,
          0.008654680800100553,
          0.008448737099773377,
          0.008245788779034213,
          0.00804582110002624,
          0.007848867133647847,
          0.00765500465973909,
          0.007464354780283184,
          0.007277081275224797,
          0.007093389623512167,
          0.006913524620191023,
          0.006737765645382946,
          0.006566418876587231,
          0.0063998060678888274,
          0.006238249926162582,
          0.006082056564896781,
          0.005931495972802332,
          0.005786781852688344,
          0.005648052518452263,
          0.005515354737393306,
          0.005388632430388285,
          0.005267721964864931,
          0.005152355384142918,
          0.0050421723236730226,
          0.004936740607604904,
          0.004835584660613336,
          0.004738219993604446,
          0.004644191224585127,
          0.004553110476814948,
          0.004464692644439606,
          0.004378783997369712,
          0.004295380944707404,
          0.004214636480940544,
          0.00413685284943629,
          0.004062460181590748,
          0.003991982184753497,
          0.00392599121841047,
          0.003865056176881769,
          0.0038096873664562048,
          0.00376028293728143,
          0.003717081362162127,
          0.003680123952888203,
          0.0036492305264257327,
          0.003623990176626285,
          0.003603767799152091,
          0.003587725697455025,
          0.003574858400057197,
          0.003564037857019287,
          0.003554065535741845,
          0.003543727641754496,
          0.0035318497454061766,
          0.0035173474589484106,
          0.0034992704097903354,
          0.003476837506551685,
          0.003449462301940033,
          0.0034167680344121595,
          0.0033785926095257117,
          0.003334984314985434,
          0.0032861894288496864,
          0.0032326330802996428,
          0.0031748947786814636,
          0.0031136799747704482,
          0.0030497889005358532,
          0.0029840837918968088,
          0.002917455468469813,
          0.0028507901497476186,
          0.0027849373399306075,
          0.002720679611582514,
          0.0026587051472280556,
          0.0025995839349509282,
          0.0025437485314514785,
          0.002491480276608474,
          0.0024429017449944667,
          0.0023979760384590897,
          0.0023565132576693505,
          0.0023181841496052852,
          0.002282540534253457,
          0.002249041698057624,
          0.0022170855404428412,
          0.002186042910310549,
          0.0021552933057467764,
          0.002124259958921153,
          0.0020924423058514977,
          0.0020594439525523254,
          0.0020249944890095234,
          0.0019889638544900094,
          0.0019513683983137754,
          0.001912368280700701,
          0.0018722563873022696,
          0.0018314394564790451,
          0.001790412608892311,
          0.001749728894683198,
          0.0017099658067419492,
          0.001671690924620218,
          0.0016354289320104746,
          0.0016016321769594243,
          0.001570656712080956,
          0.0015427453669819673,
          0.0015180188851245655,
          0.001496475535021008,
          0.0014779989274810031,
          0.0014623730943720754,
          0.001449303274259134,
          0.0014384403704078776,
          0.0014294067530042898,
          0.0014218210101927331,
          0.0014153194291643566,
          0.0014095723995051824,
          0.0014042945386736488,
          0.0013992480806846025,
          0.0013942398615982212,
          0.0013891129873488236,
          0.0013837348905499942,
          0.0013779838962563497,
          0.001371736569040568,
          0.0013648579832270555,
          0.001357196657638172,
          0.001348585272522156,
          0.0013388475144872805,
          0.001327810569188639,
          0.0013153220020560553,
          0.0013012691294416897,
          0.001285598563229573,
          0.001268333460853919,
          0.001249586146451902,
          0.0012295641699233682,
          0.0012085684904276036,
          0.001186983236970542,
          0.0011652573249592325,
          0.0011438790048137358,
          0.0011233451056598192,
          0.001104127249208069,
          0.0010866376042611137,
          0.0010711968142162703,
          0.0010580065661732606,
          0.001047128909245636,
          0.0010384739149146974,
          0.0010317966558613828,
          0.001026703816107371,
          0.0010226695860559157,
          0.0010190598861604288,
          0.001015163438913948,
          0.0010102277979365639,
          0.0010034981636426825,
          0.000994256677791446,
          0.0009818598973725394,
          0.0009657722980511775,
          0.000945593938145246,
          0.0009210808080243321,
          0.0008921568718622179,
          0.000858917347059392,
          0.0008216233242343255,
          0.0007806883673422816,
          0.0007366582094162185,
          0.0006901850389799203,
          0.0006419981276732267,
          0.0005928726645396441,
          0.0005435986334351112,
          0.0004949514074376395,
          0.0004476654606663421,
          0.0004024122458182753,
          0.0003597828928774489,
          0.0003202759898038842,
          0.0002842903451812178,
          0.0002521223343039021,
          0.00022396721285096216,
          0.00019992365410290359,
          0.00018000072402302465,
          0.00016412654184009306,
          0.0001521579639126007,
          0.00014389075398876452,
          0.0001390698414280079,
          0.00013739940075888755,
          0.0001385525957821634,
          0.00014218090967234133,
          0.0001479230257024453,
          0.00015541323354083595,
          0.0001642893203842404,
          0.00017419987438778916,
          0.00018481089109755985,
          0.0001958115425885556,
          0.0002069189525224208,
          0.00021788182412614716,
          0.00022848279438090354,
          0.00023853943519038616,
          0.0002479038866091181,
          0.0002564611817786496,
          0.00026412640029799294,
          0.00027084085849771606,
          0.00027656760449465607,
          0.0002812865275308406,
          0.00028498941146401735,
          0.0002876752599691862,
          0.0002893461965502174,
          0.0002900041979817119,
          0.00028964885866130345,
          0.00028827630975124583,
          0.0002858793356515864,
          0.0002824486462994431,
          0.0002779751821926737,
          0.000272453255060183,
          0.0002658842657559479,
          0.0002582806968497526,
          0.0002496700543885784,
          0.00024009843409175481,
          0.00022963341285256195,
          0.000218366015812084,
          0.0002064115790802814,
          0.0001939094127012413,
          0.0001810212599775253,
          0.00016792863872239469,
          0.0001548292279728664,
          0.00014193252156010345,
          0.00012945500112579957,
          0.00011761508224713515,
          0.00010662805871995554,
          9.670121632904143e-05,
          8.802921702161988e-05,
          8.078977864404818e-05,
          7.51396071607406e-05,
          7.121049013908309e-05,
          6.910544266743695e-05,
          6.889481623987602e-05,
          7.061233864165021e-05,
          7.425114361580498e-05,
          7.975996224035934e-05,
          8.703976765260747e-05,
          9.594127195556512e-05,
          0.00010626374897081468,
          0.0001177556811056069,
          0.00013011768992993064,
          0.0001430081022701782,
          0.0001560513297046928,
          0.0001688490116216692,
          0.0001809936113858753,
          0.00019208388911715917,
          0.00020174143398102735,
          0.0002096272541564413,
          0.00021545731969681777,
          0.00021901595005532603,
          0.0002201660408668252,
          0.0002188553280976491,
          0.00021511817425999235,
          0.00020907270326720506,
          0.0002009134730975723,
          0.00019090022162506854,
          0.0001793435157369386,
          0.0001665883485257392,
          0.00015299684496332514,
          0.00013893124574799258,
          0.00012473824668458495,
          0.00011073559249535531,
          9.720158304853653e-05,
          8.436787506600872e-05,
          7.241568284226243e-05,
          6.147522420630787e-05,
          5.162804426994356e-05,
          4.29116935077168e-05,
          3.5326144469071946e-05,
          2.8841301381137186e-05,
          2.340498121083264e-05,
          1.8950811195251996e-05,
          1.5405582022431815e-05,
          1.269570331443772e-05,
          1.0752516154118529e-05,
          9.516316464171634e-06,
          8.939027149218761e-06,
          8.985523859106716e-06,
          9.633670114878408e-06,
          1.087315585637637e-05,
          1.2703264021254483e-05,
          1.5129717472509659e-05,
          1.816078741615699e-05,
          2.1802876528940148e-05,
          2.6055825128381623e-05,
          3.090822415155284e-05,
          3.6333049540123833e-05,
          4.228395239426136e-05,
          4.86925409454106e-05,
          5.5466967636670444e-05,
          6.249208288455168e-05,
          6.963133487572316e-05,
          7.673048419558927e-05,
          8.362306938167339e-05,
          9.013741459101622e-05,
          9.610482633247018e-05,
          0.00010136849707827616,
          0.00010579253385065932,
          0.00010927047196239312,
          0.00011173262675905051,
          0.00011315168337721801,
          0.00011354602456551934,
          0.00011298044237834757,
          0.00011156405915946108,
          0.00010944548140063572,
          0.00010680540985477079,
          0.00010384711399060356,
          0.00010078533373339909,
          9.783428497416406e-05,
          9.519551019232568e-05,
          9.30463287173196e-05,
          9.152960371678991e-05,
          9.074545941793188e-05,
          9.074545938019643e-05,
          9.152960358529664e-05,
          9.30463284293021e-05,
          9.519550961383595e-05,
          9.783428384466461e-05,
          0.00010078533156171276,
          0.00010384710986623,
          0.00010680540211213544,
          0.00010944546703029645,
          0.00011156403278938665,
          0.00011298039453447275,
          0.00011354593874066234
         ],
         "yaxis": "y"
        }
       ],
       "layout": {
        "barmode": "overlay",
        "hovermode": "closest",
        "legend": {
         "traceorder": "reversed"
        },
        "template": {
         "data": {
          "bar": [
           {
            "error_x": {
             "color": "#2a3f5f"
            },
            "error_y": {
             "color": "#2a3f5f"
            },
            "marker": {
             "line": {
              "color": "#E5ECF6",
              "width": 0.5
             },
             "pattern": {
              "fillmode": "overlay",
              "size": 10,
              "solidity": 0.2
             }
            },
            "type": "bar"
           }
          ],
          "barpolar": [
           {
            "marker": {
             "line": {
              "color": "#E5ECF6",
              "width": 0.5
             },
             "pattern": {
              "fillmode": "overlay",
              "size": 10,
              "solidity": 0.2
             }
            },
            "type": "barpolar"
           }
          ],
          "carpet": [
           {
            "aaxis": {
             "endlinecolor": "#2a3f5f",
             "gridcolor": "white",
             "linecolor": "white",
             "minorgridcolor": "white",
             "startlinecolor": "#2a3f5f"
            },
            "baxis": {
             "endlinecolor": "#2a3f5f",
             "gridcolor": "white",
             "linecolor": "white",
             "minorgridcolor": "white",
             "startlinecolor": "#2a3f5f"
            },
            "type": "carpet"
           }
          ],
          "choropleth": [
           {
            "colorbar": {
             "outlinewidth": 0,
             "ticks": ""
            },
            "type": "choropleth"
           }
          ],
          "contour": [
           {
            "colorbar": {
             "outlinewidth": 0,
             "ticks": ""
            },
            "colorscale": [
             [
              0,
              "#0d0887"
             ],
             [
              0.1111111111111111,
              "#46039f"
             ],
             [
              0.2222222222222222,
              "#7201a8"
             ],
             [
              0.3333333333333333,
              "#9c179e"
             ],
             [
              0.4444444444444444,
              "#bd3786"
             ],
             [
              0.5555555555555556,
              "#d8576b"
             ],
             [
              0.6666666666666666,
              "#ed7953"
             ],
             [
              0.7777777777777778,
              "#fb9f3a"
             ],
             [
              0.8888888888888888,
              "#fdca26"
             ],
             [
              1,
              "#f0f921"
             ]
            ],
            "type": "contour"
           }
          ],
          "contourcarpet": [
           {
            "colorbar": {
             "outlinewidth": 0,
             "ticks": ""
            },
            "type": "contourcarpet"
           }
          ],
          "heatmap": [
           {
            "colorbar": {
             "outlinewidth": 0,
             "ticks": ""
            },
            "colorscale": [
             [
              0,
              "#0d0887"
             ],
             [
              0.1111111111111111,
              "#46039f"
             ],
             [
              0.2222222222222222,
              "#7201a8"
             ],
             [
              0.3333333333333333,
              "#9c179e"
             ],
             [
              0.4444444444444444,
              "#bd3786"
             ],
             [
              0.5555555555555556,
              "#d8576b"
             ],
             [
              0.6666666666666666,
              "#ed7953"
             ],
             [
              0.7777777777777778,
              "#fb9f3a"
             ],
             [
              0.8888888888888888,
              "#fdca26"
             ],
             [
              1,
              "#f0f921"
             ]
            ],
            "type": "heatmap"
           }
          ],
          "heatmapgl": [
           {
            "colorbar": {
             "outlinewidth": 0,
             "ticks": ""
            },
            "colorscale": [
             [
              0,
              "#0d0887"
             ],
             [
              0.1111111111111111,
              "#46039f"
             ],
             [
              0.2222222222222222,
              "#7201a8"
             ],
             [
              0.3333333333333333,
              "#9c179e"
             ],
             [
              0.4444444444444444,
              "#bd3786"
             ],
             [
              0.5555555555555556,
              "#d8576b"
             ],
             [
              0.6666666666666666,
              "#ed7953"
             ],
             [
              0.7777777777777778,
              "#fb9f3a"
             ],
             [
              0.8888888888888888,
              "#fdca26"
             ],
             [
              1,
              "#f0f921"
             ]
            ],
            "type": "heatmapgl"
           }
          ],
          "histogram": [
           {
            "marker": {
             "pattern": {
              "fillmode": "overlay",
              "size": 10,
              "solidity": 0.2
             }
            },
            "type": "histogram"
           }
          ],
          "histogram2d": [
           {
            "colorbar": {
             "outlinewidth": 0,
             "ticks": ""
            },
            "colorscale": [
             [
              0,
              "#0d0887"
             ],
             [
              0.1111111111111111,
              "#46039f"
             ],
             [
              0.2222222222222222,
              "#7201a8"
             ],
             [
              0.3333333333333333,
              "#9c179e"
             ],
             [
              0.4444444444444444,
              "#bd3786"
             ],
             [
              0.5555555555555556,
              "#d8576b"
             ],
             [
              0.6666666666666666,
              "#ed7953"
             ],
             [
              0.7777777777777778,
              "#fb9f3a"
             ],
             [
              0.8888888888888888,
              "#fdca26"
             ],
             [
              1,
              "#f0f921"
             ]
            ],
            "type": "histogram2d"
           }
          ],
          "histogram2dcontour": [
           {
            "colorbar": {
             "outlinewidth": 0,
             "ticks": ""
            },
            "colorscale": [
             [
              0,
              "#0d0887"
             ],
             [
              0.1111111111111111,
              "#46039f"
             ],
             [
              0.2222222222222222,
              "#7201a8"
             ],
             [
              0.3333333333333333,
              "#9c179e"
             ],
             [
              0.4444444444444444,
              "#bd3786"
             ],
             [
              0.5555555555555556,
              "#d8576b"
             ],
             [
              0.6666666666666666,
              "#ed7953"
             ],
             [
              0.7777777777777778,
              "#fb9f3a"
             ],
             [
              0.8888888888888888,
              "#fdca26"
             ],
             [
              1,
              "#f0f921"
             ]
            ],
            "type": "histogram2dcontour"
           }
          ],
          "mesh3d": [
           {
            "colorbar": {
             "outlinewidth": 0,
             "ticks": ""
            },
            "type": "mesh3d"
           }
          ],
          "parcoords": [
           {
            "line": {
             "colorbar": {
              "outlinewidth": 0,
              "ticks": ""
             }
            },
            "type": "parcoords"
           }
          ],
          "pie": [
           {
            "automargin": true,
            "type": "pie"
           }
          ],
          "scatter": [
           {
            "marker": {
             "colorbar": {
              "outlinewidth": 0,
              "ticks": ""
             }
            },
            "type": "scatter"
           }
          ],
          "scatter3d": [
           {
            "line": {
             "colorbar": {
              "outlinewidth": 0,
              "ticks": ""
             }
            },
            "marker": {
             "colorbar": {
              "outlinewidth": 0,
              "ticks": ""
             }
            },
            "type": "scatter3d"
           }
          ],
          "scattercarpet": [
           {
            "marker": {
             "colorbar": {
              "outlinewidth": 0,
              "ticks": ""
             }
            },
            "type": "scattercarpet"
           }
          ],
          "scattergeo": [
           {
            "marker": {
             "colorbar": {
              "outlinewidth": 0,
              "ticks": ""
             }
            },
            "type": "scattergeo"
           }
          ],
          "scattergl": [
           {
            "marker": {
             "colorbar": {
              "outlinewidth": 0,
              "ticks": ""
             }
            },
            "type": "scattergl"
           }
          ],
          "scattermapbox": [
           {
            "marker": {
             "colorbar": {
              "outlinewidth": 0,
              "ticks": ""
             }
            },
            "type": "scattermapbox"
           }
          ],
          "scatterpolar": [
           {
            "marker": {
             "colorbar": {
              "outlinewidth": 0,
              "ticks": ""
             }
            },
            "type": "scatterpolar"
           }
          ],
          "scatterpolargl": [
           {
            "marker": {
             "colorbar": {
              "outlinewidth": 0,
              "ticks": ""
             }
            },
            "type": "scatterpolargl"
           }
          ],
          "scatterternary": [
           {
            "marker": {
             "colorbar": {
              "outlinewidth": 0,
              "ticks": ""
             }
            },
            "type": "scatterternary"
           }
          ],
          "surface": [
           {
            "colorbar": {
             "outlinewidth": 0,
             "ticks": ""
            },
            "colorscale": [
             [
              0,
              "#0d0887"
             ],
             [
              0.1111111111111111,
              "#46039f"
             ],
             [
              0.2222222222222222,
              "#7201a8"
             ],
             [
              0.3333333333333333,
              "#9c179e"
             ],
             [
              0.4444444444444444,
              "#bd3786"
             ],
             [
              0.5555555555555556,
              "#d8576b"
             ],
             [
              0.6666666666666666,
              "#ed7953"
             ],
             [
              0.7777777777777778,
              "#fb9f3a"
             ],
             [
              0.8888888888888888,
              "#fdca26"
             ],
             [
              1,
              "#f0f921"
             ]
            ],
            "type": "surface"
           }
          ],
          "table": [
           {
            "cells": {
             "fill": {
              "color": "#EBF0F8"
             },
             "line": {
              "color": "white"
             }
            },
            "header": {
             "fill": {
              "color": "#C8D4E3"
             },
             "line": {
              "color": "white"
             }
            },
            "type": "table"
           }
          ]
         },
         "layout": {
          "annotationdefaults": {
           "arrowcolor": "#2a3f5f",
           "arrowhead": 0,
           "arrowwidth": 1
          },
          "autotypenumbers": "strict",
          "coloraxis": {
           "colorbar": {
            "outlinewidth": 0,
            "ticks": ""
           }
          },
          "colorscale": {
           "diverging": [
            [
             0,
             "#8e0152"
            ],
            [
             0.1,
             "#c51b7d"
            ],
            [
             0.2,
             "#de77ae"
            ],
            [
             0.3,
             "#f1b6da"
            ],
            [
             0.4,
             "#fde0ef"
            ],
            [
             0.5,
             "#f7f7f7"
            ],
            [
             0.6,
             "#e6f5d0"
            ],
            [
             0.7,
             "#b8e186"
            ],
            [
             0.8,
             "#7fbc41"
            ],
            [
             0.9,
             "#4d9221"
            ],
            [
             1,
             "#276419"
            ]
           ],
           "sequential": [
            [
             0,
             "#0d0887"
            ],
            [
             0.1111111111111111,
             "#46039f"
            ],
            [
             0.2222222222222222,
             "#7201a8"
            ],
            [
             0.3333333333333333,
             "#9c179e"
            ],
            [
             0.4444444444444444,
             "#bd3786"
            ],
            [
             0.5555555555555556,
             "#d8576b"
            ],
            [
             0.6666666666666666,
             "#ed7953"
            ],
            [
             0.7777777777777778,
             "#fb9f3a"
            ],
            [
             0.8888888888888888,
             "#fdca26"
            ],
            [
             1,
             "#f0f921"
            ]
           ],
           "sequentialminus": [
            [
             0,
             "#0d0887"
            ],
            [
             0.1111111111111111,
             "#46039f"
            ],
            [
             0.2222222222222222,
             "#7201a8"
            ],
            [
             0.3333333333333333,
             "#9c179e"
            ],
            [
             0.4444444444444444,
             "#bd3786"
            ],
            [
             0.5555555555555556,
             "#d8576b"
            ],
            [
             0.6666666666666666,
             "#ed7953"
            ],
            [
             0.7777777777777778,
             "#fb9f3a"
            ],
            [
             0.8888888888888888,
             "#fdca26"
            ],
            [
             1,
             "#f0f921"
            ]
           ]
          },
          "colorway": [
           "#636efa",
           "#EF553B",
           "#00cc96",
           "#ab63fa",
           "#FFA15A",
           "#19d3f3",
           "#FF6692",
           "#B6E880",
           "#FF97FF",
           "#FECB52"
          ],
          "font": {
           "color": "#2a3f5f"
          },
          "geo": {
           "bgcolor": "white",
           "lakecolor": "white",
           "landcolor": "#E5ECF6",
           "showlakes": true,
           "showland": true,
           "subunitcolor": "white"
          },
          "hoverlabel": {
           "align": "left"
          },
          "hovermode": "closest",
          "mapbox": {
           "style": "light"
          },
          "paper_bgcolor": "white",
          "plot_bgcolor": "#E5ECF6",
          "polar": {
           "angularaxis": {
            "gridcolor": "white",
            "linecolor": "white",
            "ticks": ""
           },
           "bgcolor": "#E5ECF6",
           "radialaxis": {
            "gridcolor": "white",
            "linecolor": "white",
            "ticks": ""
           }
          },
          "scene": {
           "xaxis": {
            "backgroundcolor": "#E5ECF6",
            "gridcolor": "white",
            "gridwidth": 2,
            "linecolor": "white",
            "showbackground": true,
            "ticks": "",
            "zerolinecolor": "white"
           },
           "yaxis": {
            "backgroundcolor": "#E5ECF6",
            "gridcolor": "white",
            "gridwidth": 2,
            "linecolor": "white",
            "showbackground": true,
            "ticks": "",
            "zerolinecolor": "white"
           },
           "zaxis": {
            "backgroundcolor": "#E5ECF6",
            "gridcolor": "white",
            "gridwidth": 2,
            "linecolor": "white",
            "showbackground": true,
            "ticks": "",
            "zerolinecolor": "white"
           }
          },
          "shapedefaults": {
           "line": {
            "color": "#2a3f5f"
           }
          },
          "ternary": {
           "aaxis": {
            "gridcolor": "white",
            "linecolor": "white",
            "ticks": ""
           },
           "baxis": {
            "gridcolor": "white",
            "linecolor": "white",
            "ticks": ""
           },
           "bgcolor": "#E5ECF6",
           "caxis": {
            "gridcolor": "white",
            "linecolor": "white",
            "ticks": ""
           }
          },
          "title": {
           "x": 0.05
          },
          "xaxis": {
           "automargin": true,
           "gridcolor": "white",
           "linecolor": "white",
           "ticks": "",
           "title": {
            "standoff": 15
           },
           "zerolinecolor": "white",
           "zerolinewidth": 2
          },
          "yaxis": {
           "automargin": true,
           "gridcolor": "white",
           "linecolor": "white",
           "ticks": "",
           "title": {
            "standoff": 15
           },
           "zerolinecolor": "white",
           "zerolinewidth": 2
          }
         }
        },
        "xaxis": {
         "anchor": "y2",
         "domain": [
          0,
          1
         ],
         "zeroline": false
        },
        "yaxis": {
         "anchor": "free",
         "domain": [
          0,
          1
         ],
         "position": 0
        }
       }
      },
      "text/html": [
       "<div>                            <div id=\"2ae063b5-4930-4baf-bb2a-d66133864e25\" class=\"plotly-graph-div\" style=\"height:525px; width:100%;\"></div>            <script type=\"text/javascript\">                require([\"plotly\"], function(Plotly) {                    window.PLOTLYENV=window.PLOTLYENV || {};                                    if (document.getElementById(\"2ae063b5-4930-4baf-bb2a-d66133864e25\")) {                    Plotly.newPlot(                        \"2ae063b5-4930-4baf-bb2a-d66133864e25\",                        [{\"legendgroup\":\"Overall Age\",\"marker\":{\"color\":\"rgb(31, 119, 180)\"},\"mode\":\"lines\",\"name\":\"Overall Age\",\"showlegend\":true,\"x\":[11.0,11.146,11.292,11.438,11.584,11.73,11.876,12.022,12.168,12.314,12.46,12.606,12.752,12.898,13.044,13.19,13.336,13.482,13.628,13.774000000000001,13.92,14.065999999999999,14.212,14.358,14.504,14.65,14.796,14.942,15.088000000000001,15.234,15.379999999999999,15.526,15.672,15.818,15.964,16.11,16.256,16.402,16.548000000000002,16.694,16.84,16.986,17.131999999999998,17.278,17.424,17.57,17.716,17.862000000000002,18.008,18.154,18.3,18.445999999999998,18.592,18.738,18.884,19.03,19.176000000000002,19.322,19.468,19.614,19.759999999999998,19.906,20.052,20.198,20.344,20.490000000000002,20.636,20.782,20.928,21.073999999999998,21.22,21.366,21.512,21.658,21.804000000000002,21.95,22.096,22.242,22.387999999999998,22.534,22.68,22.826,22.972,23.118000000000002,23.264,23.41,23.555999999999997,23.701999999999998,23.848,23.994,24.14,24.286,24.432000000000002,24.578,24.724,24.869999999999997,25.016,25.162,25.308,25.454,25.6,25.746000000000002,25.892,26.038,26.183999999999997,26.33,26.476,26.622,26.768,26.914,27.06,27.206,27.352,27.498,27.644,27.79,27.936,28.082,28.228,28.374,28.52,28.666,28.812,28.958,29.104,29.25,29.396,29.542,29.688,29.834,29.98,30.126,30.272,30.418,30.564,30.71,30.856,31.002,31.148,31.294,31.44,31.586,31.732,31.878,32.024,32.17,32.316,32.462,32.608000000000004,32.754000000000005,32.9,33.046,33.192,33.338,33.484,33.629999999999995,33.775999999999996,33.922,34.068,34.214,34.36,34.506,34.652,34.798,34.944,35.09,35.236000000000004,35.382000000000005,35.528,35.674,35.82,35.966,36.111999999999995,36.257999999999996,36.403999999999996,36.55,36.696,36.842,36.988,37.134,37.28,37.426,37.572,37.718,37.864000000000004,38.010000000000005,38.156,38.302,38.448,38.594,38.739999999999995,38.885999999999996,39.032,39.178,39.324,39.47,39.616,39.762,39.908,40.054,40.2,40.346000000000004,40.492000000000004,40.638000000000005,40.784,40.93,41.076,41.222,41.367999999999995,41.513999999999996,41.66,41.806,41.952,42.098,42.244,42.39,42.536,42.682,42.828,42.974000000000004,43.12,43.266,43.412,43.558,43.704,43.85,43.996,44.142,44.288,44.434,44.58,44.726,44.872,45.018,45.164,45.31,45.456,45.602,45.748,45.894,46.04,46.186,46.332,46.478,46.624,46.77,46.916,47.062,47.208,47.354,47.5,47.646,47.792,47.938,48.084,48.23,48.376,48.522,48.668,48.814,48.96,49.106,49.252,49.398,49.544,49.69,49.836,49.982,50.128,50.274,50.42,50.566,50.712,50.858,51.004,51.15,51.296,51.442,51.588,51.734,51.88,52.026,52.172,52.318,52.464,52.61,52.756,52.902,53.048,53.194,53.34,53.486,53.632,53.778,53.924,54.07,54.216,54.362,54.508,54.654,54.8,54.946,55.092,55.238,55.384,55.53,55.676,55.822,55.968,56.114,56.26,56.406,56.552,56.698,56.844,56.99,57.136,57.282,57.428,57.574,57.72,57.866,58.012,58.158,58.304,58.45,58.596,58.742,58.888,59.034,59.18,59.326,59.472,59.618,59.764,59.91,60.056,60.202,60.348,60.494,60.64,60.786,60.932,61.078,61.224,61.37,61.516,61.662,61.808,61.954,62.1,62.246,62.392,62.538,62.684,62.83,62.976,63.122,63.268,63.414,63.56,63.706,63.852,63.998,64.144,64.28999999999999,64.436,64.582,64.72800000000001,64.874,65.02000000000001,65.166,65.312,65.458,65.604,65.75,65.896,66.042,66.188,66.334,66.47999999999999,66.626,66.77199999999999,66.918,67.064,67.21000000000001,67.356,67.50200000000001,67.648,67.794,67.94,68.086,68.232,68.378,68.524,68.67,68.816,68.962,69.108,69.25399999999999,69.4,69.54599999999999,69.69200000000001,69.838,69.98400000000001,70.13,70.27600000000001,70.422,70.568,70.714,70.86,71.006,71.152,71.298,71.444,71.59,71.73599999999999,71.882,72.02799999999999,72.174,72.32,72.46600000000001,72.612,72.75800000000001,72.904,73.05,73.196,73.342,73.488,73.634,73.78,73.926,74.072,74.218,74.364,74.50999999999999,74.656,74.80199999999999,74.94800000000001,75.094,75.24,75.386,75.532,75.678,75.824,75.97,76.116,76.262,76.408,76.554,76.7,76.846,76.992,77.138,77.284,77.43,77.576,77.722,77.868,78.014,78.16,78.306,78.452,78.598,78.744,78.89,79.036,79.182,79.328,79.474,79.62,79.766,79.912,80.058,80.204,80.35,80.496,80.642,80.788,80.934,81.08,81.226,81.372,81.518,81.664,81.81,81.956,82.102,82.248,82.394,82.54,82.686,82.832,82.978,83.124,83.27,83.416,83.562,83.708,83.854],\"xaxis\":\"x\",\"y\":[5.256463031532305e-05,7.186178779520094e-05,9.638029857956772e-05,0.00012690091808319418,0.00016434688480828334,0.00020992469309418594,0.0002652175284633514,0.0003321618013740293,0.0004129064498626663,0.0005096532675693312,0.0006246299857705461,0.0007602864476446959,0.0009196298474318686,0.0011064340768335897,0.001325032756816168,0.0015796298223160314,0.001873445631423254,0.0022082880938580616,0.0025850114315815894,0.003004751043187649,0.0034701258478583466,0.003985331928367768,0.004554594133270859,0.005179615802313499,0.005857699892383507,0.0065822156014802395,0.007345757114383639,0.008144400557239057,0.00898031047854975,0.009860672615326735,0.01079335119652683,0.011782192514636336,0.012825532963329432,0.01391939062028034,0.015063256724292194,0.016264008572187988,0.017534370937954367,0.018886322742718033,0.020324078766385048,0.021842315919500643,0.023431813861205523,0.025088854596221115,0.026821057043289347,0.028644176765612973,0.03057106101435157,0.032600604795431455,0.034715697475027216,0.036893044318478896,0.03911839996966898,0.04139540162054839,0.04373978458646067,0.04616157802089472,0.04864805991917527,0.051161454678245066,0.05365548584976788,0.056100545056903296,0.05849934895421802,0.06088047731605821,0.06327307340742838,0.06568066476914709,0.06807387557526696,0.07040831206948696,0.07265459646796006,0.07481720970483045,0.07692623950579386,0.07900663876346757,0.08104785024989475,0.08299811025009786,0.08479020580794411,0.08638153102158257,0.08777927430070892,0.08903140014230396,0.09018913987372765,0.09126825409014287,0.09223768464841495,0.09304378073196025,0.09365126778690949,0.0940691876754684,0.09434138938018455,0.09450843562813392,0.09457022187144357,0.09447884038682196,0.09416879466620866,0.09360349058122386,0.0928043998555123,0.09184190481881813,0.0907949554994519,0.08970900935118856,0.08858167120568763,0.08738363648419804,0.08609601931042825,0.08473405707664183,0.08333934574879287,0.08194806875603215,0.0805613379470285,0.07914168720010396,0.07763916313430796,0.07602764415080816,0.07432447084746488,0.07257947549194635,0.07084254592469906,0.06913421287870178,0.06744018975330182,0.06573185376984311,0.06399530248417412,0.06224639581943886,0.06052124502741964,0.05885087427808677,0.05724029304218751,0.05566770720269288,0.054103396031769356,0.05253285199192395,0.050966398193189884,0.049428785862932804,0.04793790524441138,0.04648960405693414,0.04506014588977135,0.04362390970476233,0.04217252322232402,0.04072119832967984,0.03929828134494832,0.037926621332846695,0.03661073196882413,0.035338352461114664,0.03409367176243284,0.032871086774824095,0.031678990146351144,0.030531576769620455,0.029436025109191695,0.028385498952994772,0.027363328035661327,0.026354876910485995,0.025357948304692186,0.02438414650129018,0.02345075932428855,0.022569658268409818,0.021741290011736324,0.020957292482300362,0.020208526484438678,0.019491632371717155,0.018809131030591918,0.01816367614446689,0.017551756381089866,0.01696238131281116,0.016382158595031338,0.015803110406058755,0.015227511362029872,0.014666363824288965,0.014132844078909041,0.01363547411137544,0.01317545185485411,0.012749056173247628,0.01235224201347327,0.011983347957002219,0.011641927438055769,0.011325188892149715,0.011025555622941708,0.010731909724385872,0.010434051444116323,0.01012726092706295,0.00981366146494414,0.009499437116242957,0.009189981477499916,0.008886442317505856,0.008585911678148433,0.008284727818566642,0.007982152649689482,0.007681651802790208,0.007389006067899196,0.007108890045103914,0.0068425529823605315,0.0065882004246445094,0.006343541334336845,0.0061084141813255565,0.0058855422666347895,0.005679039826996405,0.005491986501977558,0.005324919500378159,0.00517616911883874,0.005043432458391801,0.00492508890890982,0.004820160053919774,0.0047270949933324626,0.004642634400908921,0.00456200403839068,0.004480633344398434,0.004396346769946122,0.004310525335072328,0.004227424603850221,0.004152110442263747,0.00408835019651293,0.004037636978628262,0.00399952099789474,0.003972414102455833,0.003953826064451918,0.003939717116675922,0.003923682149930365,0.0038971387137853937,0.0038511469683180106,0.003779312860822704,0.0036802979889766193,0.003558499967090657,0.0034224851139030635,0.003282048819186969,0.0031454648260634236,0.0030181453366979975,0.002902892339286026,0.00280095746701043,0.0027128827114712237,0.0026386173105333154,0.002577181655820339,0.0025265402131314702,0.002484090360247429,0.0024475534792844193,0.002415625783611143,0.0023878778114713576,0.002363974050285226,0.0023428353743026355,0.0023224306005546706,0.002300397555123596,0.0022750382193754922,0.002245924338600302,0.002213635783412409,0.0021788170967923124,0.002141268697018859,0.002099781473594006,0.0020528831184722365,0.001999998860424416,0.0019422305977952318,0.0018822325235111927,0.0018232848761243678,0.001768173557787338,0.001718521074757449,0.0016748021588770872,0.0016367650369217722,0.0016037610409867936,0.0015746976909435878,0.0015477644888475138,0.0015203644079607168,0.0014895813801439214,0.0014531046815181782,0.0014101382267719942,0.0013617556412406392,0.001310478432417936,0.0012593244178414939,0.001210861443255565,0.0011667202317927198,0.001127659921954341,0.0010939219811679961,0.0010655033164639566,0.001042164425080593,0.0010232787283959226,0.0010077797686507493,0.0009943635524370027,0.000981855737521989,0.0009694773149416359,0.0009567930819753332,0.0009433708408709621,0.0009284227053329247,0.000910745516530939,0.0008890792453132235,0.0008627020476006478,0.0008318984199328015,0.0007980045055284982,0.0007629999379485661,0.000728887519772496,0.0006971958865874098,0.000668810571647377,0.0006441009122880289,0.0006231424471005247,0.0006058423681104087,0.0005919221062675621,0.0005808599910657713,0.0005719274282433859,0.0005643518060812113,0.0005575053700722477,0.0005509725716581828,0.0005444338419882889,0.0005374550296436955,0.000529365973732096,0.0005193681139547047,0.0005068551932123219,0.0004917752001275171,0.0004748185996018045,0.0004573165981126722,0.0004409002027501835,0.0004270891292037492,0.0004169769754026603,0.0004110774976162433,0.0004092875690739674,0.0004108899897107029,0.0004145758459640497,0.00041854648436415317,0.00042077430434374417,0.0004194264313795294,0.0004133340277882813,0.0004023157021523104,0.00038720184756542127,0.0003695438022938242,0.0003511422791136525,0.0003335988514096631,0.00031804565569476225,0.0003050857733783734,0.0002948678189372915,0.0002871891535963005,0.00028157289290161875,0.00027733674784230874,0.0002737016426506656,0.0002699536867846261,0.0002656097840546059,0.0002605043456774294,0.00025474591245892484,0.00024856876942811346,0.00024216948100706546,0.00023562283378928992,0.00022891246319940608,0.00022203230136256074,0.00021507287928862595,0.00020822864172704086,0.00020172757878950915,0.0001957416076293597,0.00019034421087443088,0.00018553962704926643,0.00018133182970024654,0.00017777524420316783,0.00017496962347672112,0.00017300809413315637,0.0001719207511041086,0.00017165074457664624,0.00017206361211184596,0.00017295738588421264,0.00017404160475950042,0.00017488984802471895,0.00017491347486490178,0.00017341600442338372,0.00016975173973464506,0.0001635482305570515,0.00015490201646445854,0.00014445532436326868,0.00013331063353776333,0.0001228101174826281,0.00011425726589574729,0.00010866513268746798,0.00010658646957653335,0.00010804251325004214,0.0001125436293088236,0.0001191905880354441,0.00012684541773445165,0.00013434928789265348,0.00014074123138209073,0.00014541384153559463,0.00014815240476642738,0.00014904777609089763,0.0001483306806520836,0.00014621159588051023,0.00014280109094308804,0.00013813426908212197,0.0001322613462141389,0.00012533278938618283,0.00011762098485647562,0.00010946875400325609,0.00010120423769343053,9.308028706651654e-05,8.527609742899463e-05,7.795690213052225e-05,7.135266684273936e-05,6.580828463069621e-05,6.177519124401811e-05,5.974179523094814e-05,6.012092658370372e-05,6.312071387895784e-05,6.862639301260552e-05,7.612231433847326e-05,8.468610424443285e-05,9.308179755286869e-05,9.99564780621289e-05,0.000104106946959812,0.00010474528107399293,0.00010167754675069379,9.533235009072811e-05,8.662911267273005e-05,7.673517301382185e-05,6.679700757910674e-05,5.772820643662383e-05,5.010126626695973e-05,4.414393304587935e-05,3.9807215600798865e-05,3.6862611009773214e-05,3.499611182684314e-05,3.3882979266950073e-05,3.323882407479999e-05,3.284652605935545e-05,3.255947819519978e-05,3.228492897849663e-05,3.195745867762524e-05,3.151738525909333e-05,3.090697290725502e-05,3.0087871519576516e-05,2.9071120685293834e-05,2.79435225871391e-05,2.6875506366004133e-05,2.6104163269797604e-05,2.589503175791692e-05,2.649196808699374e-05,2.8064890758227115e-05,3.066352725248682e-05,3.418534311873638e-05,3.836789262982144e-05,4.281582231050991e-05,4.706580258017252e-05,5.067833270996709e-05,5.333009494918043e-05,5.4874435157556964e-05,5.5347260300736814e-05,5.491843666201168e-05,5.38128194897208e-05,5.223649935689871e-05,5.033609575347403e-05,4.8197312097419393e-05,4.586735569631359e-05,4.3377267477162464e-05,4.074833406979035e-05,3.7983988877671804e-05,3.506210835468291e-05,3.194336375941498e-05,2.859980126680391e-05,2.5052793038516237e-05,2.140114938138786e-05,1.7823406644555833e-05,1.4550291799531953e-05,1.181654116283813e-05,9.808719880485328e-06,8.625105256695878e-06,8.257415549859004e-06,8.596466291820833e-06,9.457833175711941e-06,1.0620026884982084e-05,1.1865845924401681e-05,1.3017058516293074e-05,1.395400207592124e-05,1.4615925972907724e-05,1.4984489673472703e-05,1.5059336347860157e-05,1.483772081915952e-05,1.430765381655989e-05,1.3456779483273287e-05,1.2290911046212631e-05,1.085123600505092e-05,9.220169282676142e-06,7.511819686653142e-06,5.850520155069559e-06,4.345923617128071e-06,3.073671229846336e-06,2.0671504891402743e-06,1.3207838105032564e-06,8.01227352068065e-07,4.6126033782861283e-07,2.519206062276957e-07,1.3050020945652297e-07,6.4109260941156e-08,2.98638015995534e-08,1.3190196924069795e-08,5.5235268793727725e-09,2.1929301006162022e-09,8.254014070546974e-10,2.9453035916224106e-10,9.963549106618353e-11,3.1953140091725683e-11,9.714634477453517e-12,2.8000176589177484e-12,7.654140788519164e-13,1.999845963665125e-13,5.700070785509462e-14,4.7550622560816166e-14,1.516409264712993e-13,5.826481542735822e-13,2.1540873363300122e-12,7.555733385918208e-12,2.5125561378925743e-11,7.920690228984924e-11,2.3671045441997507e-10,6.706237876919711e-10,1.8011404147879708e-09,4.585886375581342e-09,1.1068941969450998e-08,2.532771630123082e-08,5.4940556876257926e-08,1.1297885864966398e-07,2.2024619323526436e-07,4.070303002063384e-07,7.131028489418652e-07,1.1843626541777718e-06,1.8647659882425767e-06,2.7833708592841073e-06,3.9384461742819885e-06,5.283063790862842e-06,6.718214974737996e-06,8.098956015784308e-06,9.255742971705152e-06,1.0027683851481277e-05],\"yaxis\":\"y\",\"type\":\"scatter\"},{\"legendgroup\":\"Gold Medal\",\"marker\":{\"color\":\"rgb(255, 127, 14)\"},\"mode\":\"lines\",\"name\":\"Gold Medal\",\"showlegend\":true,\"x\":[13.0,13.102,13.204,13.306,13.408,13.51,13.612,13.714,13.816,13.918,14.02,14.122,14.224,14.326,14.428,14.53,14.632,14.734,14.836,14.938,15.04,15.142,15.244,15.346,15.448,15.55,15.652000000000001,15.754,15.856,15.958,16.06,16.162,16.264,16.366,16.468,16.57,16.672,16.774,16.876,16.978,17.08,17.182000000000002,17.284,17.386,17.488,17.59,17.692,17.794,17.896,17.998,18.1,18.201999999999998,18.304000000000002,18.406,18.508,18.61,18.712,18.814,18.916,19.018,19.12,19.222,19.323999999999998,19.426000000000002,19.528,19.63,19.732,19.834,19.936,20.038,20.14,20.242,20.344,20.445999999999998,20.548000000000002,20.65,20.752,20.854,20.956,21.058,21.16,21.262,21.364,21.466,21.567999999999998,21.67,21.772,21.874000000000002,21.976,22.078,22.18,22.282,22.384,22.486,22.588,22.689999999999998,22.792,22.894,22.996000000000002,23.098,23.2,23.302,23.404,23.506,23.608,23.71,23.811999999999998,23.914,24.016,24.118000000000002,24.22,24.322,24.424,24.526,24.628,24.73,24.832,24.933999999999997,25.036,25.137999999999998,25.240000000000002,25.342,25.444000000000003,25.546,25.648,25.75,25.852,25.954,26.055999999999997,26.158,26.259999999999998,26.362000000000002,26.464,26.566000000000003,26.668,26.77,26.872,26.974,27.076,27.178,27.28,27.381999999999998,27.484,27.586,27.688000000000002,27.79,27.892,27.994,28.096,28.198,28.3,28.402,28.503999999999998,28.606,28.708,28.810000000000002,28.912,29.014,29.116,29.218,29.32,29.422,29.524,29.626,29.728,29.83,29.932,30.034,30.136,30.238,30.34,30.442,30.544,30.646,30.748,30.85,30.952,31.054,31.156,31.258,31.36,31.462,31.564,31.666,31.768,31.87,31.972,32.074,32.176,32.278,32.379999999999995,32.482,32.584,32.686,32.788,32.89,32.992000000000004,33.094,33.196,33.298,33.4,33.501999999999995,33.604,33.706,33.808,33.91,34.012,34.114000000000004,34.216,34.318,34.42,34.522,34.623999999999995,34.726,34.828,34.93,35.032,35.134,35.236000000000004,35.338,35.44,35.542,35.644,35.745999999999995,35.848,35.95,36.052,36.153999999999996,36.256,36.358000000000004,36.46,36.562,36.664,36.766,36.867999999999995,36.97,37.072,37.174,37.275999999999996,37.378,37.480000000000004,37.582,37.684,37.786,37.888000000000005,37.989999999999995,38.092,38.194,38.296,38.397999999999996,38.5,38.602000000000004,38.704,38.806,38.908,39.010000000000005,39.111999999999995,39.214,39.316,39.418,39.519999999999996,39.622,39.724000000000004,39.826,39.928,40.03,40.132000000000005,40.234,40.336,40.438,40.54,40.641999999999996,40.744,40.846000000000004,40.948,41.05,41.152,41.254000000000005,41.356,41.458,41.56,41.662,41.763999999999996,41.866,41.968,42.07,42.172,42.274,42.376000000000005,42.478,42.58,42.682,42.784,42.885999999999996,42.988,43.09,43.192,43.294,43.396,43.498000000000005,43.6,43.702,43.804,43.906,44.007999999999996,44.11,44.212,44.314,44.416,44.518,44.620000000000005,44.722,44.824,44.926,45.028,45.13,45.232,45.334,45.436,45.538,45.64,45.742,45.844,45.946,46.048,46.15,46.252,46.354,46.456,46.558,46.66,46.762,46.864,46.966,47.068,47.17,47.272,47.374,47.476,47.578,47.68,47.782,47.884,47.986,48.088,48.19,48.292,48.394,48.496,48.598,48.7,48.802,48.904,49.006,49.108,49.21,49.312,49.414,49.516,49.618,49.72,49.822,49.924,50.026,50.128,50.23,50.332,50.434,50.536,50.638,50.74,50.842,50.944,51.046,51.148,51.25,51.352,51.454,51.556,51.658,51.76,51.862,51.964,52.066,52.168,52.27,52.372,52.474,52.576,52.678,52.78,52.882,52.984,53.086,53.188,53.29,53.392,53.494,53.596,53.698,53.8,53.902,54.004,54.106,54.208,54.31,54.412,54.514,54.616,54.718,54.82,54.922,55.024,55.126,55.228,55.33,55.432,55.534,55.636,55.738,55.84,55.942,56.044,56.146,56.248,56.35,56.452,56.554,56.656,56.758,56.86,56.962,57.064,57.166,57.268,57.37,57.472,57.574,57.676,57.778,57.88,57.982,58.084,58.186,58.288,58.39,58.492,58.594,58.696,58.798,58.9,59.002,59.104,59.206,59.308,59.41,59.512,59.614,59.716,59.818,59.92,60.022,60.124,60.226,60.328,60.43,60.532,60.634,60.736,60.838,60.94,61.042,61.144,61.246,61.348,61.45,61.552,61.654,61.756,61.858,61.96,62.062,62.164,62.266,62.368,62.47,62.572,62.674,62.776,62.878,62.98,63.082,63.184,63.286,63.388,63.49,63.592,63.694,63.796,63.898],\"xaxis\":\"x\",\"y\":[0.001462693523891934,0.0016030945019500486,0.0017553577456328982,0.0019204613008362646,0.002099417471972148,0.0022932611282767586,0.002503037323374354,0.002729788700119829,0.002974543125748326,0.003238301941228235,0.00352202911960643,0.003826641520346436,0.004153000311861955,0.004501903525618368,0.004874079615326369,0.005270181835550983,0.005690783234491052,0.006136372080890414,0.006607347615478807,0.007104016128349371,0.0076265875055659006,0.008175172546918973,0.008749781514629748,0.009350324510621238,0.009976614378405024,0.010628372867266235,0.011305240767683267,0.012006792619668515,0.012732556408516052,0.013482038401175374,0.014254752954333597,0.015050256762077788,0.015868186631758138,0.01670829950971675,0.017570513153213545,0.0184549455889862,0.019361951336281442,0.020292152320614598,0.021246461473882438,0.022226097207885397,0.02323258725387059,0.024267760763931064,0.025333728047309947,0.02643284783686133,0.02756768251612441,0.028740942253283632,0.029955419454407363,0.031213915338892593,0.032519160735297495,0.033873733383478495,0.03527997410490337,0.03673990417076809,0.03825514606771655,0.03982684964988178,0.041455625393980844,0.04314148616374032,0.044883798563658935,0.0466812446410495,0.04853179439743809,0.050432689309515485,0.05238043684490665,0.054370815792955794,0.05639889211459239,0.058459044942929354,0.060545002328883005,0.06264988631269341,0.06476626690031209,0.06688622452053768,0.06900142052263249,0.07110317523477531,0.07318255303339875,0.07523045376756661,0.0772377097398486,0.07919518726805179,0.08109389164672387,0.08292507410304462,0.08468033911119208,0.08635175020761553,0.08793193225385516,0.08941416794142405,0.09079248624248709,0.09206174049689173,0.09321767390410125,0.09425697036737982,0.09517728892160464,0.09597728036361013,0.09665658518640172,0.09721581248022981,0.09765650008185571,0.09798105689990205,0.09819268898595107,0.09829531152252396,0.09829344942459338,0.09819212966774883,0.09799676873565798,0.09771305870182671,0.09734685541530398,0.0969040720473081,0.09639058088758018,0.09581212577830286,0.09517424697179092,0.09448221953512739,0.09374100574385043,0.09295522125179642,0.09212911423656477,0.09126655623498513,0.09037104302675994,0.08944570371257532,0.08849331606898012,0.08751632633793159,0.08651687180503537,0.08549680480934044,0.08445771717527213,0.08340096442724887,0.08232768950366189,0.0812388459968237,0.08013522118330801,0.07901745925734885,0.07788608523079943,0.07674152991855641,0.07558415629940346,0.07441428734759732,0.07323223519425662,0.07203833122665815,0.070832956494937,0.0696165715940965,0.06838974504467998,0.06715317912174015,0.06590773208546734,0.06465443584722673,0.06339450825417042,0.06212935938067064,0.06086059145813191,0.05958999233664348,0.058319522632627865,0.05705129695799019,0.055787559833403805,0.054530657050779203,0.0532830033621601,0.05204704743381049,0.05082523501923292,0.049619971281096596,0.04843358313982684,0.04726828245723838,0.04612613078806245,0.045009006359878374,0.04391857387949529,0.04285625771465439,0.041823218963853485,0.04082033690063206,0.03984819525546513,0.03890707377031933,0.037996945418973506,0.03711747962193052,0.03626805169135024,0.035447758614819545,0.034655441126332315,0.03388971182183446,0.03314898886226999,0.03243153457989378,0.03173549807710091,0.03105896069621269,0.030399983059017324,0.02975665224089733,0.029127127568362776,0.02850968351967014,0.027902748270680323,0.027304936562265018,0.026715075766720657,0.02613222428965951,0.025555681747781358,0.024984990696003885,0.024419930022126547,0.023860500465495205,0.02330690303066685,0.02275951134223726,0.02221883920981075,0.02168550483284951,0.021160193167775777,0.020643618001916084,0.020136485232026515,0.01963945873392304,0.019153130041758372,0.018677992840685758,0.0182144230267294,0.017762664815475764,0.017322823100065804,0.016894861982189098,0.016478609140010744,0.01607376546568989,0.015679919212216564,0.015296563742468343,0.014923117877987627,0.014558947803622537,0.014203389496607117,0.013855770711761533,0.013515431662424006,0.013181743681234074,0.012854125315794824,0.012532055500072964,0.012215083631102798,0.01190283656032163,0.011595022668865416,0.011291433327321168,0.01099194213603519,0.01069650239815209,0.010405143293134394,0.010117965195587662,0.00983513452753231,0.009556878448853166,0.00928347958924802,0.009015270915288438,0.008752630718120538,0.008495977610264138,0.008245765342108701,0.0080024771965068,0.007766619697638993,0.007538715380021429,0.007319294404697304,0.007108884879560272,0.006908001834637773,0.006717134914587423,0.006536734971978963,0.006367199867753561,0.0062088599009259655,0.006061963389710017,0.0059266630030812145,0.005803003488724628,0.0056909114552153315,0.005590187839805419,0.005500503627069762,0.005421399278861098,0.00535228819585802,0.005292464361109575,0.005241114124241974,0.005197331881179979,0.005160139199627759,0.005128506747353027,0.00510137821093152,0.005077695258840096,0.005056422514975025,0.0050365714748476925,0.0050172223218424485,0.004997542686331761,0.004976802533457537,0.004954384559273164,0.004929789709175941,0.004902637693416064,0.004872662645894888,0.004839704337201491,0.004803695593673567,0.004764646775348323,0.004722628313709597,0.004677752395471471,0.004630154895971347,0.004579978614558804,0.004527358748937183,0.0044724113744408385,0.004415225480109725,0.004355858871243671,0.004294337994473274,0.004230661493093591,0.0041648070732863,0.004096741069618458,0.004026429951583288,0.003953852919101714,0.0038790146971381155,0.003801957657378645,0.0037227724642348997,0.003641606556242687,0.003558669922913553,0.0034742378104512506,0.003388650175960614,0.003302307897411658,0.003215665924978012,0.0031292237190332084,0.003043513453340436,0.002959086563053865,0.0028764992823970804,0.002796297844747902,0.0027190040088231745,0.0026451015310909876,0.0025750241304723018,0.0025091453922584683,0.002447770940482862,0.0023911330790031093,0.002339387968904634,0.0022926152811266263,0.002250820145609643,0.002213937118113804,0.0021818358083116676,0.0021543277614741213,0.0021311741629646544,0.0021120939399082925,0.0020967718660176793,0.0020848663301203147,0.0020760165014375963,0.0020698487090052634,0.0020659819420252227,0.0020640324654800065,0.002063617624474995,0.002064358975813228,0.0020658849318465062,0.0020678331268672496,0.0020698527191565963,0.0020716068230287807,0.0020727752272308234,0.0020730575027189946,0.0020721765390595854,0.0020698824800540437,0.002065956961411481,0.0020602174918574515,0.0020525217687713615,0.002042771684074261,0.002030916758197279,0.0020169567407493966,0.002000943135814146,0.0019829794462181034,0.001963219982127898,0.0019418671416035578,0.0019191671403566365,0.0018954042407458812,0.0018708936018018026,0.0018459729388576387,0.0018209932396765875,0.0017963088309068892,0.0017722671220823688,0.0017491983728076595,0.0017274058316146131,0.0017071565824263457,0.0016886734075397894,0.0016721279361355112,0.0016576352967296315,0.0016452504333543195,0.001634966181586912,0.0016267131350262986,0.0016203612686417198,0.0016157232256409399,0.0016125591218386732,0.0016105826781750469,0.0016094684596278791,0.001608859978137234,0.0016083784083847097,0.0016076316676295393,0.001606223622869126,0.0016037632083434456,0.0015998732614095597,0.0015941989124489049,0.0015864153921545786,0.0015762351449790976,0.001563414158901928,0.0015477574378646051,0.0015291235538573574,0.001507428221169655,0.001482646836938821,0.001454815931674355,0.0014240334731576057,0.001390457969449624,0.0013543063240135788,0.001315850410111707,0.0012754123539678276,0.0012333585471429977,0.0011900924476310989,0.0011460462748140144,0.0011016717531588712,0.0010574301101616535,0.0010137815818005624,0.000971174719727019,0.0009300358248279371,0.0008907588484025364,0.0008536961026261094,0.000819150104949316,0.0007873668466081794,0.0007585307248270933,0.0007327613141704084,0.0007101120784907914,0.0006905710454664938,0.0006740633856631944,0.0006604557622616896,0.0006495622505349178,0.0006411515715593303,0.0006349553451868819,0.0006306770444336323,0.0006280013273043485,0.0006266034315622482,0.0006261583408752955,0.0006263494641069955,0.000626876609757436,0.0006274630810545252,0.0006278617605277111,0.0006278600931937014,0.0006272839126645881,0.0006260000834162466,0.0006239179549802096,0.0006209896407189577,0.0006172091466412658,0.0006126103864452443,0.0006072641298784155,0.00060127394468947,0.0005947712095927542,0.000587909297751012,0.0005808570573927491,0.0005737917474275039,0.0005668916194565346,0.0005603283707235891,0.0005542597220426301,0.0005488223970297493,0.0005441257905916077,0.0005402466125815745,0.0005372247746423546,0.0005350607534348523,0.0005337146119418204,0.0005331067939599788,0.0005331207282342779,0.000533607192099073,0.0005343902950206491,0.0005352748556460443,0.0005360548674998271,0.0005365226836143443,0.0005364785036249089,0.0005357397215610125,0.0005341496906651288,0.0005315854834720448,0.0005279642699221959,0.0005232480008495614,0.0005174461649368069,0.0005106164794053231,0.0005028634729865379,0.0004943350186117807,0.00048521696746861456,0.0004757261208376856,0.00046610184747278933,0.00045659670922028285,0.0004474664941664041,0.00043896007401525845,0.00043130950082878735,0.00042472073881205197,0.000419365391372574,0.00041537373467575515,0.00041282930921607747,0.00041176525360809283,0.000412162493021758,0.0004139498215221592,0.00041700584591922645,0.00042116269120997006,0.000426211306583973,0.00043190815815216535,0.0004379830515176733,0.0004441477950663842,0.0004501053940048389,0.00045555945587620166,0.0004602234902988249,0.00046382979838384284,0.0004661376697618797,0.0004669406361771675,0.00046607256877099584,0.0004634124499054027,0.0004588876980114192,0.0004524759737891666,0.00044420544646253934,0.0004341535480853462,0.00042244429059788935,0.00040924426306955986,0.0003947574641279172,0.0003792191559556467,0.0003628889506393089,0.00034604335652210175,0.0003289680212467625,0.00031194990934007736,0.0002952696457230363,0.0002791942429279223,0.0002639704098067983,0.00024981861407810587,0.0002369280413016151,0.00022545256003529216,0.00021550776830547367,0.0002071691614040244,0.00020047142663656505,0.00019540883809022759,0.0001919366947107896,0.00018997371872964133,0.00018940530930532204,0.00019008752847929315,0.0001918516833322386,0.0001945093595335605,0.00019785775712817248,0.00020168517911756985,0.00020577652680839564,0.0002099186626207278,0.0002139055106536635,0.0002175427773857865,0.00022065218904871714,0.00022307515808246196,0.00022467580831339088,0.00022534330675674146,0.00022499346890855843,0.00022356962372289488,0.00022104274381622735,0.00021741086542121518,0.0002126978408115597],\"yaxis\":\"y\",\"type\":\"scatter\"},{\"legendgroup\":\"Silver Medal\",\"marker\":{\"color\":\"rgb(44, 160, 44)\"},\"mode\":\"lines\",\"name\":\"Silver Medal\",\"showlegend\":true,\"x\":[12.0,12.122,12.244,12.366,12.488,12.61,12.732,12.854,12.975999999999999,13.098,13.22,13.342,13.464,13.586,13.708,13.83,13.952,14.074,14.196,14.318,14.44,14.562,14.684000000000001,14.806000000000001,14.928,15.05,15.172,15.294,15.416,15.538,15.66,15.782,15.904,16.026,16.148,16.27,16.392,16.514,16.636,16.758,16.88,17.002,17.124,17.246000000000002,17.368000000000002,17.490000000000002,17.612000000000002,17.734,17.856,17.978,18.1,18.222,18.344,18.466,18.588,18.71,18.832,18.954,19.076,19.198,19.32,19.442,19.564,19.686,19.808,19.93,20.052,20.174,20.296,20.418,20.54,20.662,20.784,20.906,21.028,21.15,21.272,21.394,21.516,21.637999999999998,21.759999999999998,21.881999999999998,22.003999999999998,22.125999999999998,22.247999999999998,22.369999999999997,22.492,22.614,22.736,22.858,22.98,23.102,23.224,23.346,23.468,23.59,23.712,23.834,23.956,24.078,24.2,24.322,24.444000000000003,24.566000000000003,24.688000000000002,24.810000000000002,24.932000000000002,25.054000000000002,25.176000000000002,25.298000000000002,25.42,25.542,25.664,25.786,25.908,26.03,26.152,26.274,26.396,26.518,26.64,26.762,26.884,27.006,27.128,27.25,27.372,27.494,27.616,27.738,27.86,27.982,28.104,28.226,28.348,28.47,28.592,28.714,28.836,28.958,29.08,29.202,29.324,29.446,29.568,29.69,29.812,29.934,30.056,30.178,30.3,30.422,30.544,30.666,30.788,30.91,31.032,31.154,31.276,31.398,31.52,31.642,31.764,31.886,32.007999999999996,32.129999999999995,32.251999999999995,32.373999999999995,32.495999999999995,32.617999999999995,32.739999999999995,32.861999999999995,32.984,33.106,33.228,33.35,33.472,33.594,33.716,33.838,33.96,34.082,34.204,34.326,34.448,34.57,34.692,34.814,34.936,35.058,35.18,35.302,35.424,35.546,35.668,35.79,35.912,36.034,36.156,36.278,36.4,36.522,36.644,36.766,36.888000000000005,37.010000000000005,37.132000000000005,37.254000000000005,37.376000000000005,37.498000000000005,37.620000000000005,37.742000000000004,37.864000000000004,37.986000000000004,38.108000000000004,38.230000000000004,38.352000000000004,38.474000000000004,38.596000000000004,38.718,38.84,38.962,39.084,39.206,39.328,39.45,39.572,39.694,39.816,39.938,40.06,40.182,40.304,40.426,40.548,40.67,40.792,40.914,41.036,41.158,41.28,41.402,41.524,41.646,41.768,41.89,42.012,42.134,42.256,42.378,42.5,42.622,42.744,42.866,42.988,43.11,43.232,43.354,43.476,43.598,43.72,43.842,43.964,44.086,44.208,44.33,44.452,44.574,44.696,44.818,44.94,45.062,45.184,45.306,45.428,45.55,45.672,45.794,45.916,46.038,46.16,46.282,46.404,46.526,46.648,46.77,46.892,47.014,47.136,47.258,47.38,47.502,47.624,47.746,47.868,47.99,48.112,48.234,48.356,48.478,48.6,48.722,48.844,48.966,49.088,49.21,49.332,49.454,49.576,49.698,49.82,49.942,50.064,50.186,50.308,50.43,50.552,50.674,50.796,50.918,51.04,51.162,51.284,51.406,51.528,51.65,51.772,51.894,52.016,52.138,52.26,52.382,52.504,52.626,52.748,52.87,52.992,53.114,53.236,53.358,53.48,53.602,53.724,53.846,53.968,54.09,54.212,54.334,54.456,54.578,54.7,54.822,54.944,55.066,55.188,55.31,55.432,55.554,55.676,55.798,55.92,56.042,56.164,56.286,56.408,56.53,56.652,56.774,56.896,57.018,57.14,57.262,57.384,57.506,57.628,57.75,57.872,57.994,58.116,58.238,58.36,58.482,58.604,58.726,58.848,58.97,59.092,59.214,59.336,59.458,59.58,59.702,59.824,59.946,60.068,60.19,60.312,60.434,60.556,60.678,60.8,60.922,61.044,61.166,61.288,61.41,61.532,61.654,61.776,61.898,62.02,62.142,62.264,62.386,62.508,62.63,62.752,62.874,62.996,63.118,63.24,63.362,63.484,63.606,63.728,63.85,63.972,64.094,64.21600000000001,64.338,64.46000000000001,64.582,64.70400000000001,64.826,64.94800000000001,65.07,65.19200000000001,65.314,65.436,65.55799999999999,65.68,65.80199999999999,65.924,66.04599999999999,66.168,66.28999999999999,66.412,66.53399999999999,66.656,66.77799999999999,66.9,67.02199999999999,67.144,67.26599999999999,67.388,67.50999999999999,67.632,67.75399999999999,67.876,67.99799999999999,68.12,68.24199999999999,68.364,68.48599999999999,68.608,68.72999999999999,68.852,68.97399999999999,69.096,69.218,69.34,69.462,69.584,69.706,69.828,69.95,70.072,70.194,70.316,70.438,70.56,70.682,70.804,70.926,71.048,71.17,71.292,71.414,71.536,71.658,71.78,71.902,72.024,72.146,72.268,72.39,72.512,72.634,72.756,72.878],\"xaxis\":\"x\",\"y\":[0.0007121698946030161,0.000817785680655734,0.0009368012841000037,0.0010705105280698413,0.0012202362034254525,0.001387309678013918,0.0015730480372951332,0.0017787294106061601,0.0020055672873861164,0.0022546847570930717,0.002527089710828505,0.002823652117975525,0.0031450845336341493,0.0034919269979263863,0.003864537450951843,0.004263088700724593,0.004687572838341876,0.005137813787382197,0.005613488396877255,0.006114156136092788,0.0066392970270511935,0.007188356966957031,0.007760799066394815,0.008356159089512611,0.008974102568527209,0.009614480724188287,0.010277382008570198,0.010963175948788791,0.011672546055531014,0.012406508900699553,0.013166417075763234,0.01395394460242808,0.014771054436686297,0.015619948913624476,0.016503005225630068,0.017422699195305466,0.018381521574792472,0.019381891761424883,0.02042607407442494,0.021516101534027388,0.02265371141547619,0.023840295761250335,0.025076868623307474,0.02636405021523194,0.027702066554198147,0.029090761747364528,0.03052961899735913,0.032017785802845186,0.03355409879440499,0.03513710418700592,0.03676507088891271,0.038435994755128704,0.04014759412826674,0.04189729845482152,0.04368223317758031,0.04549920508562875,0.04734469270221141,0.04921484602894775,0.05110549904776422,0.053012196900391134,0.05493023778711272,0.05685472757696819,0.058780643156934806,0.06070289892384357,0.06261640976469247,0.0645161435447653,0.06639715661556929,0.06825460716305114,0.07008374324709342,0.07187986496100081,0.07363826302637083,0.07535413905702483,0.07702251538612459,0.07863814447897924,0.08019542931609497,0.08168836655273742,0.0831105236435225,0.08445505944750263,0.0857147951707576,0.08688233901194042,0.08795026377798472,0.08891133231973822,0.08975876123196357,0.09048650922285693,0.09108957323677826,0.09156427313265214,0.09190850474394659,0.09212194165332029,0.09220616807582807,0.09216472880286664,0.09200308702582714,0.09172848671732851,0.09134972267435253,0.09087682782112819,0.09032069339716126,0.08969264270182932,0.08900398268496998,0.0882655595322218,0.0874873443158944,0.0866780727608796,0.08584495937954935,0.08499350098690443,0.08412737836904911,0.08324845817378125,0.08235689047522775,0.08145129145847857,0.08052899572012699,0.07958635911587679,0.07861909109782293,0.07762259511719853,0.07659229683164072,0.07552394234120223,0.074413852189247,0.07325912105479013,0.07205775756487294,0.07080876311488922,0.06951215268545907,0.06816892412790342,0.06678098506727802,0.06535104832753104,0.06388250757721477,0.06237930475540037,0.060845799856495186,0.05928665197070687,0.05770671827323602,0.056110975133510765,0.05450446288919984,0.0528922533065675,0.05127943651799436,0.04967112244633155,0.04807245050930623,0.04648860081164246,0.044924800092209,0.0433863163620657,0.041878437365172154,0.04040642959863708,0.03897547650036427,0.03759059639267947,0.036256542704764444,0.034977690739594225,0.03375791667859699,0.0326004755334611,0.031507885295848456,0.03048182457300658,0.02952305053520505,0.02863134307625071,0.02780547976613555,0.027043244543909904,0.026341471266009563,0.025696121309003676,0.02510239254911954,0.024554855323887837,0.024047609532932487,0.023574455946081246,0.023129074123553084,0.022705199151211365,0.022296789657510606,0.02189818027894571,0.021504212818639533,0.02111034171434747,0.020712710996010984,0.020308201558104085,0.01989444918695046,0.019469835264420084,0.019033453328526382,0.01858505564057058,0.01812498454374595,0.017654093681015653,0.017173664077032014,0.016685319709181894,0.016190946545507283,0.015692618176826028,0.015192530192258484,0.014692944422625032,0.01419614318610705,0.013704392791110574,0.013219914847591793,0.01274486345954179,0.012281306147242132,0.011831206384807726,0.01139640591903143,0.01097860551937933,0.010579343436427554,0.010199971543456664,0.00984162982319753,0.009505220460700384,0.009191383246439836,0.008900474231886389,0.008632549587842948,0.008387356396008308,0.008164331685531009,0.007962610461014484,0.0077810428253036155,0.00761821965582145,0.007472505721305147,0.007342078688616513,0.0072249722090076355,0.007119121206732925,0.007022407610250719,0.006932705032709158,0.006847921270098448,0.0067660378777865135,0.006685146443767014,0.006603481443733892,0.006519449700894954,0.006431656468032512,0.0063389280128395425,0.006240330356844761,0.006135183549345428,0.006023070617334272,0.0059038401871096,0.00577760177885026,0.005644712967036548,0.005505757984697446,0.00536151790481483,0.005212933205196567,0.005061060237577663,0.0049070237875119315,0.00475196843684149,0.004597011744381591,0.004443202285241979,0.004291485309545426,0.004142678209176256,0.003997457165963271,0.0038563553780189904,0.003719772227084044,0.003587991772604853,0.003461208147052228,0.0033395548720133277,0.0032231348757949434,0.003112048092596924,0.0030064139421405347,0.0029063866706519202,0.002812162393058792,0.0027239776075666756,0.0026420998482558607,0.002566811899201397,0.002498391536812433,0.002437089048307341,0.0023831047815157567,0.00233656873757342,0.0022975237766240516,0.0022659134416737944,0.0022415748015826016,0.002224236153174454,0.002213518973915303,0.002208943228168819,0.0022099350224908253,0.002215835671639621,0.0022259114448277715,0.0022393635603797147,0.002255338325471486,0.0022729376146429603,0.0022912300936574407,0.0023092636876158768,0.002326079748555259,0.0023407292050573307,0.0023522907022205,0.0023598904080206263,0.0023627228237413384,0.002360071644762022,0.0023513295195152885,0.002336015481249808,0.002313788893758175,0.0022844589531846545,0.0022479890996616406,0.002204496076378657,0.002154243782340558,0.002097632448948304,0.002035183984788641,0.001967524543492881,0.0018953654570015343,0.0018194836387625118,0.0017407024124936204,0.0016598734901235707,0.0015778605446206792,0.0014955245405388461,0.0014137107360244038,0.0013332370861201647,0.0012548836785266197,0.0011793828260931321,0.001107409518116757,0.0010395720760309033,0.0009764030407283711,0.0009183505068649249,0.0008657702828702834,0.0008189193678647552,0.0007779512805032903,0.0007429137427607868,0.0007137491177030957,0.0006902978381898141,0.0006723048645744491,0.0006594289992853232,0.0006512546905147227,0.0006473057986632046,0.0006470606939953693,0.0006499680103475695,0.00065546239712406,0.0006629796815987497,0.0006719709608299406,0.000681915268800889,0.0006923305906208125,0.0007027831049934442,0.0007128946166808988,0.0007223481866998194,0.0007308919806939686,0.000738341342838722,0.0007445790759997084,0.0007495538834136524,0.0007532769174452895,0.0007558163988077002,0.0007572903219162199,0.0007578573493855499,0.0007577061149769934,0.000757043287385071,0.0007560808804648189,0.000755023410029289,0.0007540555749417458,0.0007533311659297868,0.0007529638700223885,0.0007530205396363886,0.0007535173388343335,0.0007544189782434427,0.0007556410235817226,0.0007570550333242938,0.0007584960722416892,0.000759771980768672,0.0007606736721467106,0.0007609856900773423,0.0007604962914960323,0.0007590064164184175,0.0007563370570355416,0.0007523347235103337,0.0007468749034874742,0.0007398636050242633,0.0007312372394032056,0.0007209612261314552,0.0007090277779077877,0.0006954533451071596,0.0006802761700053167,0.0006635543282197173,0.0006453645300277871,0.000625801830673651,0.0006049802700862454,0.0005830343409322743,0.0005601210795153103,0.0005364224934981324,0.0005121479872816151,0.0004875364206449409,0.00046285743712157435,0.00043841172224321775,0.0004145298943167183,0.00039156978806598473,0.0003699119612424392,0.0003499533340876487,0.0003320989600499987,0.000316752022562076,0.00030430225592950833,0.00029511309652621563,0.00028950798007182984,0.00028775630637426386,0.00029005968710848064,0.00029653916581475853,0.0003072241422265519,0.00032204373536085803,0.000340821273205933,0.0003632724961054599,0.0003890079053146062,0.0004175394824103128,0.00044829175989153015,0.00048061695462358874,0.000513813604505513,0.0005471478983170483,0.0005798766829002901,0.0006112709920437576,0.0006406388840306518,0.0006673464088693719,0.0006908356520197859,0.0007106390099085486,0.0007263891259025552,0.000737824228857414,0.0007447889406411327,0.0007472309237336538,0.0007451939969522897,0.0007388085338210903,0.0007282800593248266,0.0007138769715115281,0.0006959182392546534,0.0006747617801226512,0.0006507940235345457,0.0006244209394536872,0.0005960605883646718,0.0005661370489713667,0.000535075426193403,0.0005032975473034712,0.0004712179244295554,0.0004392395953162115,0.0004077495423414639,0.00037711351798475485,0.00034767025546066565,0.0003197251971019795,0.00029354401228767936,0.00026934628605578096,0.00024729982793527116,0.00022751607176999704,0.00021004701022127876,0.00019488403573769976,0.00018195895050736023,0.00017114727160733747,0.00016227380636179388,0.0001551203195844795,0.00014943497128881995,0.00014494308168874252,0.00014135868897207797,0.00013839631095659182,0.0001357823080022021,0.00013326527206347966,0.0001306249330950571,0.00012767917389913916,0.0001242888702069122,0.00012036041471181852,0.00011584593117104247,0.00011074132650997303,0.00010508245464957558,9.893976654485896e-05,9.241188991355813e-05,8.561861536577288e-05,7.8693762206747e-05,7.177835923338692e-05,6.501450830799643e-05,5.854020851304692e-05,5.248531488451018e-05,4.696869733327762e-05,4.2096561422059014e-05,3.7961801215065374e-05,3.464418191875676e-05,3.221110094731584e-05,3.0718652654402994e-05,3.021272437901608e-05,3.07298777800393e-05,3.2297816135388735e-05,3.493530054196145e-05,3.86514501209333e-05,4.3444437359989756e-05,4.929966357611729e-05,5.618756551783783e-05,6.406125742571475e-05,7.285424951813789e-05,8.247850117486438e-05,9.282306374332909e-05,0.0001037535440442343,0.0001151125769072767,0.00012672143637858262,0.0001383828447073726,0.0001498849607955847,0.00016100645092746716,0.00017152246982422847,0.00018121131460759843,0.00018986146262317904,0.0001972786697710033,0.00020329279127806216,0.0002077639926213699,0.00021058804408416665,0.00021170043640884786,0.00021107911425676386,0.00020874569482335926,0.00020476511644210263,0.000199243741412164,0.00019232601359201685,0.00018418983973463667,0.00017504091986357488,0.0001651062928110744,0.00015462738608196748,0.00014385286352529075,0.00013303155041018556,0.00012240568542302993,0.00011220470621202535,0.00010263972389786649,9.389878764540283e-05,8.614298833959467e-05,7.950340562054974e-05,7.40788690173383e-05,6.993448420063176e-05,6.710087012754015e-05,6.557406076728806e-05,6.531604298094778e-05,6.625592527161354e-05,6.829175488474992e-05,7.129301730889578e-05,7.510385743926139e-05,7.954705178685425e-05,8.442873447274818e-05,8.954383711753957e-05,9.46821474120861e-05,9.96348286698243e-05,0.00010420118018750291,0.00010819536374063858,0.00011145278275318032,0.00011383578410368878,0.00011523836250933236],\"yaxis\":\"y\",\"type\":\"scatter\"},{\"legendgroup\":\"Bronze Medal\",\"marker\":{\"color\":\"rgb(214, 39, 40)\"},\"mode\":\"lines\",\"name\":\"Bronze Medal\",\"showlegend\":true,\"x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xaxis\":\"x\",\"y\":[0.00031621737602763176,0.00036353287035140327,0.00041800639097503903,0.0004805419922037324,0.0005520563067214492,0.0006334592513380584,0.0007256366400426444,0.0008294365525702006,0.0009456611272800302,0.0010750650865316146,0.0012183617860407742,0.0013762369505641067,0.0015493695743239893,0.0017384587910281287,0.0019442549205024894,0.002167592435075114,0.0024094223038452303,0.002670841094178334,0.002953114344971273,0.0032576920641325525,0.003586214715429557,0.003940508706792919,0.004322571124605235,0.004734544223923751,0.005178680930359105,0.005657303285359453,0.00617275632710044,0.006727360303626477,0.007323364329346842,0.007962904594409508,0.008647970002938358,0.009380377647795578,0.010161759839957886,0.010993563532574389,0.011877061966880167,0.012813377292947672,0.013803511872492727,0.014848385052433476,0.015948871504555494,0.017105836843756765,0.018320166225552815,0.019592782008459306,0.020924647332387192,0.02231675355063774,0.023770090761427127,0.025285602086637184,0.026864123697474863,0.02850631374868522,0.030212574235740294,0.031982970250961355,0.03381715115124657,0.035714277781779095,0.03767295919740099,0.03969120139783181,0.04176636958107467,0.043895164462641335,0.046073612431992386,0.04829706881188,0.050560233291589644,0.05285717670504878,0.05518137864745064,0.057525775851692794,0.05988282163256774,0.06224455690109879,0.0646026931231979,0.06694870706106106,0.06927394617381408,0.07156974222624357,0.07382752910256538,0.07603895925874549,0.07819601193322795,0.08029108544868216,0.082317065927803,0.08426736569690771,0.08613592663673626,0.08791718669818815,0.08960601151986088,0.09119759721067537,0.09268735442959634,0.09407078737944892,0.09534338371185078,0.09650053217164159,0.09753748379551651,0.09844936952776374,0.09923128236890907,0.09987842601193986,0.10038632493494826,0.10075108384455306,0.10096967799874836,0.10104025104103712,0.10096239417435289,0.10073738019818115,0.1003683282534147,0.09986027989638173,0.09922017390523259,0.09845671533198029,0.09758014293401122,0.09660190739125159,0.09553427984301707,0.0943899156179331,0.09318140115508708,0.09192081284968256,0.09061931497651152,0.08928682024150951,0.08793173133936821,0.08656077570149778,0.08517893897624024,0.08378949622922759,0.0823941338427424,0.08099314997874768,0.0795857174860379,0.07817019040451603,0.07674443378313857,0.0753061563435349,0.07385322649463782,0.07238395420011731,0.07089732405410544,0.06939316844042687,0.06787227362405412,0.06633641582262631,0.06478832849444546,0.06323160602452035,0.06167055247632646,0.06010998692032203,0.05855501891224272,0.057010808890060646,0.05548232856079645,0.053974135784283825,0.05249017710459672,0.05103362904145469,0.049606786668650815,0.048211005024520165,0.046846695678998504,0.0455133774856445,0.044209777340805965,0.04293397382337662,0.041683574063655505,0.04045591224748406,0.0392482569426759,0.03805801404675047,0.036882912657438684,0.035721162556103754,0.03457157419122776,0.03343363490055346,0.032307538393993564,0.0311941679619559,0.03009503717805562,0.02901219474191491,0.027948102308515972,0.02690549549725297,0.025887238679504244,0.024896183621834458,0.023935040723312373,0.02300626962112163,0.022111993594641017,0.021253939743280298,0.020433404605996595,0.01965124294873418,0.018907876025272826,0.0182033147965292,0.017537193374578746,0.016908808271698834,0.016317159758559012,0.015760992613379203,0.015238834609874533,0.014749032092890042,0.014289782803962007,0.013859166664293172,0.013455175467261092,0.013075742390329367,0.01271877195970074,0.012382170669970995,0.012063877968235397,0.011761896849181818,0.011474322952503106,0.01119937086109249,0.01093539629408946,0.010680913069724934,0.010434604049775871,0.01019532572131365,0.009962106562116118,0.00973413981121687,0.009510771669340345,0.009291486241913147,0.009075888683334666,0.00886368799698122,0.008654680800100553,0.008448737099773377,0.008245788779034213,0.00804582110002624,0.007848867133647847,0.00765500465973909,0.007464354780283184,0.007277081275224797,0.007093389623512167,0.006913524620191023,0.006737765645382946,0.006566418876587231,0.0063998060678888274,0.006238249926162582,0.006082056564896781,0.005931495972802332,0.005786781852688344,0.005648052518452263,0.005515354737393306,0.005388632430388285,0.005267721964864931,0.005152355384142918,0.0050421723236730226,0.004936740607604904,0.004835584660613336,0.004738219993604446,0.004644191224585127,0.004553110476814948,0.004464692644439606,0.004378783997369712,0.004295380944707404,0.004214636480940544,0.00413685284943629,0.004062460181590748,0.003991982184753497,0.00392599121841047,0.003865056176881769,0.0038096873664562048,0.00376028293728143,0.003717081362162127,0.003680123952888203,0.0036492305264257327,0.003623990176626285,0.003603767799152091,0.003587725697455025,0.003574858400057197,0.003564037857019287,0.003554065535741845,0.003543727641754496,0.0035318497454061766,0.0035173474589484106,0.0034992704097903354,0.003476837506551685,0.003449462301940033,0.0034167680344121595,0.0033785926095257117,0.003334984314985434,0.0032861894288496864,0.0032326330802996428,0.0031748947786814636,0.0031136799747704482,0.0030497889005358532,0.0029840837918968088,0.002917455468469813,0.0028507901497476186,0.0027849373399306075,0.002720679611582514,0.0026587051472280556,0.0025995839349509282,0.0025437485314514785,0.002491480276608474,0.0024429017449944667,0.0023979760384590897,0.0023565132576693505,0.0023181841496052852,0.002282540534253457,0.002249041698057624,0.0022170855404428412,0.002186042910310549,0.0021552933057467764,0.002124259958921153,0.0020924423058514977,0.0020594439525523254,0.0020249944890095234,0.0019889638544900094,0.0019513683983137754,0.001912368280700701,0.0018722563873022696,0.0018314394564790451,0.001790412608892311,0.001749728894683198,0.0017099658067419492,0.001671690924620218,0.0016354289320104746,0.0016016321769594243,0.001570656712080956,0.0015427453669819673,0.0015180188851245655,0.001496475535021008,0.0014779989274810031,0.0014623730943720754,0.001449303274259134,0.0014384403704078776,0.0014294067530042898,0.0014218210101927331,0.0014153194291643566,0.0014095723995051824,0.0014042945386736488,0.0013992480806846025,0.0013942398615982212,0.0013891129873488236,0.0013837348905499942,0.0013779838962563497,0.001371736569040568,0.0013648579832270555,0.001357196657638172,0.001348585272522156,0.0013388475144872805,0.001327810569188639,0.0013153220020560553,0.0013012691294416897,0.001285598563229573,0.001268333460853919,0.001249586146451902,0.0012295641699233682,0.0012085684904276036,0.001186983236970542,0.0011652573249592325,0.0011438790048137358,0.0011233451056598192,0.001104127249208069,0.0010866376042611137,0.0010711968142162703,0.0010580065661732606,0.001047128909245636,0.0010384739149146974,0.0010317966558613828,0.001026703816107371,0.0010226695860559157,0.0010190598861604288,0.001015163438913948,0.0010102277979365639,0.0010034981636426825,0.000994256677791446,0.0009818598973725394,0.0009657722980511775,0.000945593938145246,0.0009210808080243321,0.0008921568718622179,0.000858917347059392,0.0008216233242343255,0.0007806883673422816,0.0007366582094162185,0.0006901850389799203,0.0006419981276732267,0.0005928726645396441,0.0005435986334351112,0.0004949514074376395,0.0004476654606663421,0.0004024122458182753,0.0003597828928774489,0.0003202759898038842,0.0002842903451812178,0.0002521223343039021,0.00022396721285096216,0.00019992365410290359,0.00018000072402302465,0.00016412654184009306,0.0001521579639126007,0.00014389075398876452,0.0001390698414280079,0.00013739940075888755,0.0001385525957821634,0.00014218090967234133,0.0001479230257024453,0.00015541323354083595,0.0001642893203842404,0.00017419987438778916,0.00018481089109755985,0.0001958115425885556,0.0002069189525224208,0.00021788182412614716,0.00022848279438090354,0.00023853943519038616,0.0002479038866091181,0.0002564611817786496,0.00026412640029799294,0.00027084085849771606,0.00027656760449465607,0.0002812865275308406,0.00028498941146401735,0.0002876752599691862,0.0002893461965502174,0.0002900041979817119,0.00028964885866130345,0.00028827630975124583,0.0002858793356515864,0.0002824486462994431,0.0002779751821926737,0.000272453255060183,0.0002658842657559479,0.0002582806968497526,0.0002496700543885784,0.00024009843409175481,0.00022963341285256195,0.000218366015812084,0.0002064115790802814,0.0001939094127012413,0.0001810212599775253,0.00016792863872239469,0.0001548292279728664,0.00014193252156010345,0.00012945500112579957,0.00011761508224713515,0.00010662805871995554,9.670121632904143e-05,8.802921702161988e-05,8.078977864404818e-05,7.51396071607406e-05,7.121049013908309e-05,6.910544266743695e-05,6.889481623987602e-05,7.061233864165021e-05,7.425114361580498e-05,7.975996224035934e-05,8.703976765260747e-05,9.594127195556512e-05,0.00010626374897081468,0.0001177556811056069,0.00013011768992993064,0.0001430081022701782,0.0001560513297046928,0.0001688490116216692,0.0001809936113858753,0.00019208388911715917,0.00020174143398102735,0.0002096272541564413,0.00021545731969681777,0.00021901595005532603,0.0002201660408668252,0.0002188553280976491,0.00021511817425999235,0.00020907270326720506,0.0002009134730975723,0.00019090022162506854,0.0001793435157369386,0.0001665883485257392,0.00015299684496332514,0.00013893124574799258,0.00012473824668458495,0.00011073559249535531,9.720158304853653e-05,8.436787506600872e-05,7.241568284226243e-05,6.147522420630787e-05,5.162804426994356e-05,4.29116935077168e-05,3.5326144469071946e-05,2.8841301381137186e-05,2.340498121083264e-05,1.8950811195251996e-05,1.5405582022431815e-05,1.269570331443772e-05,1.0752516154118529e-05,9.516316464171634e-06,8.939027149218761e-06,8.985523859106716e-06,9.633670114878408e-06,1.087315585637637e-05,1.2703264021254483e-05,1.5129717472509659e-05,1.816078741615699e-05,2.1802876528940148e-05,2.6055825128381623e-05,3.090822415155284e-05,3.6333049540123833e-05,4.228395239426136e-05,4.86925409454106e-05,5.5466967636670444e-05,6.249208288455168e-05,6.963133487572316e-05,7.673048419558927e-05,8.362306938167339e-05,9.013741459101622e-05,9.610482633247018e-05,0.00010136849707827616,0.00010579253385065932,0.00010927047196239312,0.00011173262675905051,0.00011315168337721801,0.00011354602456551934,0.00011298044237834757,0.00011156405915946108,0.00010944548140063572,0.00010680540985477079,0.00010384711399060356,0.00010078533373339909,9.783428497416406e-05,9.519551019232568e-05,9.30463287173196e-05,9.152960371678991e-05,9.074545941793188e-05,9.074545938019643e-05,9.152960358529664e-05,9.30463284293021e-05,9.519550961383595e-05,9.783428384466461e-05,0.00010078533156171276,0.00010384710986623,0.00010680540211213544,0.00010944546703029645,0.00011156403278938665,0.00011298039453447275,0.00011354593874066234],\"yaxis\":\"y\",\"type\":\"scatter\"}],                        {\"barmode\":\"overlay\",\"hovermode\":\"closest\",\"legend\":{\"traceorder\":\"reversed\"},\"xaxis\":{\"anchor\":\"y2\",\"domain\":[0.0,1.0],\"zeroline\":false},\"yaxis\":{\"anchor\":\"free\",\"domain\":[0.0,1],\"position\":0.0},\"template\":{\"data\":{\"bar\":[{\"error_x\":{\"color\":\"#2a3f5f\"},\"error_y\":{\"color\":\"#2a3f5f\"},\"marker\":{\"line\":{\"color\":\"#E5ECF6\",\"width\":0.5},\"pattern\":{\"fillmode\":\"overlay\",\"size\":10,\"solidity\":0.2}},\"type\":\"bar\"}],\"barpolar\":[{\"marker\":{\"line\":{\"color\":\"#E5ECF6\",\"width\":0.5},\"pattern\":{\"fillmode\":\"overlay\",\"size\":10,\"solidity\":0.2}},\"type\":\"barpolar\"}],\"carpet\":[{\"aaxis\":{\"endlinecolor\":\"#2a3f5f\",\"gridcolor\":\"white\",\"linecolor\":\"white\",\"minorgridcolor\":\"white\",\"startlinecolor\":\"#2a3f5f\"},\"baxis\":{\"endlinecolor\":\"#2a3f5f\",\"gridcolor\":\"white\",\"linecolor\":\"white\",\"minorgridcolor\":\"white\",\"startlinecolor\":\"#2a3f5f\"},\"type\":\"carpet\"}],\"choropleth\":[{\"colorbar\":{\"outlinewidth\":0,\"ticks\":\"\"},\"type\":\"choropleth\"}],\"contour\":[{\"colorbar\":{\"outlinewidth\":0,\"ticks\":\"\"},\"colorscale\":[[0.0,\"#0d0887\"],[0.1111111111111111,\"#46039f\"],[0.2222222222222222,\"#7201a8\"],[0.3333333333333333,\"#9c179e\"],[0.4444444444444444,\"#bd3786\"],[0.5555555555555556,\"#d8576b\"],[0.6666666666666666,\"#ed7953\"],[0.7777777777777778,\"#fb9f3a\"],[0.8888888888888888,\"#fdca26\"],[1.0,\"#f0f921\"]],\"type\":\"contour\"}],\"contourcarpet\":[{\"colorbar\":{\"outlinewidth\":0,\"ticks\":\"\"},\"type\":\"contourcarpet\"}],\"heatmap\":[{\"colorbar\":{\"outlinewidth\":0,\"ticks\":\"\"},\"colorscale\":[[0.0,\"#0d0887\"],[0.1111111111111111,\"#46039f\"],[0.2222222222222222,\"#7201a8\"],[0.3333333333333333,\"#9c179e\"],[0.4444444444444444,\"#bd3786\"],[0.5555555555555556,\"#d8576b\"],[0.6666666666666666,\"#ed7953\"],[0.7777777777777778,\"#fb9f3a\"],[0.8888888888888888,\"#fdca26\"],[1.0,\"#f0f921\"]],\"type\":\"heatmap\"}],\"heatmapgl\":[{\"colorbar\":{\"outlinewidth\":0,\"ticks\":\"\"},\"colorscale\":[[0.0,\"#0d0887\"],[0.1111111111111111,\"#46039f\"],[0.2222222222222222,\"#7201a8\"],[0.3333333333333333,\"#9c179e\"],[0.4444444444444444,\"#bd3786\"],[0.5555555555555556,\"#d8576b\"],[0.6666666666666666,\"#ed7953\"],[0.7777777777777778,\"#fb9f3a\"],[0.8888888888888888,\"#fdca26\"],[1.0,\"#f0f921\"]],\"type\":\"heatmapgl\"}],\"histogram\":[{\"marker\":{\"pattern\":{\"fillmode\":\"overlay\",\"size\":10,\"solidity\":0.2}},\"type\":\"histogram\"}],\"histogram2d\":[{\"colorbar\":{\"outlinewidth\":0,\"ticks\":\"\"},\"colorscale\":[[0.0,\"#0d0887\"],[0.1111111111111111,\"#46039f\"],[0.2222222222222222,\"#7201a8\"],[0.3333333333333333,\"#9c179e\"],[0.4444444444444444,\"#bd3786\"],[0.5555555555555556,\"#d8576b\"],[0.6666666666666666,\"#ed7953\"],[0.7777777777777778,\"#fb9f3a\"],[0.8888888888888888,\"#fdca26\"],[1.0,\"#f0f921\"]],\"type\":\"histogram2d\"}],\"histogram2dcontour\":[{\"colorbar\":{\"outlinewidth\":0,\"ticks\":\"\"},\"colorscale\":[[0.0,\"#0d0887\"],[0.1111111111111111,\"#46039f\"],[0.2222222222222222,\"#7201a8\"],[0.3333333333333333,\"#9c179e\"],[0.4444444444444444,\"#bd3786\"],[0.5555555555555556,\"#d8576b\"],[0.6666666666666666,\"#ed7953\"],[0.7777777777777778,\"#fb9f3a\"],[0.8888888888888888,\"#fdca26\"],[1.0,\"#f0f921\"]],\"type\":\"histogram2dcontour\"}],\"mesh3d\":[{\"colorbar\":{\"outlinewidth\":0,\"ticks\":\"\"},\"type\":\"mesh3d\"}],\"parcoords\":[{\"line\":{\"colorbar\":{\"outlinewidth\":0,\"ticks\":\"\"}},\"type\":\"parcoords\"}],\"pie\":[{\"automargin\":true,\"type\":\"pie\"}],\"scatter\":[{\"marker\":{\"colorbar\":{\"outlinewidth\":0,\"ticks\":\"\"}},\"type\":\"scatter\"}],\"scatter3d\":[{\"line\":{\"colorbar\":{\"outlinewidth\":0,\"ticks\":\"\"}},\"marker\":{\"colorbar\":{\"outlinewidth\":0,\"ticks\":\"\"}},\"type\":\"scatter3d\"}],\"scattercarpet\":[{\"marker\":{\"colorbar\":{\"outlinewidth\":0,\"ticks\":\"\"}},\"type\":\"scattercarpet\"}],\"scattergeo\":[{\"marker\":{\"colorbar\":{\"outlinewidth\":0,\"ticks\":\"\"}},\"type\":\"scattergeo\"}],\"scattergl\":[{\"marker\":{\"colorbar\":{\"outlinewidth\":0,\"ticks\":\"\"}},\"type\":\"scattergl\"}],\"scattermapbox\":[{\"marker\":{\"colorbar\":{\"outlinewidth\":0,\"ticks\":\"\"}},\"type\":\"scattermapbox\"}],\"scatterpolar\":[{\"marker\":{\"colorbar\":{\"outlinewidth\":0,\"ticks\":\"\"}},\"type\":\"scatterpolar\"}],\"scatterpolargl\":[{\"marker\":{\"colorbar\":{\"outlinewidth\":0,\"ticks\":\"\"}},\"type\":\"scatterpolargl\"}],\"scatterternary\":[{\"marker\":{\"colorbar\":{\"outlinewidth\":0,\"ticks\":\"\"}},\"type\":\"scatterternary\"}],\"surface\":[{\"colorbar\":{\"outlinewidth\":0,\"ticks\":\"\"},\"colorscale\":[[0.0,\"#0d0887\"],[0.1111111111111111,\"#46039f\"],[0.2222222222222222,\"#7201a8\"],[0.3333333333333333,\"#9c179e\"],[0.4444444444444444,\"#bd3786\"],[0.5555555555555556,\"#d8576b\"],[0.6666666666666666,\"#ed7953\"],[0.7777777777777778,\"#fb9f3a\"],[0.8888888888888888,\"#fdca26\"],[1.0,\"#f0f921\"]],\"type\":\"surface\"}],\"table\":[{\"cells\":{\"fill\":{\"color\":\"#EBF0F8\"},\"line\":{\"color\":\"white\"}},\"header\":{\"fill\":{\"color\":\"#C8D4E3\"},\"line\":{\"color\":\"white\"}},\"type\":\"table\"}]},\"layout\":{\"annotationdefaults\":{\"arrowcolor\":\"#2a3f5f\",\"arrowhead\":0,\"arrowwidth\":1},\"autotypenumbers\":\"strict\",\"coloraxis\":{\"colorbar\":{\"outlinewidth\":0,\"ticks\":\"\"}},\"colorscale\":{\"diverging\":[[0,\"#8e0152\"],[0.1,\"#c51b7d\"],[0.2,\"#de77ae\"],[0.3,\"#f1b6da\"],[0.4,\"#fde0ef\"],[0.5,\"#f7f7f7\"],[0.6,\"#e6f5d0\"],[0.7,\"#b8e186\"],[0.8,\"#7fbc41\"],[0.9,\"#4d9221\"],[1,\"#276419\"]],\"sequential\":[[0.0,\"#0d0887\"],[0.1111111111111111,\"#46039f\"],[0.2222222222222222,\"#7201a8\"],[0.3333333333333333,\"#9c179e\"],[0.4444444444444444,\"#bd3786\"],[0.5555555555555556,\"#d8576b\"],[0.6666666666666666,\"#ed7953\"],[0.7777777777777778,\"#fb9f3a\"],[0.8888888888888888,\"#fdca26\"],[1.0,\"#f0f921\"]],\"sequentialminus\":[[0.0,\"#0d0887\"],[0.1111111111111111,\"#46039f\"],[0.2222222222222222,\"#7201a8\"],[0.3333333333333333,\"#9c179e\"],[0.4444444444444444,\"#bd3786\"],[0.5555555555555556,\"#d8576b\"],[0.6666666666666666,\"#ed7953\"],[0.7777777777777778,\"#fb9f3a\"],[0.8888888888888888,\"#fdca26\"],[1.0,\"#f0f921\"]]},\"colorway\":[\"#636efa\",\"#EF553B\",\"#00cc96\",\"#ab63fa\",\"#FFA15A\",\"#19d3f3\",\"#FF6692\",\"#B6E880\",\"#FF97FF\",\"#FECB52\"],\"font\":{\"color\":\"#2a3f5f\"},\"geo\":{\"bgcolor\":\"white\",\"lakecolor\":\"white\",\"landcolor\":\"#E5ECF6\",\"showlakes\":true,\"showland\":true,\"subunitcolor\":\"white\"},\"hoverlabel\":{\"align\":\"left\"},\"hovermode\":\"closest\",\"mapbox\":{\"style\":\"light\"},\"paper_bgcolor\":\"white\",\"plot_bgcolor\":\"#E5ECF6\",\"polar\":{\"angularaxis\":{\"gridcolor\":\"white\",\"linecolor\":\"white\",\"ticks\":\"\"},\"bgcolor\":\"#E5ECF6\",\"radialaxis\":{\"gridcolor\":\"white\",\"linecolor\":\"white\",\"ticks\":\"\"}},\"scene\":{\"xaxis\":{\"backgroundcolor\":\"#E5ECF6\",\"gridcolor\":\"white\",\"gridwidth\":2,\"linecolor\":\"white\",\"showbackground\":true,\"ticks\":\"\",\"zerolinecolor\":\"white\"},\"yaxis\":{\"backgroundcolor\":\"#E5ECF6\",\"gridcolor\":\"white\",\"gridwidth\":2,\"linecolor\":\"white\",\"showbackground\":true,\"ticks\":\"\",\"zerolinecolor\":\"white\"},\"zaxis\":{\"backgroundcolor\":\"#E5ECF6\",\"gridcolor\":\"white\",\"gridwidth\":2,\"linecolor\":\"white\",\"showbackground\":true,\"ticks\":\"\",\"zerolinecolor\":\"white\"}},\"shapedefaults\":{\"line\":{\"color\":\"#2a3f5f\"}},\"ternary\":{\"aaxis\":{\"gridcolor\":\"white\",\"linecolor\":\"white\",\"ticks\":\"\"},\"baxis\":{\"gridcolor\":\"white\",\"linecolor\":\"white\",\"ticks\":\"\"},\"bgcolor\":\"#E5ECF6\",\"caxis\":{\"gridcolor\":\"white\",\"linecolor\":\"white\",\"ticks\":\"\"}},\"title\":{\"x\":0.05},\"xaxis\":{\"automargin\":true,\"gridcolor\":\"white\",\"linecolor\":\"white\",\"ticks\":\"\",\"title\":{\"standoff\":15},\"zerolinecolor\":\"white\",\"zerolinewidth\":2},\"yaxis\":{\"automargin\":true,\"gridcolor\":\"white\",\"linecolor\":\"white\",\"ticks\":\"\",\"title\":{\"standoff\":15},\"zerolinecolor\":\"white\",\"zerolinewidth\":2}}}},                        {\"responsive\": true}                    ).then(function(){\n",
       "                            \n",
       "var gd = document.getElementById('2ae063b5-4930-4baf-bb2a-d66133864e25');\n",
       "var x = new MutationObserver(function (mutations, observer) {{\n",
       "        var display = window.getComputedStyle(gd).display;\n",
       "        if (!display || display === 'none') {{\n",
       "            console.log([gd, 'removed!']);\n",
       "            Plotly.purge(gd);\n",
       "            observer.disconnect();\n",
       "        }}\n",
       "}});\n",
       "\n",
       "// Listen for the removal of the full notebook cells\n",
       "var notebookContainer = gd.closest('#notebook-container');\n",
       "if (notebookContainer) {{\n",
       "    x.observe(notebookContainer, {childList: true});\n",
       "}}\n",
       "\n",
       "// Listen for the clearing of the current output cell\n",
       "var outputEl = gd.closest('.output');\n",
       "if (outputEl) {{\n",
       "    x.observe(outputEl, {childList: true});\n",
       "}}\n",
       "\n",
       "                        })                };                });            </script>        </div>"
      ]
     },
     "metadata": {},
     "output_type": "display_data"
    }
   ],
   "source": [
    "import plotly.figure_factory as ff\n",
    "fig = ff.create_distplot([x1,x2,x3,x4],['Overall Age','Gold Medal','Silver Medal','Bronze Medal'],show_hist=False,show_rug=False)\n",
    "fig.show()"
   ]
  },
  {
   "cell_type": "markdown",
   "metadata": {},
   "source": [
    "### Distribution of Age wrt Sports(Gold Medalist)"
   ]
  },
  {
   "cell_type": "code",
   "execution_count": 332,
   "metadata": {
    "scrolled": true
   },
   "outputs": [
    {
     "ename": "ValueError",
     "evalue": "`dataset` input should have multiple elements.",
     "output_type": "error",
     "traceback": [
      "\u001b[1;31m---------------------------------------------------------------------------\u001b[0m",
      "\u001b[1;31mValueError\u001b[0m                                Traceback (most recent call last)",
      "\u001b[1;32m<ipython-input-332-24244ef19bd4>\u001b[0m in \u001b[0;36m<module>\u001b[1;34m\u001b[0m\n\u001b[0;32m     14\u001b[0m     \u001b[0mx\u001b[0m\u001b[1;33m.\u001b[0m\u001b[0mappend\u001b[0m\u001b[1;33m(\u001b[0m\u001b[0mtemp_df\u001b[0m\u001b[1;33m[\u001b[0m\u001b[0mtemp_df\u001b[0m\u001b[1;33m[\u001b[0m\u001b[1;34m'Medal'\u001b[0m\u001b[1;33m]\u001b[0m \u001b[1;33m==\u001b[0m \u001b[1;34m'Gold'\u001b[0m\u001b[1;33m]\u001b[0m\u001b[1;33m[\u001b[0m\u001b[1;34m'Age'\u001b[0m\u001b[1;33m]\u001b[0m\u001b[1;33m.\u001b[0m\u001b[0mdropna\u001b[0m\u001b[1;33m(\u001b[0m\u001b[1;33m)\u001b[0m\u001b[1;33m)\u001b[0m\u001b[1;33m\u001b[0m\u001b[1;33m\u001b[0m\u001b[0m\n\u001b[0;32m     15\u001b[0m     \u001b[0mname\u001b[0m\u001b[1;33m.\u001b[0m\u001b[0mappend\u001b[0m\u001b[1;33m(\u001b[0m\u001b[0msport\u001b[0m\u001b[1;33m)\u001b[0m\u001b[1;33m\u001b[0m\u001b[1;33m\u001b[0m\u001b[0m\n\u001b[1;32m---> 16\u001b[1;33m \u001b[0mfig\u001b[0m \u001b[1;33m=\u001b[0m \u001b[0mff\u001b[0m\u001b[1;33m.\u001b[0m\u001b[0mcreate_distplot\u001b[0m\u001b[1;33m(\u001b[0m\u001b[0mx\u001b[0m\u001b[1;33m,\u001b[0m \u001b[0mname\u001b[0m\u001b[1;33m,\u001b[0m \u001b[0mshow_hist\u001b[0m\u001b[1;33m=\u001b[0m\u001b[1;32mFalse\u001b[0m\u001b[1;33m,\u001b[0m \u001b[0mshow_rug\u001b[0m\u001b[1;33m=\u001b[0m\u001b[1;32mFalse\u001b[0m\u001b[1;33m)\u001b[0m\u001b[1;33m\u001b[0m\u001b[1;33m\u001b[0m\u001b[0m\n\u001b[0m",
      "\u001b[1;32m~\\anaconda3\\lib\\site-packages\\plotly\\figure_factory\\_distplot.py\u001b[0m in \u001b[0;36mcreate_distplot\u001b[1;34m(hist_data, group_labels, bin_size, curve_type, colors, rug_text, histnorm, show_hist, show_curve, show_rug)\u001b[0m\n\u001b[0;32m    216\u001b[0m             ).make_normal()\n\u001b[0;32m    217\u001b[0m         \u001b[1;32melse\u001b[0m\u001b[1;33m:\u001b[0m\u001b[1;33m\u001b[0m\u001b[1;33m\u001b[0m\u001b[0m\n\u001b[1;32m--> 218\u001b[1;33m             curve = _Distplot(\n\u001b[0m\u001b[0;32m    219\u001b[0m                 \u001b[0mhist_data\u001b[0m\u001b[1;33m,\u001b[0m\u001b[1;33m\u001b[0m\u001b[1;33m\u001b[0m\u001b[0m\n\u001b[0;32m    220\u001b[0m                 \u001b[0mhistnorm\u001b[0m\u001b[1;33m,\u001b[0m\u001b[1;33m\u001b[0m\u001b[1;33m\u001b[0m\u001b[0m\n",
      "\u001b[1;32m~\\anaconda3\\lib\\site-packages\\plotly\\figure_factory\\_distplot.py\u001b[0m in \u001b[0;36mmake_kde\u001b[1;34m(self)\u001b[0m\n\u001b[0;32m    361\u001b[0m                 \u001b[1;32mfor\u001b[0m \u001b[0mx\u001b[0m \u001b[1;32min\u001b[0m \u001b[0mrange\u001b[0m\u001b[1;33m(\u001b[0m\u001b[1;36m500\u001b[0m\u001b[1;33m)\u001b[0m\u001b[1;33m\u001b[0m\u001b[1;33m\u001b[0m\u001b[0m\n\u001b[0;32m    362\u001b[0m             ]\n\u001b[1;32m--> 363\u001b[1;33m             self.curve_y[index] = scipy_stats.gaussian_kde(self.hist_data[index])(\n\u001b[0m\u001b[0;32m    364\u001b[0m                 \u001b[0mself\u001b[0m\u001b[1;33m.\u001b[0m\u001b[0mcurve_x\u001b[0m\u001b[1;33m[\u001b[0m\u001b[0mindex\u001b[0m\u001b[1;33m]\u001b[0m\u001b[1;33m\u001b[0m\u001b[1;33m\u001b[0m\u001b[0m\n\u001b[0;32m    365\u001b[0m             )\n",
      "\u001b[1;32m~\\anaconda3\\lib\\site-packages\\scipy\\stats\\kde.py\u001b[0m in \u001b[0;36m__init__\u001b[1;34m(self, dataset, bw_method, weights)\u001b[0m\n\u001b[0;32m    194\u001b[0m         \u001b[0mself\u001b[0m\u001b[1;33m.\u001b[0m\u001b[0mdataset\u001b[0m \u001b[1;33m=\u001b[0m \u001b[0matleast_2d\u001b[0m\u001b[1;33m(\u001b[0m\u001b[0masarray\u001b[0m\u001b[1;33m(\u001b[0m\u001b[0mdataset\u001b[0m\u001b[1;33m)\u001b[0m\u001b[1;33m)\u001b[0m\u001b[1;33m\u001b[0m\u001b[1;33m\u001b[0m\u001b[0m\n\u001b[0;32m    195\u001b[0m         \u001b[1;32mif\u001b[0m \u001b[1;32mnot\u001b[0m \u001b[0mself\u001b[0m\u001b[1;33m.\u001b[0m\u001b[0mdataset\u001b[0m\u001b[1;33m.\u001b[0m\u001b[0msize\u001b[0m \u001b[1;33m>\u001b[0m \u001b[1;36m1\u001b[0m\u001b[1;33m:\u001b[0m\u001b[1;33m\u001b[0m\u001b[1;33m\u001b[0m\u001b[0m\n\u001b[1;32m--> 196\u001b[1;33m             \u001b[1;32mraise\u001b[0m \u001b[0mValueError\u001b[0m\u001b[1;33m(\u001b[0m\u001b[1;34m\"`dataset` input should have multiple elements.\"\u001b[0m\u001b[1;33m)\u001b[0m\u001b[1;33m\u001b[0m\u001b[1;33m\u001b[0m\u001b[0m\n\u001b[0m\u001b[0;32m    197\u001b[0m \u001b[1;33m\u001b[0m\u001b[0m\n\u001b[0;32m    198\u001b[0m         \u001b[0mself\u001b[0m\u001b[1;33m.\u001b[0m\u001b[0md\u001b[0m\u001b[1;33m,\u001b[0m \u001b[0mself\u001b[0m\u001b[1;33m.\u001b[0m\u001b[0mn\u001b[0m \u001b[1;33m=\u001b[0m \u001b[0mself\u001b[0m\u001b[1;33m.\u001b[0m\u001b[0mdataset\u001b[0m\u001b[1;33m.\u001b[0m\u001b[0mshape\u001b[0m\u001b[1;33m\u001b[0m\u001b[1;33m\u001b[0m\u001b[0m\n",
      "\u001b[1;31mValueError\u001b[0m: `dataset` input should have multiple elements."
     ]
    }
   ],
   "source": [
    "x = []\n",
    "name = []\n",
    "famous_sports = ['Basketball', 'Judo', 'Football', 'Tug-Of-War', 'Athletics',\n",
    "                 'Swimming', 'Badminton', 'Sailing', 'Gymnastics',\n",
    "                 'Art Competitions', 'Handball', 'Weightlifting', 'Wrestling',\n",
    "                 'Water Polo', 'Hockey', 'Rowing', 'Fencing',\n",
    "                 'Shooting', 'Boxing', 'Taekwondo', 'Cycling', 'Diving', 'Canoeing',\n",
    "                 'Tennis', 'Golf', 'Softball', 'Archery',\n",
    "                 'Volleyball', 'Synchronized Swimming', 'Table Tennis', 'Baseball',\n",
    "                 'Rhythmic Gymnastics', 'Rugby Sevens',\n",
    "                 'Beach Volleyball', 'Triathlon', 'Rugby', 'Polo', 'Ice Hockey']\n",
    "for sport in famous_sports:\n",
    "    temp_df = athlete_data[athlete_data['Sport'] == sport]\n",
    "    x.append(temp_df[temp_df['Medal'] == 'Gold']['Age'].dropna())\n",
    "    name.append(sport)`\n",
    "fig = ff.create_distplot(x, name, show_hist=False, show_rug=False)"
   ]
  },
  {
   "cell_type": "markdown",
   "metadata": {},
   "source": [
    "### asdsds"
   ]
  },
  {
   "cell_type": "code",
   "execution_count": 333,
   "metadata": {},
   "outputs": [
    {
     "data": {
      "text/html": [
       "<div>\n",
       "<style scoped>\n",
       "    .dataframe tbody tr th:only-of-type {\n",
       "        vertical-align: middle;\n",
       "    }\n",
       "\n",
       "    .dataframe tbody tr th {\n",
       "        vertical-align: top;\n",
       "    }\n",
       "\n",
       "    .dataframe thead th {\n",
       "        text-align: right;\n",
       "    }\n",
       "</style>\n",
       "<table border=\"1\" class=\"dataframe\">\n",
       "  <thead>\n",
       "    <tr style=\"text-align: right;\">\n",
       "      <th></th>\n",
       "      <th>ID</th>\n",
       "      <th>Name</th>\n",
       "      <th>Sex</th>\n",
       "      <th>Age</th>\n",
       "      <th>Height</th>\n",
       "      <th>Weight</th>\n",
       "      <th>Team</th>\n",
       "      <th>NOC</th>\n",
       "      <th>Games</th>\n",
       "      <th>Year</th>\n",
       "      <th>Season</th>\n",
       "      <th>City</th>\n",
       "      <th>Sport</th>\n",
       "      <th>Event</th>\n",
       "      <th>Medal</th>\n",
       "      <th>region</th>\n",
       "      <th>notes</th>\n",
       "      <th>Bronze</th>\n",
       "      <th>Gold</th>\n",
       "      <th>Silver</th>\n",
       "    </tr>\n",
       "  </thead>\n",
       "  <tbody>\n",
       "    <tr>\n",
       "      <th>0</th>\n",
       "      <td>1</td>\n",
       "      <td>A Dijiang</td>\n",
       "      <td>M</td>\n",
       "      <td>24.0</td>\n",
       "      <td>180.0</td>\n",
       "      <td>80.0</td>\n",
       "      <td>China</td>\n",
       "      <td>CHN</td>\n",
       "      <td>1992 Summer</td>\n",
       "      <td>1992</td>\n",
       "      <td>Summer</td>\n",
       "      <td>Barcelona</td>\n",
       "      <td>Basketball</td>\n",
       "      <td>Basketball Men's Basketball</td>\n",
       "      <td>NaN</td>\n",
       "      <td>China</td>\n",
       "      <td>NaN</td>\n",
       "      <td>0</td>\n",
       "      <td>0</td>\n",
       "      <td>0</td>\n",
       "    </tr>\n",
       "    <tr>\n",
       "      <th>1</th>\n",
       "      <td>2</td>\n",
       "      <td>A Lamusi</td>\n",
       "      <td>M</td>\n",
       "      <td>23.0</td>\n",
       "      <td>170.0</td>\n",
       "      <td>60.0</td>\n",
       "      <td>China</td>\n",
       "      <td>CHN</td>\n",
       "      <td>2012 Summer</td>\n",
       "      <td>2012</td>\n",
       "      <td>Summer</td>\n",
       "      <td>London</td>\n",
       "      <td>Judo</td>\n",
       "      <td>Judo Men's Extra-Lightweight</td>\n",
       "      <td>NaN</td>\n",
       "      <td>China</td>\n",
       "      <td>NaN</td>\n",
       "      <td>0</td>\n",
       "      <td>0</td>\n",
       "      <td>0</td>\n",
       "    </tr>\n",
       "    <tr>\n",
       "      <th>2</th>\n",
       "      <td>3</td>\n",
       "      <td>Gunnar Nielsen Aaby</td>\n",
       "      <td>M</td>\n",
       "      <td>24.0</td>\n",
       "      <td>NaN</td>\n",
       "      <td>NaN</td>\n",
       "      <td>Denmark</td>\n",
       "      <td>DEN</td>\n",
       "      <td>1920 Summer</td>\n",
       "      <td>1920</td>\n",
       "      <td>Summer</td>\n",
       "      <td>Antwerpen</td>\n",
       "      <td>Football</td>\n",
       "      <td>Football Men's Football</td>\n",
       "      <td>NaN</td>\n",
       "      <td>Denmark</td>\n",
       "      <td>NaN</td>\n",
       "      <td>0</td>\n",
       "      <td>0</td>\n",
       "      <td>0</td>\n",
       "    </tr>\n",
       "    <tr>\n",
       "      <th>3</th>\n",
       "      <td>4</td>\n",
       "      <td>Edgar Lindenau Aabye</td>\n",
       "      <td>M</td>\n",
       "      <td>34.0</td>\n",
       "      <td>NaN</td>\n",
       "      <td>NaN</td>\n",
       "      <td>Denmark/Sweden</td>\n",
       "      <td>DEN</td>\n",
       "      <td>1900 Summer</td>\n",
       "      <td>1900</td>\n",
       "      <td>Summer</td>\n",
       "      <td>Paris</td>\n",
       "      <td>Tug-Of-War</td>\n",
       "      <td>Tug-Of-War Men's Tug-Of-War</td>\n",
       "      <td>Gold</td>\n",
       "      <td>Denmark</td>\n",
       "      <td>NaN</td>\n",
       "      <td>0</td>\n",
       "      <td>1</td>\n",
       "      <td>0</td>\n",
       "    </tr>\n",
       "    <tr>\n",
       "      <th>4</th>\n",
       "      <td>8</td>\n",
       "      <td>Cornelia \"Cor\" Aalten (-Strannood)</td>\n",
       "      <td>F</td>\n",
       "      <td>18.0</td>\n",
       "      <td>168.0</td>\n",
       "      <td>NaN</td>\n",
       "      <td>Netherlands</td>\n",
       "      <td>NED</td>\n",
       "      <td>1932 Summer</td>\n",
       "      <td>1932</td>\n",
       "      <td>Summer</td>\n",
       "      <td>Los Angeles</td>\n",
       "      <td>Athletics</td>\n",
       "      <td>Athletics Women's 100 metres</td>\n",
       "      <td>NaN</td>\n",
       "      <td>Netherlands</td>\n",
       "      <td>NaN</td>\n",
       "      <td>0</td>\n",
       "      <td>0</td>\n",
       "      <td>0</td>\n",
       "    </tr>\n",
       "    <tr>\n",
       "      <th>...</th>\n",
       "      <td>...</td>\n",
       "      <td>...</td>\n",
       "      <td>...</td>\n",
       "      <td>...</td>\n",
       "      <td>...</td>\n",
       "      <td>...</td>\n",
       "      <td>...</td>\n",
       "      <td>...</td>\n",
       "      <td>...</td>\n",
       "      <td>...</td>\n",
       "      <td>...</td>\n",
       "      <td>...</td>\n",
       "      <td>...</td>\n",
       "      <td>...</td>\n",
       "      <td>...</td>\n",
       "      <td>...</td>\n",
       "      <td>...</td>\n",
       "      <td>...</td>\n",
       "      <td>...</td>\n",
       "      <td>...</td>\n",
       "    </tr>\n",
       "    <tr>\n",
       "      <th>222517</th>\n",
       "      <td>135545</td>\n",
       "      <td>Henk Jan Zwolle</td>\n",
       "      <td>M</td>\n",
       "      <td>23.0</td>\n",
       "      <td>197.0</td>\n",
       "      <td>93.0</td>\n",
       "      <td>Netherlands</td>\n",
       "      <td>NED</td>\n",
       "      <td>1988 Summer</td>\n",
       "      <td>1988</td>\n",
       "      <td>Summer</td>\n",
       "      <td>Seoul</td>\n",
       "      <td>Rowing</td>\n",
       "      <td>Rowing Men's Single Sculls</td>\n",
       "      <td>NaN</td>\n",
       "      <td>Netherlands</td>\n",
       "      <td>NaN</td>\n",
       "      <td>0</td>\n",
       "      <td>0</td>\n",
       "      <td>0</td>\n",
       "    </tr>\n",
       "    <tr>\n",
       "      <th>222520</th>\n",
       "      <td>135547</td>\n",
       "      <td>Viktoriya Viktorovna Zyabkina</td>\n",
       "      <td>F</td>\n",
       "      <td>19.0</td>\n",
       "      <td>174.0</td>\n",
       "      <td>62.0</td>\n",
       "      <td>Kazakhstan</td>\n",
       "      <td>KAZ</td>\n",
       "      <td>2012 Summer</td>\n",
       "      <td>2012</td>\n",
       "      <td>Summer</td>\n",
       "      <td>London</td>\n",
       "      <td>Athletics</td>\n",
       "      <td>Athletics Women's 200 metres</td>\n",
       "      <td>NaN</td>\n",
       "      <td>Kazakhstan</td>\n",
       "      <td>NaN</td>\n",
       "      <td>0</td>\n",
       "      <td>0</td>\n",
       "      <td>0</td>\n",
       "    </tr>\n",
       "    <tr>\n",
       "      <th>222526</th>\n",
       "      <td>135553</td>\n",
       "      <td>Galina Ivanovna Zybina (-Fyodorova)</td>\n",
       "      <td>F</td>\n",
       "      <td>21.0</td>\n",
       "      <td>168.0</td>\n",
       "      <td>80.0</td>\n",
       "      <td>Soviet Union</td>\n",
       "      <td>URS</td>\n",
       "      <td>1952 Summer</td>\n",
       "      <td>1952</td>\n",
       "      <td>Summer</td>\n",
       "      <td>Helsinki</td>\n",
       "      <td>Athletics</td>\n",
       "      <td>Athletics Women's Shot Put</td>\n",
       "      <td>Gold</td>\n",
       "      <td>Russia</td>\n",
       "      <td>NaN</td>\n",
       "      <td>0</td>\n",
       "      <td>1</td>\n",
       "      <td>0</td>\n",
       "    </tr>\n",
       "    <tr>\n",
       "      <th>222536</th>\n",
       "      <td>135556</td>\n",
       "      <td>Bogusaw Stanisaw Zychowicz</td>\n",
       "      <td>M</td>\n",
       "      <td>19.0</td>\n",
       "      <td>189.0</td>\n",
       "      <td>80.0</td>\n",
       "      <td>Poland</td>\n",
       "      <td>POL</td>\n",
       "      <td>1980 Summer</td>\n",
       "      <td>1980</td>\n",
       "      <td>Summer</td>\n",
       "      <td>Moskva</td>\n",
       "      <td>Swimming</td>\n",
       "      <td>Swimming Men's 100 metres Butterfly</td>\n",
       "      <td>NaN</td>\n",
       "      <td>Poland</td>\n",
       "      <td>NaN</td>\n",
       "      <td>0</td>\n",
       "      <td>0</td>\n",
       "      <td>0</td>\n",
       "    </tr>\n",
       "    <tr>\n",
       "      <th>222541</th>\n",
       "      <td>135560</td>\n",
       "      <td>Stavroula Zygouri</td>\n",
       "      <td>F</td>\n",
       "      <td>36.0</td>\n",
       "      <td>171.0</td>\n",
       "      <td>63.0</td>\n",
       "      <td>Greece</td>\n",
       "      <td>GRE</td>\n",
       "      <td>2004 Summer</td>\n",
       "      <td>2004</td>\n",
       "      <td>Summer</td>\n",
       "      <td>Athina</td>\n",
       "      <td>Wrestling</td>\n",
       "      <td>Wrestling Women's Middleweight, Freestyle</td>\n",
       "      <td>NaN</td>\n",
       "      <td>Greece</td>\n",
       "      <td>NaN</td>\n",
       "      <td>0</td>\n",
       "      <td>0</td>\n",
       "      <td>0</td>\n",
       "    </tr>\n",
       "  </tbody>\n",
       "</table>\n",
       "<p>63806 rows × 20 columns</p>\n",
       "</div>"
      ],
      "text/plain": [
       "            ID                                 Name Sex   Age  Height  Weight  \\\n",
       "0            1                            A Dijiang   M  24.0   180.0    80.0   \n",
       "1            2                             A Lamusi   M  23.0   170.0    60.0   \n",
       "2            3                  Gunnar Nielsen Aaby   M  24.0     NaN     NaN   \n",
       "3            4                 Edgar Lindenau Aabye   M  34.0     NaN     NaN   \n",
       "4            8   Cornelia \"Cor\" Aalten (-Strannood)   F  18.0   168.0     NaN   \n",
       "...        ...                                  ...  ..   ...     ...     ...   \n",
       "222517  135545                      Henk Jan Zwolle   M  23.0   197.0    93.0   \n",
       "222520  135547        Viktoriya Viktorovna Zyabkina   F  19.0   174.0    62.0   \n",
       "222526  135553  Galina Ivanovna Zybina (-Fyodorova)   F  21.0   168.0    80.0   \n",
       "222536  135556           Bogusaw Stanisaw Zychowicz   M  19.0   189.0    80.0   \n",
       "222541  135560                    Stavroula Zygouri   F  36.0   171.0    63.0   \n",
       "\n",
       "                  Team  NOC        Games  Year  Season         City  \\\n",
       "0                China  CHN  1992 Summer  1992  Summer    Barcelona   \n",
       "1                China  CHN  2012 Summer  2012  Summer       London   \n",
       "2              Denmark  DEN  1920 Summer  1920  Summer    Antwerpen   \n",
       "3       Denmark/Sweden  DEN  1900 Summer  1900  Summer        Paris   \n",
       "4          Netherlands  NED  1932 Summer  1932  Summer  Los Angeles   \n",
       "...                ...  ...          ...   ...     ...          ...   \n",
       "222517     Netherlands  NED  1988 Summer  1988  Summer        Seoul   \n",
       "222520      Kazakhstan  KAZ  2012 Summer  2012  Summer       London   \n",
       "222526    Soviet Union  URS  1952 Summer  1952  Summer     Helsinki   \n",
       "222536          Poland  POL  1980 Summer  1980  Summer       Moskva   \n",
       "222541          Greece  GRE  2004 Summer  2004  Summer       Athina   \n",
       "\n",
       "             Sport                                      Event Medal  \\\n",
       "0       Basketball                Basketball Men's Basketball   NaN   \n",
       "1             Judo               Judo Men's Extra-Lightweight   NaN   \n",
       "2         Football                    Football Men's Football   NaN   \n",
       "3       Tug-Of-War                Tug-Of-War Men's Tug-Of-War  Gold   \n",
       "4        Athletics               Athletics Women's 100 metres   NaN   \n",
       "...            ...                                        ...   ...   \n",
       "222517      Rowing                 Rowing Men's Single Sculls   NaN   \n",
       "222520   Athletics               Athletics Women's 200 metres   NaN   \n",
       "222526   Athletics                 Athletics Women's Shot Put  Gold   \n",
       "222536    Swimming        Swimming Men's 100 metres Butterfly   NaN   \n",
       "222541   Wrestling  Wrestling Women's Middleweight, Freestyle   NaN   \n",
       "\n",
       "             region notes  Bronze  Gold  Silver  \n",
       "0             China   NaN       0     0       0  \n",
       "1             China   NaN       0     0       0  \n",
       "2           Denmark   NaN       0     0       0  \n",
       "3           Denmark   NaN       0     1       0  \n",
       "4       Netherlands   NaN       0     0       0  \n",
       "...             ...   ...     ...   ...     ...  \n",
       "222517  Netherlands   NaN       0     0       0  \n",
       "222520   Kazakhstan   NaN       0     0       0  \n",
       "222526       Russia   NaN       0     1       0  \n",
       "222536       Poland   NaN       0     0       0  \n",
       "222541       Greece   NaN       0     0       0  \n",
       "\n",
       "[63806 rows x 20 columns]"
      ]
     },
     "execution_count": 333,
     "metadata": {},
     "output_type": "execute_result"
    }
   ],
   "source": [
    "athlete_data"
   ]
  },
  {
   "cell_type": "code",
   "execution_count": 335,
   "metadata": {},
   "outputs": [],
   "source": [
    "athlete_data['Medal'].fillna('No Medals',inplace=True)"
   ]
  },
  {
   "cell_type": "code",
   "execution_count": 341,
   "metadata": {},
   "outputs": [
    {
     "name": "stderr",
     "output_type": "stream",
     "text": [
      "C:\\Users\\Ashu\\anaconda3\\lib\\site-packages\\seaborn\\_decorators.py:36: FutureWarning:\n",
      "\n",
      "Pass the following variables as keyword args: x, y. From version 0.12, the only valid positional argument will be `data`, and passing other arguments without an explicit keyword will result in an error or misinterpretation.\n",
      "\n"
     ]
    },
    {
     "data": {
      "text/plain": [
       "<AxesSubplot:xlabel='Weight', ylabel='Height'>"
      ]
     },
     "execution_count": 341,
     "metadata": {},
     "output_type": "execute_result"
    },
    {
     "data": {
      "image/png": "[encoded data removed]",
      "text/plain": [
       "<Figure size 1440x1440 with 1 Axes>"
      ]
     },
     "metadata": {
      "needs_background": "light"
     },
     "output_type": "display_data"
    }
   ],
   "source": [
    "plt.figure(figsize=(20,20))\n",
    "temp_df = athlete_data[athlete_data['Sport'] == 'Badminton']\n",
    "sns.scatterplot(temp_df['Weight'],temp_df['Height'],hue=temp_df['Medal'],style=temp_df['Sex'],s=100)"
   ]
  },
  {
   "cell_type": "markdown",
   "metadata": {},
   "source": [
    "### Men Vs Women Participation Over the Years"
   ]
  },
  {
   "cell_type": "code",
   "execution_count": 347,
   "metadata": {},
   "outputs": [],
   "source": [
    "men = athlete_data[athlete_data['Sex'] == 'M'].groupby('Year').count()['Sex'].reset_index()\n",
    "women = athlete_data[athlete_data['Sex'] == 'F'].groupby('Year').count()['Sex'].reset_index()"
   ]
  },
  {
   "cell_type": "code",
   "execution_count": 352,
   "metadata": {
    "scrolled": true
   },
   "outputs": [
    {
     "data": {
      "text/html": [
       "<div>\n",
       "<style scoped>\n",
       "    .dataframe tbody tr th:only-of-type {\n",
       "        vertical-align: middle;\n",
       "    }\n",
       "\n",
       "    .dataframe tbody tr th {\n",
       "        vertical-align: top;\n",
       "    }\n",
       "\n",
       "    .dataframe thead th {\n",
       "        text-align: right;\n",
       "    }\n",
       "</style>\n",
       "<table border=\"1\" class=\"dataframe\">\n",
       "  <thead>\n",
       "    <tr style=\"text-align: right;\">\n",
       "      <th></th>\n",
       "      <th>Year</th>\n",
       "      <th>Men</th>\n",
       "      <th>Female</th>\n",
       "    </tr>\n",
       "  </thead>\n",
       "  <tbody>\n",
       "    <tr>\n",
       "      <th>0</th>\n",
       "      <td>1900</td>\n",
       "      <td>401</td>\n",
       "      <td>13</td>\n",
       "    </tr>\n",
       "    <tr>\n",
       "      <th>1</th>\n",
       "      <td>1904</td>\n",
       "      <td>250</td>\n",
       "      <td>4</td>\n",
       "    </tr>\n",
       "    <tr>\n",
       "      <th>2</th>\n",
       "      <td>1906</td>\n",
       "      <td>332</td>\n",
       "      <td>5</td>\n",
       "    </tr>\n",
       "    <tr>\n",
       "      <th>3</th>\n",
       "      <td>1908</td>\n",
       "      <td>556</td>\n",
       "      <td>16</td>\n",
       "    </tr>\n",
       "    <tr>\n",
       "      <th>4</th>\n",
       "      <td>1912</td>\n",
       "      <td>657</td>\n",
       "      <td>27</td>\n",
       "    </tr>\n",
       "    <tr>\n",
       "      <th>5</th>\n",
       "      <td>1920</td>\n",
       "      <td>928</td>\n",
       "      <td>50</td>\n",
       "    </tr>\n",
       "    <tr>\n",
       "      <th>6</th>\n",
       "      <td>1924</td>\n",
       "      <td>1161</td>\n",
       "      <td>84</td>\n",
       "    </tr>\n",
       "    <tr>\n",
       "      <th>7</th>\n",
       "      <td>1928</td>\n",
       "      <td>1103</td>\n",
       "      <td>134</td>\n",
       "    </tr>\n",
       "    <tr>\n",
       "      <th>8</th>\n",
       "      <td>1932</td>\n",
       "      <td>696</td>\n",
       "      <td>81</td>\n",
       "    </tr>\n",
       "    <tr>\n",
       "      <th>9</th>\n",
       "      <td>1936</td>\n",
       "      <td>1535</td>\n",
       "      <td>165</td>\n",
       "    </tr>\n",
       "    <tr>\n",
       "      <th>10</th>\n",
       "      <td>1948</td>\n",
       "      <td>1709</td>\n",
       "      <td>216</td>\n",
       "    </tr>\n",
       "    <tr>\n",
       "      <th>11</th>\n",
       "      <td>1952</td>\n",
       "      <td>1736</td>\n",
       "      <td>222</td>\n",
       "    </tr>\n",
       "    <tr>\n",
       "      <th>12</th>\n",
       "      <td>1956</td>\n",
       "      <td>1184</td>\n",
       "      <td>187</td>\n",
       "    </tr>\n",
       "    <tr>\n",
       "      <th>13</th>\n",
       "      <td>1960</td>\n",
       "      <td>2033</td>\n",
       "      <td>275</td>\n",
       "    </tr>\n",
       "    <tr>\n",
       "      <th>14</th>\n",
       "      <td>1964</td>\n",
       "      <td>1770</td>\n",
       "      <td>298</td>\n",
       "    </tr>\n",
       "    <tr>\n",
       "      <th>15</th>\n",
       "      <td>1968</td>\n",
       "      <td>1880</td>\n",
       "      <td>361</td>\n",
       "    </tr>\n",
       "    <tr>\n",
       "      <th>16</th>\n",
       "      <td>1972</td>\n",
       "      <td>2411</td>\n",
       "      <td>458</td>\n",
       "    </tr>\n",
       "    <tr>\n",
       "      <th>17</th>\n",
       "      <td>1976</td>\n",
       "      <td>1930</td>\n",
       "      <td>462</td>\n",
       "    </tr>\n",
       "    <tr>\n",
       "      <th>18</th>\n",
       "      <td>1980</td>\n",
       "      <td>1795</td>\n",
       "      <td>403</td>\n",
       "    </tr>\n",
       "    <tr>\n",
       "      <th>19</th>\n",
       "      <td>1984</td>\n",
       "      <td>2496</td>\n",
       "      <td>669</td>\n",
       "    </tr>\n",
       "    <tr>\n",
       "      <th>20</th>\n",
       "      <td>1988</td>\n",
       "      <td>2851</td>\n",
       "      <td>908</td>\n",
       "    </tr>\n",
       "    <tr>\n",
       "      <th>21</th>\n",
       "      <td>1992</td>\n",
       "      <td>2808</td>\n",
       "      <td>1226</td>\n",
       "    </tr>\n",
       "    <tr>\n",
       "      <th>22</th>\n",
       "      <td>1996</td>\n",
       "      <td>2955</td>\n",
       "      <td>1322</td>\n",
       "    </tr>\n",
       "    <tr>\n",
       "      <th>23</th>\n",
       "      <td>2000</td>\n",
       "      <td>2652</td>\n",
       "      <td>1631</td>\n",
       "    </tr>\n",
       "    <tr>\n",
       "      <th>24</th>\n",
       "      <td>2004</td>\n",
       "      <td>2421</td>\n",
       "      <td>1606</td>\n",
       "    </tr>\n",
       "    <tr>\n",
       "      <th>25</th>\n",
       "      <td>2008</td>\n",
       "      <td>2480</td>\n",
       "      <td>1725</td>\n",
       "    </tr>\n",
       "    <tr>\n",
       "      <th>26</th>\n",
       "      <td>2012</td>\n",
       "      <td>2390</td>\n",
       "      <td>1783</td>\n",
       "    </tr>\n",
       "    <tr>\n",
       "      <th>27</th>\n",
       "      <td>2016</td>\n",
       "      <td>2407</td>\n",
       "      <td>1826</td>\n",
       "    </tr>\n",
       "  </tbody>\n",
       "</table>\n",
       "</div>"
      ],
      "text/plain": [
       "    Year   Men  Female\n",
       "0   1900   401      13\n",
       "1   1904   250       4\n",
       "2   1906   332       5\n",
       "3   1908   556      16\n",
       "4   1912   657      27\n",
       "5   1920   928      50\n",
       "6   1924  1161      84\n",
       "7   1928  1103     134\n",
       "8   1932   696      81\n",
       "9   1936  1535     165\n",
       "10  1948  1709     216\n",
       "11  1952  1736     222\n",
       "12  1956  1184     187\n",
       "13  1960  2033     275\n",
       "14  1964  1770     298\n",
       "15  1968  1880     361\n",
       "16  1972  2411     458\n",
       "17  1976  1930     462\n",
       "18  1980  1795     403\n",
       "19  1984  2496     669\n",
       "20  1988  2851     908\n",
       "21  1992  2808    1226\n",
       "22  1996  2955    1322\n",
       "23  2000  2652    1631\n",
       "24  2004  2421    1606\n",
       "25  2008  2480    1725\n",
       "26  2012  2390    1783\n",
       "27  2016  2407    1826"
      ]
     },
     "execution_count": 352,
     "metadata": {},
     "output_type": "execute_result"
    }
   ],
   "source": [
    "final = men.merge(women,on = 'Year')\n",
    "final.rename(columns = {'Sex_x':'Men','Sex_y':'Female'},inplace= True)\n",
    "final"
   ]
  },
  {
   "cell_type": "code",
   "execution_count": 354,
   "metadata": {},
   "outputs": [
    {
     "data": {
      "application/vnd.plotly.v1+json": {
       "config": {
        "plotlyServerURL": "https://plot.ly"
       },
       "data": [
        {
         "hovertemplate": "variable=Men<br>Year=%{x}<br>value=%{y}<extra></extra>",
         "legendgroup": "Men",
         "line": {
          "color": "#636efa",
          "dash": "solid"
         },
         "marker": {
          "symbol": "circle"
         },
         "mode": "lines",
         "name": "Men",
         "orientation": "v",
         "showlegend": true,
         "type": "scatter",
         "x": [
          1900,
          1904,
          1906,
          1908,
          1912,
          1920,
          1924,
          1928,
          1932,
          1936,
          1948,
          1952,
          1956,
          1960,
          1964,
          1968,
          1972,
          1976,
          1980,
          1984,
          1988,
          1992,
          1996,
          2000,
          2004,
          2008,
          2012,
          2016
         ],
         "xaxis": "x",
         "y": [
          401,
          250,
          332,
          556,
          657,
          928,
          1161,
          1103,
          696,
          1535,
          1709,
          1736,
          1184,
          2033,
          1770,
          1880,
          2411,
          1930,
          1795,
          2496,
          2851,
          2808,
          2955,
          2652,
          2421,
          2480,
          2390,
          2407
         ],
         "yaxis": "y"
        },
        {
         "hovertemplate": "variable=Female<br>Year=%{x}<br>value=%{y}<extra></extra>",
         "legendgroup": "Female",
         "line": {
          "color": "#EF553B",
          "dash": "solid"
         },
         "marker": {
          "symbol": "circle"
         },
         "mode": "lines",
         "name": "Female",
         "orientation": "v",
         "showlegend": true,
         "type": "scatter",
         "x": [
          1900,
          1904,
          1906,
          1908,
          1912,
          1920,
          1924,
          1928,
          1932,
          1936,
          1948,
          1952,
          1956,
          1960,
          1964,
          1968,
          1972,
          1976,
          1980,
          1984,
          1988,
          1992,
          1996,
          2000,
          2004,
          2008,
          2012,
          2016
         ],
         "xaxis": "x",
         "y": [
          13,
          4,
          5,
          16,
          27,
          50,
          84,
          134,
          81,
          165,
          216,
          222,
          187,
          275,
          298,
          361,
          458,
          462,
          403,
          669,
          908,
          1226,
          1322,
          1631,
          1606,
          1725,
          1783,
          1826
         ],
         "yaxis": "y"
        }
       ],
       "layout": {
        "legend": {
         "title": {
          "text": "variable"
         },
         "tracegroupgap": 0
        },
        "margin": {
         "t": 60
        },
        "template": {
         "data": {
          "bar": [
           {
            "error_x": {
             "color": "#2a3f5f"
            },
            "error_y": {
             "color": "#2a3f5f"
            },
            "marker": {
             "line": {
              "color": "#E5ECF6",
              "width": 0.5
             },
             "pattern": {
              "fillmode": "overlay",
              "size": 10,
              "solidity": 0.2
             }
            },
            "type": "bar"
           }
          ],
          "barpolar": [
           {
            "marker": {
             "line": {
              "color": "#E5ECF6",
              "width": 0.5
             },
             "pattern": {
              "fillmode": "overlay",
              "size": 10,
              "solidity": 0.2
             }
            },
            "type": "barpolar"
           }
          ],
          "carpet": [
           {
            "aaxis": {
             "endlinecolor": "#2a3f5f",
             "gridcolor": "white",
             "linecolor": "white",
             "minorgridcolor": "white",
             "startlinecolor": "#2a3f5f"
            },
            "baxis": {
             "endlinecolor": "#2a3f5f",
             "gridcolor": "white",
             "linecolor": "white",
             "minorgridcolor": "white",
             "startlinecolor": "#2a3f5f"
            },
            "type": "carpet"
           }
          ],
          "choropleth": [
           {
            "colorbar": {
             "outlinewidth": 0,
             "ticks": ""
            },
            "type": "choropleth"
           }
          ],
          "contour": [
           {
            "colorbar": {
             "outlinewidth": 0,
             "ticks": ""
            },
            "colorscale": [
             [
              0,
              "#0d0887"
             ],
             [
              0.1111111111111111,
              "#46039f"
             ],
             [
              0.2222222222222222,
              "#7201a8"
             ],
             [
              0.3333333333333333,
              "#9c179e"
             ],
             [
              0.4444444444444444,
              "#bd3786"
             ],
             [
              0.5555555555555556,
              "#d8576b"
             ],
             [
              0.6666666666666666,
              "#ed7953"
             ],
             [
              0.7777777777777778,
              "#fb9f3a"
             ],
             [
              0.8888888888888888,
              "#fdca26"
             ],
             [
              1,
              "#f0f921"
             ]
            ],
            "type": "contour"
           }
          ],
          "contourcarpet": [
           {
            "colorbar": {
             "outlinewidth": 0,
             "ticks": ""
            },
            "type": "contourcarpet"
           }
          ],
          "heatmap": [
           {
            "colorbar": {
             "outlinewidth": 0,
             "ticks": ""
            },
            "colorscale": [
             [
              0,
              "#0d0887"
             ],
             [
              0.1111111111111111,
              "#46039f"
             ],
             [
              0.2222222222222222,
              "#7201a8"
             ],
             [
              0.3333333333333333,
              "#9c179e"
             ],
             [
              0.4444444444444444,
              "#bd3786"
             ],
             [
              0.5555555555555556,
              "#d8576b"
             ],
             [
              0.6666666666666666,
              "#ed7953"
             ],
             [
              0.7777777777777778,
              "#fb9f3a"
             ],
             [
              0.8888888888888888,
              "#fdca26"
             ],
             [
              1,
              "#f0f921"
             ]
            ],
            "type": "heatmap"
           }
          ],
          "heatmapgl": [
           {
            "colorbar": {
             "outlinewidth": 0,
             "ticks": ""
            },
            "colorscale": [
             [
              0,
              "#0d0887"
             ],
             [
              0.1111111111111111,
              "#46039f"
             ],
             [
              0.2222222222222222,
              "#7201a8"
             ],
             [
              0.3333333333333333,
              "#9c179e"
             ],
             [
              0.4444444444444444,
              "#bd3786"
             ],
             [
              0.5555555555555556,
              "#d8576b"
             ],
             [
              0.6666666666666666,
              "#ed7953"
             ],
             [
              0.7777777777777778,
              "#fb9f3a"
             ],
             [
              0.8888888888888888,
              "#fdca26"
             ],
             [
              1,
              "#f0f921"
             ]
            ],
            "type": "heatmapgl"
           }
          ],
          "histogram": [
           {
            "marker": {
             "pattern": {
              "fillmode": "overlay",
              "size": 10,
              "solidity": 0.2
             }
            },
            "type": "histogram"
           }
          ],
          "histogram2d": [
           {
            "colorbar": {
             "outlinewidth": 0,
             "ticks": ""
            },
            "colorscale": [
             [
              0,
              "#0d0887"
             ],
             [
              0.1111111111111111,
              "#46039f"
             ],
             [
              0.2222222222222222,
              "#7201a8"
             ],
             [
              0.3333333333333333,
              "#9c179e"
             ],
             [
              0.4444444444444444,
              "#bd3786"
             ],
             [
              0.5555555555555556,
              "#d8576b"
             ],
             [
              0.6666666666666666,
              "#ed7953"
             ],
             [
              0.7777777777777778,
              "#fb9f3a"
             ],
             [
              0.8888888888888888,
              "#fdca26"
             ],
             [
              1,
              "#f0f921"
             ]
            ],
            "type": "histogram2d"
           }
          ],
          "histogram2dcontour": [
           {
            "colorbar": {
             "outlinewidth": 0,
             "ticks": ""
            },
            "colorscale": [
             [
              0,
              "#0d0887"
             ],
             [
              0.1111111111111111,
              "#46039f"
             ],
             [
              0.2222222222222222,
              "#7201a8"
             ],
             [
              0.3333333333333333,
              "#9c179e"
             ],
             [
              0.4444444444444444,
              "#bd3786"
             ],
             [
              0.5555555555555556,
              "#d8576b"
             ],
             [
              0.6666666666666666,
              "#ed7953"
             ],
             [
              0.7777777777777778,
              "#fb9f3a"
             ],
             [
              0.8888888888888888,
              "#fdca26"
             ],
             [
              1,
              "#f0f921"
             ]
            ],
            "type": "histogram2dcontour"
           }
          ],
          "mesh3d": [
           {
            "colorbar": {
             "outlinewidth": 0,
             "ticks": ""
            },
            "type": "mesh3d"
           }
          ],
          "parcoords": [
           {
            "line": {
             "colorbar": {
              "outlinewidth": 0,
              "ticks": ""
             }
            },
            "type": "parcoords"
           }
          ],
          "pie": [
           {
            "automargin": true,
            "type": "pie"
           }
          ],
          "scatter": [
           {
            "marker": {
             "colorbar": {
              "outlinewidth": 0,
              "ticks": ""
             }
            },
            "type": "scatter"
           }
          ],
          "scatter3d": [
           {
            "line": {
             "colorbar": {
              "outlinewidth": 0,
              "ticks": ""
             }
            },
            "marker": {
             "colorbar": {
              "outlinewidth": 0,
              "ticks": ""
             }
            },
            "type": "scatter3d"
           }
          ],
          "scattercarpet": [
           {
            "marker": {
             "colorbar": {
              "outlinewidth": 0,
              "ticks": ""
             }
            },
            "type": "scattercarpet"
           }
          ],
          "scattergeo": [
           {
            "marker": {
             "colorbar": {
              "outlinewidth": 0,
              "ticks": ""
             }
            },
            "type": "scattergeo"
           }
          ],
          "scattergl": [
           {
            "marker": {
             "colorbar": {
              "outlinewidth": 0,
              "ticks": ""
             }
            },
            "type": "scattergl"
           }
          ],
          "scattermapbox": [
           {
            "marker": {
             "colorbar": {
              "outlinewidth": 0,
              "ticks": ""
             }
            },
            "type": "scattermapbox"
           }
          ],
          "scatterpolar": [
           {
            "marker": {
             "colorbar": {
              "outlinewidth": 0,
              "ticks": ""
             }
            },
            "type": "scatterpolar"
           }
          ],
          "scatterpolargl": [
           {
            "marker": {
             "colorbar": {
              "outlinewidth": 0,
              "ticks": ""
             }
            },
            "type": "scatterpolargl"
           }
          ],
          "scatterternary": [
           {
            "marker": {
             "colorbar": {
              "outlinewidth": 0,
              "ticks": ""
             }
            },
            "type": "scatterternary"
           }
          ],
          "surface": [
           {
            "colorbar": {
             "outlinewidth": 0,
             "ticks": ""
            },
            "colorscale": [
             [
              0,
              "#0d0887"
             ],
             [
              0.1111111111111111,
              "#46039f"
             ],
             [
              0.2222222222222222,
              "#7201a8"
             ],
             [
              0.3333333333333333,
              "#9c179e"
             ],
             [
              0.4444444444444444,
              "#bd3786"
             ],
             [
              0.5555555555555556,
              "#d8576b"
             ],
             [
              0.6666666666666666,
              "#ed7953"
             ],
             [
              0.7777777777777778,
              "#fb9f3a"
             ],
             [
              0.8888888888888888,
              "#fdca26"
             ],
             [
              1,
              "#f0f921"
             ]
            ],
            "type": "surface"
           }
          ],
          "table": [
           {
            "cells": {
             "fill": {
              "color": "#EBF0F8"
             },
             "line": {
              "color": "white"
             }
            },
            "header": {
             "fill": {
              "color": "#C8D4E3"
             },
             "line": {
              "color": "white"
             }
            },
            "type": "table"
           }
          ]
         },
         "layout": {
          "annotationdefaults": {
           "arrowcolor": "#2a3f5f",
           "arrowhead": 0,
           "arrowwidth": 1
          },
          "autotypenumbers": "strict",
          "coloraxis": {
           "colorbar": {
            "outlinewidth": 0,
            "ticks": ""
           }
          },
          "colorscale": {
           "diverging": [
            [
             0,
             "#8e0152"
            ],
            [
             0.1,
             "#c51b7d"
            ],
            [
             0.2,
             "#de77ae"
            ],
            [
             0.3,
             "#f1b6da"
            ],
            [
             0.4,
             "#fde0ef"
            ],
            [
             0.5,
             "#f7f7f7"
            ],
            [
             0.6,
             "#e6f5d0"
            ],
            [
             0.7,
             "#b8e186"
            ],
            [
             0.8,
             "#7fbc41"
            ],
            [
             0.9,
             "#4d9221"
            ],
            [
             1,
             "#276419"
            ]
           ],
           "sequential": [
            [
             0,
             "#0d0887"
            ],
            [
             0.1111111111111111,
             "#46039f"
            ],
            [
             0.2222222222222222,
             "#7201a8"
            ],
            [
             0.3333333333333333,
             "#9c179e"
            ],
            [
             0.4444444444444444,
             "#bd3786"
            ],
            [
             0.5555555555555556,
             "#d8576b"
            ],
            [
             0.6666666666666666,
             "#ed7953"
            ],
            [
             0.7777777777777778,
             "#fb9f3a"
            ],
            [
             0.8888888888888888,
             "#fdca26"
            ],
            [
             1,
             "#f0f921"
            ]
           ],
           "sequentialminus": [
            [
             0,
             "#0d0887"
            ],
            [
             0.1111111111111111,
             "#46039f"
            ],
            [
             0.2222222222222222,
             "#7201a8"
            ],
            [
             0.3333333333333333,
             "#9c179e"
            ],
            [
             0.4444444444444444,
             "#bd3786"
            ],
            [
             0.5555555555555556,
             "#d8576b"
            ],
            [
             0.6666666666666666,
             "#ed7953"
            ],
            [
             0.7777777777777778,
             "#fb9f3a"
            ],
            [
             0.8888888888888888,
             "#fdca26"
            ],
            [
             1,
             "#f0f921"
            ]
           ]
          },
          "colorway": [
           "#636efa",
           "#EF553B",
           "#00cc96",
           "#ab63fa",
           "#FFA15A",
           "#19d3f3",
           "#FF6692",
           "#B6E880",
           "#FF97FF",
           "#FECB52"
          ],
          "font": {
           "color": "#2a3f5f"
          },
          "geo": {
           "bgcolor": "white",
           "lakecolor": "white",
           "landcolor": "#E5ECF6",
           "showlakes": true,
           "showland": true,
           "subunitcolor": "white"
          },
          "hoverlabel": {
           "align": "left"
          },
          "hovermode": "closest",
          "mapbox": {
           "style": "light"
          },
          "paper_bgcolor": "white",
          "plot_bgcolor": "#E5ECF6",
          "polar": {
           "angularaxis": {
            "gridcolor": "white",
            "linecolor": "white",
            "ticks": ""
           },
           "bgcolor": "#E5ECF6",
           "radialaxis": {
            "gridcolor": "white",
            "linecolor": "white",
            "ticks": ""
           }
          },
          "scene": {
           "xaxis": {
            "backgroundcolor": "#E5ECF6",
            "gridcolor": "white",
            "gridwidth": 2,
            "linecolor": "white",
            "showbackground": true,
            "ticks": "",
            "zerolinecolor": "white"
           },
           "yaxis": {
            "backgroundcolor": "#E5ECF6",
            "gridcolor": "white",
            "gridwidth": 2,
            "linecolor": "white",
            "showbackground": true,
            "ticks": "",
            "zerolinecolor": "white"
           },
           "zaxis": {
            "backgroundcolor": "#E5ECF6",
            "gridcolor": "white",
            "gridwidth": 2,
            "linecolor": "white",
            "showbackground": true,
            "ticks": "",
            "zerolinecolor": "white"
           }
          },
          "shapedefaults": {
           "line": {
            "color": "#2a3f5f"
           }
          },
          "ternary": {
           "aaxis": {
            "gridcolor": "white",
            "linecolor": "white",
            "ticks": ""
           },
           "baxis": {
            "gridcolor": "white",
            "linecolor": "white",
            "ticks": ""
           },
           "bgcolor": "#E5ECF6",
           "caxis": {
            "gridcolor": "white",
            "linecolor": "white",
            "ticks": ""
           }
          },
          "title": {
           "x": 0.05
          },
          "xaxis": {
           "automargin": true,
           "gridcolor": "white",
           "linecolor": "white",
           "ticks": "",
           "title": {
            "standoff": 15
           },
           "zerolinecolor": "white",
           "zerolinewidth": 2
          },
          "yaxis": {
           "automargin": true,
           "gridcolor": "white",
           "linecolor": "white",
           "ticks": "",
           "title": {
            "standoff": 15
           },
           "zerolinecolor": "white",
           "zerolinewidth": 2
          }
         }
        },
        "xaxis": {
         "anchor": "y",
         "domain": [
          0,
          1
         ],
         "title": {
          "text": "Year"
         }
        },
        "yaxis": {
         "anchor": "x",
         "domain": [
          0,
          1
         ],
         "title": {
          "text": "value"
         }
        }
       }
      },
      "text/html": [
       "<div>                            <div id=\"e2e35cda-8d13-441e-bf60-09587d63371d\" class=\"plotly-graph-div\" style=\"height:525px; width:100%;\"></div>            <script type=\"text/javascript\">                require([\"plotly\"], function(Plotly) {                    window.PLOTLYENV=window.PLOTLYENV || {};                                    if (document.getElementById(\"e2e35cda-8d13-441e-bf60-09587d63371d\")) {                    Plotly.newPlot(                        \"e2e35cda-8d13-441e-bf60-09587d63371d\",                        [{\"hovertemplate\":\"variable=Men<br>Year=%{x}<br>value=%{y}<extra></extra>\",\"legendgroup\":\"Men\",\"line\":{\"color\":\"#636efa\",\"dash\":\"solid\"},\"marker\":{\"symbol\":\"circle\"},\"mode\":\"lines\",\"name\":\"Men\",\"orientation\":\"v\",\"showlegend\":true,\"x\":[1900,1904,1906,1908,1912,1920,1924,1928,1932,1936,1948,1952,1956,1960,1964,1968,1972,1976,1980,1984,1988,1992,1996,2000,2004,2008,2012,2016],\"xaxis\":\"x\",\"y\":[401,250,332,556,657,928,1161,1103,696,1535,1709,1736,1184,2033,1770,1880,2411,1930,1795,2496,2851,2808,2955,2652,2421,2480,2390,2407],\"yaxis\":\"y\",\"type\":\"scatter\"},{\"hovertemplate\":\"variable=Female<br>Year=%{x}<br>value=%{y}<extra></extra>\",\"legendgroup\":\"Female\",\"line\":{\"color\":\"#EF553B\",\"dash\":\"solid\"},\"marker\":{\"symbol\":\"circle\"},\"mode\":\"lines\",\"name\":\"Female\",\"orientation\":\"v\",\"showlegend\":true,\"x\":[1900,1904,1906,1908,1912,1920,1924,1928,1932,1936,1948,1952,1956,1960,1964,1968,1972,1976,1980,1984,1988,1992,1996,2000,2004,2008,2012,2016],\"xaxis\":\"x\",\"y\":[13,4,5,16,27,50,84,134,81,165,216,222,187,275,298,361,458,462,403,669,908,1226,1322,1631,1606,1725,1783,1826],\"yaxis\":\"y\",\"type\":\"scatter\"}],                        {\"template\":{\"data\":{\"bar\":[{\"error_x\":{\"color\":\"#2a3f5f\"},\"error_y\":{\"color\":\"#2a3f5f\"},\"marker\":{\"line\":{\"color\":\"#E5ECF6\",\"width\":0.5},\"pattern\":{\"fillmode\":\"overlay\",\"size\":10,\"solidity\":0.2}},\"type\":\"bar\"}],\"barpolar\":[{\"marker\":{\"line\":{\"color\":\"#E5ECF6\",\"width\":0.5},\"pattern\":{\"fillmode\":\"overlay\",\"size\":10,\"solidity\":0.2}},\"type\":\"barpolar\"}],\"carpet\":[{\"aaxis\":{\"endlinecolor\":\"#2a3f5f\",\"gridcolor\":\"white\",\"linecolor\":\"white\",\"minorgridcolor\":\"white\",\"startlinecolor\":\"#2a3f5f\"},\"baxis\":{\"endlinecolor\":\"#2a3f5f\",\"gridcolor\":\"white\",\"linecolor\":\"white\",\"minorgridcolor\":\"white\",\"startlinecolor\":\"#2a3f5f\"},\"type\":\"carpet\"}],\"choropleth\":[{\"colorbar\":{\"outlinewidth\":0,\"ticks\":\"\"},\"type\":\"choropleth\"}],\"contour\":[{\"colorbar\":{\"outlinewidth\":0,\"ticks\":\"\"},\"colorscale\":[[0.0,\"#0d0887\"],[0.1111111111111111,\"#46039f\"],[0.2222222222222222,\"#7201a8\"],[0.3333333333333333,\"#9c179e\"],[0.4444444444444444,\"#bd3786\"],[0.5555555555555556,\"#d8576b\"],[0.6666666666666666,\"#ed7953\"],[0.7777777777777778,\"#fb9f3a\"],[0.8888888888888888,\"#fdca26\"],[1.0,\"#f0f921\"]],\"type\":\"contour\"}],\"contourcarpet\":[{\"colorbar\":{\"outlinewidth\":0,\"ticks\":\"\"},\"type\":\"contourcarpet\"}],\"heatmap\":[{\"colorbar\":{\"outlinewidth\":0,\"ticks\":\"\"},\"colorscale\":[[0.0,\"#0d0887\"],[0.1111111111111111,\"#46039f\"],[0.2222222222222222,\"#7201a8\"],[0.3333333333333333,\"#9c179e\"],[0.4444444444444444,\"#bd3786\"],[0.5555555555555556,\"#d8576b\"],[0.6666666666666666,\"#ed7953\"],[0.7777777777777778,\"#fb9f3a\"],[0.8888888888888888,\"#fdca26\"],[1.0,\"#f0f921\"]],\"type\":\"heatmap\"}],\"heatmapgl\":[{\"colorbar\":{\"outlinewidth\":0,\"ticks\":\"\"},\"colorscale\":[[0.0,\"#0d0887\"],[0.1111111111111111,\"#46039f\"],[0.2222222222222222,\"#7201a8\"],[0.3333333333333333,\"#9c179e\"],[0.4444444444444444,\"#bd3786\"],[0.5555555555555556,\"#d8576b\"],[0.6666666666666666,\"#ed7953\"],[0.7777777777777778,\"#fb9f3a\"],[0.8888888888888888,\"#fdca26\"],[1.0,\"#f0f921\"]],\"type\":\"heatmapgl\"}],\"histogram\":[{\"marker\":{\"pattern\":{\"fillmode\":\"overlay\",\"size\":10,\"solidity\":0.2}},\"type\":\"histogram\"}],\"histogram2d\":[{\"colorbar\":{\"outlinewidth\":0,\"ticks\":\"\"},\"colorscale\":[[0.0,\"#0d0887\"],[0.1111111111111111,\"#46039f\"],[0.2222222222222222,\"#7201a8\"],[0.3333333333333333,\"#9c179e\"],[0.4444444444444444,\"#bd3786\"],[0.5555555555555556,\"#d8576b\"],[0.6666666666666666,\"#ed7953\"],[0.7777777777777778,\"#fb9f3a\"],[0.8888888888888888,\"#fdca26\"],[1.0,\"#f0f921\"]],\"type\":\"histogram2d\"}],\"histogram2dcontour\":[{\"colorbar\":{\"outlinewidth\":0,\"ticks\":\"\"},\"colorscale\":[[0.0,\"#0d0887\"],[0.1111111111111111,\"#46039f\"],[0.2222222222222222,\"#7201a8\"],[0.3333333333333333,\"#9c179e\"],[0.4444444444444444,\"#bd3786\"],[0.5555555555555556,\"#d8576b\"],[0.6666666666666666,\"#ed7953\"],[0.7777777777777778,\"#fb9f3a\"],[0.8888888888888888,\"#fdca26\"],[1.0,\"#f0f921\"]],\"type\":\"histogram2dcontour\"}],\"mesh3d\":[{\"colorbar\":{\"outlinewidth\":0,\"ticks\":\"\"},\"type\":\"mesh3d\"}],\"parcoords\":[{\"line\":{\"colorbar\":{\"outlinewidth\":0,\"ticks\":\"\"}},\"type\":\"parcoords\"}],\"pie\":[{\"automargin\":true,\"type\":\"pie\"}],\"scatter\":[{\"marker\":{\"colorbar\":{\"outlinewidth\":0,\"ticks\":\"\"}},\"type\":\"scatter\"}],\"scatter3d\":[{\"line\":{\"colorbar\":{\"outlinewidth\":0,\"ticks\":\"\"}},\"marker\":{\"colorbar\":{\"outlinewidth\":0,\"ticks\":\"\"}},\"type\":\"scatter3d\"}],\"scattercarpet\":[{\"marker\":{\"colorbar\":{\"outlinewidth\":0,\"ticks\":\"\"}},\"type\":\"scattercarpet\"}],\"scattergeo\":[{\"marker\":{\"colorbar\":{\"outlinewidth\":0,\"ticks\":\"\"}},\"type\":\"scattergeo\"}],\"scattergl\":[{\"marker\":{\"colorbar\":{\"outlinewidth\":0,\"ticks\":\"\"}},\"type\":\"scattergl\"}],\"scattermapbox\":[{\"marker\":{\"colorbar\":{\"outlinewidth\":0,\"ticks\":\"\"}},\"type\":\"scattermapbox\"}],\"scatterpolar\":[{\"marker\":{\"colorbar\":{\"outlinewidth\":0,\"ticks\":\"\"}},\"type\":\"scatterpolar\"}],\"scatterpolargl\":[{\"marker\":{\"colorbar\":{\"outlinewidth\":0,\"ticks\":\"\"}},\"type\":\"scatterpolargl\"}],\"scatterternary\":[{\"marker\":{\"colorbar\":{\"outlinewidth\":0,\"ticks\":\"\"}},\"type\":\"scatterternary\"}],\"surface\":[{\"colorbar\":{\"outlinewidth\":0,\"ticks\":\"\"},\"colorscale\":[[0.0,\"#0d0887\"],[0.1111111111111111,\"#46039f\"],[0.2222222222222222,\"#7201a8\"],[0.3333333333333333,\"#9c179e\"],[0.4444444444444444,\"#bd3786\"],[0.5555555555555556,\"#d8576b\"],[0.6666666666666666,\"#ed7953\"],[0.7777777777777778,\"#fb9f3a\"],[0.8888888888888888,\"#fdca26\"],[1.0,\"#f0f921\"]],\"type\":\"surface\"}],\"table\":[{\"cells\":{\"fill\":{\"color\":\"#EBF0F8\"},\"line\":{\"color\":\"white\"}},\"header\":{\"fill\":{\"color\":\"#C8D4E3\"},\"line\":{\"color\":\"white\"}},\"type\":\"table\"}]},\"layout\":{\"annotationdefaults\":{\"arrowcolor\":\"#2a3f5f\",\"arrowhead\":0,\"arrowwidth\":1},\"autotypenumbers\":\"strict\",\"coloraxis\":{\"colorbar\":{\"outlinewidth\":0,\"ticks\":\"\"}},\"colorscale\":{\"diverging\":[[0,\"#8e0152\"],[0.1,\"#c51b7d\"],[0.2,\"#de77ae\"],[0.3,\"#f1b6da\"],[0.4,\"#fde0ef\"],[0.5,\"#f7f7f7\"],[0.6,\"#e6f5d0\"],[0.7,\"#b8e186\"],[0.8,\"#7fbc41\"],[0.9,\"#4d9221\"],[1,\"#276419\"]],\"sequential\":[[0.0,\"#0d0887\"],[0.1111111111111111,\"#46039f\"],[0.2222222222222222,\"#7201a8\"],[0.3333333333333333,\"#9c179e\"],[0.4444444444444444,\"#bd3786\"],[0.5555555555555556,\"#d8576b\"],[0.6666666666666666,\"#ed7953\"],[0.7777777777777778,\"#fb9f3a\"],[0.8888888888888888,\"#fdca26\"],[1.0,\"#f0f921\"]],\"sequentialminus\":[[0.0,\"#0d0887\"],[0.1111111111111111,\"#46039f\"],[0.2222222222222222,\"#7201a8\"],[0.3333333333333333,\"#9c179e\"],[0.4444444444444444,\"#bd3786\"],[0.5555555555555556,\"#d8576b\"],[0.6666666666666666,\"#ed7953\"],[0.7777777777777778,\"#fb9f3a\"],[0.8888888888888888,\"#fdca26\"],[1.0,\"#f0f921\"]]},\"colorway\":[\"#636efa\",\"#EF553B\",\"#00cc96\",\"#ab63fa\",\"#FFA15A\",\"#19d3f3\",\"#FF6692\",\"#B6E880\",\"#FF97FF\",\"#FECB52\"],\"font\":{\"color\":\"#2a3f5f\"},\"geo\":{\"bgcolor\":\"white\",\"lakecolor\":\"white\",\"landcolor\":\"#E5ECF6\",\"showlakes\":true,\"showland\":true,\"subunitcolor\":\"white\"},\"hoverlabel\":{\"align\":\"left\"},\"hovermode\":\"closest\",\"mapbox\":{\"style\":\"light\"},\"paper_bgcolor\":\"white\",\"plot_bgcolor\":\"#E5ECF6\",\"polar\":{\"angularaxis\":{\"gridcolor\":\"white\",\"linecolor\":\"white\",\"ticks\":\"\"},\"bgcolor\":\"#E5ECF6\",\"radialaxis\":{\"gridcolor\":\"white\",\"linecolor\":\"white\",\"ticks\":\"\"}},\"scene\":{\"xaxis\":{\"backgroundcolor\":\"#E5ECF6\",\"gridcolor\":\"white\",\"gridwidth\":2,\"linecolor\":\"white\",\"showbackground\":true,\"ticks\":\"\",\"zerolinecolor\":\"white\"},\"yaxis\":{\"backgroundcolor\":\"#E5ECF6\",\"gridcolor\":\"white\",\"gridwidth\":2,\"linecolor\":\"white\",\"showbackground\":true,\"ticks\":\"\",\"zerolinecolor\":\"white\"},\"zaxis\":{\"backgroundcolor\":\"#E5ECF6\",\"gridcolor\":\"white\",\"gridwidth\":2,\"linecolor\":\"white\",\"showbackground\":true,\"ticks\":\"\",\"zerolinecolor\":\"white\"}},\"shapedefaults\":{\"line\":{\"color\":\"#2a3f5f\"}},\"ternary\":{\"aaxis\":{\"gridcolor\":\"white\",\"linecolor\":\"white\",\"ticks\":\"\"},\"baxis\":{\"gridcolor\":\"white\",\"linecolor\":\"white\",\"ticks\":\"\"},\"bgcolor\":\"#E5ECF6\",\"caxis\":{\"gridcolor\":\"white\",\"linecolor\":\"white\",\"ticks\":\"\"}},\"title\":{\"x\":0.05},\"xaxis\":{\"automargin\":true,\"gridcolor\":\"white\",\"linecolor\":\"white\",\"ticks\":\"\",\"title\":{\"standoff\":15},\"zerolinecolor\":\"white\",\"zerolinewidth\":2},\"yaxis\":{\"automargin\":true,\"gridcolor\":\"white\",\"linecolor\":\"white\",\"ticks\":\"\",\"title\":{\"standoff\":15},\"zerolinecolor\":\"white\",\"zerolinewidth\":2}}},\"xaxis\":{\"anchor\":\"y\",\"domain\":[0.0,1.0],\"title\":{\"text\":\"Year\"}},\"yaxis\":{\"anchor\":\"x\",\"domain\":[0.0,1.0],\"title\":{\"text\":\"value\"}},\"legend\":{\"title\":{\"text\":\"variable\"},\"tracegroupgap\":0},\"margin\":{\"t\":60}},                        {\"responsive\": true}                    ).then(function(){\n",
       "                            \n",
       "var gd = document.getElementById('e2e35cda-8d13-441e-bf60-09587d63371d');\n",
       "var x = new MutationObserver(function (mutations, observer) {{\n",
       "        var display = window.getComputedStyle(gd).display;\n",
       "        if (!display || display === 'none') {{\n",
       "            console.log([gd, 'removed!']);\n",
       "            Plotly.purge(gd);\n",
       "            observer.disconnect();\n",
       "        }}\n",
       "}});\n",
       "\n",
       "// Listen for the removal of the full notebook cells\n",
       "var notebookContainer = gd.closest('#notebook-container');\n",
       "if (notebookContainer) {{\n",
       "    x.observe(notebookContainer, {childList: true});\n",
       "}}\n",
       "\n",
       "// Listen for the clearing of the current output cell\n",
       "var outputEl = gd.closest('.output');\n",
       "if (outputEl) {{\n",
       "    x.observe(outputEl, {childList: true});\n",
       "}}\n",
       "\n",
       "                        })                };                });            </script>        </div>"
      ]
     },
     "metadata": {},
     "output_type": "display_data"
    }
   ],
   "source": [
    "fig = px.line(final,x='Year',y=['Men','Female'])\n",
    "fig.show()"
   ]
  },
  {
   "cell_type": "code",
   "execution_count": null,
   "metadata": {},
   "outputs": [],
   "source": []
  }
 ],
 "metadata": {
  "kernelspec": {
   "display_name": "Python 3",
   "language": "python",
   "name": "python3"
  },
  "language_info": {
   "codemirror_mode": {
    "name": "ipython",
    "version": 3
   },
   "file_extension": ".py",
   "mimetype": "text/x-python",
   "name": "python",
   "nbconvert_exporter": "python",
   "pygments_lexer": "ipython3",
   "version": "3.8.5"
  }
 },
 "nbformat": 4,
 "nbformat_minor": 4
}
